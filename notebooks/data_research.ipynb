{
 "cells": [
  {
   "cell_type": "code",
   "execution_count": 1,
   "metadata": {
    "collapsed": true,
    "pycharm": {
     "name": "#%%\n"
    }
   },
   "outputs": [],
   "source": [
    "import re\n",
    "import string\n",
    "\n",
    "import pandas as pd\n",
    "import numpy as np\n",
    "import datetime\n",
    "\n",
    "import transformers\n",
    "import torch\n",
    "\n",
    "from nltk import WordNetLemmatizer\n",
    "\n",
    "import faiss\n",
    "\n",
    "from tqdm.notebook import tqdm"
   ]
  },
  {
   "cell_type": "markdown",
   "source": [
    "# Загрузка и подготовка данных"
   ],
   "metadata": {
    "collapsed": false,
    "pycharm": {
     "name": "#%% md\n"
    }
   }
  },
  {
   "cell_type": "code",
   "execution_count": 3,
   "outputs": [
    {
     "name": "stderr",
     "output_type": "stream",
     "text": [
      "C:\\Users\\123\\AppData\\Local\\Temp\\ipykernel_11880\\2086688400.py:1: DtypeWarning: Columns (18) have mixed types. Specify dtype option on import or set low_memory=False.\n",
      "  data = pd.read_csv('../data/products.csv')\n"
     ]
    },
    {
     "name": "stdout",
     "output_type": "stream",
     "text": [
      "<class 'pandas.core.frame.DataFrame'>\n",
      "Int64Index: 40559 entries, 0 to 40579\n",
      "Data columns (total 28 columns):\n",
      " #   Column               Non-Null Count  Dtype  \n",
      "---  ------               --------------  -----  \n",
      " 0   id                   40559 non-null  int64  \n",
      " 1   sku                  40559 non-null  object \n",
      " 2   name                 40559 non-null  object \n",
      " 3   brand                40559 non-null  object \n",
      " 4   brand_type           40559 non-null  object \n",
      " 5   dimension17          37838 non-null  object \n",
      " 6   dimension18          39810 non-null  object \n",
      " 7   dimension19          9360 non-null   object \n",
      " 8   dimension20          9841 non-null   object \n",
      " 9   country              34488 non-null  object \n",
      " 10  price                40559 non-null  int64  \n",
      " 11  currency             0 non-null      float64\n",
      " 12  old_price            40559 non-null  int64  \n",
      " 13  category_type        40555 non-null  object \n",
      " 14  url                  40559 non-null  object \n",
      " 15  images               40559 non-null  object \n",
      " 16  type                 40559 non-null  object \n",
      " 17  volume               36612 non-null  object \n",
      " 18  main_product_sku     40559 non-null  object \n",
      " 19  main_product_id      40559 non-null  int64  \n",
      " 20  best_loyality_price  0 non-null      float64\n",
      " 21  dimension29          40559 non-null  bool   \n",
      " 22  dimension28          40559 non-null  bool   \n",
      " 23  description          33675 non-null  object \n",
      " 24  product_usage        34341 non-null  object \n",
      " 25  product_composition  27456 non-null  object \n",
      " 26  category             40559 non-null  object \n",
      " 27  category_ru          40559 non-null  object \n",
      "dtypes: bool(2), float64(2), int64(4), object(20)\n",
      "memory usage: 8.4+ MB\n"
     ]
    }
   ],
   "source": [
    "data = pd.read_csv('../data/products.csv')\n",
    "data = data.drop_duplicates()\n",
    "tokenizer = transformers.BertTokenizer('../model/vocab.txt')\n",
    "try:\n",
    "    embedded_description = pd.read_csv('../data/embedded_description_no_lemmas')\n",
    "    embedded_product_composition = pd.read_csv('../data/embedded_product_composition_no_lemmas')\n",
    "    embedded_product_usage = pd.read_csv('../data/embedded_product_usage_no_lemmas')\n",
    "    embedded_3_in_1 = pd.read_csv('../data/embedded_3_in_1')\n",
    "except:\n",
    "    pass\n",
    "\n",
    "# model_class, tokenizer_class, pretrained_weights = (transformers.DistilBertModel,\n",
    "                                                    # transformers.DistilBertTokenizer,\n",
    "                                                    # 'distilbert-base-uncased')\n",
    "\n",
    "data.info()"
   ],
   "metadata": {
    "collapsed": false,
    "pycharm": {
     "name": "#%%\n"
    }
   }
  },
  {
   "cell_type": "code",
   "execution_count": 4,
   "outputs": [],
   "source": [
    "def text_processing(text: str) -> str:\n",
    "    # оставляем пропуски без изменений\n",
    "    if text is np.nan:\n",
    "        return np.nan\n",
    "    # приводим текст к нижнему регистру\n",
    "    text = text.lower()\n",
    "    # заменяем символы и знаки пунктуации\n",
    "    text = re.sub('\\(.*?\\)', '', text)\n",
    "    trans_dict = str.maketrans('', '', string.punctuation)\n",
    "    text = text.translate(trans_dict)\n",
    "    # избавляемся от лишних пробелов\n",
    "    text = ' '.join(text.split())\n",
    "\n",
    "    return text"
   ],
   "metadata": {
    "collapsed": false,
    "pycharm": {
     "name": "#%%\n"
    }
   }
  },
  {
   "cell_type": "code",
   "execution_count": 5,
   "outputs": [
    {
     "data": {
      "text/plain": "       id          sku                        name      brand brand_type  \\\n0  203730  19000039636                         03    Ecooking   standard   \n1  229474  19000031882                Anti-stress   Botavikos   standard   \n2  229480  19000031888                     Dry oil  Botavikos   standard   \n3  200485  19000046442               Catnip Chaser  Petstages   standard   \n4  202556  19000025382  SALT FACIAL SCRUB ORIGINAL    Kosette   standard   \n\n            dimension17 dimension18           dimension19 dimension20 country  \\\n0           Жидкое мыло     Унисекс                   NaN         NaN   Дания   \n1             Сыворотки     Женский  Увлажнение и питание        Лицо  Россия   \n2                 Масло     Женский                   NaN        Лицо  Россия   \n3  игрушка для животных         NaN                   NaN         NaN     США   \n4                 Скраб     Унисекс              Очищение        Лицо     NaN   \n\n   ...  main_product_sku  main_product_id  best_loyality_price dimension29  \\\n0  ...       19000039636           203730                  NaN       False   \n1  ...       19000031882           229474                  NaN       False   \n2  ...       19000031888           229480                  NaN       False   \n3  ...       19000046442           200485                  NaN       False   \n4  ...       19000025382           202556                  NaN       False   \n\n  dimension28                                        description  \\\n0       False                                        нежное мыло   \n1       False  • пробуждает внутреннюю энергию клеток создава...   \n2       False                                           действие   \n3       False  игрушка трек с пластиковым мячиком тубом кошач...   \n4        True                                       нежный скраб   \n\n                                       product_usage  \\\n0  намочите руки нанесите на них мыло очистите ру...   \n1  равномерно распределите на коже когда чувствуе...   \n2  встряхните перед использованием и распылите ма...   \n3  подбирайте игрушки в соответствии с весом и дв...   \n4  нанесите на чистую и влажную кожу затем аккура...   \n\n                                 product_composition               category  \\\n0  aqua sodium laureth sulfate cocamidopropyl bet...               organika   \n1  aqua niacinamide glycerin gluconolactone xanth...               organika   \n2  capryliccapric triglyceride olea europaea frui...               organika   \n3                                            пластик  tovary-dlja-zhivotnyh   \n4  glycerin sea salt water silica cocoglucoside s...                  azija   \n\n           category_ru  \n0             органика  \n1             органика  \n2             органика  \n3  товары для животных  \n4                 азия  \n\n[5 rows x 28 columns]",
      "text/html": "<div>\n<style scoped>\n    .dataframe tbody tr th:only-of-type {\n        vertical-align: middle;\n    }\n\n    .dataframe tbody tr th {\n        vertical-align: top;\n    }\n\n    .dataframe thead th {\n        text-align: right;\n    }\n</style>\n<table border=\"1\" class=\"dataframe\">\n  <thead>\n    <tr style=\"text-align: right;\">\n      <th></th>\n      <th>id</th>\n      <th>sku</th>\n      <th>name</th>\n      <th>brand</th>\n      <th>brand_type</th>\n      <th>dimension17</th>\n      <th>dimension18</th>\n      <th>dimension19</th>\n      <th>dimension20</th>\n      <th>country</th>\n      <th>...</th>\n      <th>main_product_sku</th>\n      <th>main_product_id</th>\n      <th>best_loyality_price</th>\n      <th>dimension29</th>\n      <th>dimension28</th>\n      <th>description</th>\n      <th>product_usage</th>\n      <th>product_composition</th>\n      <th>category</th>\n      <th>category_ru</th>\n    </tr>\n  </thead>\n  <tbody>\n    <tr>\n      <th>0</th>\n      <td>203730</td>\n      <td>19000039636</td>\n      <td>03</td>\n      <td>Ecooking</td>\n      <td>standard</td>\n      <td>Жидкое мыло</td>\n      <td>Унисекс</td>\n      <td>NaN</td>\n      <td>NaN</td>\n      <td>Дания</td>\n      <td>...</td>\n      <td>19000039636</td>\n      <td>203730</td>\n      <td>NaN</td>\n      <td>False</td>\n      <td>False</td>\n      <td>нежное мыло</td>\n      <td>намочите руки нанесите на них мыло очистите ру...</td>\n      <td>aqua sodium laureth sulfate cocamidopropyl bet...</td>\n      <td>organika</td>\n      <td>органика</td>\n    </tr>\n    <tr>\n      <th>1</th>\n      <td>229474</td>\n      <td>19000031882</td>\n      <td>Anti-stress</td>\n      <td>Botavikos</td>\n      <td>standard</td>\n      <td>Сыворотки</td>\n      <td>Женский</td>\n      <td>Увлажнение и питание</td>\n      <td>Лицо</td>\n      <td>Россия</td>\n      <td>...</td>\n      <td>19000031882</td>\n      <td>229474</td>\n      <td>NaN</td>\n      <td>False</td>\n      <td>False</td>\n      <td>• пробуждает внутреннюю энергию клеток создава...</td>\n      <td>равномерно распределите на коже когда чувствуе...</td>\n      <td>aqua niacinamide glycerin gluconolactone xanth...</td>\n      <td>organika</td>\n      <td>органика</td>\n    </tr>\n    <tr>\n      <th>2</th>\n      <td>229480</td>\n      <td>19000031888</td>\n      <td>Dry oil</td>\n      <td>Botavikos</td>\n      <td>standard</td>\n      <td>Масло</td>\n      <td>Женский</td>\n      <td>NaN</td>\n      <td>Лицо</td>\n      <td>Россия</td>\n      <td>...</td>\n      <td>19000031888</td>\n      <td>229480</td>\n      <td>NaN</td>\n      <td>False</td>\n      <td>False</td>\n      <td>действие</td>\n      <td>встряхните перед использованием и распылите ма...</td>\n      <td>capryliccapric triglyceride olea europaea frui...</td>\n      <td>organika</td>\n      <td>органика</td>\n    </tr>\n    <tr>\n      <th>3</th>\n      <td>200485</td>\n      <td>19000046442</td>\n      <td>Catnip Chaser</td>\n      <td>Petstages</td>\n      <td>standard</td>\n      <td>игрушка для животных</td>\n      <td>NaN</td>\n      <td>NaN</td>\n      <td>NaN</td>\n      <td>США</td>\n      <td>...</td>\n      <td>19000046442</td>\n      <td>200485</td>\n      <td>NaN</td>\n      <td>False</td>\n      <td>False</td>\n      <td>игрушка трек с пластиковым мячиком тубом кошач...</td>\n      <td>подбирайте игрушки в соответствии с весом и дв...</td>\n      <td>пластик</td>\n      <td>tovary-dlja-zhivotnyh</td>\n      <td>товары для животных</td>\n    </tr>\n    <tr>\n      <th>4</th>\n      <td>202556</td>\n      <td>19000025382</td>\n      <td>SALT FACIAL SCRUB ORIGINAL</td>\n      <td>Kosette</td>\n      <td>standard</td>\n      <td>Скраб</td>\n      <td>Унисекс</td>\n      <td>Очищение</td>\n      <td>Лицо</td>\n      <td>NaN</td>\n      <td>...</td>\n      <td>19000025382</td>\n      <td>202556</td>\n      <td>NaN</td>\n      <td>False</td>\n      <td>True</td>\n      <td>нежный скраб</td>\n      <td>нанесите на чистую и влажную кожу затем аккура...</td>\n      <td>glycerin sea salt water silica cocoglucoside s...</td>\n      <td>azija</td>\n      <td>азия</td>\n    </tr>\n  </tbody>\n</table>\n<p>5 rows × 28 columns</p>\n</div>"
     },
     "execution_count": 5,
     "metadata": {},
     "output_type": "execute_result"
    }
   ],
   "source": [
    "text_columns = ['description', 'product_usage', 'product_composition']\n",
    "\n",
    "for column in text_columns:\n",
    "    data[column] = data[column].apply(text_processing)\n",
    "\n",
    "data.head()"
   ],
   "metadata": {
    "collapsed": false,
    "pycharm": {
     "name": "#%%\n"
    }
   }
  },
  {
   "cell_type": "code",
   "execution_count": 6,
   "outputs": [],
   "source": [
    "def lower(text: str) -> str:\n",
    "    if text is np.nan:\n",
    "        return np.nan\n",
    "    return text.lower()"
   ],
   "metadata": {
    "collapsed": false,
    "pycharm": {
     "name": "#%%\n"
    }
   }
  },
  {
   "cell_type": "code",
   "execution_count": 7,
   "outputs": [
    {
     "data": {
      "text/plain": "       id          sku                        name      brand brand_type  \\\n0  203730  19000039636                         03    ecooking   standard   \n1  229474  19000031882                anti-stress   botavikos   standard   \n2  229480  19000031888                     dry oil  botavikos   standard   \n3  200485  19000046442               catnip chaser  petstages   standard   \n4  202556  19000025382  salt facial scrub original    kosette   standard   \n\n            dimension17 dimension18           dimension19 dimension20 country  \\\n0           жидкое мыло     унисекс                   NaN         NaN   дания   \n1             сыворотки     женский  увлажнение и питание        лицо  россия   \n2                 масло     женский                   NaN        лицо  россия   \n3  игрушка для животных         NaN                   NaN         NaN     сша   \n4                 скраб     унисекс              очищение        лицо     NaN   \n\n   ...  main_product_sku  main_product_id  best_loyality_price dimension29  \\\n0  ...       19000039636           203730                  NaN       False   \n1  ...       19000031882           229474                  NaN       False   \n2  ...       19000031888           229480                  NaN       False   \n3  ...       19000046442           200485                  NaN       False   \n4  ...       19000025382           202556                  NaN       False   \n\n  dimension28                                        description  \\\n0       False                                        нежное мыло   \n1       False  • пробуждает внутреннюю энергию клеток создава...   \n2       False                                           действие   \n3       False  игрушка трек с пластиковым мячиком тубом кошач...   \n4        True                                       нежный скраб   \n\n                                       product_usage  \\\n0  намочите руки нанесите на них мыло очистите ру...   \n1  равномерно распределите на коже когда чувствуе...   \n2  встряхните перед использованием и распылите ма...   \n3  подбирайте игрушки в соответствии с весом и дв...   \n4  нанесите на чистую и влажную кожу затем аккура...   \n\n                                 product_composition               category  \\\n0  aqua sodium laureth sulfate cocamidopropyl bet...               organika   \n1  aqua niacinamide glycerin gluconolactone xanth...               organika   \n2  capryliccapric triglyceride olea europaea frui...               organika   \n3                                            пластик  tovary-dlja-zhivotnyh   \n4  glycerin sea salt water silica cocoglucoside s...                  azija   \n\n           category_ru  \n0             органика  \n1             органика  \n2             органика  \n3  товары для животных  \n4                 азия  \n\n[5 rows x 28 columns]",
      "text/html": "<div>\n<style scoped>\n    .dataframe tbody tr th:only-of-type {\n        vertical-align: middle;\n    }\n\n    .dataframe tbody tr th {\n        vertical-align: top;\n    }\n\n    .dataframe thead th {\n        text-align: right;\n    }\n</style>\n<table border=\"1\" class=\"dataframe\">\n  <thead>\n    <tr style=\"text-align: right;\">\n      <th></th>\n      <th>id</th>\n      <th>sku</th>\n      <th>name</th>\n      <th>brand</th>\n      <th>brand_type</th>\n      <th>dimension17</th>\n      <th>dimension18</th>\n      <th>dimension19</th>\n      <th>dimension20</th>\n      <th>country</th>\n      <th>...</th>\n      <th>main_product_sku</th>\n      <th>main_product_id</th>\n      <th>best_loyality_price</th>\n      <th>dimension29</th>\n      <th>dimension28</th>\n      <th>description</th>\n      <th>product_usage</th>\n      <th>product_composition</th>\n      <th>category</th>\n      <th>category_ru</th>\n    </tr>\n  </thead>\n  <tbody>\n    <tr>\n      <th>0</th>\n      <td>203730</td>\n      <td>19000039636</td>\n      <td>03</td>\n      <td>ecooking</td>\n      <td>standard</td>\n      <td>жидкое мыло</td>\n      <td>унисекс</td>\n      <td>NaN</td>\n      <td>NaN</td>\n      <td>дания</td>\n      <td>...</td>\n      <td>19000039636</td>\n      <td>203730</td>\n      <td>NaN</td>\n      <td>False</td>\n      <td>False</td>\n      <td>нежное мыло</td>\n      <td>намочите руки нанесите на них мыло очистите ру...</td>\n      <td>aqua sodium laureth sulfate cocamidopropyl bet...</td>\n      <td>organika</td>\n      <td>органика</td>\n    </tr>\n    <tr>\n      <th>1</th>\n      <td>229474</td>\n      <td>19000031882</td>\n      <td>anti-stress</td>\n      <td>botavikos</td>\n      <td>standard</td>\n      <td>сыворотки</td>\n      <td>женский</td>\n      <td>увлажнение и питание</td>\n      <td>лицо</td>\n      <td>россия</td>\n      <td>...</td>\n      <td>19000031882</td>\n      <td>229474</td>\n      <td>NaN</td>\n      <td>False</td>\n      <td>False</td>\n      <td>• пробуждает внутреннюю энергию клеток создава...</td>\n      <td>равномерно распределите на коже когда чувствуе...</td>\n      <td>aqua niacinamide glycerin gluconolactone xanth...</td>\n      <td>organika</td>\n      <td>органика</td>\n    </tr>\n    <tr>\n      <th>2</th>\n      <td>229480</td>\n      <td>19000031888</td>\n      <td>dry oil</td>\n      <td>botavikos</td>\n      <td>standard</td>\n      <td>масло</td>\n      <td>женский</td>\n      <td>NaN</td>\n      <td>лицо</td>\n      <td>россия</td>\n      <td>...</td>\n      <td>19000031888</td>\n      <td>229480</td>\n      <td>NaN</td>\n      <td>False</td>\n      <td>False</td>\n      <td>действие</td>\n      <td>встряхните перед использованием и распылите ма...</td>\n      <td>capryliccapric triglyceride olea europaea frui...</td>\n      <td>organika</td>\n      <td>органика</td>\n    </tr>\n    <tr>\n      <th>3</th>\n      <td>200485</td>\n      <td>19000046442</td>\n      <td>catnip chaser</td>\n      <td>petstages</td>\n      <td>standard</td>\n      <td>игрушка для животных</td>\n      <td>NaN</td>\n      <td>NaN</td>\n      <td>NaN</td>\n      <td>сша</td>\n      <td>...</td>\n      <td>19000046442</td>\n      <td>200485</td>\n      <td>NaN</td>\n      <td>False</td>\n      <td>False</td>\n      <td>игрушка трек с пластиковым мячиком тубом кошач...</td>\n      <td>подбирайте игрушки в соответствии с весом и дв...</td>\n      <td>пластик</td>\n      <td>tovary-dlja-zhivotnyh</td>\n      <td>товары для животных</td>\n    </tr>\n    <tr>\n      <th>4</th>\n      <td>202556</td>\n      <td>19000025382</td>\n      <td>salt facial scrub original</td>\n      <td>kosette</td>\n      <td>standard</td>\n      <td>скраб</td>\n      <td>унисекс</td>\n      <td>очищение</td>\n      <td>лицо</td>\n      <td>NaN</td>\n      <td>...</td>\n      <td>19000025382</td>\n      <td>202556</td>\n      <td>NaN</td>\n      <td>False</td>\n      <td>True</td>\n      <td>нежный скраб</td>\n      <td>нанесите на чистую и влажную кожу затем аккура...</td>\n      <td>glycerin sea salt water silica cocoglucoside s...</td>\n      <td>azija</td>\n      <td>азия</td>\n    </tr>\n  </tbody>\n</table>\n<p>5 rows × 28 columns</p>\n</div>"
     },
     "execution_count": 7,
     "metadata": {},
     "output_type": "execute_result"
    }
   ],
   "source": [
    "columns_to_lower = ['name', 'brand', 'dimension17', 'dimension18', 'dimension19', 'dimension20', 'country', 'category_type']\n",
    "\n",
    "for column in columns_to_lower:\n",
    "    data[column] = data[column].apply(lower)\n",
    "\n",
    "data.head()"
   ],
   "metadata": {
    "collapsed": false,
    "pycharm": {
     "name": "#%%\n"
    }
   }
  },
  {
   "cell_type": "markdown",
   "source": [
    "# Генерация эмбеддингов"
   ],
   "metadata": {
    "collapsed": false,
    "pycharm": {
     "name": "#%% md\n"
    }
   }
  },
  {
   "cell_type": "code",
   "execution_count": 8,
   "outputs": [],
   "source": [
    "def lemmatization(data):\n",
    "    if data is np.nan:\n",
    "        return ''\n",
    "    return ' '.join([WordNetLemmatizer().lemmatize(word) for word in data.split()])"
   ],
   "metadata": {
    "collapsed": false,
    "pycharm": {
     "name": "#%%\n"
    }
   }
  },
  {
   "cell_type": "markdown",
   "source": [
    "Загрузим RuBERT для генерации эмбеддингов"
   ],
   "metadata": {
    "collapsed": false,
    "pycharm": {
     "name": "#%% md\n"
    }
   }
  },
  {
   "cell_type": "code",
   "execution_count": 27,
   "outputs": [
    {
     "name": "stderr",
     "output_type": "stream",
     "text": [
      "Some weights of the model checkpoint at ../model/pytorch_model.bin were not used when initializing BertModel: ['cls.predictions.transform.LayerNorm.weight', 'cls.seq_relationship.bias', 'cls.predictions.transform.LayerNorm.bias', 'cls.predictions.decoder.weight', 'cls.predictions.bias', 'cls.predictions.transform.dense.weight', 'cls.predictions.transform.dense.bias', 'cls.seq_relationship.weight']\n",
      "- This IS expected if you are initializing BertModel from the checkpoint of a model trained on another task or with another architecture (e.g. initializing a BertForSequenceClassification model from a BertForPreTraining model).\n",
      "- This IS NOT expected if you are initializing BertModel from the checkpoint of a model that you expect to be exactly identical (initializing a BertForSequenceClassification model from a BertForSequenceClassification model).\n"
     ]
    }
   ],
   "source": [
    "config = transformers.BertConfig.from_json_file(\n",
    "    '../model/bert_config.json')\n",
    "model = transformers.BertModel.from_pretrained(\n",
    "    '../model/pytorch_model.bin', config=config).to('cuda:0')"
   ],
   "metadata": {
    "collapsed": false,
    "pycharm": {
     "name": "#%%\n"
    }
   }
  },
  {
   "cell_type": "code",
   "execution_count": null,
   "outputs": [],
   "source": [
    "batch_size = 1\n",
    "\n",
    "for column in text_columns:\n",
    "    text = data[column].fillna('')\n",
    "    # lemmas = data[column].apply(lemmatization)\n",
    "    vector = text.apply(lambda x: tokenizer.encode(x, add_special_tokens=True, max_length=512))\n",
    "    # применим padding к векторам\n",
    "    n = len(max(vector, key=len))\n",
    "    # англ. вектор с отступами\n",
    "    padded = np.array([i + [0]*(n - len(i)) for i in vector.values])\n",
    "\n",
    "    # создадим маску для важных токенов\n",
    "    attention_mask = np.where(padded != 0, 1, 0)\n",
    "\n",
    "    embeddings = []\n",
    "    for i in tqdm(range(padded.shape[0] // batch_size)):\n",
    "        # преобразуем данные\n",
    "        batch = torch.LongTensor(padded[batch_size*i : batch_size*(i+1)]).to('cuda:0')\n",
    "        # преобразуем маску\n",
    "        attention_mask_batch = torch.LongTensor(attention_mask[batch_size*i : batch_size*(i+1)]).to('cuda:0')\n",
    "        with torch.no_grad():\n",
    "            batch_embeddings = model(batch, attention_mask=attention_mask_batch)\n",
    "\n",
    "        # преобразуем элементы методом numpy() к типу numpy.array\n",
    "        embeddings.append(batch_embeddings[0][:,0,:].cpu().numpy())\n",
    "\n",
    "    features = pd.DataFrame(np.concatenate(embeddings))\n",
    "    features.to_csv(f'../data/embedded_{column}_no_lemmas', index=False)\n"
   ],
   "metadata": {
    "collapsed": false,
    "pycharm": {
     "name": "#%%\n",
     "is_executing": true
    }
   }
  },
  {
   "cell_type": "code",
   "execution_count": 14,
   "outputs": [
    {
     "data": {
      "text/plain": "  0%|          | 0/40559 [00:00<?, ?it/s]",
      "application/vnd.jupyter.widget-view+json": {
       "version_major": 2,
       "version_minor": 0,
       "model_id": "f6dbacb763bb4e1a85470ff99a8c3dd2"
      }
     },
     "metadata": {},
     "output_type": "display_data"
    }
   ],
   "source": [
    "batch_size = 1\n",
    "text = []\n",
    "# заменим пропуски в полях на пустую строку, для корректной генерации токенов\n",
    "for d, pu, pc in data[['description', 'product_usage', 'product_composition']].values:\n",
    "    if d is np.nan:\n",
    "        d = ' '\n",
    "    if pu is np.nan:\n",
    "        pu = ' '\n",
    "    if pc is np.nan:\n",
    "        pc = ' '\n",
    "    text.append(d + pu + pc)\n",
    "\n",
    "data['3_in_1'] = text\n",
    "text = data['3_in_1'].fillna('')\n",
    "# lemmas = data['3_in_1'].apply(lemmatization)\n",
    "vector = text.apply(lambda x: tokenizer.encode(x, add_special_tokens=True, max_length=512))\n",
    "# применим padding к векторам\n",
    "n = len(max(vector, key=len))\n",
    "# англ. вектор с отступами\n",
    "padded = np.array([i + [0]*(n - len(i)) for i in vector.values])\n",
    "\n",
    "# создадим маску для важных токенов\n",
    "attention_mask = np.where(padded != 0, 1, 0)\n",
    "\n",
    "embeddings = []\n",
    "for i in tqdm(range(padded.shape[0] // batch_size)):\n",
    "    # преобразуем данные\n",
    "    batch = torch.LongTensor(padded[batch_size*i : batch_size*(i+1)]).to('cuda:0')\n",
    "    # преобразуем маску\n",
    "    attention_mask_batch = torch.LongTensor(attention_mask[batch_size*i : batch_size*(i+1)]).to('cuda:0')\n",
    "    with torch.no_grad():\n",
    "        batch_embeddings = model(batch, attention_mask=attention_mask_batch)\n",
    "\n",
    "    # преобразуем элементы методом numpy() к типу numpy.array\n",
    "    embeddings.append(batch_embeddings[0][:,0,:].cpu().numpy())\n",
    "\n",
    "features = pd.DataFrame(np.concatenate(embeddings))\n",
    "\n",
    "features.to_csv(f'../data/embedded_3_in_1_no_lemma', index=False)"
   ],
   "metadata": {
    "collapsed": false,
    "pycharm": {
     "name": "#%%\n"
    }
   }
  },
  {
   "cell_type": "code",
   "execution_count": 16,
   "outputs": [
    {
     "data": {
      "text/plain": "          0         1         2         3         4         5         6  \\\n0  0.119271  0.136464 -0.008355  0.026413  0.099878  0.022849 -0.137604   \n1  0.438349 -0.415116  0.852780 -0.137081 -0.502088  0.008114 -0.632642   \n2  0.065119  0.017991  0.075553 -0.028850  0.134829  0.002659  0.054221   \n3  0.018086 -0.016375  0.492378 -0.407476 -0.094135 -0.257374 -0.079157   \n4  0.177492  0.092044  0.084529 -0.081504  0.267774  0.140675 -0.129266   \n\n          7         8         9  ...       758       759       760       761  \\\n0  0.196135  0.130590  0.283869  ...  0.015723  0.044034 -0.101652 -0.010436   \n1 -0.282202 -0.164272 -0.228508  ...  0.223047  0.003482 -0.434830 -0.219574   \n2  0.103911  0.126278  0.249699  ...  0.001731  0.025728 -0.057699  0.003478   \n3  0.205838 -0.196295 -0.033481  ...  0.098162 -0.044465 -0.297261 -0.297032   \n4  0.110915  0.396590  0.027469  ... -0.055115  0.156429  0.088761  0.140440   \n\n        762       763       764       765       766       767  \n0 -0.073420  0.046543  0.078297 -0.060893  0.071176 -0.126580  \n1 -0.037204  0.345793 -0.080911  0.495437  0.500580  0.012712  \n2  0.028238  0.210666 -0.004904  0.004242  0.091198 -0.197050  \n3 -0.079317 -0.214961  0.618069  0.343269 -0.123517 -0.134644  \n4 -0.070732  0.089746  0.000989 -0.047724  0.266879 -0.184299  \n\n[5 rows x 768 columns]",
      "text/html": "<div>\n<style scoped>\n    .dataframe tbody tr th:only-of-type {\n        vertical-align: middle;\n    }\n\n    .dataframe tbody tr th {\n        vertical-align: top;\n    }\n\n    .dataframe thead th {\n        text-align: right;\n    }\n</style>\n<table border=\"1\" class=\"dataframe\">\n  <thead>\n    <tr style=\"text-align: right;\">\n      <th></th>\n      <th>0</th>\n      <th>1</th>\n      <th>2</th>\n      <th>3</th>\n      <th>4</th>\n      <th>5</th>\n      <th>6</th>\n      <th>7</th>\n      <th>8</th>\n      <th>9</th>\n      <th>...</th>\n      <th>758</th>\n      <th>759</th>\n      <th>760</th>\n      <th>761</th>\n      <th>762</th>\n      <th>763</th>\n      <th>764</th>\n      <th>765</th>\n      <th>766</th>\n      <th>767</th>\n    </tr>\n  </thead>\n  <tbody>\n    <tr>\n      <th>0</th>\n      <td>0.119271</td>\n      <td>0.136464</td>\n      <td>-0.008355</td>\n      <td>0.026413</td>\n      <td>0.099878</td>\n      <td>0.022849</td>\n      <td>-0.137604</td>\n      <td>0.196135</td>\n      <td>0.130590</td>\n      <td>0.283869</td>\n      <td>...</td>\n      <td>0.015723</td>\n      <td>0.044034</td>\n      <td>-0.101652</td>\n      <td>-0.010436</td>\n      <td>-0.073420</td>\n      <td>0.046543</td>\n      <td>0.078297</td>\n      <td>-0.060893</td>\n      <td>0.071176</td>\n      <td>-0.126580</td>\n    </tr>\n    <tr>\n      <th>1</th>\n      <td>0.438349</td>\n      <td>-0.415116</td>\n      <td>0.852780</td>\n      <td>-0.137081</td>\n      <td>-0.502088</td>\n      <td>0.008114</td>\n      <td>-0.632642</td>\n      <td>-0.282202</td>\n      <td>-0.164272</td>\n      <td>-0.228508</td>\n      <td>...</td>\n      <td>0.223047</td>\n      <td>0.003482</td>\n      <td>-0.434830</td>\n      <td>-0.219574</td>\n      <td>-0.037204</td>\n      <td>0.345793</td>\n      <td>-0.080911</td>\n      <td>0.495437</td>\n      <td>0.500580</td>\n      <td>0.012712</td>\n    </tr>\n    <tr>\n      <th>2</th>\n      <td>0.065119</td>\n      <td>0.017991</td>\n      <td>0.075553</td>\n      <td>-0.028850</td>\n      <td>0.134829</td>\n      <td>0.002659</td>\n      <td>0.054221</td>\n      <td>0.103911</td>\n      <td>0.126278</td>\n      <td>0.249699</td>\n      <td>...</td>\n      <td>0.001731</td>\n      <td>0.025728</td>\n      <td>-0.057699</td>\n      <td>0.003478</td>\n      <td>0.028238</td>\n      <td>0.210666</td>\n      <td>-0.004904</td>\n      <td>0.004242</td>\n      <td>0.091198</td>\n      <td>-0.197050</td>\n    </tr>\n    <tr>\n      <th>3</th>\n      <td>0.018086</td>\n      <td>-0.016375</td>\n      <td>0.492378</td>\n      <td>-0.407476</td>\n      <td>-0.094135</td>\n      <td>-0.257374</td>\n      <td>-0.079157</td>\n      <td>0.205838</td>\n      <td>-0.196295</td>\n      <td>-0.033481</td>\n      <td>...</td>\n      <td>0.098162</td>\n      <td>-0.044465</td>\n      <td>-0.297261</td>\n      <td>-0.297032</td>\n      <td>-0.079317</td>\n      <td>-0.214961</td>\n      <td>0.618069</td>\n      <td>0.343269</td>\n      <td>-0.123517</td>\n      <td>-0.134644</td>\n    </tr>\n    <tr>\n      <th>4</th>\n      <td>0.177492</td>\n      <td>0.092044</td>\n      <td>0.084529</td>\n      <td>-0.081504</td>\n      <td>0.267774</td>\n      <td>0.140675</td>\n      <td>-0.129266</td>\n      <td>0.110915</td>\n      <td>0.396590</td>\n      <td>0.027469</td>\n      <td>...</td>\n      <td>-0.055115</td>\n      <td>0.156429</td>\n      <td>0.088761</td>\n      <td>0.140440</td>\n      <td>-0.070732</td>\n      <td>0.089746</td>\n      <td>0.000989</td>\n      <td>-0.047724</td>\n      <td>0.266879</td>\n      <td>-0.184299</td>\n    </tr>\n  </tbody>\n</table>\n<p>5 rows × 768 columns</p>\n</div>"
     },
     "execution_count": 16,
     "metadata": {},
     "output_type": "execute_result"
    }
   ],
   "source": [
    "embedded_description.head()"
   ],
   "metadata": {
    "collapsed": false,
    "pycharm": {
     "name": "#%%\n"
    }
   }
  },
  {
   "cell_type": "code",
   "execution_count": null,
   "outputs": [],
   "source": [
    "embedded_description = embedded_description.drop('id', axis=1)"
   ],
   "metadata": {
    "collapsed": false,
    "pycharm": {
     "name": "#%%\n"
    }
   }
  },
  {
   "cell_type": "code",
   "execution_count": null,
   "outputs": [],
   "source": [
    "embedded_description.shape[1]"
   ],
   "metadata": {
    "collapsed": false,
    "pycharm": {
     "name": "#%%\n"
    }
   }
  },
  {
   "cell_type": "code",
   "execution_count": 17,
   "outputs": [
    {
     "name": "stdout",
     "output_type": "stream",
     "text": [
      "0\n",
      "40559\n"
     ]
    }
   ],
   "source": [
    "index = faiss.IndexFlatL2(embedded_description.shape[1])\n",
    "print(index.ntotal)  # пока индекс пустой\n",
    "index.add(np.ascontiguousarray(embedded_description.to_numpy().astype('float32')))\n",
    "print(index.ntotal)  # теперь в нем 10 000 векторов"
   ],
   "metadata": {
    "collapsed": false,
    "pycharm": {
     "name": "#%%\n"
    }
   }
  },
  {
   "cell_type": "code",
   "execution_count": null,
   "outputs": [],
   "source": [
    "embedded_description.head()"
   ],
   "metadata": {
    "collapsed": false,
    "pycharm": {
     "name": "#%%\n"
    }
   }
  },
  {
   "cell_type": "code",
   "execution_count": 20,
   "outputs": [
    {
     "name": "stdout",
     "output_type": "stream",
     "text": [
      "[[32487 33613 25922 33626 31827 25939 32492 25935 33555 33620]]\n",
      "[[0.        0.        0.        3.8042755 3.8042755 3.8042755 5.4084244\n",
      "  5.4084244 5.4084244 5.76008  ]]\n"
     ]
    }
   ],
   "source": [
    "topn = 7\n",
    "D, I = index.search(np.ascontiguousarray(embedded_description.to_numpy().astype('float32')[32487].reshape((1, -1))), 10)\n",
    "print(I) # индексы самых похожих векторов\n",
    "print(D) # расстояния, отсортированные по убыванию"
   ],
   "metadata": {
    "collapsed": false,
    "pycharm": {
     "name": "#%%\n"
    }
   }
  },
  {
   "cell_type": "code",
   "execution_count": 21,
   "outputs": [
    {
     "data": {
      "text/plain": "           id                 sku                          name  \\\n32487  194915         19000043238                         Marie   \n33613  196653  100384-19000039071                  Fresh Linen    \n25922  150414         19760324673     Омега-3 35% с витамином Е   \n33626   92027          9410600015  Squeeze Therapy Shea Butter    \n31827  206804         19000059324                Undea des Iles   \n25939  142496         19760311598                      ANTI-AGE   \n32492  220163         19000072513                 Black coconut   \n25935  154188   11167-58273000002                   BROW ASSIST   \n33555  179934         19000023404               Christmas tree    \n33620  185253  100493-19000031281                        Ninfea   \n\n                   brand brand_type          dimension17 dimension18  \\\n32487       Flame moscow   standard        Гель для душа     Унисекс   \n33613        Wax Lyrical   standard            Диффузоры     Унисекс   \n25922          ЗдравСити   standard                  NaN     Унисекс   \n33626             Frudia   standard                 Крем     Унисекс   \n31827      ORENS PARFUMS   standard      Наборы миниатюр     Унисекс   \n25939             Эвалар   standard                  NaN     Унисекс   \n32492      HERE AND NOW    standard  Ароматические свечи     Унисекс   \n25935        Bodyography   standard  Карандаш для бровей     Женский   \n33555          BAGO home   standard            Диффузоры     Унисекс   \n33620  Millefiori Milano   standard            Диффузоры     Унисекс   \n\n                     dimension19       dimension20         country  ...  \\\n32487                        NaN  Для душа и ванны          Россия  ...   \n33613                        NaN               NaN  Великобритания  ...   \n25922            Общего действия               NaN          Россия  ...   \n33626  Против признаков старения              Руки     Южная Корея  ...   \n31827                        NaN               NaN         Франция  ...   \n25939            Общего действия               NaN          Россия  ...   \n32492                        NaN               NaN          Россия  ...   \n25935                        NaN               NaN             США  ...   \n33555                        NaN               NaN          Россия  ...   \n33620                        NaN               NaN          Италия  ...   \n\n       main_product_sku  main_product_id  best_loyality_price dimension29  \\\n32487       19000043238           194915                  NaN       False   \n33613       19000039078           196664                  NaN       False   \n25922       19760324673           150414                  NaN        True   \n33626        9410600015            92027                  NaN       False   \n31827       19000059324           206804                  NaN       False   \n25939       19760311598           142496                  NaN        True   \n32492       19000072513           220163                  NaN       False   \n25935       58273000002           131263                  NaN        True   \n33555       19000023404           179934                  NaN        True   \n33620       19000031281           185252                  NaN       False   \n\n      dimension28                                        description  \\\n32487       False  Гель для душа мягко очищает и увлажняет кожу н...   \n33613       False  Чистый и бодрящий аромат свежевыстиранного бел...   \n25922       False  Биологически активная добавка к пище - дополни...   \n33626       False                                                NaN   \n31827       False  Ориентальный древесный аромат, который словно ...   \n25939       False                                      Кальций хелат   \n32492       False                                                NaN   \n25935        True  Усовершенствуйте форму бровей и сделайте их вы...   \n33555       False  Необыкновенный аромат хвои в сочетании с пряно...   \n33620       False  Ноты цветка кувшинки, фрезии и ландыша в сочет...   \n\n                                           product_usage  \\\n32487  Разотрите капли геля между влажными ладонями и...   \n33613  Достаньте содержимое из коробки, освободите па...   \n25922  детям старше 7 лет и взрослым, в том числе жен...   \n33626                                                NaN   \n31827                      Нанести на пульсирующие точки   \n25939  Взрослым и детям старше 14 лет 2-3 таблетки в ...   \n32492  При использовании свечи всегда необходимо дожи...   \n25935  используйте угловой карандаш, чтобы заполнить ...   \n33555  Достаньте содержимое из коробки, освободите фи...   \n33620  Откройте упаковку, достаньте бутылочку с жидко...   \n\n                                     product_composition           category  \\\n32487  Aqua, Cocamidopropyl Betaine, Sodium Lauryl Sa...               uhod   \n33613                          Смесь ароматических масел       parfjumerija   \n25922  жир океанических рыб, оболочка (желатин, глице...  zdorov-e-i-apteka   \n33626                                                NaN               uhod   \n31827                                                NaN       parfjumerija   \n25939  кальция аминокислотный хелат (кальция бисглици...  zdorov-e-i-apteka   \n32492  100% соевый воск, ароматическое масло, хлопков...          dlja-doma   \n25935  Ozokerite, Caprylic/Capric Triglyceride, Ricin...           makijazh   \n33555  Раствор растительного происхождения, смесь аро...      dlja-muzhchin   \n33620  стекло, ароматическая композиция, ротанговые п...       parfjumerija   \n\n             category_ru  \n32487               уход  \n33613         парфюмерия  \n25922  здоровье и аптека  \n33626               уход  \n31827         парфюмерия  \n25939  здоровье и аптека  \n32492           для дома  \n25935             макияж  \n33555         для мужчин  \n33620         парфюмерия  \n\n[10 rows x 28 columns]",
      "text/html": "<div>\n<style scoped>\n    .dataframe tbody tr th:only-of-type {\n        vertical-align: middle;\n    }\n\n    .dataframe tbody tr th {\n        vertical-align: top;\n    }\n\n    .dataframe thead th {\n        text-align: right;\n    }\n</style>\n<table border=\"1\" class=\"dataframe\">\n  <thead>\n    <tr style=\"text-align: right;\">\n      <th></th>\n      <th>id</th>\n      <th>sku</th>\n      <th>name</th>\n      <th>brand</th>\n      <th>brand_type</th>\n      <th>dimension17</th>\n      <th>dimension18</th>\n      <th>dimension19</th>\n      <th>dimension20</th>\n      <th>country</th>\n      <th>...</th>\n      <th>main_product_sku</th>\n      <th>main_product_id</th>\n      <th>best_loyality_price</th>\n      <th>dimension29</th>\n      <th>dimension28</th>\n      <th>description</th>\n      <th>product_usage</th>\n      <th>product_composition</th>\n      <th>category</th>\n      <th>category_ru</th>\n    </tr>\n  </thead>\n  <tbody>\n    <tr>\n      <th>32487</th>\n      <td>194915</td>\n      <td>19000043238</td>\n      <td>Marie</td>\n      <td>Flame moscow</td>\n      <td>standard</td>\n      <td>Гель для душа</td>\n      <td>Унисекс</td>\n      <td>NaN</td>\n      <td>Для душа и ванны</td>\n      <td>Россия</td>\n      <td>...</td>\n      <td>19000043238</td>\n      <td>194915</td>\n      <td>NaN</td>\n      <td>False</td>\n      <td>False</td>\n      <td>Гель для душа мягко очищает и увлажняет кожу н...</td>\n      <td>Разотрите капли геля между влажными ладонями и...</td>\n      <td>Aqua, Cocamidopropyl Betaine, Sodium Lauryl Sa...</td>\n      <td>uhod</td>\n      <td>уход</td>\n    </tr>\n    <tr>\n      <th>33613</th>\n      <td>196653</td>\n      <td>100384-19000039071</td>\n      <td>Fresh Linen</td>\n      <td>Wax Lyrical</td>\n      <td>standard</td>\n      <td>Диффузоры</td>\n      <td>Унисекс</td>\n      <td>NaN</td>\n      <td>NaN</td>\n      <td>Великобритания</td>\n      <td>...</td>\n      <td>19000039078</td>\n      <td>196664</td>\n      <td>NaN</td>\n      <td>False</td>\n      <td>False</td>\n      <td>Чистый и бодрящий аромат свежевыстиранного бел...</td>\n      <td>Достаньте содержимое из коробки, освободите па...</td>\n      <td>Смесь ароматических масел</td>\n      <td>parfjumerija</td>\n      <td>парфюмерия</td>\n    </tr>\n    <tr>\n      <th>25922</th>\n      <td>150414</td>\n      <td>19760324673</td>\n      <td>Омега-3 35% с витамином Е</td>\n      <td>ЗдравСити</td>\n      <td>standard</td>\n      <td>NaN</td>\n      <td>Унисекс</td>\n      <td>Общего действия</td>\n      <td>NaN</td>\n      <td>Россия</td>\n      <td>...</td>\n      <td>19760324673</td>\n      <td>150414</td>\n      <td>NaN</td>\n      <td>True</td>\n      <td>False</td>\n      <td>Биологически активная добавка к пище - дополни...</td>\n      <td>детям старше 7 лет и взрослым, в том числе жен...</td>\n      <td>жир океанических рыб, оболочка (желатин, глице...</td>\n      <td>zdorov-e-i-apteka</td>\n      <td>здоровье и аптека</td>\n    </tr>\n    <tr>\n      <th>33626</th>\n      <td>92027</td>\n      <td>9410600015</td>\n      <td>Squeeze Therapy Shea Butter</td>\n      <td>Frudia</td>\n      <td>standard</td>\n      <td>Крем</td>\n      <td>Унисекс</td>\n      <td>Против признаков старения</td>\n      <td>Руки</td>\n      <td>Южная Корея</td>\n      <td>...</td>\n      <td>9410600015</td>\n      <td>92027</td>\n      <td>NaN</td>\n      <td>False</td>\n      <td>False</td>\n      <td>NaN</td>\n      <td>NaN</td>\n      <td>NaN</td>\n      <td>uhod</td>\n      <td>уход</td>\n    </tr>\n    <tr>\n      <th>31827</th>\n      <td>206804</td>\n      <td>19000059324</td>\n      <td>Undea des Iles</td>\n      <td>ORENS PARFUMS</td>\n      <td>standard</td>\n      <td>Наборы миниатюр</td>\n      <td>Унисекс</td>\n      <td>NaN</td>\n      <td>NaN</td>\n      <td>Франция</td>\n      <td>...</td>\n      <td>19000059324</td>\n      <td>206804</td>\n      <td>NaN</td>\n      <td>False</td>\n      <td>False</td>\n      <td>Ориентальный древесный аромат, который словно ...</td>\n      <td>Нанести на пульсирующие точки</td>\n      <td>NaN</td>\n      <td>parfjumerija</td>\n      <td>парфюмерия</td>\n    </tr>\n    <tr>\n      <th>25939</th>\n      <td>142496</td>\n      <td>19760311598</td>\n      <td>ANTI-AGE</td>\n      <td>Эвалар</td>\n      <td>standard</td>\n      <td>NaN</td>\n      <td>Унисекс</td>\n      <td>Общего действия</td>\n      <td>NaN</td>\n      <td>Россия</td>\n      <td>...</td>\n      <td>19760311598</td>\n      <td>142496</td>\n      <td>NaN</td>\n      <td>True</td>\n      <td>False</td>\n      <td>Кальций хелат</td>\n      <td>Взрослым и детям старше 14 лет 2-3 таблетки в ...</td>\n      <td>кальция аминокислотный хелат (кальция бисглици...</td>\n      <td>zdorov-e-i-apteka</td>\n      <td>здоровье и аптека</td>\n    </tr>\n    <tr>\n      <th>32492</th>\n      <td>220163</td>\n      <td>19000072513</td>\n      <td>Black coconut</td>\n      <td>HERE AND NOW</td>\n      <td>standard</td>\n      <td>Ароматические свечи</td>\n      <td>Унисекс</td>\n      <td>NaN</td>\n      <td>NaN</td>\n      <td>Россия</td>\n      <td>...</td>\n      <td>19000072513</td>\n      <td>220163</td>\n      <td>NaN</td>\n      <td>False</td>\n      <td>False</td>\n      <td>NaN</td>\n      <td>При использовании свечи всегда необходимо дожи...</td>\n      <td>100% соевый воск, ароматическое масло, хлопков...</td>\n      <td>dlja-doma</td>\n      <td>для дома</td>\n    </tr>\n    <tr>\n      <th>25935</th>\n      <td>154188</td>\n      <td>11167-58273000002</td>\n      <td>BROW ASSIST</td>\n      <td>Bodyography</td>\n      <td>standard</td>\n      <td>Карандаш для бровей</td>\n      <td>Женский</td>\n      <td>NaN</td>\n      <td>NaN</td>\n      <td>США</td>\n      <td>...</td>\n      <td>58273000002</td>\n      <td>131263</td>\n      <td>NaN</td>\n      <td>True</td>\n      <td>True</td>\n      <td>Усовершенствуйте форму бровей и сделайте их вы...</td>\n      <td>используйте угловой карандаш, чтобы заполнить ...</td>\n      <td>Ozokerite, Caprylic/Capric Triglyceride, Ricin...</td>\n      <td>makijazh</td>\n      <td>макияж</td>\n    </tr>\n    <tr>\n      <th>33555</th>\n      <td>179934</td>\n      <td>19000023404</td>\n      <td>Christmas tree</td>\n      <td>BAGO home</td>\n      <td>standard</td>\n      <td>Диффузоры</td>\n      <td>Унисекс</td>\n      <td>NaN</td>\n      <td>NaN</td>\n      <td>Россия</td>\n      <td>...</td>\n      <td>19000023404</td>\n      <td>179934</td>\n      <td>NaN</td>\n      <td>True</td>\n      <td>False</td>\n      <td>Необыкновенный аромат хвои в сочетании с пряно...</td>\n      <td>Достаньте содержимое из коробки, освободите фи...</td>\n      <td>Раствор растительного происхождения, смесь аро...</td>\n      <td>dlja-muzhchin</td>\n      <td>для мужчин</td>\n    </tr>\n    <tr>\n      <th>33620</th>\n      <td>185253</td>\n      <td>100493-19000031281</td>\n      <td>Ninfea</td>\n      <td>Millefiori Milano</td>\n      <td>standard</td>\n      <td>Диффузоры</td>\n      <td>Унисекс</td>\n      <td>NaN</td>\n      <td>NaN</td>\n      <td>Италия</td>\n      <td>...</td>\n      <td>19000031281</td>\n      <td>185252</td>\n      <td>NaN</td>\n      <td>False</td>\n      <td>False</td>\n      <td>Ноты цветка кувшинки, фрезии и ландыша в сочет...</td>\n      <td>Откройте упаковку, достаньте бутылочку с жидко...</td>\n      <td>стекло, ароматическая композиция, ротанговые п...</td>\n      <td>parfjumerija</td>\n      <td>парфюмерия</td>\n    </tr>\n  </tbody>\n</table>\n<p>10 rows × 28 columns</p>\n</div>"
     },
     "execution_count": 21,
     "metadata": {},
     "output_type": "execute_result"
    }
   ],
   "source": [
    "data.loc[I[0]]"
   ],
   "metadata": {
    "collapsed": false,
    "pycharm": {
     "name": "#%%\n"
    }
   }
  },
  {
   "cell_type": "code",
   "execution_count": 38,
   "outputs": [],
   "source": [
    "embedded_description['id'] = data['id']"
   ],
   "metadata": {
    "collapsed": false,
    "pycharm": {
     "name": "#%%\n"
    }
   }
  },
  {
   "cell_type": "code",
   "execution_count": 14,
   "outputs": [],
   "source": [
    "embedded_description = embedded_description.drop('id', axis=1)"
   ],
   "metadata": {
    "collapsed": false,
    "pycharm": {
     "name": "#%%\n"
    }
   }
  },
  {
   "cell_type": "code",
   "execution_count": 12,
   "outputs": [
    {
     "data": {
      "text/plain": "769"
     },
     "execution_count": 12,
     "metadata": {},
     "output_type": "execute_result"
    }
   ],
   "source": [
    "embedded_description.shape[1]"
   ],
   "metadata": {
    "collapsed": false,
    "pycharm": {
     "name": "#%%\n"
    }
   }
  },
  {
   "cell_type": "code",
   "execution_count": 43,
   "outputs": [
    {
     "name": "stdout",
     "output_type": "stream",
     "text": [
      "0\n",
      "40559\n"
     ]
    }
   ],
   "source": [
    "index = faiss.IndexFlatL2(embedded_description.shape[1])\n",
    "print(index.ntotal)  # пока индекс пустой\n",
    "index.add(np.ascontiguousarray(embedded_description.to_numpy().astype('float32')))\n",
    "print(index.ntotal)  # теперь в нем 10 000 векторов"
   ],
   "metadata": {
    "collapsed": false,
    "pycharm": {
     "name": "#%%\n"
    }
   }
  },
  {
   "cell_type": "code",
   "execution_count": 46,
   "outputs": [
    {
     "data": {
      "text/plain": "faiss.swigfaiss_avx2.IndexFlatL2"
     },
     "execution_count": 46,
     "metadata": {},
     "output_type": "execute_result"
    }
   ],
   "source": [
    "type(index)"
   ],
   "metadata": {
    "collapsed": false,
    "pycharm": {
     "name": "#%%\n"
    }
   }
  },
  {
   "cell_type": "code",
   "execution_count": 45,
   "outputs": [],
   "source": [
    "faiss.write_index(index, 'faiss_index.index')"
   ],
   "metadata": {
    "collapsed": false,
    "pycharm": {
     "name": "#%%\n"
    }
   }
  },
  {
   "cell_type": "code",
   "execution_count": 94,
   "outputs": [
    {
     "data": {
      "text/plain": "          0         1         2         3         4         5         6  \\\n0  0.119182  0.136407 -0.008398  0.026280  0.099649  0.022758 -0.137390   \n1  0.437772 -0.414763  0.854249 -0.136624 -0.502700  0.007649 -0.632327   \n2  0.064964  0.017981  0.075442 -0.028719  0.134861  0.002396  0.054132   \n3  0.017483 -0.016258  0.491108 -0.407509 -0.093863 -0.257953 -0.079588   \n4  0.177582  0.092091  0.084957 -0.081574  0.267902  0.141011 -0.129121   \n\n          7         8         9  ...       759       760       761       762  \\\n0  0.196270  0.130492  0.283897  ...  0.043792 -0.101606 -0.010544 -0.073203   \n1 -0.282504 -0.164398 -0.228232  ...  0.003711 -0.435499 -0.219542 -0.036994   \n2  0.103898  0.126308  0.249536  ...  0.025518 -0.057730  0.003447  0.028165   \n3  0.206367 -0.196093 -0.034315  ... -0.044944 -0.297170 -0.297158 -0.078902   \n4  0.111072  0.396916  0.027279  ...  0.156531  0.089343  0.140883 -0.070492   \n\n        763       764       765       766       767        id  \n0  0.046466  0.078466 -0.060975  0.071087 -0.126535  203730.0  \n1  0.346355 -0.081222  0.495510  0.500134  0.013172  229474.0  \n2  0.210503 -0.004843  0.004023  0.091254 -0.196976  229480.0  \n3 -0.215319  0.618713  0.344027 -0.123039 -0.134758  200485.0  \n4  0.089348  0.001155 -0.047962  0.267154 -0.184760  202556.0  \n\n[5 rows x 769 columns]",
      "text/html": "<div>\n<style scoped>\n    .dataframe tbody tr th:only-of-type {\n        vertical-align: middle;\n    }\n\n    .dataframe tbody tr th {\n        vertical-align: top;\n    }\n\n    .dataframe thead th {\n        text-align: right;\n    }\n</style>\n<table border=\"1\" class=\"dataframe\">\n  <thead>\n    <tr style=\"text-align: right;\">\n      <th></th>\n      <th>0</th>\n      <th>1</th>\n      <th>2</th>\n      <th>3</th>\n      <th>4</th>\n      <th>5</th>\n      <th>6</th>\n      <th>7</th>\n      <th>8</th>\n      <th>9</th>\n      <th>...</th>\n      <th>759</th>\n      <th>760</th>\n      <th>761</th>\n      <th>762</th>\n      <th>763</th>\n      <th>764</th>\n      <th>765</th>\n      <th>766</th>\n      <th>767</th>\n      <th>id</th>\n    </tr>\n  </thead>\n  <tbody>\n    <tr>\n      <th>0</th>\n      <td>0.119182</td>\n      <td>0.136407</td>\n      <td>-0.008398</td>\n      <td>0.026280</td>\n      <td>0.099649</td>\n      <td>0.022758</td>\n      <td>-0.137390</td>\n      <td>0.196270</td>\n      <td>0.130492</td>\n      <td>0.283897</td>\n      <td>...</td>\n      <td>0.043792</td>\n      <td>-0.101606</td>\n      <td>-0.010544</td>\n      <td>-0.073203</td>\n      <td>0.046466</td>\n      <td>0.078466</td>\n      <td>-0.060975</td>\n      <td>0.071087</td>\n      <td>-0.126535</td>\n      <td>203730.0</td>\n    </tr>\n    <tr>\n      <th>1</th>\n      <td>0.437772</td>\n      <td>-0.414763</td>\n      <td>0.854249</td>\n      <td>-0.136624</td>\n      <td>-0.502700</td>\n      <td>0.007649</td>\n      <td>-0.632327</td>\n      <td>-0.282504</td>\n      <td>-0.164398</td>\n      <td>-0.228232</td>\n      <td>...</td>\n      <td>0.003711</td>\n      <td>-0.435499</td>\n      <td>-0.219542</td>\n      <td>-0.036994</td>\n      <td>0.346355</td>\n      <td>-0.081222</td>\n      <td>0.495510</td>\n      <td>0.500134</td>\n      <td>0.013172</td>\n      <td>229474.0</td>\n    </tr>\n    <tr>\n      <th>2</th>\n      <td>0.064964</td>\n      <td>0.017981</td>\n      <td>0.075442</td>\n      <td>-0.028719</td>\n      <td>0.134861</td>\n      <td>0.002396</td>\n      <td>0.054132</td>\n      <td>0.103898</td>\n      <td>0.126308</td>\n      <td>0.249536</td>\n      <td>...</td>\n      <td>0.025518</td>\n      <td>-0.057730</td>\n      <td>0.003447</td>\n      <td>0.028165</td>\n      <td>0.210503</td>\n      <td>-0.004843</td>\n      <td>0.004023</td>\n      <td>0.091254</td>\n      <td>-0.196976</td>\n      <td>229480.0</td>\n    </tr>\n    <tr>\n      <th>3</th>\n      <td>0.017483</td>\n      <td>-0.016258</td>\n      <td>0.491108</td>\n      <td>-0.407509</td>\n      <td>-0.093863</td>\n      <td>-0.257953</td>\n      <td>-0.079588</td>\n      <td>0.206367</td>\n      <td>-0.196093</td>\n      <td>-0.034315</td>\n      <td>...</td>\n      <td>-0.044944</td>\n      <td>-0.297170</td>\n      <td>-0.297158</td>\n      <td>-0.078902</td>\n      <td>-0.215319</td>\n      <td>0.618713</td>\n      <td>0.344027</td>\n      <td>-0.123039</td>\n      <td>-0.134758</td>\n      <td>200485.0</td>\n    </tr>\n    <tr>\n      <th>4</th>\n      <td>0.177582</td>\n      <td>0.092091</td>\n      <td>0.084957</td>\n      <td>-0.081574</td>\n      <td>0.267902</td>\n      <td>0.141011</td>\n      <td>-0.129121</td>\n      <td>0.111072</td>\n      <td>0.396916</td>\n      <td>0.027279</td>\n      <td>...</td>\n      <td>0.156531</td>\n      <td>0.089343</td>\n      <td>0.140883</td>\n      <td>-0.070492</td>\n      <td>0.089348</td>\n      <td>0.001155</td>\n      <td>-0.047962</td>\n      <td>0.267154</td>\n      <td>-0.184760</td>\n      <td>202556.0</td>\n    </tr>\n  </tbody>\n</table>\n<p>5 rows × 769 columns</p>\n</div>"
     },
     "execution_count": 94,
     "metadata": {},
     "output_type": "execute_result"
    }
   ],
   "source": [
    "embedded_description.head()"
   ],
   "metadata": {
    "collapsed": false,
    "pycharm": {
     "name": "#%%\n"
    }
   }
  },
  {
   "cell_type": "code",
   "execution_count": 92,
   "outputs": [
    {
     "name": "stdout",
     "output_type": "stream",
     "text": [
      "[[32487 26255 38538 19960 39077 31806 17582 19606 22292 39089]]\n",
      "[[  0.        57.97046   86.783325 101.52981  164.57614  176.87158\n",
      "  193.60435  220.60435  221.52127  247.15674 ]]\n"
     ]
    }
   ],
   "source": [
    "topn = 7\n",
    "D, I = index.search(np.ascontiguousarray(embedded_description.to_numpy().astype('float32')[32487].reshape((1, -1))), 10)\n",
    "print(I) # индексы самых похожих векторов\n",
    "print(D) # расстояния, отсортированные по убыванию"
   ],
   "metadata": {
    "collapsed": false,
    "pycharm": {
     "name": "#%%\n"
    }
   }
  },
  {
   "cell_type": "code",
   "execution_count": 93,
   "outputs": [
    {
     "data": {
      "text/plain": "           id          sku                                               name  \\\n32487  194915  19000043238                                              Marie   \n26255  194916  19000043239                                              Sonia   \n38538  194909  19000035116                            Original Eau De Cologne   \n19960  194920  19000043243                                              Sonia   \n39077  194907  19000042801                        Wellaflex Вуаль диких ягод    \n31806  194926  19000037956  All About Clean Liquid Facial Soap - Oily Skin...   \n17582  194902  19000035189                                          WOLFTHORN   \n19606  194901  19000035188                                          WOLFTHORN   \n22292  194903  19000035190                                         WHITEWATER   \n39089  194906  19000042800                              Wellaflex Нежная роза   \n\n                    brand brand_type    dimension17 dimension18  \\\n32487        Flame moscow   standard  Гель для душа     Унисекс   \n26255        Flame moscow   standard  Гель для душа     Унисекс   \n38538  4711 Acqua Colonia   standard       Одеколон     Унисекс   \n19960        Flame moscow   standard           Крем     Унисекс   \n39077               Wella   standard  Сухой шампунь     Женский   \n31806            Clinique   standard    Жидкое мыло     Женский   \n17582           Old Spice   standard     Дезодорант     Мужской   \n19606           Old Spice   standard     Дезодорант     Мужской   \n22292           Old Spice   standard     Дезодорант     Мужской   \n39089               Wella   standard  Сухой шампунь     Женский   \n\n                dimension19       dimension20   country  ...  \\\n32487                   NaN  Для душа и ванны    Россия  ...   \n26255                   NaN  Для душа и ванны    Россия  ...   \n38538                   NaN               NaN  Германия  ...   \n19960  Увлажнение и питание              Руки    Россия  ...   \n39077                   NaN               NaN  Германия  ...   \n31806              Очищение              Лицо       США  ...   \n17582                   NaN              Тело       США  ...   \n19606                   NaN              Тело       США  ...   \n22292                   NaN              Тело       США  ...   \n39089                   NaN               NaN  Германия  ...   \n\n       main_product_sku  main_product_id  best_loyality_price dimension29  \\\n32487       19000043238           194915                  NaN       False   \n26255       19000043239           194916                  NaN       False   \n38538       19000035116           194909                  NaN       False   \n19960       19000043243           194920                  NaN       False   \n39077       19000042801           194907                  NaN       False   \n31806       19000037956           194926                  NaN       False   \n17582       19000035189           194902                  NaN       False   \n19606       19000035188           194901                  NaN       False   \n22292       19000035190           194903                  NaN       False   \n39089       19000042800           194906                  NaN       False   \n\n      dimension28                                        description  \\\n32487       False  Гель для душа мягко очищает и увлажняет кожу н...   \n26255       False  Гель для душа мягко очищает и увлажняет кожу н...   \n38538       False  4711 Original Eau de Cologne - это один из ста...   \n19960       False  Крем для рук и ногтей с питательными маслами ш...   \n39077       False                                      Сухой шампунь   \n31806       False                                                NaN   \n17582       False  Кто знал, что аромат свободы Wolfthorn может и...   \n19606       False  Кто знал, что аромат свободы Wolfthorn может и...   \n22292       False  Многие считают, что вода — самый мощный элемен...   \n39089       False                                      Сухой шампунь   \n\n                                           product_usage  \\\n32487  Разотрите капли геля между влажными ладонями и...   \n26255  Разотрите капли геля между влажными ладонями и...   \n38538  Это уникальный бренд с интересной историей ста...   \n19960  Использовать только для наружного применения. ...   \n39077  Хорошо встряхните флакон и, удерживая его на р...   \n31806                                                NaN   \n17582  Alcohol Denat., Butane, Isobutane, Propane, Me...   \n19606  Dipropylene Glycol, Aqua, Propylene Glycol, So...   \n22292  Alcohol Denat., Butane, Isobutane, Propane, Pa...   \n39089  Хорошо встряхните флакон и, удерживая его на р...   \n\n                                     product_composition       category  \\\n32487  Aqua, Cocamidopropyl Betaine, Sodium Lauryl Sa...           uhod   \n26255  Aqua, Cocamidopropyl Betaine, Sodium Lauryl Sa...           uhod   \n38538                                                NaN   parfjumerija   \n19960  Вода, кококаприлат, сорбитол, цетеариловый спи...           uhod   \n39077  Alcohol Denat., Butane, Propane, Isobutane, Ta...         volosy   \n31806                                                NaN           uhod   \n17582                                                NaN  dlja-muzhchin   \n19606                                                NaN  dlja-muzhchin   \n22292                                                NaN  dlja-muzhchin   \n39089  Alcohol Denat., Butane, Propane, Isobutane, Ta...         volosy   \n\n       category_ru  \n32487         уход  \n26255         уход  \n38538   парфюмерия  \n19960         уход  \n39077       волосы  \n31806         уход  \n17582   для мужчин  \n19606   для мужчин  \n22292   для мужчин  \n39089       волосы  \n\n[10 rows x 28 columns]",
      "text/html": "<div>\n<style scoped>\n    .dataframe tbody tr th:only-of-type {\n        vertical-align: middle;\n    }\n\n    .dataframe tbody tr th {\n        vertical-align: top;\n    }\n\n    .dataframe thead th {\n        text-align: right;\n    }\n</style>\n<table border=\"1\" class=\"dataframe\">\n  <thead>\n    <tr style=\"text-align: right;\">\n      <th></th>\n      <th>id</th>\n      <th>sku</th>\n      <th>name</th>\n      <th>brand</th>\n      <th>brand_type</th>\n      <th>dimension17</th>\n      <th>dimension18</th>\n      <th>dimension19</th>\n      <th>dimension20</th>\n      <th>country</th>\n      <th>...</th>\n      <th>main_product_sku</th>\n      <th>main_product_id</th>\n      <th>best_loyality_price</th>\n      <th>dimension29</th>\n      <th>dimension28</th>\n      <th>description</th>\n      <th>product_usage</th>\n      <th>product_composition</th>\n      <th>category</th>\n      <th>category_ru</th>\n    </tr>\n  </thead>\n  <tbody>\n    <tr>\n      <th>32487</th>\n      <td>194915</td>\n      <td>19000043238</td>\n      <td>Marie</td>\n      <td>Flame moscow</td>\n      <td>standard</td>\n      <td>Гель для душа</td>\n      <td>Унисекс</td>\n      <td>NaN</td>\n      <td>Для душа и ванны</td>\n      <td>Россия</td>\n      <td>...</td>\n      <td>19000043238</td>\n      <td>194915</td>\n      <td>NaN</td>\n      <td>False</td>\n      <td>False</td>\n      <td>Гель для душа мягко очищает и увлажняет кожу н...</td>\n      <td>Разотрите капли геля между влажными ладонями и...</td>\n      <td>Aqua, Cocamidopropyl Betaine, Sodium Lauryl Sa...</td>\n      <td>uhod</td>\n      <td>уход</td>\n    </tr>\n    <tr>\n      <th>26255</th>\n      <td>194916</td>\n      <td>19000043239</td>\n      <td>Sonia</td>\n      <td>Flame moscow</td>\n      <td>standard</td>\n      <td>Гель для душа</td>\n      <td>Унисекс</td>\n      <td>NaN</td>\n      <td>Для душа и ванны</td>\n      <td>Россия</td>\n      <td>...</td>\n      <td>19000043239</td>\n      <td>194916</td>\n      <td>NaN</td>\n      <td>False</td>\n      <td>False</td>\n      <td>Гель для душа мягко очищает и увлажняет кожу н...</td>\n      <td>Разотрите капли геля между влажными ладонями и...</td>\n      <td>Aqua, Cocamidopropyl Betaine, Sodium Lauryl Sa...</td>\n      <td>uhod</td>\n      <td>уход</td>\n    </tr>\n    <tr>\n      <th>38538</th>\n      <td>194909</td>\n      <td>19000035116</td>\n      <td>Original Eau De Cologne</td>\n      <td>4711 Acqua Colonia</td>\n      <td>standard</td>\n      <td>Одеколон</td>\n      <td>Унисекс</td>\n      <td>NaN</td>\n      <td>NaN</td>\n      <td>Германия</td>\n      <td>...</td>\n      <td>19000035116</td>\n      <td>194909</td>\n      <td>NaN</td>\n      <td>False</td>\n      <td>False</td>\n      <td>4711 Original Eau de Cologne - это один из ста...</td>\n      <td>Это уникальный бренд с интересной историей ста...</td>\n      <td>NaN</td>\n      <td>parfjumerija</td>\n      <td>парфюмерия</td>\n    </tr>\n    <tr>\n      <th>19960</th>\n      <td>194920</td>\n      <td>19000043243</td>\n      <td>Sonia</td>\n      <td>Flame moscow</td>\n      <td>standard</td>\n      <td>Крем</td>\n      <td>Унисекс</td>\n      <td>Увлажнение и питание</td>\n      <td>Руки</td>\n      <td>Россия</td>\n      <td>...</td>\n      <td>19000043243</td>\n      <td>194920</td>\n      <td>NaN</td>\n      <td>False</td>\n      <td>False</td>\n      <td>Крем для рук и ногтей с питательными маслами ш...</td>\n      <td>Использовать только для наружного применения. ...</td>\n      <td>Вода, кококаприлат, сорбитол, цетеариловый спи...</td>\n      <td>uhod</td>\n      <td>уход</td>\n    </tr>\n    <tr>\n      <th>39077</th>\n      <td>194907</td>\n      <td>19000042801</td>\n      <td>Wellaflex Вуаль диких ягод</td>\n      <td>Wella</td>\n      <td>standard</td>\n      <td>Сухой шампунь</td>\n      <td>Женский</td>\n      <td>NaN</td>\n      <td>NaN</td>\n      <td>Германия</td>\n      <td>...</td>\n      <td>19000042801</td>\n      <td>194907</td>\n      <td>NaN</td>\n      <td>False</td>\n      <td>False</td>\n      <td>Сухой шампунь</td>\n      <td>Хорошо встряхните флакон и, удерживая его на р...</td>\n      <td>Alcohol Denat., Butane, Propane, Isobutane, Ta...</td>\n      <td>volosy</td>\n      <td>волосы</td>\n    </tr>\n    <tr>\n      <th>31806</th>\n      <td>194926</td>\n      <td>19000037956</td>\n      <td>All About Clean Liquid Facial Soap - Oily Skin...</td>\n      <td>Clinique</td>\n      <td>standard</td>\n      <td>Жидкое мыло</td>\n      <td>Женский</td>\n      <td>Очищение</td>\n      <td>Лицо</td>\n      <td>США</td>\n      <td>...</td>\n      <td>19000037956</td>\n      <td>194926</td>\n      <td>NaN</td>\n      <td>False</td>\n      <td>False</td>\n      <td>NaN</td>\n      <td>NaN</td>\n      <td>NaN</td>\n      <td>uhod</td>\n      <td>уход</td>\n    </tr>\n    <tr>\n      <th>17582</th>\n      <td>194902</td>\n      <td>19000035189</td>\n      <td>WOLFTHORN</td>\n      <td>Old Spice</td>\n      <td>standard</td>\n      <td>Дезодорант</td>\n      <td>Мужской</td>\n      <td>NaN</td>\n      <td>Тело</td>\n      <td>США</td>\n      <td>...</td>\n      <td>19000035189</td>\n      <td>194902</td>\n      <td>NaN</td>\n      <td>False</td>\n      <td>False</td>\n      <td>Кто знал, что аромат свободы Wolfthorn может и...</td>\n      <td>Alcohol Denat., Butane, Isobutane, Propane, Me...</td>\n      <td>NaN</td>\n      <td>dlja-muzhchin</td>\n      <td>для мужчин</td>\n    </tr>\n    <tr>\n      <th>19606</th>\n      <td>194901</td>\n      <td>19000035188</td>\n      <td>WOLFTHORN</td>\n      <td>Old Spice</td>\n      <td>standard</td>\n      <td>Дезодорант</td>\n      <td>Мужской</td>\n      <td>NaN</td>\n      <td>Тело</td>\n      <td>США</td>\n      <td>...</td>\n      <td>19000035188</td>\n      <td>194901</td>\n      <td>NaN</td>\n      <td>False</td>\n      <td>False</td>\n      <td>Кто знал, что аромат свободы Wolfthorn может и...</td>\n      <td>Dipropylene Glycol, Aqua, Propylene Glycol, So...</td>\n      <td>NaN</td>\n      <td>dlja-muzhchin</td>\n      <td>для мужчин</td>\n    </tr>\n    <tr>\n      <th>22292</th>\n      <td>194903</td>\n      <td>19000035190</td>\n      <td>WHITEWATER</td>\n      <td>Old Spice</td>\n      <td>standard</td>\n      <td>Дезодорант</td>\n      <td>Мужской</td>\n      <td>NaN</td>\n      <td>Тело</td>\n      <td>США</td>\n      <td>...</td>\n      <td>19000035190</td>\n      <td>194903</td>\n      <td>NaN</td>\n      <td>False</td>\n      <td>False</td>\n      <td>Многие считают, что вода — самый мощный элемен...</td>\n      <td>Alcohol Denat., Butane, Isobutane, Propane, Pa...</td>\n      <td>NaN</td>\n      <td>dlja-muzhchin</td>\n      <td>для мужчин</td>\n    </tr>\n    <tr>\n      <th>39089</th>\n      <td>194906</td>\n      <td>19000042800</td>\n      <td>Wellaflex Нежная роза</td>\n      <td>Wella</td>\n      <td>standard</td>\n      <td>Сухой шампунь</td>\n      <td>Женский</td>\n      <td>NaN</td>\n      <td>NaN</td>\n      <td>Германия</td>\n      <td>...</td>\n      <td>19000042800</td>\n      <td>194906</td>\n      <td>NaN</td>\n      <td>False</td>\n      <td>False</td>\n      <td>Сухой шампунь</td>\n      <td>Хорошо встряхните флакон и, удерживая его на р...</td>\n      <td>Alcohol Denat., Butane, Propane, Isobutane, Ta...</td>\n      <td>volosy</td>\n      <td>волосы</td>\n    </tr>\n  </tbody>\n</table>\n<p>10 rows × 28 columns</p>\n</div>"
     },
     "execution_count": 93,
     "metadata": {},
     "output_type": "execute_result"
    }
   ],
   "source": [
    "data.loc[I[0]]"
   ],
   "metadata": {
    "collapsed": false,
    "pycharm": {
     "name": "#%%\n"
    }
   }
  },
  {
   "cell_type": "code",
   "execution_count": 79,
   "outputs": [],
   "source": [
    "r = np.ascontiguousarray(np.random.random((4, 4)))"
   ],
   "metadata": {
    "collapsed": false,
    "pycharm": {
     "name": "#%%\n"
    }
   }
  },
  {
   "cell_type": "code",
   "execution_count": 81,
   "outputs": [
    {
     "data": {
      "text/plain": "array([[0.6156839 , 0.68898451, 0.98493178, 0.87244391],\n       [0.30351483, 0.63845555, 0.81861868, 0.9121769 ],\n       [0.97482156, 0.67080411, 0.26230048, 0.308565  ],\n       [0.58294434, 0.98529858, 0.47673406, 0.5169393 ]])"
     },
     "execution_count": 81,
     "metadata": {},
     "output_type": "execute_result"
    }
   ],
   "source": [
    "r"
   ],
   "metadata": {
    "collapsed": false,
    "pycharm": {
     "name": "#%%\n"
    }
   }
  },
  {
   "cell_type": "code",
   "execution_count": 84,
   "outputs": [
    {
     "data": {
      "text/plain": "array([[0.97482156, 0.67080411, 0.26230048, 0.308565  ]])"
     },
     "execution_count": 84,
     "metadata": {},
     "output_type": "execute_result"
    }
   ],
   "source": [
    "r[2].reshape((1, -1))"
   ],
   "metadata": {
    "collapsed": false,
    "pycharm": {
     "name": "#%%\n"
    }
   }
  }
 ],
 "metadata": {
  "kernelspec": {
   "display_name": "Python 3",
   "language": "python",
   "name": "python3"
  },
  "language_info": {
   "codemirror_mode": {
    "name": "ipython",
    "version": 2
   },
   "file_extension": ".py",
   "mimetype": "text/x-python",
   "name": "python",
   "nbconvert_exporter": "python",
   "pygments_lexer": "ipython2",
   "version": "2.7.6"
  }
 },
 "nbformat": 4,
 "nbformat_minor": 0
}