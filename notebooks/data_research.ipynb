{
 "cells": [
  {
   "cell_type": "code",
   "execution_count": 1,
   "metadata": {
    "collapsed": true,
    "pycharm": {
     "name": "#%%\n"
    }
   },
   "outputs": [],
   "source": [
    "import re\n",
    "import string\n",
    "\n",
    "import pandas as pd\n",
    "import numpy as np\n",
    "import datetime\n",
    "\n",
    "import transformers\n",
    "import torch\n",
    "\n",
    "from nltk import WordNetLemmatizer\n",
    "\n",
    "from tqdm.notebook import tqdm"
   ]
  },
  {
   "cell_type": "markdown",
   "source": [
    "# Загрузка и подготовка данных"
   ],
   "metadata": {
    "collapsed": false,
    "pycharm": {
     "name": "#%% md\n"
    }
   }
  },
  {
   "cell_type": "code",
   "execution_count": 8,
   "outputs": [
    {
     "name": "stderr",
     "output_type": "stream",
     "text": [
      "C:\\Users\\HardWorkingStation\\AppData\\Local\\Temp\\ipykernel_11612\\3667815255.py:1: DtypeWarning: Columns (18) have mixed types. Specify dtype option on import or set low_memory=False.\n",
      "  data = pd.read_csv('../data/products.csv')\n"
     ]
    },
    {
     "name": "stdout",
     "output_type": "stream",
     "text": [
      "<class 'pandas.core.frame.DataFrame'>\n",
      "Int64Index: 40559 entries, 0 to 40579\n",
      "Data columns (total 28 columns):\n",
      " #   Column               Non-Null Count  Dtype  \n",
      "---  ------               --------------  -----  \n",
      " 0   id                   40559 non-null  int64  \n",
      " 1   sku                  40559 non-null  object \n",
      " 2   name                 40559 non-null  object \n",
      " 3   brand                40559 non-null  object \n",
      " 4   brand_type           40559 non-null  object \n",
      " 5   dimension17          37838 non-null  object \n",
      " 6   dimension18          39810 non-null  object \n",
      " 7   dimension19          9360 non-null   object \n",
      " 8   dimension20          9841 non-null   object \n",
      " 9   country              34488 non-null  object \n",
      " 10  price                40559 non-null  int64  \n",
      " 11  currency             0 non-null      float64\n",
      " 12  old_price            40559 non-null  int64  \n",
      " 13  category_type        40555 non-null  object \n",
      " 14  url                  40559 non-null  object \n",
      " 15  images               40559 non-null  object \n",
      " 16  type                 40559 non-null  object \n",
      " 17  volume               36612 non-null  object \n",
      " 18  main_product_sku     40559 non-null  object \n",
      " 19  main_product_id      40559 non-null  int64  \n",
      " 20  best_loyality_price  0 non-null      float64\n",
      " 21  dimension29          40559 non-null  bool   \n",
      " 22  dimension28          40559 non-null  bool   \n",
      " 23  description          33675 non-null  object \n",
      " 24  product_usage        34341 non-null  object \n",
      " 25  product_composition  27456 non-null  object \n",
      " 26  category             40559 non-null  object \n",
      " 27  category_ru          40559 non-null  object \n",
      "dtypes: bool(2), float64(2), int64(4), object(20)\n",
      "memory usage: 8.4+ MB\n"
     ]
    }
   ],
   "source": [
    "data = pd.read_csv('../data/products.csv')\n",
    "data = data.drop_duplicates()\n",
    "tokenizer = transformers.BertTokenizer('../model/vocab.txt')\n",
    "try:\n",
    "    embedded_description = pd.read_csv('../data/embedded_description', index_col='Unnamed: 0')\n",
    "    embedded_product_composition = pd.read_csv('../data/embedded_product_composition', index_col='Unnamed: 0')\n",
    "    embedded_product_usage = pd.read_csv('../data/embedded_product_usage', index_col='Unnamed: 0')\n",
    "    embedded_3_in_1 = pd.read_csv('../data/embedded_3_in_1')\n",
    "except:\n",
    "    pass\n",
    "\n",
    "# model_class, tokenizer_class, pretrained_weights = (transformers.DistilBertModel,\n",
    "                                                    # transformers.DistilBertTokenizer,\n",
    "                                                    # 'distilbert-base-uncased')\n",
    "\n",
    "data.info()"
   ],
   "metadata": {
    "collapsed": false,
    "pycharm": {
     "name": "#%%\n"
    }
   }
  },
  {
   "cell_type": "code",
   "execution_count": 9,
   "outputs": [],
   "source": [
    "def text_processing(text: str) -> str:\n",
    "    # оставляем пропуски без изменений\n",
    "    if text is np.nan:\n",
    "        return np.nan\n",
    "    # приводим текст к нижнему регистру\n",
    "    text = text.lower()\n",
    "    # заменяем символы и знаки пунктуации\n",
    "    text = re.sub('\\(.*?\\)', '', text)\n",
    "    trans_dict = str.maketrans('', '', string.punctuation)\n",
    "    text = text.translate(trans_dict)\n",
    "    # избавляемся от лишних пробелов\n",
    "    text = ' '.join(text.split())\n",
    "\n",
    "    return text"
   ],
   "metadata": {
    "collapsed": false,
    "pycharm": {
     "name": "#%%\n"
    }
   }
  },
  {
   "cell_type": "code",
   "execution_count": 10,
   "outputs": [
    {
     "data": {
      "text/plain": "       id          sku                        name      brand brand_type  \\\n0  203730  19000039636                         03    Ecooking   standard   \n1  229474  19000031882                Anti-stress   Botavikos   standard   \n2  229480  19000031888                     Dry oil  Botavikos   standard   \n3  200485  19000046442               Catnip Chaser  Petstages   standard   \n4  202556  19000025382  SALT FACIAL SCRUB ORIGINAL    Kosette   standard   \n\n            dimension17 dimension18           dimension19 dimension20 country  \\\n0           Жидкое мыло     Унисекс                   NaN         NaN   Дания   \n1             Сыворотки     Женский  Увлажнение и питание        Лицо  Россия   \n2                 Масло     Женский                   NaN        Лицо  Россия   \n3  игрушка для животных         NaN                   NaN         NaN     США   \n4                 Скраб     Унисекс              Очищение        Лицо     NaN   \n\n   ...  main_product_sku  main_product_id  best_loyality_price dimension29  \\\n0  ...       19000039636           203730                  NaN       False   \n1  ...       19000031882           229474                  NaN       False   \n2  ...       19000031888           229480                  NaN       False   \n3  ...       19000046442           200485                  NaN       False   \n4  ...       19000025382           202556                  NaN       False   \n\n  dimension28                                        description  \\\n0       False                                        нежное мыло   \n1       False  • пробуждает внутреннюю энергию клеток создава...   \n2       False                                           действие   \n3       False  игрушка трек с пластиковым мячиком тубом кошач...   \n4        True                                       нежный скраб   \n\n                                       product_usage  \\\n0  намочите руки нанесите на них мыло очистите ру...   \n1  равномерно распределите на коже когда чувствуе...   \n2  встряхните перед использованием и распылите ма...   \n3  подбирайте игрушки в соответствии с весом и дв...   \n4  нанесите на чистую и влажную кожу затем аккура...   \n\n                                 product_composition               category  \\\n0  aqua sodium laureth sulfate cocamidopropyl bet...               organika   \n1  aqua niacinamide glycerin gluconolactone xanth...               organika   \n2  capryliccapric triglyceride olea europaea frui...               organika   \n3                                            пластик  tovary-dlja-zhivotnyh   \n4  glycerin sea salt water silica cocoglucoside s...                  azija   \n\n           category_ru  \n0             органика  \n1             органика  \n2             органика  \n3  товары для животных  \n4                 азия  \n\n[5 rows x 28 columns]",
      "text/html": "<div>\n<style scoped>\n    .dataframe tbody tr th:only-of-type {\n        vertical-align: middle;\n    }\n\n    .dataframe tbody tr th {\n        vertical-align: top;\n    }\n\n    .dataframe thead th {\n        text-align: right;\n    }\n</style>\n<table border=\"1\" class=\"dataframe\">\n  <thead>\n    <tr style=\"text-align: right;\">\n      <th></th>\n      <th>id</th>\n      <th>sku</th>\n      <th>name</th>\n      <th>brand</th>\n      <th>brand_type</th>\n      <th>dimension17</th>\n      <th>dimension18</th>\n      <th>dimension19</th>\n      <th>dimension20</th>\n      <th>country</th>\n      <th>...</th>\n      <th>main_product_sku</th>\n      <th>main_product_id</th>\n      <th>best_loyality_price</th>\n      <th>dimension29</th>\n      <th>dimension28</th>\n      <th>description</th>\n      <th>product_usage</th>\n      <th>product_composition</th>\n      <th>category</th>\n      <th>category_ru</th>\n    </tr>\n  </thead>\n  <tbody>\n    <tr>\n      <th>0</th>\n      <td>203730</td>\n      <td>19000039636</td>\n      <td>03</td>\n      <td>Ecooking</td>\n      <td>standard</td>\n      <td>Жидкое мыло</td>\n      <td>Унисекс</td>\n      <td>NaN</td>\n      <td>NaN</td>\n      <td>Дания</td>\n      <td>...</td>\n      <td>19000039636</td>\n      <td>203730</td>\n      <td>NaN</td>\n      <td>False</td>\n      <td>False</td>\n      <td>нежное мыло</td>\n      <td>намочите руки нанесите на них мыло очистите ру...</td>\n      <td>aqua sodium laureth sulfate cocamidopropyl bet...</td>\n      <td>organika</td>\n      <td>органика</td>\n    </tr>\n    <tr>\n      <th>1</th>\n      <td>229474</td>\n      <td>19000031882</td>\n      <td>Anti-stress</td>\n      <td>Botavikos</td>\n      <td>standard</td>\n      <td>Сыворотки</td>\n      <td>Женский</td>\n      <td>Увлажнение и питание</td>\n      <td>Лицо</td>\n      <td>Россия</td>\n      <td>...</td>\n      <td>19000031882</td>\n      <td>229474</td>\n      <td>NaN</td>\n      <td>False</td>\n      <td>False</td>\n      <td>• пробуждает внутреннюю энергию клеток создава...</td>\n      <td>равномерно распределите на коже когда чувствуе...</td>\n      <td>aqua niacinamide glycerin gluconolactone xanth...</td>\n      <td>organika</td>\n      <td>органика</td>\n    </tr>\n    <tr>\n      <th>2</th>\n      <td>229480</td>\n      <td>19000031888</td>\n      <td>Dry oil</td>\n      <td>Botavikos</td>\n      <td>standard</td>\n      <td>Масло</td>\n      <td>Женский</td>\n      <td>NaN</td>\n      <td>Лицо</td>\n      <td>Россия</td>\n      <td>...</td>\n      <td>19000031888</td>\n      <td>229480</td>\n      <td>NaN</td>\n      <td>False</td>\n      <td>False</td>\n      <td>действие</td>\n      <td>встряхните перед использованием и распылите ма...</td>\n      <td>capryliccapric triglyceride olea europaea frui...</td>\n      <td>organika</td>\n      <td>органика</td>\n    </tr>\n    <tr>\n      <th>3</th>\n      <td>200485</td>\n      <td>19000046442</td>\n      <td>Catnip Chaser</td>\n      <td>Petstages</td>\n      <td>standard</td>\n      <td>игрушка для животных</td>\n      <td>NaN</td>\n      <td>NaN</td>\n      <td>NaN</td>\n      <td>США</td>\n      <td>...</td>\n      <td>19000046442</td>\n      <td>200485</td>\n      <td>NaN</td>\n      <td>False</td>\n      <td>False</td>\n      <td>игрушка трек с пластиковым мячиком тубом кошач...</td>\n      <td>подбирайте игрушки в соответствии с весом и дв...</td>\n      <td>пластик</td>\n      <td>tovary-dlja-zhivotnyh</td>\n      <td>товары для животных</td>\n    </tr>\n    <tr>\n      <th>4</th>\n      <td>202556</td>\n      <td>19000025382</td>\n      <td>SALT FACIAL SCRUB ORIGINAL</td>\n      <td>Kosette</td>\n      <td>standard</td>\n      <td>Скраб</td>\n      <td>Унисекс</td>\n      <td>Очищение</td>\n      <td>Лицо</td>\n      <td>NaN</td>\n      <td>...</td>\n      <td>19000025382</td>\n      <td>202556</td>\n      <td>NaN</td>\n      <td>False</td>\n      <td>True</td>\n      <td>нежный скраб</td>\n      <td>нанесите на чистую и влажную кожу затем аккура...</td>\n      <td>glycerin sea salt water silica cocoglucoside s...</td>\n      <td>azija</td>\n      <td>азия</td>\n    </tr>\n  </tbody>\n</table>\n<p>5 rows × 28 columns</p>\n</div>"
     },
     "execution_count": 10,
     "metadata": {},
     "output_type": "execute_result"
    }
   ],
   "source": [
    "text_columns = ['description', 'product_usage', 'product_composition']\n",
    "\n",
    "for column in text_columns:\n",
    "    data[column] = data[column].apply(text_processing)\n",
    "\n",
    "data.head()"
   ],
   "metadata": {
    "collapsed": false,
    "pycharm": {
     "name": "#%%\n"
    }
   }
  },
  {
   "cell_type": "code",
   "execution_count": 11,
   "outputs": [],
   "source": [
    "def lower(text: str) -> str:\n",
    "    if text is np.nan:\n",
    "        return np.nan\n",
    "    return text.lower()"
   ],
   "metadata": {
    "collapsed": false,
    "pycharm": {
     "name": "#%%\n"
    }
   }
  },
  {
   "cell_type": "code",
   "execution_count": 12,
   "outputs": [
    {
     "data": {
      "text/plain": "       id          sku                        name      brand brand_type  \\\n0  203730  19000039636                         03    ecooking   standard   \n1  229474  19000031882                anti-stress   botavikos   standard   \n2  229480  19000031888                     dry oil  botavikos   standard   \n3  200485  19000046442               catnip chaser  petstages   standard   \n4  202556  19000025382  salt facial scrub original    kosette   standard   \n\n            dimension17 dimension18           dimension19 dimension20 country  \\\n0           жидкое мыло     унисекс                   NaN         NaN   дания   \n1             сыворотки     женский  увлажнение и питание        лицо  россия   \n2                 масло     женский                   NaN        лицо  россия   \n3  игрушка для животных         NaN                   NaN         NaN     сша   \n4                 скраб     унисекс              очищение        лицо     NaN   \n\n   ...  main_product_sku  main_product_id  best_loyality_price dimension29  \\\n0  ...       19000039636           203730                  NaN       False   \n1  ...       19000031882           229474                  NaN       False   \n2  ...       19000031888           229480                  NaN       False   \n3  ...       19000046442           200485                  NaN       False   \n4  ...       19000025382           202556                  NaN       False   \n\n  dimension28                                        description  \\\n0       False                                        нежное мыло   \n1       False  • пробуждает внутреннюю энергию клеток создава...   \n2       False                                           действие   \n3       False  игрушка трек с пластиковым мячиком тубом кошач...   \n4        True                                       нежный скраб   \n\n                                       product_usage  \\\n0  намочите руки нанесите на них мыло очистите ру...   \n1  равномерно распределите на коже когда чувствуе...   \n2  встряхните перед использованием и распылите ма...   \n3  подбирайте игрушки в соответствии с весом и дв...   \n4  нанесите на чистую и влажную кожу затем аккура...   \n\n                                 product_composition               category  \\\n0  aqua sodium laureth sulfate cocamidopropyl bet...               organika   \n1  aqua niacinamide glycerin gluconolactone xanth...               organika   \n2  capryliccapric triglyceride olea europaea frui...               organika   \n3                                            пластик  tovary-dlja-zhivotnyh   \n4  glycerin sea salt water silica cocoglucoside s...                  azija   \n\n           category_ru  \n0             органика  \n1             органика  \n2             органика  \n3  товары для животных  \n4                 азия  \n\n[5 rows x 28 columns]",
      "text/html": "<div>\n<style scoped>\n    .dataframe tbody tr th:only-of-type {\n        vertical-align: middle;\n    }\n\n    .dataframe tbody tr th {\n        vertical-align: top;\n    }\n\n    .dataframe thead th {\n        text-align: right;\n    }\n</style>\n<table border=\"1\" class=\"dataframe\">\n  <thead>\n    <tr style=\"text-align: right;\">\n      <th></th>\n      <th>id</th>\n      <th>sku</th>\n      <th>name</th>\n      <th>brand</th>\n      <th>brand_type</th>\n      <th>dimension17</th>\n      <th>dimension18</th>\n      <th>dimension19</th>\n      <th>dimension20</th>\n      <th>country</th>\n      <th>...</th>\n      <th>main_product_sku</th>\n      <th>main_product_id</th>\n      <th>best_loyality_price</th>\n      <th>dimension29</th>\n      <th>dimension28</th>\n      <th>description</th>\n      <th>product_usage</th>\n      <th>product_composition</th>\n      <th>category</th>\n      <th>category_ru</th>\n    </tr>\n  </thead>\n  <tbody>\n    <tr>\n      <th>0</th>\n      <td>203730</td>\n      <td>19000039636</td>\n      <td>03</td>\n      <td>ecooking</td>\n      <td>standard</td>\n      <td>жидкое мыло</td>\n      <td>унисекс</td>\n      <td>NaN</td>\n      <td>NaN</td>\n      <td>дания</td>\n      <td>...</td>\n      <td>19000039636</td>\n      <td>203730</td>\n      <td>NaN</td>\n      <td>False</td>\n      <td>False</td>\n      <td>нежное мыло</td>\n      <td>намочите руки нанесите на них мыло очистите ру...</td>\n      <td>aqua sodium laureth sulfate cocamidopropyl bet...</td>\n      <td>organika</td>\n      <td>органика</td>\n    </tr>\n    <tr>\n      <th>1</th>\n      <td>229474</td>\n      <td>19000031882</td>\n      <td>anti-stress</td>\n      <td>botavikos</td>\n      <td>standard</td>\n      <td>сыворотки</td>\n      <td>женский</td>\n      <td>увлажнение и питание</td>\n      <td>лицо</td>\n      <td>россия</td>\n      <td>...</td>\n      <td>19000031882</td>\n      <td>229474</td>\n      <td>NaN</td>\n      <td>False</td>\n      <td>False</td>\n      <td>• пробуждает внутреннюю энергию клеток создава...</td>\n      <td>равномерно распределите на коже когда чувствуе...</td>\n      <td>aqua niacinamide glycerin gluconolactone xanth...</td>\n      <td>organika</td>\n      <td>органика</td>\n    </tr>\n    <tr>\n      <th>2</th>\n      <td>229480</td>\n      <td>19000031888</td>\n      <td>dry oil</td>\n      <td>botavikos</td>\n      <td>standard</td>\n      <td>масло</td>\n      <td>женский</td>\n      <td>NaN</td>\n      <td>лицо</td>\n      <td>россия</td>\n      <td>...</td>\n      <td>19000031888</td>\n      <td>229480</td>\n      <td>NaN</td>\n      <td>False</td>\n      <td>False</td>\n      <td>действие</td>\n      <td>встряхните перед использованием и распылите ма...</td>\n      <td>capryliccapric triglyceride olea europaea frui...</td>\n      <td>organika</td>\n      <td>органика</td>\n    </tr>\n    <tr>\n      <th>3</th>\n      <td>200485</td>\n      <td>19000046442</td>\n      <td>catnip chaser</td>\n      <td>petstages</td>\n      <td>standard</td>\n      <td>игрушка для животных</td>\n      <td>NaN</td>\n      <td>NaN</td>\n      <td>NaN</td>\n      <td>сша</td>\n      <td>...</td>\n      <td>19000046442</td>\n      <td>200485</td>\n      <td>NaN</td>\n      <td>False</td>\n      <td>False</td>\n      <td>игрушка трек с пластиковым мячиком тубом кошач...</td>\n      <td>подбирайте игрушки в соответствии с весом и дв...</td>\n      <td>пластик</td>\n      <td>tovary-dlja-zhivotnyh</td>\n      <td>товары для животных</td>\n    </tr>\n    <tr>\n      <th>4</th>\n      <td>202556</td>\n      <td>19000025382</td>\n      <td>salt facial scrub original</td>\n      <td>kosette</td>\n      <td>standard</td>\n      <td>скраб</td>\n      <td>унисекс</td>\n      <td>очищение</td>\n      <td>лицо</td>\n      <td>NaN</td>\n      <td>...</td>\n      <td>19000025382</td>\n      <td>202556</td>\n      <td>NaN</td>\n      <td>False</td>\n      <td>True</td>\n      <td>нежный скраб</td>\n      <td>нанесите на чистую и влажную кожу затем аккура...</td>\n      <td>glycerin sea salt water silica cocoglucoside s...</td>\n      <td>azija</td>\n      <td>азия</td>\n    </tr>\n  </tbody>\n</table>\n<p>5 rows × 28 columns</p>\n</div>"
     },
     "execution_count": 12,
     "metadata": {},
     "output_type": "execute_result"
    }
   ],
   "source": [
    "columns_to_lower = ['name', 'brand', 'dimension17', 'dimension18', 'dimension19', 'dimension20', 'country', 'category_type']\n",
    "\n",
    "for column in columns_to_lower:\n",
    "    data[column] = data[column].apply(lower)\n",
    "\n",
    "data.head()"
   ],
   "metadata": {
    "collapsed": false,
    "pycharm": {
     "name": "#%%\n"
    }
   }
  },
  {
   "cell_type": "markdown",
   "source": [
    "# Генерация эмбеддингов"
   ],
   "metadata": {
    "collapsed": false,
    "pycharm": {
     "name": "#%% md\n"
    }
   }
  },
  {
   "cell_type": "code",
   "execution_count": 124,
   "outputs": [],
   "source": [
    "def lemmatization(data):\n",
    "    if data is np.nan:\n",
    "        return ''\n",
    "    return ' '.join([WordNetLemmatizer().lemmatize(word) for word in data.split()])"
   ],
   "metadata": {
    "collapsed": false,
    "pycharm": {
     "name": "#%%\n"
    }
   }
  },
  {
   "cell_type": "markdown",
   "source": [
    "Загрузим RuBERT для генерации эмбеддингов"
   ],
   "metadata": {
    "collapsed": false,
    "pycharm": {
     "name": "#%% md\n"
    }
   }
  },
  {
   "cell_type": "code",
   "execution_count": 13,
   "outputs": [
    {
     "name": "stderr",
     "output_type": "stream",
     "text": [
      "Some weights of the model checkpoint at ../model/pytorch_model.bin were not used when initializing BertModel: ['cls.predictions.bias', 'cls.predictions.transform.LayerNorm.weight', 'cls.predictions.transform.dense.weight', 'cls.seq_relationship.bias', 'cls.predictions.decoder.weight', 'cls.predictions.transform.LayerNorm.bias', 'cls.predictions.transform.dense.bias', 'cls.seq_relationship.weight']\n",
      "- This IS expected if you are initializing BertModel from the checkpoint of a model trained on another task or with another architecture (e.g. initializing a BertForSequenceClassification model from a BertForPreTraining model).\n",
      "- This IS NOT expected if you are initializing BertModel from the checkpoint of a model that you expect to be exactly identical (initializing a BertForSequenceClassification model from a BertForSequenceClassification model).\n"
     ]
    }
   ],
   "source": [
    "config = transformers.BertConfig.from_json_file(\n",
    "    '../model/bert_config.json')\n",
    "model = transformers.BertModel.from_pretrained(\n",
    "    '../model/pytorch_model.bin', config=config).to('cuda:0')"
   ],
   "metadata": {
    "collapsed": false,
    "pycharm": {
     "name": "#%%\n"
    }
   }
  },
  {
   "cell_type": "code",
   "execution_count": 15,
   "outputs": [
    {
     "data": {
      "text/plain": "  0%|          | 0/40559 [00:00<?, ?it/s]",
      "application/vnd.jupyter.widget-view+json": {
       "version_major": 2,
       "version_minor": 0,
       "model_id": "aa6bb81f0d094d54a5862d09d0734d88"
      }
     },
     "metadata": {},
     "output_type": "display_data"
    },
    {
     "data": {
      "text/plain": "  0%|          | 0/40559 [00:00<?, ?it/s]",
      "application/vnd.jupyter.widget-view+json": {
       "version_major": 2,
       "version_minor": 0,
       "model_id": "f7f2cf5e264d42da8bd4a64e14d33d7e"
      }
     },
     "metadata": {},
     "output_type": "display_data"
    },
    {
     "data": {
      "text/plain": "  0%|          | 0/40559 [00:00<?, ?it/s]",
      "application/vnd.jupyter.widget-view+json": {
       "version_major": 2,
       "version_minor": 0,
       "model_id": "7b3d72234f0d4766a57bc151d1c5477c"
      }
     },
     "metadata": {},
     "output_type": "display_data"
    }
   ],
   "source": [
    "batch_size = 1\n",
    "\n",
    "for column in text_columns:\n",
    "    text = data[column].fillna('')\n",
    "    # lemmas = data[column].apply(lemmatization)\n",
    "    vector = text.apply(lambda x: tokenizer.encode(x, add_special_tokens=True, max_length=512))\n",
    "    # применим padding к векторам\n",
    "    n = len(max(vector, key=len))\n",
    "    # англ. вектор с отступами\n",
    "    padded = np.array([i + [0]*(n - len(i)) for i in vector.values])\n",
    "\n",
    "    # создадим маску для важных токенов\n",
    "    attention_mask = np.where(padded != 0, 1, 0)\n",
    "\n",
    "    embeddings = []\n",
    "    for i in tqdm(range(padded.shape[0] // batch_size)):\n",
    "        # преобразуем данные\n",
    "        batch = torch.LongTensor(padded[batch_size*i : batch_size*(i+1)]).to('cuda:0')\n",
    "        # преобразуем маску\n",
    "        attention_mask_batch = torch.LongTensor(attention_mask[batch_size*i : batch_size*(i+1)]).to('cuda:0')\n",
    "        with torch.no_grad():\n",
    "            batch_embeddings = model(batch, attention_mask=attention_mask_batch)\n",
    "\n",
    "        # преобразуем элементы методом numpy() к типу numpy.array\n",
    "        embeddings.append(batch_embeddings[0][:,0,:].cpu().numpy())\n",
    "\n",
    "    features = pd.DataFrame(np.concatenate(embeddings))\n",
    "    features.to_csv(f'../data/embedded_{column}_no_lemmas', index=False)\n"
   ],
   "metadata": {
    "collapsed": false,
    "pycharm": {
     "name": "#%%\n"
    }
   }
  },
  {
   "cell_type": "code",
   "execution_count": 16,
   "outputs": [
    {
     "data": {
      "text/plain": "  0%|          | 0/40559 [00:00<?, ?it/s]",
      "application/vnd.jupyter.widget-view+json": {
       "version_major": 2,
       "version_minor": 0,
       "model_id": "a6bb3594854b4d6daec8454612bfe177"
      }
     },
     "metadata": {},
     "output_type": "display_data"
    }
   ],
   "source": [
    "batch_size = 1\n",
    "text = []\n",
    "# заменим пропуски в полях на пустую строку, для корректной генерации токенов\n",
    "for d, pu, pc in data[['description', 'product_usage', 'product_composition']].values:\n",
    "    if d is np.nan:\n",
    "        d = ' '\n",
    "    if pu is np.nan:\n",
    "        pu = ' '\n",
    "    if pc is np.nan:\n",
    "        pc = ' '\n",
    "    text.append(d + pu + pc)\n",
    "\n",
    "data['3_in_1'] = text\n",
    "text = data['3_in_1'].fillna('')\n",
    "# lemmas = data['3_in_1'].apply(lemmatization)\n",
    "vector = text.apply(lambda x: tokenizer.encode(x, add_special_tokens=True, max_length=512))\n",
    "# применим padding к векторам\n",
    "n = len(max(vector, key=len))\n",
    "# англ. вектор с отступами\n",
    "padded = np.array([i + [0]*(n - len(i)) for i in vector.values])\n",
    "\n",
    "# создадим маску для важных токенов\n",
    "attention_mask = np.where(padded != 0, 1, 0)\n",
    "\n",
    "embeddings = []\n",
    "for i in tqdm(range(padded.shape[0] // batch_size)):\n",
    "    # преобразуем данные\n",
    "    batch = torch.LongTensor(padded[batch_size*i : batch_size*(i+1)]).to('cuda:0')\n",
    "    # преобразуем маску\n",
    "    attention_mask_batch = torch.LongTensor(attention_mask[batch_size*i : batch_size*(i+1)]).to('cuda:0')\n",
    "    with torch.no_grad():\n",
    "        batch_embeddings = model(batch, attention_mask=attention_mask_batch)\n",
    "\n",
    "    # преобразуем элементы методом numpy() к типу numpy.array\n",
    "    embeddings.append(batch_embeddings[0][:,0,:].cpu().numpy())\n",
    "\n",
    "features = pd.DataFrame(np.concatenate(embeddings))\n",
    "\n",
    "features.to_csv(f'../data/embedded_3_in_1_no_lemma', index=False)"
   ],
   "metadata": {
    "collapsed": false,
    "pycharm": {
     "name": "#%%\n"
    }
   }
  },
  {
   "cell_type": "code",
   "execution_count": 13,
   "outputs": [
    {
     "data": {
      "text/plain": "          0         1         2         3         4         5         6  \\\n0  0.119271  0.136464 -0.008355  0.026413  0.099878  0.022849 -0.137604   \n1  0.438349 -0.415116  0.852780 -0.137081 -0.502088  0.008114 -0.632642   \n2  0.065119  0.017991  0.075553 -0.028850  0.134829  0.002659  0.054221   \n3  0.018086 -0.016375  0.492378 -0.407476 -0.094135 -0.257374 -0.079157   \n4  0.177492  0.092044  0.084529 -0.081504  0.267774  0.140675 -0.129266   \n\n          7         8         9  ...       758       759       760       761  \\\n0  0.196135  0.130590  0.283869  ...  0.015723  0.044034 -0.101652 -0.010436   \n1 -0.282202 -0.164272 -0.228508  ...  0.223047  0.003482 -0.434830 -0.219574   \n2  0.103911  0.126278  0.249699  ...  0.001731  0.025728 -0.057699  0.003478   \n3  0.205838 -0.196295 -0.033481  ...  0.098162 -0.044465 -0.297261 -0.297032   \n4  0.110915  0.396590  0.027469  ... -0.055115  0.156429  0.088761  0.140440   \n\n        762       763       764       765       766       767  \n0 -0.073420  0.046543  0.078297 -0.060893  0.071176 -0.126580  \n1 -0.037204  0.345793 -0.080911  0.495437  0.500580  0.012712  \n2  0.028238  0.210666 -0.004904  0.004242  0.091198 -0.197050  \n3 -0.079317 -0.214961  0.618069  0.343269 -0.123517 -0.134644  \n4 -0.070732  0.089746  0.000989 -0.047724  0.266879 -0.184299  \n\n[5 rows x 768 columns]",
      "text/html": "<div>\n<style scoped>\n    .dataframe tbody tr th:only-of-type {\n        vertical-align: middle;\n    }\n\n    .dataframe tbody tr th {\n        vertical-align: top;\n    }\n\n    .dataframe thead th {\n        text-align: right;\n    }\n</style>\n<table border=\"1\" class=\"dataframe\">\n  <thead>\n    <tr style=\"text-align: right;\">\n      <th></th>\n      <th>0</th>\n      <th>1</th>\n      <th>2</th>\n      <th>3</th>\n      <th>4</th>\n      <th>5</th>\n      <th>6</th>\n      <th>7</th>\n      <th>8</th>\n      <th>9</th>\n      <th>...</th>\n      <th>758</th>\n      <th>759</th>\n      <th>760</th>\n      <th>761</th>\n      <th>762</th>\n      <th>763</th>\n      <th>764</th>\n      <th>765</th>\n      <th>766</th>\n      <th>767</th>\n    </tr>\n  </thead>\n  <tbody>\n    <tr>\n      <th>0</th>\n      <td>0.119271</td>\n      <td>0.136464</td>\n      <td>-0.008355</td>\n      <td>0.026413</td>\n      <td>0.099878</td>\n      <td>0.022849</td>\n      <td>-0.137604</td>\n      <td>0.196135</td>\n      <td>0.130590</td>\n      <td>0.283869</td>\n      <td>...</td>\n      <td>0.015723</td>\n      <td>0.044034</td>\n      <td>-0.101652</td>\n      <td>-0.010436</td>\n      <td>-0.073420</td>\n      <td>0.046543</td>\n      <td>0.078297</td>\n      <td>-0.060893</td>\n      <td>0.071176</td>\n      <td>-0.126580</td>\n    </tr>\n    <tr>\n      <th>1</th>\n      <td>0.438349</td>\n      <td>-0.415116</td>\n      <td>0.852780</td>\n      <td>-0.137081</td>\n      <td>-0.502088</td>\n      <td>0.008114</td>\n      <td>-0.632642</td>\n      <td>-0.282202</td>\n      <td>-0.164272</td>\n      <td>-0.228508</td>\n      <td>...</td>\n      <td>0.223047</td>\n      <td>0.003482</td>\n      <td>-0.434830</td>\n      <td>-0.219574</td>\n      <td>-0.037204</td>\n      <td>0.345793</td>\n      <td>-0.080911</td>\n      <td>0.495437</td>\n      <td>0.500580</td>\n      <td>0.012712</td>\n    </tr>\n    <tr>\n      <th>2</th>\n      <td>0.065119</td>\n      <td>0.017991</td>\n      <td>0.075553</td>\n      <td>-0.028850</td>\n      <td>0.134829</td>\n      <td>0.002659</td>\n      <td>0.054221</td>\n      <td>0.103911</td>\n      <td>0.126278</td>\n      <td>0.249699</td>\n      <td>...</td>\n      <td>0.001731</td>\n      <td>0.025728</td>\n      <td>-0.057699</td>\n      <td>0.003478</td>\n      <td>0.028238</td>\n      <td>0.210666</td>\n      <td>-0.004904</td>\n      <td>0.004242</td>\n      <td>0.091198</td>\n      <td>-0.197050</td>\n    </tr>\n    <tr>\n      <th>3</th>\n      <td>0.018086</td>\n      <td>-0.016375</td>\n      <td>0.492378</td>\n      <td>-0.407476</td>\n      <td>-0.094135</td>\n      <td>-0.257374</td>\n      <td>-0.079157</td>\n      <td>0.205838</td>\n      <td>-0.196295</td>\n      <td>-0.033481</td>\n      <td>...</td>\n      <td>0.098162</td>\n      <td>-0.044465</td>\n      <td>-0.297261</td>\n      <td>-0.297032</td>\n      <td>-0.079317</td>\n      <td>-0.214961</td>\n      <td>0.618069</td>\n      <td>0.343269</td>\n      <td>-0.123517</td>\n      <td>-0.134644</td>\n    </tr>\n    <tr>\n      <th>4</th>\n      <td>0.177492</td>\n      <td>0.092044</td>\n      <td>0.084529</td>\n      <td>-0.081504</td>\n      <td>0.267774</td>\n      <td>0.140675</td>\n      <td>-0.129266</td>\n      <td>0.110915</td>\n      <td>0.396590</td>\n      <td>0.027469</td>\n      <td>...</td>\n      <td>-0.055115</td>\n      <td>0.156429</td>\n      <td>0.088761</td>\n      <td>0.140440</td>\n      <td>-0.070732</td>\n      <td>0.089746</td>\n      <td>0.000989</td>\n      <td>-0.047724</td>\n      <td>0.266879</td>\n      <td>-0.184299</td>\n    </tr>\n  </tbody>\n</table>\n<p>5 rows × 768 columns</p>\n</div>"
     },
     "execution_count": 13,
     "metadata": {},
     "output_type": "execute_result"
    }
   ],
   "source": [
    "embedded_description.head()"
   ],
   "metadata": {
    "collapsed": false,
    "pycharm": {
     "name": "#%%\n"
    }
   }
  }
 ],
 "metadata": {
  "kernelspec": {
   "display_name": "Python 3",
   "language": "python",
   "name": "python3"
  },
  "language_info": {
   "codemirror_mode": {
    "name": "ipython",
    "version": 2
   },
   "file_extension": ".py",
   "mimetype": "text/x-python",
   "name": "python",
   "nbconvert_exporter": "python",
   "pygments_lexer": "ipython2",
   "version": "2.7.6"
  }
 },
 "nbformat": 4,
 "nbformat_minor": 0
}