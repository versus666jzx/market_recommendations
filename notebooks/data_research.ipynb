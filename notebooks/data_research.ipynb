{
 "cells": [
  {
   "cell_type": "code",
   "execution_count": 57,
   "metadata": {
    "collapsed": true,
    "pycharm": {
     "name": "#%%\n"
    }
   },
   "outputs": [],
   "source": [
    "from time import sleep\n",
    "from queue import Queue\n",
    "from threading import Thread\n",
    "\n",
    "import requests\n",
    "\n",
    "import re\n",
    "import string\n",
    "\n",
    "import pandas as pd\n",
    "import numpy as np\n",
    "\n",
    "import transformers\n",
    "import torch\n",
    "\n",
    "from nltk import WordNetLemmatizer\n",
    "\n",
    "import faiss\n",
    "\n",
    "from tqdm.notebook import tqdm\n",
    "\n",
    "from fake_useragent import UserAgent"
   ]
  },
  {
   "cell_type": "markdown",
   "source": [
    "# Загрузка и подготовка данных"
   ],
   "metadata": {
    "collapsed": false,
    "pycharm": {
     "name": "#%% md\n"
    }
   }
  },
  {
   "cell_type": "code",
   "execution_count": 3,
   "outputs": [
    {
     "name": "stderr",
     "output_type": "stream",
     "text": [
      "C:\\Users\\HardWorkingStation\\AppData\\Local\\Temp\\ipykernel_20168\\1082297049.py:1: DtypeWarning: Columns (18) have mixed types. Specify dtype option on import or set low_memory=False.\n",
      "  data = pd.read_csv('../data/products.csv')\n"
     ]
    },
    {
     "name": "stdout",
     "output_type": "stream",
     "text": [
      "<class 'pandas.core.frame.DataFrame'>\n",
      "Int64Index: 40559 entries, 0 to 40579\n",
      "Data columns (total 28 columns):\n",
      " #   Column               Non-Null Count  Dtype  \n",
      "---  ------               --------------  -----  \n",
      " 0   id                   40559 non-null  int64  \n",
      " 1   sku                  40559 non-null  object \n",
      " 2   name                 40559 non-null  object \n",
      " 3   brand                40559 non-null  object \n",
      " 4   brand_type           40559 non-null  object \n",
      " 5   dimension17          37838 non-null  object \n",
      " 6   dimension18          39810 non-null  object \n",
      " 7   dimension19          9360 non-null   object \n",
      " 8   dimension20          9841 non-null   object \n",
      " 9   country              34488 non-null  object \n",
      " 10  price                40559 non-null  int64  \n",
      " 11  currency             0 non-null      float64\n",
      " 12  old_price            40559 non-null  int64  \n",
      " 13  category_type        40555 non-null  object \n",
      " 14  url                  40559 non-null  object \n",
      " 15  images               40559 non-null  object \n",
      " 16  type                 40559 non-null  object \n",
      " 17  volume               36612 non-null  object \n",
      " 18  main_product_sku     40559 non-null  object \n",
      " 19  main_product_id      40559 non-null  int64  \n",
      " 20  best_loyality_price  0 non-null      float64\n",
      " 21  dimension29          40559 non-null  bool   \n",
      " 22  dimension28          40559 non-null  bool   \n",
      " 23  description          33675 non-null  object \n",
      " 24  product_usage        34341 non-null  object \n",
      " 25  product_composition  27456 non-null  object \n",
      " 26  category             40559 non-null  object \n",
      " 27  category_ru          40559 non-null  object \n",
      "dtypes: bool(2), float64(2), int64(4), object(20)\n",
      "memory usage: 8.4+ MB\n"
     ]
    }
   ],
   "source": [
    "data = pd.read_csv('../data/products.csv')\n",
    "data = data.drop_duplicates()\n",
    "tokenizer = transformers.BertTokenizer('../model/vocab.txt')\n",
    "try:\n",
    "\tembedded_description = pd.read_csv('../data/embedded_description')\n",
    "\tembedded_product_composition = pd.read_csv('../data/embedded_product_composition')\n",
    "\tembedded_product_usage = pd.read_csv('../data/embedded_product_usage')\n",
    "\tembedded_3_in_1 = pd.read_csv('../data/embedded_3_in_1')\n",
    "except:\n",
    "\tpass\n",
    "\n",
    "# model_class, tokenizer_class, pretrained_weights = (transformers.DistilBertModel,\n",
    "\t\t\t\t\t\t\t\t\t\t\t\t\t# transformers.DistilBertTokenizer,\n",
    "\t\t\t\t\t\t\t\t\t\t\t\t\t# 'distilbert-base-uncased')\n",
    "\n",
    "data.info()"
   ],
   "metadata": {
    "collapsed": false,
    "pycharm": {
     "name": "#%%\n"
    }
   }
  },
  {
   "cell_type": "markdown",
   "source": [
    "Один товар может принадлежать нескольким категориям. Если бы у нас была информация о популярности товаров в той или иной категории, то можно было бы удалить товары из категорий, где они не пользуются спросом. Но т.к. такой информации у нас нет, просто удалим такие товары-дубликаты."
   ],
   "metadata": {
    "collapsed": false,
    "pycharm": {
     "name": "#%% md\n"
    }
   }
  },
  {
   "cell_type": "code",
   "execution_count": 4,
   "outputs": [
    {
     "data": {
      "text/plain": "'Данных до удаления: (40559, 28)'"
     },
     "metadata": {},
     "output_type": "display_data"
    },
    {
     "data": {
      "text/plain": "'Данных после удаления: (34002, 28)'"
     },
     "metadata": {},
     "output_type": "display_data"
    }
   ],
   "source": [
    "index_to_del = data[data.drop(['category', 'category_ru'], axis=1).duplicated()].index\n",
    "display(f'Данных до удаления: {data.shape}')\n",
    "data = data.drop(index_to_del)\n",
    "display(f'Данных после удаления: {data.shape}')"
   ],
   "metadata": {
    "collapsed": false,
    "pycharm": {
     "name": "#%%\n"
    }
   }
  },
  {
   "cell_type": "code",
   "execution_count": 5,
   "outputs": [],
   "source": [
    "def text_processing(text: str) -> str:\n",
    "\t# оставляем пропуски без изменений\n",
    "\tif text is np.nan:\n",
    "\t\treturn np.nan\n",
    "\t# приводим текст к нижнему регистру\n",
    "\ttext = text.lower()\n",
    "\t# заменяем символы и знаки пунктуации\n",
    "\ttext = re.sub('\\(.*?\\)', '', text)\n",
    "\ttrans_dict = str.maketrans('', '', string.punctuation)\n",
    "\ttext = text.translate(trans_dict)\n",
    "\t# избавляемся от лишних пробелов\n",
    "\ttext = ' '.join(text.split())\n",
    "\n",
    "\treturn text"
   ],
   "metadata": {
    "collapsed": false,
    "pycharm": {
     "name": "#%%\n"
    }
   }
  },
  {
   "cell_type": "code",
   "execution_count": 6,
   "outputs": [
    {
     "data": {
      "text/plain": "       id          sku                        name      brand brand_type  \\\n0  203730  19000039636                         03    Ecooking   standard   \n1  229474  19000031882                Anti-stress   Botavikos   standard   \n2  229480  19000031888                     Dry oil  Botavikos   standard   \n3  200485  19000046442               Catnip Chaser  Petstages   standard   \n4  202556  19000025382  SALT FACIAL SCRUB ORIGINAL    Kosette   standard   \n\n            dimension17 dimension18           dimension19 dimension20 country  \\\n0           Жидкое мыло     Унисекс                   NaN         NaN   Дания   \n1             Сыворотки     Женский  Увлажнение и питание        Лицо  Россия   \n2                 Масло     Женский                   NaN        Лицо  Россия   \n3  игрушка для животных         NaN                   NaN         NaN     США   \n4                 Скраб     Унисекс              Очищение        Лицо     NaN   \n\n   ...  main_product_sku  main_product_id  best_loyality_price dimension29  \\\n0  ...       19000039636           203730                  NaN       False   \n1  ...       19000031882           229474                  NaN       False   \n2  ...       19000031888           229480                  NaN       False   \n3  ...       19000046442           200485                  NaN       False   \n4  ...       19000025382           202556                  NaN       False   \n\n  dimension28                                        description  \\\n0       False                                        нежное мыло   \n1       False  • пробуждает внутреннюю энергию клеток создава...   \n2       False                                           действие   \n3       False  игрушка трек с пластиковым мячиком тубом кошач...   \n4        True                                       нежный скраб   \n\n                                       product_usage  \\\n0  намочите руки нанесите на них мыло очистите ру...   \n1  равномерно распределите на коже когда чувствуе...   \n2  встряхните перед использованием и распылите ма...   \n3  подбирайте игрушки в соответствии с весом и дв...   \n4  нанесите на чистую и влажную кожу затем аккура...   \n\n                                 product_composition               category  \\\n0  aqua sodium laureth sulfate cocamidopropyl bet...               organika   \n1  aqua niacinamide glycerin gluconolactone xanth...               organika   \n2  capryliccapric triglyceride olea europaea frui...               organika   \n3                                            пластик  tovary-dlja-zhivotnyh   \n4  glycerin sea salt water silica cocoglucoside s...                  azija   \n\n           category_ru  \n0             органика  \n1             органика  \n2             органика  \n3  товары для животных  \n4                 азия  \n\n[5 rows x 28 columns]",
      "text/html": "<div>\n<style scoped>\n    .dataframe tbody tr th:only-of-type {\n        vertical-align: middle;\n    }\n\n    .dataframe tbody tr th {\n        vertical-align: top;\n    }\n\n    .dataframe thead th {\n        text-align: right;\n    }\n</style>\n<table border=\"1\" class=\"dataframe\">\n  <thead>\n    <tr style=\"text-align: right;\">\n      <th></th>\n      <th>id</th>\n      <th>sku</th>\n      <th>name</th>\n      <th>brand</th>\n      <th>brand_type</th>\n      <th>dimension17</th>\n      <th>dimension18</th>\n      <th>dimension19</th>\n      <th>dimension20</th>\n      <th>country</th>\n      <th>...</th>\n      <th>main_product_sku</th>\n      <th>main_product_id</th>\n      <th>best_loyality_price</th>\n      <th>dimension29</th>\n      <th>dimension28</th>\n      <th>description</th>\n      <th>product_usage</th>\n      <th>product_composition</th>\n      <th>category</th>\n      <th>category_ru</th>\n    </tr>\n  </thead>\n  <tbody>\n    <tr>\n      <th>0</th>\n      <td>203730</td>\n      <td>19000039636</td>\n      <td>03</td>\n      <td>Ecooking</td>\n      <td>standard</td>\n      <td>Жидкое мыло</td>\n      <td>Унисекс</td>\n      <td>NaN</td>\n      <td>NaN</td>\n      <td>Дания</td>\n      <td>...</td>\n      <td>19000039636</td>\n      <td>203730</td>\n      <td>NaN</td>\n      <td>False</td>\n      <td>False</td>\n      <td>нежное мыло</td>\n      <td>намочите руки нанесите на них мыло очистите ру...</td>\n      <td>aqua sodium laureth sulfate cocamidopropyl bet...</td>\n      <td>organika</td>\n      <td>органика</td>\n    </tr>\n    <tr>\n      <th>1</th>\n      <td>229474</td>\n      <td>19000031882</td>\n      <td>Anti-stress</td>\n      <td>Botavikos</td>\n      <td>standard</td>\n      <td>Сыворотки</td>\n      <td>Женский</td>\n      <td>Увлажнение и питание</td>\n      <td>Лицо</td>\n      <td>Россия</td>\n      <td>...</td>\n      <td>19000031882</td>\n      <td>229474</td>\n      <td>NaN</td>\n      <td>False</td>\n      <td>False</td>\n      <td>• пробуждает внутреннюю энергию клеток создава...</td>\n      <td>равномерно распределите на коже когда чувствуе...</td>\n      <td>aqua niacinamide glycerin gluconolactone xanth...</td>\n      <td>organika</td>\n      <td>органика</td>\n    </tr>\n    <tr>\n      <th>2</th>\n      <td>229480</td>\n      <td>19000031888</td>\n      <td>Dry oil</td>\n      <td>Botavikos</td>\n      <td>standard</td>\n      <td>Масло</td>\n      <td>Женский</td>\n      <td>NaN</td>\n      <td>Лицо</td>\n      <td>Россия</td>\n      <td>...</td>\n      <td>19000031888</td>\n      <td>229480</td>\n      <td>NaN</td>\n      <td>False</td>\n      <td>False</td>\n      <td>действие</td>\n      <td>встряхните перед использованием и распылите ма...</td>\n      <td>capryliccapric triglyceride olea europaea frui...</td>\n      <td>organika</td>\n      <td>органика</td>\n    </tr>\n    <tr>\n      <th>3</th>\n      <td>200485</td>\n      <td>19000046442</td>\n      <td>Catnip Chaser</td>\n      <td>Petstages</td>\n      <td>standard</td>\n      <td>игрушка для животных</td>\n      <td>NaN</td>\n      <td>NaN</td>\n      <td>NaN</td>\n      <td>США</td>\n      <td>...</td>\n      <td>19000046442</td>\n      <td>200485</td>\n      <td>NaN</td>\n      <td>False</td>\n      <td>False</td>\n      <td>игрушка трек с пластиковым мячиком тубом кошач...</td>\n      <td>подбирайте игрушки в соответствии с весом и дв...</td>\n      <td>пластик</td>\n      <td>tovary-dlja-zhivotnyh</td>\n      <td>товары для животных</td>\n    </tr>\n    <tr>\n      <th>4</th>\n      <td>202556</td>\n      <td>19000025382</td>\n      <td>SALT FACIAL SCRUB ORIGINAL</td>\n      <td>Kosette</td>\n      <td>standard</td>\n      <td>Скраб</td>\n      <td>Унисекс</td>\n      <td>Очищение</td>\n      <td>Лицо</td>\n      <td>NaN</td>\n      <td>...</td>\n      <td>19000025382</td>\n      <td>202556</td>\n      <td>NaN</td>\n      <td>False</td>\n      <td>True</td>\n      <td>нежный скраб</td>\n      <td>нанесите на чистую и влажную кожу затем аккура...</td>\n      <td>glycerin sea salt water silica cocoglucoside s...</td>\n      <td>azija</td>\n      <td>азия</td>\n    </tr>\n  </tbody>\n</table>\n<p>5 rows × 28 columns</p>\n</div>"
     },
     "execution_count": 6,
     "metadata": {},
     "output_type": "execute_result"
    }
   ],
   "source": [
    "text_columns = ['description', 'product_usage', 'product_composition']\n",
    "\n",
    "for column in text_columns:\n",
    "\tdata[column] = data[column].apply(text_processing)\n",
    "\n",
    "data.head()"
   ],
   "metadata": {
    "collapsed": false,
    "pycharm": {
     "name": "#%%\n"
    }
   }
  },
  {
   "cell_type": "code",
   "execution_count": 7,
   "outputs": [],
   "source": [
    "def lower(text: str) -> str:\n",
    "\tif text is np.nan:\n",
    "\t\treturn np.nan\n",
    "\treturn text.lower()"
   ],
   "metadata": {
    "collapsed": false,
    "pycharm": {
     "name": "#%%\n"
    }
   }
  },
  {
   "cell_type": "code",
   "execution_count": 8,
   "outputs": [
    {
     "data": {
      "text/plain": "       id          sku                        name      brand brand_type  \\\n0  203730  19000039636                         03    ecooking   standard   \n1  229474  19000031882                anti-stress   botavikos   standard   \n2  229480  19000031888                     dry oil  botavikos   standard   \n3  200485  19000046442               catnip chaser  petstages   standard   \n4  202556  19000025382  salt facial scrub original    kosette   standard   \n\n            dimension17 dimension18           dimension19 dimension20 country  \\\n0           жидкое мыло     унисекс                   NaN         NaN   дания   \n1             сыворотки     женский  увлажнение и питание        лицо  россия   \n2                 масло     женский                   NaN        лицо  россия   \n3  игрушка для животных         NaN                   NaN         NaN     сша   \n4                 скраб     унисекс              очищение        лицо     NaN   \n\n   ...  main_product_sku  main_product_id  best_loyality_price dimension29  \\\n0  ...       19000039636           203730                  NaN       False   \n1  ...       19000031882           229474                  NaN       False   \n2  ...       19000031888           229480                  NaN       False   \n3  ...       19000046442           200485                  NaN       False   \n4  ...       19000025382           202556                  NaN       False   \n\n  dimension28                                        description  \\\n0       False                                        нежное мыло   \n1       False  • пробуждает внутреннюю энергию клеток создава...   \n2       False                                           действие   \n3       False  игрушка трек с пластиковым мячиком тубом кошач...   \n4        True                                       нежный скраб   \n\n                                       product_usage  \\\n0  намочите руки нанесите на них мыло очистите ру...   \n1  равномерно распределите на коже когда чувствуе...   \n2  встряхните перед использованием и распылите ма...   \n3  подбирайте игрушки в соответствии с весом и дв...   \n4  нанесите на чистую и влажную кожу затем аккура...   \n\n                                 product_composition               category  \\\n0  aqua sodium laureth sulfate cocamidopropyl bet...               organika   \n1  aqua niacinamide glycerin gluconolactone xanth...               organika   \n2  capryliccapric triglyceride olea europaea frui...               organika   \n3                                            пластик  tovary-dlja-zhivotnyh   \n4  glycerin sea salt water silica cocoglucoside s...                  azija   \n\n           category_ru  \n0             органика  \n1             органика  \n2             органика  \n3  товары для животных  \n4                 азия  \n\n[5 rows x 28 columns]",
      "text/html": "<div>\n<style scoped>\n    .dataframe tbody tr th:only-of-type {\n        vertical-align: middle;\n    }\n\n    .dataframe tbody tr th {\n        vertical-align: top;\n    }\n\n    .dataframe thead th {\n        text-align: right;\n    }\n</style>\n<table border=\"1\" class=\"dataframe\">\n  <thead>\n    <tr style=\"text-align: right;\">\n      <th></th>\n      <th>id</th>\n      <th>sku</th>\n      <th>name</th>\n      <th>brand</th>\n      <th>brand_type</th>\n      <th>dimension17</th>\n      <th>dimension18</th>\n      <th>dimension19</th>\n      <th>dimension20</th>\n      <th>country</th>\n      <th>...</th>\n      <th>main_product_sku</th>\n      <th>main_product_id</th>\n      <th>best_loyality_price</th>\n      <th>dimension29</th>\n      <th>dimension28</th>\n      <th>description</th>\n      <th>product_usage</th>\n      <th>product_composition</th>\n      <th>category</th>\n      <th>category_ru</th>\n    </tr>\n  </thead>\n  <tbody>\n    <tr>\n      <th>0</th>\n      <td>203730</td>\n      <td>19000039636</td>\n      <td>03</td>\n      <td>ecooking</td>\n      <td>standard</td>\n      <td>жидкое мыло</td>\n      <td>унисекс</td>\n      <td>NaN</td>\n      <td>NaN</td>\n      <td>дания</td>\n      <td>...</td>\n      <td>19000039636</td>\n      <td>203730</td>\n      <td>NaN</td>\n      <td>False</td>\n      <td>False</td>\n      <td>нежное мыло</td>\n      <td>намочите руки нанесите на них мыло очистите ру...</td>\n      <td>aqua sodium laureth sulfate cocamidopropyl bet...</td>\n      <td>organika</td>\n      <td>органика</td>\n    </tr>\n    <tr>\n      <th>1</th>\n      <td>229474</td>\n      <td>19000031882</td>\n      <td>anti-stress</td>\n      <td>botavikos</td>\n      <td>standard</td>\n      <td>сыворотки</td>\n      <td>женский</td>\n      <td>увлажнение и питание</td>\n      <td>лицо</td>\n      <td>россия</td>\n      <td>...</td>\n      <td>19000031882</td>\n      <td>229474</td>\n      <td>NaN</td>\n      <td>False</td>\n      <td>False</td>\n      <td>• пробуждает внутреннюю энергию клеток создава...</td>\n      <td>равномерно распределите на коже когда чувствуе...</td>\n      <td>aqua niacinamide glycerin gluconolactone xanth...</td>\n      <td>organika</td>\n      <td>органика</td>\n    </tr>\n    <tr>\n      <th>2</th>\n      <td>229480</td>\n      <td>19000031888</td>\n      <td>dry oil</td>\n      <td>botavikos</td>\n      <td>standard</td>\n      <td>масло</td>\n      <td>женский</td>\n      <td>NaN</td>\n      <td>лицо</td>\n      <td>россия</td>\n      <td>...</td>\n      <td>19000031888</td>\n      <td>229480</td>\n      <td>NaN</td>\n      <td>False</td>\n      <td>False</td>\n      <td>действие</td>\n      <td>встряхните перед использованием и распылите ма...</td>\n      <td>capryliccapric triglyceride olea europaea frui...</td>\n      <td>organika</td>\n      <td>органика</td>\n    </tr>\n    <tr>\n      <th>3</th>\n      <td>200485</td>\n      <td>19000046442</td>\n      <td>catnip chaser</td>\n      <td>petstages</td>\n      <td>standard</td>\n      <td>игрушка для животных</td>\n      <td>NaN</td>\n      <td>NaN</td>\n      <td>NaN</td>\n      <td>сша</td>\n      <td>...</td>\n      <td>19000046442</td>\n      <td>200485</td>\n      <td>NaN</td>\n      <td>False</td>\n      <td>False</td>\n      <td>игрушка трек с пластиковым мячиком тубом кошач...</td>\n      <td>подбирайте игрушки в соответствии с весом и дв...</td>\n      <td>пластик</td>\n      <td>tovary-dlja-zhivotnyh</td>\n      <td>товары для животных</td>\n    </tr>\n    <tr>\n      <th>4</th>\n      <td>202556</td>\n      <td>19000025382</td>\n      <td>salt facial scrub original</td>\n      <td>kosette</td>\n      <td>standard</td>\n      <td>скраб</td>\n      <td>унисекс</td>\n      <td>очищение</td>\n      <td>лицо</td>\n      <td>NaN</td>\n      <td>...</td>\n      <td>19000025382</td>\n      <td>202556</td>\n      <td>NaN</td>\n      <td>False</td>\n      <td>True</td>\n      <td>нежный скраб</td>\n      <td>нанесите на чистую и влажную кожу затем аккура...</td>\n      <td>glycerin sea salt water silica cocoglucoside s...</td>\n      <td>azija</td>\n      <td>азия</td>\n    </tr>\n  </tbody>\n</table>\n<p>5 rows × 28 columns</p>\n</div>"
     },
     "execution_count": 8,
     "metadata": {},
     "output_type": "execute_result"
    }
   ],
   "source": [
    "columns_to_lower = ['name', 'brand', 'dimension17', 'dimension18', 'dimension19', 'dimension20', 'country', 'category_type']\n",
    "\n",
    "for column in columns_to_lower:\n",
    "\tdata[column] = data[column].apply(lower)\n",
    "\n",
    "data.head()"
   ],
   "metadata": {
    "collapsed": false,
    "pycharm": {
     "name": "#%%\n"
    }
   }
  },
  {
   "cell_type": "markdown",
   "source": [
    "Уберем лишние знаки из ссылок с изображениями"
   ],
   "metadata": {
    "collapsed": false,
    "pycharm": {
     "name": "#%% md\n"
    }
   }
  },
  {
   "cell_type": "code",
   "execution_count": null,
   "outputs": [],
   "source": [
    "def url_processing(text: str) -> str:\n",
    "\treturn text.replace('\"', '').replace('\\'', '').replace('[', '').replace(']', '')\n",
    "\n",
    "data['images'] = data['images'].apply(url_processing)"
   ],
   "metadata": {
    "collapsed": false,
    "pycharm": {
     "name": "#%%\n"
    }
   }
  },
  {
   "cell_type": "markdown",
   "source": [
    "# Генерация эмбеддингов"
   ],
   "metadata": {
    "collapsed": false,
    "pycharm": {
     "name": "#%% md\n"
    }
   }
  },
  {
   "cell_type": "code",
   "execution_count": null,
   "outputs": [],
   "source": [
    "def lemmatization(data):\n",
    "\tif data is np.nan:\n",
    "\t\treturn ''\n",
    "\treturn ' '.join([WordNetLemmatizer().lemmatize(word) for word in data.split()])"
   ],
   "metadata": {
    "collapsed": false,
    "pycharm": {
     "name": "#%%\n"
    }
   }
  },
  {
   "cell_type": "markdown",
   "source": [
    "Загрузим RuBERT для генерации эмбеддингов"
   ],
   "metadata": {
    "collapsed": false,
    "pycharm": {
     "name": "#%% md\n"
    }
   }
  },
  {
   "cell_type": "code",
   "execution_count": 9,
   "outputs": [
    {
     "name": "stderr",
     "output_type": "stream",
     "text": [
      "Some weights of the model checkpoint at ../model/pytorch_model.bin were not used when initializing BertModel: ['cls.predictions.transform.dense.bias', 'cls.seq_relationship.weight', 'cls.predictions.transform.LayerNorm.weight', 'cls.predictions.bias', 'cls.predictions.transform.LayerNorm.bias', 'cls.seq_relationship.bias', 'cls.predictions.decoder.weight', 'cls.predictions.transform.dense.weight']\n",
      "- This IS expected if you are initializing BertModel from the checkpoint of a model trained on another task or with another architecture (e.g. initializing a BertForSequenceClassification model from a BertForPreTraining model).\n",
      "- This IS NOT expected if you are initializing BertModel from the checkpoint of a model that you expect to be exactly identical (initializing a BertForSequenceClassification model from a BertForSequenceClassification model).\n"
     ]
    }
   ],
   "source": [
    "config = transformers.BertConfig.from_json_file(\n",
    "\t'../model/bert_config.json')\n",
    "model = transformers.BertModel.from_pretrained(\n",
    "\t'../model/pytorch_model.bin', config=config).to('cuda:0')"
   ],
   "metadata": {
    "collapsed": false,
    "pycharm": {
     "name": "#%%\n"
    }
   }
  },
  {
   "cell_type": "code",
   "execution_count": 10,
   "outputs": [
    {
     "name": "stderr",
     "output_type": "stream",
     "text": [
      "Truncation was not explicitly activated but `max_length` is provided a specific value, please use `truncation=True` to explicitly truncate examples to max length. Defaulting to 'longest_first' truncation strategy. If you encode pairs of sequences (GLUE-style) with the tokenizer you can select this strategy more precisely by providing a specific strategy to `truncation`.\n"
     ]
    },
    {
     "data": {
      "text/plain": "  0%|          | 0/34002 [00:00<?, ?it/s]",
      "application/vnd.jupyter.widget-view+json": {
       "version_major": 2,
       "version_minor": 0,
       "model_id": "8cc9c8b40d0d4f75bcc0a35284d5256e"
      }
     },
     "metadata": {},
     "output_type": "display_data"
    },
    {
     "data": {
      "text/plain": "  0%|          | 0/34002 [00:00<?, ?it/s]",
      "application/vnd.jupyter.widget-view+json": {
       "version_major": 2,
       "version_minor": 0,
       "model_id": "335ff0515ae74dcfb7dcb34b66e99e4b"
      }
     },
     "metadata": {},
     "output_type": "display_data"
    },
    {
     "data": {
      "text/plain": "  0%|          | 0/34002 [00:00<?, ?it/s]",
      "application/vnd.jupyter.widget-view+json": {
       "version_major": 2,
       "version_minor": 0,
       "model_id": "ccfde3ca0af243b3961bfcd2c6d4f4b9"
      }
     },
     "metadata": {},
     "output_type": "display_data"
    }
   ],
   "source": [
    "batch_size = 1\n",
    "\n",
    "for column in text_columns:\n",
    "\ttext = data[column].fillna('')\n",
    "\t# lemmas = data[column].apply(lemmatization)\n",
    "\tvector = text.apply(lambda x: tokenizer.encode(x, add_special_tokens=True, max_length=512))\n",
    "\t# применим padding к векторам\n",
    "\tn = len(max(vector, key=len))\n",
    "\t# англ. вектор с отступами\n",
    "\tpadded = np.array([i + [0]*(n - len(i)) for i in vector.values])\n",
    "\n",
    "\t# создадим маску для важных токенов\n",
    "\tattention_mask = np.where(padded != 0, 1, 0)\n",
    "\n",
    "\tembeddings = []\n",
    "\tfor i in tqdm(range(padded.shape[0] // batch_size)):\n",
    "\t\t# преобразуем данные\n",
    "\t\tbatch = torch.LongTensor(padded[batch_size*i : batch_size*(i+1)]).to('cuda:0')\n",
    "\t\t# преобразуем маску\n",
    "\t\tattention_mask_batch = torch.LongTensor(attention_mask[batch_size*i : batch_size*(i+1)]).to('cuda:0')\n",
    "\t\twith torch.no_grad():\n",
    "\t\t\tbatch_embeddings = model(batch, attention_mask=attention_mask_batch)\n",
    "\n",
    "\t\t# преобразуем элементы методом numpy() к типу numpy.array\n",
    "\t\tembeddings.append(batch_embeddings[0][:,0,:].cpu().numpy())\n",
    "\n",
    "\tfeatures = pd.DataFrame(np.concatenate(embeddings))\n",
    "\tfeatures.to_csv(f'../data/embedded_{column}', index=False)\n"
   ],
   "metadata": {
    "collapsed": false,
    "pycharm": {
     "name": "#%%\n"
    }
   }
  },
  {
   "cell_type": "code",
   "execution_count": 11,
   "outputs": [
    {
     "data": {
      "text/plain": "  0%|          | 0/34002 [00:00<?, ?it/s]",
      "application/vnd.jupyter.widget-view+json": {
       "version_major": 2,
       "version_minor": 0,
       "model_id": "b168b54ddb85445a8b1719aaac97cac8"
      }
     },
     "metadata": {},
     "output_type": "display_data"
    }
   ],
   "source": [
    "batch_size = 1\n",
    "text = []\n",
    "# заменим пропуски в полях на пустую строку, для корректной генерации токенов\n",
    "for d, pu, pc in data[['description', 'product_usage', 'product_composition']].values:\n",
    "\tif d is np.nan:\n",
    "\t\td = ' '\n",
    "\tif pu is np.nan:\n",
    "\t\tpu = ' '\n",
    "\tif pc is np.nan:\n",
    "\t\tpc = ' '\n",
    "\ttext.append(d + pu + pc)\n",
    "\n",
    "data['3_in_1'] = text\n",
    "text = data['3_in_1'].fillna('')\n",
    "# lemmas = data['3_in_1'].apply(lemmatization)\n",
    "vector = text.apply(lambda x: tokenizer.encode(x, add_special_tokens=True, max_length=512))\n",
    "# применим padding к векторам\n",
    "n = len(max(vector, key=len))\n",
    "# англ. вектор с отступами\n",
    "padded = np.array([i + [0]*(n - len(i)) for i in vector.values])\n",
    "\n",
    "# создадим маску для важных токенов\n",
    "attention_mask = np.where(padded != 0, 1, 0)\n",
    "\n",
    "embeddings = []\n",
    "for i in tqdm(range(padded.shape[0] // batch_size)):\n",
    "\t# преобразуем данные\n",
    "\tbatch = torch.LongTensor(padded[batch_size*i : batch_size*(i+1)]).to('cuda:0')\n",
    "\t# преобразуем маску\n",
    "\tattention_mask_batch = torch.LongTensor(attention_mask[batch_size*i : batch_size*(i+1)]).to('cuda:0')\n",
    "\twith torch.no_grad():\n",
    "\t\tbatch_embeddings = model(batch, attention_mask=attention_mask_batch)\n",
    "\n",
    "\t# преобразуем элементы методом numpy() к типу numpy.array\n",
    "\tembeddings.append(batch_embeddings[0][:,0,:].cpu().numpy())\n",
    "\n",
    "features = pd.DataFrame(np.concatenate(embeddings))\n",
    "\n",
    "features.to_csv(f'../data/embedded_3_in_1', index=False)"
   ],
   "metadata": {
    "collapsed": false,
    "pycharm": {
     "name": "#%%\n"
    }
   }
  },
  {
   "cell_type": "markdown",
   "source": [
    "### Сформируем индексы faiss на основе эмбеддингов описания товаров"
   ],
   "metadata": {
    "collapsed": false,
    "pycharm": {
     "name": "#%% md\n"
    }
   }
  },
  {
   "cell_type": "code",
   "execution_count": 12,
   "outputs": [
    {
     "name": "stdout",
     "output_type": "stream",
     "text": [
      "0\n",
      "40559\n"
     ]
    }
   ],
   "source": [
    "index = faiss.IndexFlatL2(embedded_description.shape[1])\n",
    "print(index.ntotal)  # пока индекс пустой\n",
    "index.add(np.ascontiguousarray(embedded_description.to_numpy().astype('float32')))\n",
    "print(index.ntotal)  # теперь в нем n векторов"
   ],
   "metadata": {
    "collapsed": false,
    "pycharm": {
     "name": "#%%\n"
    }
   }
  },
  {
   "cell_type": "markdown",
   "source": [
    "Сохраним индексы в файл"
   ],
   "metadata": {
    "collapsed": false,
    "pycharm": {
     "name": "#%% md\n"
    }
   }
  },
  {
   "cell_type": "code",
   "execution_count": 13,
   "outputs": [],
   "source": [
    "faiss.write_index(index, 'faiss_description_index.index')"
   ],
   "metadata": {
    "collapsed": false,
    "pycharm": {
     "name": "#%%\n"
    }
   }
  },
  {
   "cell_type": "markdown",
   "source": [
    "Получим предсказания по индексам"
   ],
   "metadata": {
    "collapsed": false,
    "pycharm": {
     "name": "#%% md\n"
    }
   }
  },
  {
   "cell_type": "code",
   "execution_count": 14,
   "outputs": [
    {
     "name": "stdout",
     "output_type": "stream",
     "text": [
      "[6484 6483 6486 6485 6482 6480 6479 6488 6478 6489]\n",
      "[[ 0.       35.557343 47.900185 54.795876 56.23578  63.569435 66.96756\n",
      "  77.014984 77.81093  80.93413 ]]\n"
     ]
    }
   ],
   "source": [
    "topn = 10\n",
    "product_index_in_data = 6484\n",
    "distances, same_embedding_indexes = index.search(np.ascontiguousarray(embedded_description.to_numpy().astype('float32')[product_index_in_data].reshape((1, -1))), 10)\n",
    "print(same_embedding_indexes[0]) # индексы самых похожих векторов\n",
    "print(distances) # расстояния, отсортированные по убыванию"
   ],
   "metadata": {
    "collapsed": false,
    "pycharm": {
     "name": "#%%\n"
    }
   }
  },
  {
   "cell_type": "code",
   "execution_count": 19,
   "outputs": [
    {
     "data": {
      "text/plain": "          id                 sku  \\\n6965  163525   11879-19000009028   \n6964   40849               17752   \n6967  157834         19760343581   \n6966  188602         19000033979   \n6963  143062   10049-19760311514   \n6961  166256         19000008644   \n6960  183522         19000028926   \n6970  216994  101091-19000056470   \n6959  216698         19000056250   \n6971  205222         19000056712   \n\n                                                   name              brand  \\\n6965                                          cc water            erborian   \n6964                      time plus longlasting make up          seventeen   \n6967                                  драйв, бутылочный      бако текстиль   \n6966  essential amino energy + electrolytes tangerin...  optimum nutrition   \n6963                            color booster lip balm             artdeco   \n6961                                              lunar   influence beauty   \n6960               wrinkle reducer (red led) attachment             nuface   \n6970                             neopro bubblegum leash            zee.dog   \n6959                                neon coral keychain            zee.dog   \n6971                                       issa 3 black              foreo   \n\n     brand_type         dimension17 dimension18           dimension19  \\\n6965   standard     уходный праймер     унисекс                   NaN   \n6964   standard      тональный крем     женский                   NaN   \n6967   standard          косметички     женский                   NaN   \n6966   standard                 NaN     унисекс    спортивное питание   \n6963   standard             бальзам     женский  увлажнение и питание   \n6961   standard  пудровый хайлайтер     унисекс                   NaN   \n6960   standard            массажер     унисекс                   NaN   \n6970   standard             поводок         NaN                   NaN   \n6959   standard   брелок для ключей         NaN                   NaN   \n6971   standard        зубная щетка     унисекс              очищение   \n\n          dimension20      country  ...  main_product_id  best_loyality_price  \\\n6965              NaN  южная корея  ...           163524                  NaN   \n6964              NaN       греция  ...            40852                  NaN   \n6967              NaN          сша  ...           157834                  NaN   \n6966              NaN          NaN  ...           188602                  NaN   \n6963             губы     германия  ...           143059                  NaN   \n6961              NaN       россия  ...           166256                  NaN   \n6960              NaN          NaN  ...           183522                  NaN   \n6970              NaN          сша  ...           216993                  NaN   \n6959              NaN          сша  ...           216698                  NaN   \n6971  для полости рта       швеция  ...           205222                  NaN   \n\n      dimension29 dimension28  \\\n6965        False       False   \n6964        False       False   \n6967        False       False   \n6966        False       False   \n6963        False       False   \n6961        False       False   \n6960        False       False   \n6970        False       False   \n6959        False       False   \n6971        False       False   \n\n                                            description  \\\n6965  cc water крем для лица обогащенный экстрактом ...   \n6964                тональный крем длительного действия   \n6967  компактная косметичка выполнена из качественно...   \n6966  аминокислотный комплекс essential amino energy...   \n6963  питательный бальзам для губ color booster lip ...   \n6961  мельчайшие сияющие частицы разных оттенков соз...   \n6960  wrinkle reducer – насадка к устройству nuface®...   \n6970  коллекция neopro ™ — новейшая разработка zeedo...   \n6959  брелок для ключей собаковода это zeedog не бан...   \n6971  уход 4 в 1 для зубов десен языка и внутренней ...   \n\n                                          product_usage  \\\n6965  наносите крем тонким слоем как любое средство ...   \n6964  греческий бренд seventeen впервые появился на ...   \n6967  чистка сухая и влажная стирка — только в исклю...   \n6966                                         перорально   \n6963  нанесите бальзам на губы после нескольких прим...   \n6961  легко втушуйте хайлайтер пушистой кистью на вы...   \n6960  применение возможно только с устройством nufac...   \n6970  поводок размера s предназначен для собак от 5 ...   \n6959              универсальный брелок для любого ключа   \n6971                                   как пользоваться   \n\n                                    product_composition  \\\n6965  экстракт тигровой травы помогает успокоить кож...   \n6964                                                NaN   \n6967                                             кожзам   \n6966  вес 285 г количество порций 30 в 1 порции 95 г...   \n6963  ricinus communis seed oil diisostearyl malate ...   \n6961  mica hydrogenated polyisobutene talc silica tr...   \n6960  кэрол коул создатель nuface® начала свою карье...   \n6970  прозрачный матовый полимер с цветной стропой в...   \n6959  полиэстер термопластичная резина закаленная сталь   \n6971                                       комплектация   \n\n                   category          category_ru  \\\n6965            ini-formaty       тревел-форматы   \n6964               makijazh               макияж   \n6967   odezhda-i-aksessuary  одежда и аксессуары   \n6966              lajfstajl            лайфстайл   \n6963               makijazh               макияж   \n6961               makijazh               макияж   \n6960                tehnika              техника   \n6970  tovary-dlja-zhivotnyh  товары для животных   \n6959  tovary-dlja-zhivotnyh  товары для животных   \n6971                tehnika              техника   \n\n                                                 3_in_1  \n6965  cc water крем для лица обогащенный экстрактом ...  \n6964  тональный крем длительного действиягреческий б...  \n6967  компактная косметичка выполнена из качественно...  \n6966  аминокислотный комплекс essential amino energy...  \n6963  питательный бальзам для губ color booster lip ...  \n6961  мельчайшие сияющие частицы разных оттенков соз...  \n6960  wrinkle reducer – насадка к устройству nuface®...  \n6970  коллекция neopro ™ — новейшая разработка zeedo...  \n6959  брелок для ключей собаковода это zeedog не бан...  \n6971  уход 4 в 1 для зубов десен языка и внутренней ...  \n\n[10 rows x 29 columns]",
      "text/html": "<div>\n<style scoped>\n    .dataframe tbody tr th:only-of-type {\n        vertical-align: middle;\n    }\n\n    .dataframe tbody tr th {\n        vertical-align: top;\n    }\n\n    .dataframe thead th {\n        text-align: right;\n    }\n</style>\n<table border=\"1\" class=\"dataframe\">\n  <thead>\n    <tr style=\"text-align: right;\">\n      <th></th>\n      <th>id</th>\n      <th>sku</th>\n      <th>name</th>\n      <th>brand</th>\n      <th>brand_type</th>\n      <th>dimension17</th>\n      <th>dimension18</th>\n      <th>dimension19</th>\n      <th>dimension20</th>\n      <th>country</th>\n      <th>...</th>\n      <th>main_product_id</th>\n      <th>best_loyality_price</th>\n      <th>dimension29</th>\n      <th>dimension28</th>\n      <th>description</th>\n      <th>product_usage</th>\n      <th>product_composition</th>\n      <th>category</th>\n      <th>category_ru</th>\n      <th>3_in_1</th>\n    </tr>\n  </thead>\n  <tbody>\n    <tr>\n      <th>6965</th>\n      <td>163525</td>\n      <td>11879-19000009028</td>\n      <td>cc water</td>\n      <td>erborian</td>\n      <td>standard</td>\n      <td>уходный праймер</td>\n      <td>унисекс</td>\n      <td>NaN</td>\n      <td>NaN</td>\n      <td>южная корея</td>\n      <td>...</td>\n      <td>163524</td>\n      <td>NaN</td>\n      <td>False</td>\n      <td>False</td>\n      <td>cc water крем для лица обогащенный экстрактом ...</td>\n      <td>наносите крем тонким слоем как любое средство ...</td>\n      <td>экстракт тигровой травы помогает успокоить кож...</td>\n      <td>ini-formaty</td>\n      <td>тревел-форматы</td>\n      <td>cc water крем для лица обогащенный экстрактом ...</td>\n    </tr>\n    <tr>\n      <th>6964</th>\n      <td>40849</td>\n      <td>17752</td>\n      <td>time plus longlasting make up</td>\n      <td>seventeen</td>\n      <td>standard</td>\n      <td>тональный крем</td>\n      <td>женский</td>\n      <td>NaN</td>\n      <td>NaN</td>\n      <td>греция</td>\n      <td>...</td>\n      <td>40852</td>\n      <td>NaN</td>\n      <td>False</td>\n      <td>False</td>\n      <td>тональный крем длительного действия</td>\n      <td>греческий бренд seventeen впервые появился на ...</td>\n      <td>NaN</td>\n      <td>makijazh</td>\n      <td>макияж</td>\n      <td>тональный крем длительного действиягреческий б...</td>\n    </tr>\n    <tr>\n      <th>6967</th>\n      <td>157834</td>\n      <td>19760343581</td>\n      <td>драйв, бутылочный</td>\n      <td>бако текстиль</td>\n      <td>standard</td>\n      <td>косметички</td>\n      <td>женский</td>\n      <td>NaN</td>\n      <td>NaN</td>\n      <td>сша</td>\n      <td>...</td>\n      <td>157834</td>\n      <td>NaN</td>\n      <td>False</td>\n      <td>False</td>\n      <td>компактная косметичка выполнена из качественно...</td>\n      <td>чистка сухая и влажная стирка — только в исклю...</td>\n      <td>кожзам</td>\n      <td>odezhda-i-aksessuary</td>\n      <td>одежда и аксессуары</td>\n      <td>компактная косметичка выполнена из качественно...</td>\n    </tr>\n    <tr>\n      <th>6966</th>\n      <td>188602</td>\n      <td>19000033979</td>\n      <td>essential amino energy + electrolytes tangerin...</td>\n      <td>optimum nutrition</td>\n      <td>standard</td>\n      <td>NaN</td>\n      <td>унисекс</td>\n      <td>спортивное питание</td>\n      <td>NaN</td>\n      <td>NaN</td>\n      <td>...</td>\n      <td>188602</td>\n      <td>NaN</td>\n      <td>False</td>\n      <td>False</td>\n      <td>аминокислотный комплекс essential amino energy...</td>\n      <td>перорально</td>\n      <td>вес 285 г количество порций 30 в 1 порции 95 г...</td>\n      <td>lajfstajl</td>\n      <td>лайфстайл</td>\n      <td>аминокислотный комплекс essential amino energy...</td>\n    </tr>\n    <tr>\n      <th>6963</th>\n      <td>143062</td>\n      <td>10049-19760311514</td>\n      <td>color booster lip balm</td>\n      <td>artdeco</td>\n      <td>standard</td>\n      <td>бальзам</td>\n      <td>женский</td>\n      <td>увлажнение и питание</td>\n      <td>губы</td>\n      <td>германия</td>\n      <td>...</td>\n      <td>143059</td>\n      <td>NaN</td>\n      <td>False</td>\n      <td>False</td>\n      <td>питательный бальзам для губ color booster lip ...</td>\n      <td>нанесите бальзам на губы после нескольких прим...</td>\n      <td>ricinus communis seed oil diisostearyl malate ...</td>\n      <td>makijazh</td>\n      <td>макияж</td>\n      <td>питательный бальзам для губ color booster lip ...</td>\n    </tr>\n    <tr>\n      <th>6961</th>\n      <td>166256</td>\n      <td>19000008644</td>\n      <td>lunar</td>\n      <td>influence beauty</td>\n      <td>standard</td>\n      <td>пудровый хайлайтер</td>\n      <td>унисекс</td>\n      <td>NaN</td>\n      <td>NaN</td>\n      <td>россия</td>\n      <td>...</td>\n      <td>166256</td>\n      <td>NaN</td>\n      <td>False</td>\n      <td>False</td>\n      <td>мельчайшие сияющие частицы разных оттенков соз...</td>\n      <td>легко втушуйте хайлайтер пушистой кистью на вы...</td>\n      <td>mica hydrogenated polyisobutene talc silica tr...</td>\n      <td>makijazh</td>\n      <td>макияж</td>\n      <td>мельчайшие сияющие частицы разных оттенков соз...</td>\n    </tr>\n    <tr>\n      <th>6960</th>\n      <td>183522</td>\n      <td>19000028926</td>\n      <td>wrinkle reducer (red led) attachment</td>\n      <td>nuface</td>\n      <td>standard</td>\n      <td>массажер</td>\n      <td>унисекс</td>\n      <td>NaN</td>\n      <td>NaN</td>\n      <td>NaN</td>\n      <td>...</td>\n      <td>183522</td>\n      <td>NaN</td>\n      <td>False</td>\n      <td>False</td>\n      <td>wrinkle reducer – насадка к устройству nuface®...</td>\n      <td>применение возможно только с устройством nufac...</td>\n      <td>кэрол коул создатель nuface® начала свою карье...</td>\n      <td>tehnika</td>\n      <td>техника</td>\n      <td>wrinkle reducer – насадка к устройству nuface®...</td>\n    </tr>\n    <tr>\n      <th>6970</th>\n      <td>216994</td>\n      <td>101091-19000056470</td>\n      <td>neopro bubblegum leash</td>\n      <td>zee.dog</td>\n      <td>standard</td>\n      <td>поводок</td>\n      <td>NaN</td>\n      <td>NaN</td>\n      <td>NaN</td>\n      <td>сша</td>\n      <td>...</td>\n      <td>216993</td>\n      <td>NaN</td>\n      <td>False</td>\n      <td>False</td>\n      <td>коллекция neopro ™ — новейшая разработка zeedo...</td>\n      <td>поводок размера s предназначен для собак от 5 ...</td>\n      <td>прозрачный матовый полимер с цветной стропой в...</td>\n      <td>tovary-dlja-zhivotnyh</td>\n      <td>товары для животных</td>\n      <td>коллекция neopro ™ — новейшая разработка zeedo...</td>\n    </tr>\n    <tr>\n      <th>6959</th>\n      <td>216698</td>\n      <td>19000056250</td>\n      <td>neon coral keychain</td>\n      <td>zee.dog</td>\n      <td>standard</td>\n      <td>брелок для ключей</td>\n      <td>NaN</td>\n      <td>NaN</td>\n      <td>NaN</td>\n      <td>сша</td>\n      <td>...</td>\n      <td>216698</td>\n      <td>NaN</td>\n      <td>False</td>\n      <td>False</td>\n      <td>брелок для ключей собаковода это zeedog не бан...</td>\n      <td>универсальный брелок для любого ключа</td>\n      <td>полиэстер термопластичная резина закаленная сталь</td>\n      <td>tovary-dlja-zhivotnyh</td>\n      <td>товары для животных</td>\n      <td>брелок для ключей собаковода это zeedog не бан...</td>\n    </tr>\n    <tr>\n      <th>6971</th>\n      <td>205222</td>\n      <td>19000056712</td>\n      <td>issa 3 black</td>\n      <td>foreo</td>\n      <td>standard</td>\n      <td>зубная щетка</td>\n      <td>унисекс</td>\n      <td>очищение</td>\n      <td>для полости рта</td>\n      <td>швеция</td>\n      <td>...</td>\n      <td>205222</td>\n      <td>NaN</td>\n      <td>False</td>\n      <td>False</td>\n      <td>уход 4 в 1 для зубов десен языка и внутренней ...</td>\n      <td>как пользоваться</td>\n      <td>комплектация</td>\n      <td>tehnika</td>\n      <td>техника</td>\n      <td>уход 4 в 1 для зубов десен языка и внутренней ...</td>\n    </tr>\n  </tbody>\n</table>\n<p>10 rows × 29 columns</p>\n</div>"
     },
     "execution_count": 19,
     "metadata": {},
     "output_type": "execute_result"
    }
   ],
   "source": [
    "data.iloc[same_embedding_indexes[0]]"
   ],
   "metadata": {
    "collapsed": false,
    "pycharm": {
     "name": "#%%\n"
    }
   }
  },
  {
   "cell_type": "code",
   "execution_count": 15,
   "outputs": [
    {
     "data": {
      "text/plain": "array([[ 3.24870000e+04,  1.61974296e-01,  1.69612780e-01,\n        -2.48046070e-02, -1.85151160e-01,  6.80242181e-02,\n        -3.98189947e-02,  3.38920020e-03,  9.63742137e-02,\n        -1.03167415e-01,  2.92345345e-01, -2.02788800e-01,\n         1.50223613e-01,  1.86988294e-01,  4.99615073e-02,\n        -4.61208165e-01, -3.88336867e-01, -1.68155625e-01,\n        -2.14272290e-01,  2.31765553e-01,  3.10934395e-01,\n         2.36351117e-01,  7.13378191e-02,  3.44186664e-01,\n         2.88002789e-02, -6.77370504e-02, -2.65579164e-01,\n        -8.10857043e-02,  8.41881558e-02,  8.23946148e-02,\n         2.33003125e-01,  2.32837319e-01,  3.47664565e-01,\n        -2.17406166e-04,  2.55856842e-01,  2.38786325e-01,\n         8.23035985e-02, -1.71225023e+00,  4.38627303e-01,\n        -1.40812591e-01,  1.28130123e-01, -1.97826505e-01,\n         3.89257133e-01, -1.10811241e-01,  6.96084723e-02,\n         1.88111851e-03,  8.81056130e-01,  2.00314730e-01,\n        -1.26266152e-01,  1.02331364e+00,  3.17612231e-01,\n         1.79745391e-01, -2.69034088e-01,  1.11211903e-01,\n        -1.69296718e+00,  2.50082344e-01,  1.19557105e-01,\n        -4.31621633e-02, -7.18527585e-02,  1.93981491e-02,\n         1.08114950e-01,  2.41824966e-02,  2.26344198e-01,\n        -1.44429564e-01,  7.52839595e-02, -1.88823476e-01,\n         2.92609781e-01,  3.74560744e-01, -3.61097306e-01,\n        -1.54503554e-01,  3.76162790e-02, -1.47025272e-01,\n         6.81339353e-02, -2.47126058e-01, -9.09526721e-02,\n        -1.22586653e-01,  1.34189129e-01, -9.98947546e-02,\n        -7.98804611e-02,  7.22002566e-01, -1.19256638e-01,\n        -1.68022424e-01,  5.78791425e-02, -4.22234163e-02,\n        -2.10342580e-03, -7.20160306e-02, -5.72444275e-02,\n        -1.98614016e-01, -1.79219738e-01, -1.24437511e-01,\n         4.45017874e-01, -3.73386145e-01, -1.20978251e-01,\n        -2.34489039e-01, -2.76216924e-01, -2.49188825e-01,\n        -2.96473742e-01,  3.00410748e-01, -1.15213394e-01,\n         1.03030033e-01,  2.36507691e-02,  8.74256641e-02,\n         1.51294041e+00,  1.66172922e-01,  3.08569390e-02,\n        -2.56796789e+00, -6.47859722e-02, -2.08084241e-01,\n         1.08844377e-01, -1.67573262e-02,  7.36213550e-02,\n         1.28502950e-01, -3.41561675e-01,  2.54352331e-01,\n         2.96983421e-02,  2.13901073e-01,  1.85228959e-01,\n         8.87889042e-02, -1.62667304e-01,  2.32088625e-01,\n        -1.12085097e-01, -2.89991200e-01, -1.44384667e-01,\n         2.24218428e-01, -3.56356800e-02,  1.58525035e-01,\n        -8.33438113e-02, -1.80081904e-01, -2.60886163e-01,\n        -1.83167696e-01,  6.28603756e-01,  4.41978633e-01,\n         1.72750473e+00, -6.11286722e-02,  3.17924120e-03,\n         3.90332103e-01,  1.15808702e+00, -1.21351250e-01,\n         2.42790177e-01,  5.09248814e-03,  1.70618385e-01,\n        -1.98652938e-01,  5.62157365e-04, -2.14681134e-01,\n         2.35185310e-01, -1.46930337e-01, -3.64331216e-01,\n         8.87166709e-02,  1.25105947e-01, -8.12563747e-02,\n         3.62097844e-02, -5.30274697e-02,  1.02178976e-01,\n        -2.61128340e-02, -1.42521486e-01,  8.77398998e-02,\n         1.46101266e-01, -5.45767248e-02, -6.11945570e-01,\n         1.12667985e-01,  1.74420416e-01,  1.58003175e+00,\n         1.80677891e-01, -8.43867883e-02,  3.19033921e-01,\n        -3.09557408e-01,  6.84697181e-02,  7.15016201e-02,\n        -1.64045289e-01, -2.39681229e-01,  4.55943085e-02,\n        -3.60913575e-02, -4.15330589e-01,  1.51160900e-02,\n        -7.69877210e-02,  1.40526712e-01,  3.60448807e-01,\n        -1.79409713e-01,  8.36081207e-02, -3.30711640e-02,\n         1.58047885e-01, -8.07570517e-02,  6.99189529e-02,\n        -1.44423410e-01,  3.17106873e-01,  4.00384031e-02,\n         2.22601503e-01,  1.86256051e-01,  2.39552498e-01,\n        -1.09309712e-02, -1.03199802e-01,  1.74967259e-01,\n         5.20904601e-01, -2.08697125e-01, -7.83035606e-02,\n         1.99010521e-02, -4.93938327e-02, -1.83627576e-01,\n         3.40827219e-02, -1.58361476e-02, -2.46411860e-02,\n        -1.85179263e-02, -3.16012348e-03, -4.21518572e-02,\n        -8.29538926e-02, -2.26030163e-02,  2.53556609e-01,\n        -4.84638736e-02, -5.40743358e-02, -2.37898052e-01,\n        -3.56416196e-01, -1.64572464e-03,  2.46398568e-01,\n         1.27309704e+00, -5.28934970e-02,  1.86489951e-02,\n         3.12841892e-01,  3.06578517e-01, -3.10761621e-03,\n         2.32185259e-01, -1.90456772e+00, -9.67310667e-02,\n        -1.46689340e-01, -1.22352041e-01,  2.37027451e-01,\n        -1.61192015e-01,  2.97497157e-02, -1.44715860e-01,\n         3.09670329e-01,  1.66462272e-01, -2.33477712e-01,\n         3.16100657e-01, -1.36201203e-01, -8.03531259e-02,\n        -1.67999172e+00,  4.44788896e-02, -2.69697428e-01,\n         5.47361597e-02,  1.35896534e-01,  1.35361075e-01,\n        -2.70361274e-01, -1.69050738e-01,  5.09824678e-02,\n        -2.23137781e-01,  6.65740520e-02,  2.56150007e-01,\n         1.90420121e-01,  1.31169081e+00,  5.94872385e-02,\n         5.64701200e-01,  2.50086710e-02, -5.36230169e-02,\n        -2.08519977e-02,  2.19522625e-01, -1.73224211e-02,\n         4.14288789e-02,  3.63551617e-01, -2.32064910e-02,\n         1.11450776e-01,  1.15859345e-01, -4.40574586e-01,\n        -7.24717453e-02, -4.09969836e-02, -1.41110212e-01,\n         3.89988050e-02, -9.84357446e-02,  1.62679687e-01,\n         2.86335617e-01,  2.22544342e-01,  4.73945662e-02,\n        -2.50602692e-01, -1.26924202e-01,  2.99296290e-01,\n        -1.38393387e-01, -5.82362600e-02, -2.29737982e-01,\n         1.18002944e-01, -8.50034133e-03,  2.95944601e-01,\n        -4.05819744e-01, -1.16994092e-02, -2.27087915e-01,\n         1.69067249e-01,  5.60115986e-02,  1.08810291e-02,\n         2.93702900e-01, -1.96907356e-01,  1.94673091e-01,\n        -3.96557689e-01, -8.59718621e-02, -8.34010482e-01,\n        -4.99236792e-01, -3.07768315e-01,  4.30398136e-01,\n         9.65814143e-02, -4.17761654e-01, -3.53564680e-01,\n         1.83523759e-01, -3.42729360e-01, -8.47283527e-02,\n        -1.79115996e-01,  1.11280940e-01,  1.96977392e-01,\n        -3.18183988e-01,  4.57661711e-02, -1.65377104e+00,\n         9.01995599e-02,  2.78465956e-01, -1.03471249e-01,\n         1.99492127e-01, -3.30827445e-01, -2.63061047e-01,\n        -2.21671060e-01, -1.43567368e-01, -8.78665820e-02,\n         1.25689313e-01,  6.47987202e-02, -6.39344528e-02,\n         1.29529595e-01, -3.57608572e-02, -2.74612103e-02,\n        -1.22422419e-01, -1.83381724e+00,  3.22520554e-01,\n        -1.40487984e-01,  2.27935016e-01,  2.34504625e-01,\n         8.31875205e-02,  9.27006602e-02,  2.09535360e-01,\n         2.68276691e-01, -3.36840689e-01,  2.44923197e-02,\n        -3.15652192e-01, -1.70959577e-01, -3.50005105e-02,\n         1.33449882e-01,  1.41650856e-01, -1.99869186e-01,\n         2.30989233e-01, -5.86543567e-02,  1.23154484e-01,\n        -8.94933492e-02, -9.89279598e-02,  4.69833193e-03,\n        -1.59190744e-01,  1.86334793e-02, -2.16879696e-01,\n         3.18201259e-02,  7.52231292e-03,  1.76254228e-01,\n         2.21911430e-01,  3.67140919e-02, -5.88524282e-01,\n         3.44079472e-02,  1.64264292e-01, -8.77781212e-02,\n         1.34062454e-01,  1.70476854e-01, -1.69956788e-01,\n         2.22090900e-01, -2.60546263e-02, -1.46575361e-01,\n         3.14897560e-02,  2.17998266e-01,  1.58675507e-01,\n        -7.05719143e-02, -3.25395256e-01,  2.55584866e-01,\n         1.12432040e-01, -1.42779246e-01,  1.57741830e-01,\n        -6.47478625e-02, -3.18806916e-01, -3.43761474e-01,\n        -4.32003736e-02,  1.01624176e-01,  1.17143877e-02,\n        -1.89183820e-02, -2.48750672e-01,  9.69362855e-02,\n         2.90810555e-01, -1.92341298e-01, -1.70578623e+00,\n        -1.06760077e-01,  4.75529581e-02, -1.39496768e+00,\n        -9.75140259e-02,  1.35526225e-01,  1.85091957e-01,\n        -2.91114431e-02,  2.61957254e-02, -3.13398289e-03,\n         3.48493129e-01,  2.17489541e-01, -2.67201103e-02,\n        -1.77524298e-01,  1.60285890e-01,  1.12655692e-01,\n         9.09893736e-02, -4.11639273e-01,  2.03663960e-01,\n        -2.63051828e-03,  1.67648688e-01, -1.70098081e-01,\n        -3.36457342e-01, -1.65841770e+00,  2.68500149e-01,\n         3.07578653e-01, -5.87950945e-02, -1.40589684e-01,\n         1.18791036e-01, -1.76135212e-01,  4.05334502e-01,\n         1.19929938e-02, -1.81789603e-02, -1.91963807e-01,\n         5.69913462e-02, -2.33426467e-01, -3.00971389e-01,\n         5.01955524e-02, -1.17868613e-02,  2.95637220e-01,\n        -2.00000584e-01, -1.83834076e-01, -3.17969322e-01,\n         1.78825095e-01,  1.31898165e-01,  6.52586892e-02,\n        -1.22187071e-01, -1.56093881e-01, -1.11976445e-01,\n         7.64832422e-02, -1.13477200e-01, -1.31831872e+00,\n        -1.76357174e+00,  8.78275573e-01, -3.49075824e-01,\n        -3.81948017e-02,  4.96301912e-02,  1.81434786e+00,\n         1.55329198e-01,  4.17781174e-01, -7.99489319e-02,\n        -4.73525263e-02,  9.88278836e-02,  3.84294701e+00,\n         1.88436285e-01, -3.54660779e-01,  1.55241919e+00,\n        -1.89221576e-01,  5.72448857e-02, -5.11293650e-01,\n        -1.63640428e+00, -2.05038381e+00, -1.65876269e-01,\n        -2.20128730e-01,  1.41805172e-01,  3.90628755e-01,\n         2.83228189e-01, -1.47749022e-01, -1.02177419e-01,\n        -1.10584132e-01,  2.08966047e-01,  4.41865586e-02,\n         2.51517504e-01,  2.52853900e-01, -1.52533129e-01,\n        -2.67230362e-01, -4.00783300e-01,  2.99540073e-01,\n         3.31803054e-01,  3.73474658e-02,  9.31029469e-02,\n         1.31052723e-02,  1.81384683e-01, -2.13367891e+00,\n         1.96159720e-01, -4.46777157e-02,  8.84533972e-02,\n         1.66921109e-01,  2.67858170e-02,  2.91581452e-01,\n        -5.13061918e-02, -4.35368031e-01,  1.16815433e-01,\n         2.79707640e-01,  5.33461012e-02,  1.96451247e-01,\n        -2.61728346e-01, -1.89066436e-02,  1.45327941e-01,\n         9.05049872e-03, -7.88650438e-02,  1.78838956e+00,\n        -6.22924753e-02,  6.77662045e-02,  3.97736371e-01,\n         8.18258002e-02,  1.90126047e-01, -2.46638983e-01,\n        -7.93950781e-02,  1.62821338e-01, -3.18221182e-01,\n         1.51283309e-01, -3.53133027e-03, -9.90314633e-02,\n        -2.12417856e-01,  1.85499653e-01, -1.88603312e-01,\n        -1.86181277e-01, -6.91321492e-02,  4.27186906e-01,\n        -1.29638568e-01, -4.81024057e-01,  1.16734818e-01,\n        -1.62864804e-01, -4.75812564e-03, -2.23147407e-01,\n        -5.91953322e-02,  2.08121181e-01,  4.94515449e-01,\n         4.92641367e-02,  4.48870808e-01, -1.30492717e-01,\n        -4.05654401e-01,  2.17428580e-01, -3.25548410e-01,\n        -2.52956778e-01, -2.19058737e-01, -1.08690210e-01,\n         2.08294749e-01, -5.54887414e-01, -3.48716944e-01,\n         1.13592851e+00,  4.43322778e-01,  3.55071239e-02,\n         9.43619132e-01, -4.25613910e-01,  1.03774101e-01,\n         1.01174116e-01,  3.04757655e-01, -5.79226129e-02,\n         4.35742550e-02, -8.37230459e-02,  9.40912217e-02,\n        -2.01798901e-01,  3.03785026e-01, -1.34900376e-01,\n        -4.47967425e-02,  1.89185277e-01,  2.83583812e-02,\n         3.34750205e-01,  1.25411555e-01,  7.99761899e-03,\n        -2.37368956e-01,  1.33167893e-01,  8.25579092e-02,\n         4.05241139e-02, -2.02929422e-01,  1.13970570e-01,\n        -1.27426311e-01,  2.28253901e-02,  4.54009278e-03,\n        -1.15492925e-01, -1.69085860e-01, -7.22786486e-02,\n        -1.56237870e-01,  2.49367908e-01,  5.77202030e-02,\n        -1.60821557e-01, -1.89789787e-01, -5.55328652e-02,\n        -1.59524873e-01, -5.33644482e-02, -1.52583122e-02,\n        -2.91542202e-01, -3.59817296e-01,  8.97583812e-02,\n         1.08728148e-01,  6.64385632e-02, -1.02891065e-01,\n         5.56334993e-03,  1.73929840e-01,  1.49411067e-01,\n        -2.07878128e-01, -1.05532616e-01, -3.08559358e-01,\n        -3.17928195e-02, -2.70207345e-01,  1.37988016e-01,\n        -1.11175038e-01, -8.36221054e-02,  6.08540699e-02,\n        -2.85599649e-01, -2.43008490e-05,  3.34231466e-01,\n        -1.13469332e-01, -5.07670194e-02,  2.84655057e-02,\n        -1.41243925e-02, -7.00716004e-02,  1.25192061e-01,\n        -1.15329750e-01,  3.24219726e-02, -1.89307690e-01,\n        -9.11129545e-03, -1.32079199e-01,  3.23915064e-01,\n         8.36699177e-03,  2.26318926e-01,  2.45396271e-01,\n         4.04560953e-01,  4.58719991e-02,  7.51248449e-02,\n        -7.18269050e-02, -2.02559614e+00,  8.01374838e-02,\n        -5.07344957e-03,  1.30716860e-01, -2.05696449e-01,\n         1.35255992e-01,  3.45594674e-01,  2.49222040e-01,\n         1.16182081e-01,  8.26871954e-03, -1.74922347e-01,\n         3.82083617e-02, -2.69161463e-01,  2.48114206e-02,\n        -8.20040822e-01, -1.53727815e-01,  2.71026343e-02,\n         7.21509084e-02, -4.70700562e-01,  2.18976557e-01,\n        -1.75223732e+00,  6.95606470e-02, -5.24592161e-01,\n        -4.44572717e-02, -5.76121174e-02, -1.55278295e-01,\n         6.19948693e-02, -1.76342919e-01, -3.75239044e-01,\n        -1.00800790e-01,  3.59233655e-02, -1.23598762e-01,\n         3.37029189e-01, -9.90096554e-02,  2.50344992e-01,\n         2.31215447e-01,  2.06559733e-01,  1.72033906e-01,\n         1.63011581e-01, -8.86744112e-02, -2.04140946e-01,\n         1.34431245e-02, -1.73501566e-01, -1.59888774e-01,\n         1.56869084e-01, -3.02067604e-02, -1.20820716e-01,\n         3.55937272e-01, -2.08360046e-01,  8.24361145e-02,\n        -1.32972288e+00,  1.02184594e-01, -9.28780884e-02,\n        -3.57436091e-02,  2.38718629e-01, -7.54877552e-02,\n        -6.33934140e-02, -3.32539529e-02,  1.52176768e-01,\n         2.93067187e-01,  8.10237695e-03, -1.46699458e-01,\n        -8.53739232e-02, -7.63463927e-03,  1.80909917e-01,\n         1.22637905e-01,  4.33690518e-01,  2.50767946e-01,\n         1.08168185e-01, -4.84900326e-02,  3.93405296e-02,\n         2.13522449e-01,  1.08792931e-01,  2.76915967e-01,\n         4.35020663e-02,  4.85953659e-01,  4.14547548e-02,\n         3.10253073e-02, -2.67748777e-02,  1.82598963e-01,\n         2.28025153e-01, -7.83105850e-01,  2.02015460e-01,\n         2.17540458e-01, -3.13685149e-01, -6.85235038e-02,\n        -7.23723248e-02,  1.55300096e-01,  4.30186480e-01,\n         1.62230834e-01,  1.77653462e-01,  4.17973071e-01,\n         1.79828632e+00,  2.55120873e-01,  2.41305634e-01,\n        -2.62522101e-02,  1.86747283e-01,  1.10882439e-01,\n         3.45438808e-01, -1.80853426e-01,  1.75944865e+00,\n         2.57427758e-03, -1.39332056e-01, -3.96976806e-02,\n         2.67903298e-01,  1.80091888e-01,  1.47615778e+00,\n        -1.91669632e-02, -3.24673474e-01, -1.64346322e-01,\n         5.74606843e-02,  2.74697036e-01,  1.01423293e-01,\n         7.40835145e-02, -2.35419810e-01, -1.14859425e-01,\n        -7.82121956e-01,  2.49091275e-02,  4.20282185e-01,\n         3.33222419e-01, -1.41924426e-01, -6.61226034e-01,\n        -2.15971693e-02,  2.41354690e-03,  3.52209270e-01,\n        -8.10089707e-02, -9.73502398e-02, -2.24778607e-01,\n         2.83019960e-01,  1.03508636e-01,  1.68600142e-01,\n        -1.70370579e-01,  2.36054838e-01,  1.71329826e-02,\n        -2.29166105e-01, -2.16368530e-02, -5.36049783e-01,\n         2.93472439e-01, -2.22569667e-02,  3.43416631e-02,\n         3.65665168e-01, -4.07473696e-03, -1.72264934e-01,\n        -6.33119941e-02, -2.21166417e-01,  6.40365705e-02,\n        -3.28503214e-02, -1.36558935e-01,  2.29997989e-02,\n         2.77364850e-01,  6.05593659e-02,  2.57806689e-01,\n        -1.86345503e-01]], dtype=float32)"
     },
     "execution_count": 15,
     "metadata": {},
     "output_type": "execute_result"
    }
   ],
   "source": [
    "np.ascontiguousarray(embedded_description.to_numpy().astype('float32')[32487].reshape((1, -1)))"
   ],
   "metadata": {
    "collapsed": false,
    "pycharm": {
     "name": "#%%\n"
    }
   }
  },
  {
   "cell_type": "code",
   "execution_count": 58,
   "outputs": [],
   "source": [
    "def download_and_save_image(url: str):\n",
    "\tsleep(np.random.randint(3, 10))\n",
    "\timg_name = url.split('/')[-1]\n",
    "\tuser_agent = UserAgent().random\n",
    "\tres = requests.get(url, timeout=3, headers={'User-Agent': user_agent})\n",
    "\tif res.status_code == 200:\n",
    "\t\twith open(f'../data/images/{img_name}', 'wb') as img:\n",
    "\t\t\timg.write(res.content)"
   ],
   "metadata": {
    "collapsed": false,
    "pycharm": {
     "name": "#%%\n"
    }
   }
  },
  {
   "cell_type": "code",
   "execution_count": null,
   "outputs": [],
   "source": [],
   "metadata": {
    "collapsed": false,
    "pycharm": {
     "name": "#%%\n"
    }
   }
  },
  {
   "cell_type": "code",
   "execution_count": 34,
   "outputs": [],
   "source": [
    "urls = data.loc[800, 'images'].split(',')"
   ],
   "metadata": {
    "collapsed": false,
    "pycharm": {
     "name": "#%%\n"
    }
   }
  },
  {
   "cell_type": "code",
   "execution_count": 38,
   "outputs": [
    {
     "data": {
      "text/plain": "'852578006836_1_sobzqsbm1f1nviuk.jpg'"
     },
     "execution_count": 38,
     "metadata": {},
     "output_type": "execute_result"
    }
   ],
   "source": [
    "urls[0].split('/')[-1]"
   ],
   "metadata": {
    "collapsed": false,
    "pycharm": {
     "name": "#%%\n"
    }
   }
  },
  {
   "cell_type": "code",
   "execution_count": 59,
   "outputs": [],
   "source": [
    "download_and_save_image(urls[0])"
   ],
   "metadata": {
    "collapsed": false,
    "pycharm": {
     "name": "#%%\n"
    }
   }
  }
 ],
 "metadata": {
  "kernelspec": {
   "display_name": "Python 3",
   "language": "python",
   "name": "python3"
  },
  "language_info": {
   "codemirror_mode": {
    "name": "ipython",
    "version": 2
   },
   "file_extension": ".py",
   "mimetype": "text/x-python",
   "name": "python",
   "nbconvert_exporter": "python",
   "pygments_lexer": "ipython2",
   "version": "2.7.6"
  }
 },
 "nbformat": 4,
 "nbformat_minor": 0
}