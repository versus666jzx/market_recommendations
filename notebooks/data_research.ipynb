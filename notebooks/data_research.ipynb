{
 "cells": [
  {
   "cell_type": "code",
   "execution_count": 171,
   "outputs": [],
   "source": [
    "import re\n",
    "import string\n",
    "\n",
    "import pandas as pd\n",
    "import numpy as np\n",
    "\n",
    "import transformers\n",
    "import torch\n",
    "\n",
    "from nltk import WordNetLemmatizer\n",
    "\n",
    "import faiss\n",
    "\n",
    "from tqdm.notebook import tqdm\n",
    "\n",
    "from towhee import pipeline\n",
    "\n",
    "from sklearn.decomposition import PCA\n",
    "from sklearn.metrics.pairwise import  paired_distances"
   ],
   "metadata": {
    "collapsed": false,
    "pycharm": {
     "name": "#%%\n"
    }
   }
  },
  {
   "cell_type": "markdown",
   "source": [
    "# Загрузка и подготовка данных"
   ],
   "metadata": {
    "collapsed": false,
    "pycharm": {
     "name": "#%% md\n"
    }
   }
  },
  {
   "cell_type": "code",
   "execution_count": 128,
   "outputs": [
    {
     "name": "stdout",
     "output_type": "stream",
     "text": [
      "<class 'pandas.core.frame.DataFrame'>\n",
      "Int64Index: 11910 entries, 0 to 11909\n",
      "Data columns (total 27 columns):\n",
      " #   Column               Non-Null Count  Dtype  \n",
      "---  ------               --------------  -----  \n",
      " 0   id                   11910 non-null  int64  \n",
      " 1   sku                  11910 non-null  object \n",
      " 2   name                 11910 non-null  object \n",
      " 3   brand                11906 non-null  object \n",
      " 4   brand_type           11910 non-null  object \n",
      " 5   dimension17          11513 non-null  object \n",
      " 6   dimension18          11474 non-null  object \n",
      " 7   dimension19          1385 non-null   object \n",
      " 8   dimension20          1770 non-null   object \n",
      " 9   country              10818 non-null  object \n",
      " 10  price                11910 non-null  int64  \n",
      " 11  old_price            11910 non-null  int64  \n",
      " 12  category_type        11908 non-null  object \n",
      " 13  url                  11910 non-null  object \n",
      " 14  images               11910 non-null  object \n",
      " 15  type                 11910 non-null  object \n",
      " 16  volume               10703 non-null  object \n",
      " 17  main_product_sku     11910 non-null  object \n",
      " 18  main_product_id      11910 non-null  int64  \n",
      " 19  best_loyalty_price   8722 non-null   float64\n",
      " 20  dimension29          11910 non-null  bool   \n",
      " 21  dimension28          11910 non-null  bool   \n",
      " 22  description          8499 non-null   object \n",
      " 23  product_usage        8634 non-null   object \n",
      " 24  product_composition  5999 non-null   object \n",
      " 25  category             11910 non-null  object \n",
      " 26  category_ru          11910 non-null  object \n",
      "dtypes: bool(2), float64(1), int64(4), object(20)\n",
      "memory usage: 2.4+ MB\n"
     ]
    }
   ],
   "source": [
    "data = pd.read_csv('../data/products.csv')\n",
    "data = data.drop_duplicates()\n",
    "tokenizer = transformers.BertTokenizer('../model/vocab.txt')\n",
    "try:\n",
    "\tembedded_description = pd.read_csv('../data/embedded_description')\n",
    "\tembedded_product_composition = pd.read_csv('../data/embedded_product_composition')\n",
    "\tembedded_product_usage = pd.read_csv('../data/embedded_product_usage')\n",
    "\tembedded_3_in_1 = pd.read_csv('../data/embedded_3_in_1')\n",
    "except:\n",
    "\tpass\n",
    "\n",
    "# model_class, tokenizer_class, pretrained_weights = (transformers.DistilBertModel,\n",
    "\t\t\t\t\t\t\t\t\t\t\t\t\t# transformers.DistilBertTokenizer,\n",
    "\t\t\t\t\t\t\t\t\t\t\t\t\t# 'distilbert-base-uncased')\n",
    "\n",
    "data.info()"
   ],
   "metadata": {
    "collapsed": false,
    "pycharm": {
     "name": "#%%\n"
    }
   }
  },
  {
   "cell_type": "markdown",
   "source": [
    "Один товар может принадлежать нескольким категориям. Если бы у нас была информация о популярности товаров в той или иной категории, то можно было бы удалить товары из категорий, где они не пользуются спросом. Но т.к. такой информации у нас нет, просто удалим такие товары-дубликаты."
   ],
   "metadata": {
    "collapsed": false,
    "pycharm": {
     "name": "#%% md\n"
    }
   }
  },
  {
   "cell_type": "code",
   "execution_count": 3,
   "outputs": [
    {
     "data": {
      "text/plain": "'Данных до удаления: (11910, 27)'"
     },
     "metadata": {},
     "output_type": "display_data"
    },
    {
     "data": {
      "text/plain": "'Данных после удаления: (11910, 27)'"
     },
     "metadata": {},
     "output_type": "display_data"
    }
   ],
   "source": [
    "index_to_del = data[data.drop(['category', 'category_ru', 'product_usage', 'product_composition', 'description'], axis=1).duplicated()].index\n",
    "display(f'Данных до удаления: {data.shape}')\n",
    "data = data.drop(index_to_del)\n",
    "display(f'Данных после удаления: {data.shape}')"
   ],
   "metadata": {
    "collapsed": false,
    "pycharm": {
     "name": "#%%\n"
    }
   }
  },
  {
   "cell_type": "code",
   "execution_count": 4,
   "outputs": [],
   "source": [
    "def text_processing(text: str) -> str:\n",
    "\t# оставляем пропуски без изменений\n",
    "\tif text is np.nan:\n",
    "\t\treturn np.nan\n",
    "\t# приводим текст к нижнему регистру\n",
    "\ttext = text.lower()\n",
    "\t# заменяем символы и знаки пунктуации\n",
    "\ttext = re.sub('\\(.*?\\)', '', text)\n",
    "\ttrans_dict = str.maketrans('', '', string.punctuation)\n",
    "\ttext = text.translate(trans_dict)\n",
    "\t# избавляемся от лишних пробелов\n",
    "\ttext = ' '.join(text.split())\n",
    "\n",
    "\treturn text"
   ],
   "metadata": {
    "collapsed": false,
    "pycharm": {
     "name": "#%%\n"
    }
   }
  },
  {
   "cell_type": "code",
   "execution_count": 5,
   "outputs": [
    {
     "data": {
      "text/plain": "       id          sku                                               name  \\\n0  151709  19760331641                                             анклет   \n1  219259  19000070237  Peptide 9 Balance Eye Hyaluronic Volumy Eye Cr...   \n2  227749  19000042157                                        Mad Maxcara   \n3  151711  19760331652                                    Утонченная Мари   \n4  155448  19760318176                                     TIME CONTROL +   \n\n              brand brand_type               dimension17 dimension18  \\\n0  Nothing but Love   standard                   Браслет     Женский   \n1         MEDI PEEL   standard                      Крем     Унисекс   \n2               RAD   standard  Объемная тушь для ресниц         NaN   \n3  Nothing but Love   standard                   Браслет     Женский   \n4            TALIKA   standard                  Массажер     Женский   \n\n                 dimension19 dimension20      country  ...  main_product_sku  \\\n0                        NaN         NaN          NaN  ...       19760331641   \n1  Против признаков старения       Глаза  Южная Корея  ...       19000070237   \n2                        NaN         NaN   Нидерланды  ...       19000042157   \n3                        NaN         NaN          NaN  ...       19760331652   \n4                        NaN         NaN      Франция  ...       19760318176   \n\n   main_product_id best_loyalty_price dimension29 dimension28  \\\n0           151709              476.0       False       False   \n1           219259             2763.0       False       False   \n2           227749                NaN       False        True   \n3           151711              644.0       False       False   \n4           155448            13837.0       False        True   \n\n                                         description  \\\n0                                                NaN   \n1                                                NaN   \n2  это она немного крэйзи подруга твоих ресниц ту...   \n3                                                NaN   \n4                               косметический прибор   \n\n                                       product_usage  \\\n0                                                NaN   \n1                                                NaN   \n2  aqua synthetic beeswax paraffin ci 77499 acaci...   \n3                                                NaN   \n4  включите прибор нажав кнопку и подождите пока ...   \n\n                                 product_composition     category  category_ru  \n0                                                NaN  ukrashenija    украшения  \n1                                                NaN         uhod         уход  \n2  rad — креативный beauty бренд для самых прогре...     makijazh       макияж  \n3                                                NaN  ukrashenija    украшения  \n4  абстерполимер термопластический эластомер usbк...      tehnika      техника  \n\n[5 rows x 27 columns]",
      "text/html": "<div>\n<style scoped>\n    .dataframe tbody tr th:only-of-type {\n        vertical-align: middle;\n    }\n\n    .dataframe tbody tr th {\n        vertical-align: top;\n    }\n\n    .dataframe thead th {\n        text-align: right;\n    }\n</style>\n<table border=\"1\" class=\"dataframe\">\n  <thead>\n    <tr style=\"text-align: right;\">\n      <th></th>\n      <th>id</th>\n      <th>sku</th>\n      <th>name</th>\n      <th>brand</th>\n      <th>brand_type</th>\n      <th>dimension17</th>\n      <th>dimension18</th>\n      <th>dimension19</th>\n      <th>dimension20</th>\n      <th>country</th>\n      <th>...</th>\n      <th>main_product_sku</th>\n      <th>main_product_id</th>\n      <th>best_loyalty_price</th>\n      <th>dimension29</th>\n      <th>dimension28</th>\n      <th>description</th>\n      <th>product_usage</th>\n      <th>product_composition</th>\n      <th>category</th>\n      <th>category_ru</th>\n    </tr>\n  </thead>\n  <tbody>\n    <tr>\n      <th>0</th>\n      <td>151709</td>\n      <td>19760331641</td>\n      <td>анклет</td>\n      <td>Nothing but Love</td>\n      <td>standard</td>\n      <td>Браслет</td>\n      <td>Женский</td>\n      <td>NaN</td>\n      <td>NaN</td>\n      <td>NaN</td>\n      <td>...</td>\n      <td>19760331641</td>\n      <td>151709</td>\n      <td>476.0</td>\n      <td>False</td>\n      <td>False</td>\n      <td>NaN</td>\n      <td>NaN</td>\n      <td>NaN</td>\n      <td>ukrashenija</td>\n      <td>украшения</td>\n    </tr>\n    <tr>\n      <th>1</th>\n      <td>219259</td>\n      <td>19000070237</td>\n      <td>Peptide 9 Balance Eye Hyaluronic Volumy Eye Cr...</td>\n      <td>MEDI PEEL</td>\n      <td>standard</td>\n      <td>Крем</td>\n      <td>Унисекс</td>\n      <td>Против признаков старения</td>\n      <td>Глаза</td>\n      <td>Южная Корея</td>\n      <td>...</td>\n      <td>19000070237</td>\n      <td>219259</td>\n      <td>2763.0</td>\n      <td>False</td>\n      <td>False</td>\n      <td>NaN</td>\n      <td>NaN</td>\n      <td>NaN</td>\n      <td>uhod</td>\n      <td>уход</td>\n    </tr>\n    <tr>\n      <th>2</th>\n      <td>227749</td>\n      <td>19000042157</td>\n      <td>Mad Maxcara</td>\n      <td>RAD</td>\n      <td>standard</td>\n      <td>Объемная тушь для ресниц</td>\n      <td>NaN</td>\n      <td>NaN</td>\n      <td>NaN</td>\n      <td>Нидерланды</td>\n      <td>...</td>\n      <td>19000042157</td>\n      <td>227749</td>\n      <td>NaN</td>\n      <td>False</td>\n      <td>True</td>\n      <td>это она немного крэйзи подруга твоих ресниц ту...</td>\n      <td>aqua synthetic beeswax paraffin ci 77499 acaci...</td>\n      <td>rad — креативный beauty бренд для самых прогре...</td>\n      <td>makijazh</td>\n      <td>макияж</td>\n    </tr>\n    <tr>\n      <th>3</th>\n      <td>151711</td>\n      <td>19760331652</td>\n      <td>Утонченная Мари</td>\n      <td>Nothing but Love</td>\n      <td>standard</td>\n      <td>Браслет</td>\n      <td>Женский</td>\n      <td>NaN</td>\n      <td>NaN</td>\n      <td>NaN</td>\n      <td>...</td>\n      <td>19760331652</td>\n      <td>151711</td>\n      <td>644.0</td>\n      <td>False</td>\n      <td>False</td>\n      <td>NaN</td>\n      <td>NaN</td>\n      <td>NaN</td>\n      <td>ukrashenija</td>\n      <td>украшения</td>\n    </tr>\n    <tr>\n      <th>4</th>\n      <td>155448</td>\n      <td>19760318176</td>\n      <td>TIME CONTROL +</td>\n      <td>TALIKA</td>\n      <td>standard</td>\n      <td>Массажер</td>\n      <td>Женский</td>\n      <td>NaN</td>\n      <td>NaN</td>\n      <td>Франция</td>\n      <td>...</td>\n      <td>19760318176</td>\n      <td>155448</td>\n      <td>13837.0</td>\n      <td>False</td>\n      <td>True</td>\n      <td>косметический прибор</td>\n      <td>включите прибор нажав кнопку и подождите пока ...</td>\n      <td>абстерполимер термопластический эластомер usbк...</td>\n      <td>tehnika</td>\n      <td>техника</td>\n    </tr>\n  </tbody>\n</table>\n<p>5 rows × 27 columns</p>\n</div>"
     },
     "execution_count": 5,
     "metadata": {},
     "output_type": "execute_result"
    }
   ],
   "source": [
    "text_columns = ['description', 'product_usage', 'product_composition']\n",
    "\n",
    "for column in text_columns:\n",
    "\tdata[column] = data[column].apply(text_processing)\n",
    "\n",
    "data.head()"
   ],
   "metadata": {
    "collapsed": false,
    "pycharm": {
     "name": "#%%\n"
    }
   }
  },
  {
   "cell_type": "code",
   "execution_count": 6,
   "outputs": [],
   "source": [
    "def lower(text: str) -> str:\n",
    "\tif text is np.nan:\n",
    "\t\treturn np.nan\n",
    "\treturn text.lower()"
   ],
   "metadata": {
    "collapsed": false,
    "pycharm": {
     "name": "#%%\n"
    }
   }
  },
  {
   "cell_type": "code",
   "execution_count": 7,
   "outputs": [
    {
     "data": {
      "text/plain": "       id          sku                                               name  \\\n0  151709  19760331641                                             анклет   \n1  219259  19000070237  peptide 9 balance eye hyaluronic volumy eye cr...   \n2  227749  19000042157                                        mad maxcara   \n3  151711  19760331652                                    утонченная мари   \n4  155448  19760318176                                     time control +   \n\n              brand brand_type               dimension17 dimension18  \\\n0  nothing but love   standard                   браслет     женский   \n1         medi peel   standard                      крем     унисекс   \n2               rad   standard  объемная тушь для ресниц         NaN   \n3  nothing but love   standard                   браслет     женский   \n4            talika   standard                  массажер     женский   \n\n                 dimension19 dimension20      country  ...  main_product_sku  \\\n0                        NaN         NaN          NaN  ...       19760331641   \n1  против признаков старения       глаза  южная корея  ...       19000070237   \n2                        NaN         NaN   нидерланды  ...       19000042157   \n3                        NaN         NaN          NaN  ...       19760331652   \n4                        NaN         NaN      франция  ...       19760318176   \n\n   main_product_id best_loyalty_price dimension29 dimension28  \\\n0           151709              476.0       False       False   \n1           219259             2763.0       False       False   \n2           227749                NaN       False        True   \n3           151711              644.0       False       False   \n4           155448            13837.0       False        True   \n\n                                         description  \\\n0                                                NaN   \n1                                                NaN   \n2  это она немного крэйзи подруга твоих ресниц ту...   \n3                                                NaN   \n4                               косметический прибор   \n\n                                       product_usage  \\\n0                                                NaN   \n1                                                NaN   \n2  aqua synthetic beeswax paraffin ci 77499 acaci...   \n3                                                NaN   \n4  включите прибор нажав кнопку и подождите пока ...   \n\n                                 product_composition     category  category_ru  \n0                                                NaN  ukrashenija    украшения  \n1                                                NaN         uhod         уход  \n2  rad — креативный beauty бренд для самых прогре...     makijazh       макияж  \n3                                                NaN  ukrashenija    украшения  \n4  абстерполимер термопластический эластомер usbк...      tehnika      техника  \n\n[5 rows x 27 columns]",
      "text/html": "<div>\n<style scoped>\n    .dataframe tbody tr th:only-of-type {\n        vertical-align: middle;\n    }\n\n    .dataframe tbody tr th {\n        vertical-align: top;\n    }\n\n    .dataframe thead th {\n        text-align: right;\n    }\n</style>\n<table border=\"1\" class=\"dataframe\">\n  <thead>\n    <tr style=\"text-align: right;\">\n      <th></th>\n      <th>id</th>\n      <th>sku</th>\n      <th>name</th>\n      <th>brand</th>\n      <th>brand_type</th>\n      <th>dimension17</th>\n      <th>dimension18</th>\n      <th>dimension19</th>\n      <th>dimension20</th>\n      <th>country</th>\n      <th>...</th>\n      <th>main_product_sku</th>\n      <th>main_product_id</th>\n      <th>best_loyalty_price</th>\n      <th>dimension29</th>\n      <th>dimension28</th>\n      <th>description</th>\n      <th>product_usage</th>\n      <th>product_composition</th>\n      <th>category</th>\n      <th>category_ru</th>\n    </tr>\n  </thead>\n  <tbody>\n    <tr>\n      <th>0</th>\n      <td>151709</td>\n      <td>19760331641</td>\n      <td>анклет</td>\n      <td>nothing but love</td>\n      <td>standard</td>\n      <td>браслет</td>\n      <td>женский</td>\n      <td>NaN</td>\n      <td>NaN</td>\n      <td>NaN</td>\n      <td>...</td>\n      <td>19760331641</td>\n      <td>151709</td>\n      <td>476.0</td>\n      <td>False</td>\n      <td>False</td>\n      <td>NaN</td>\n      <td>NaN</td>\n      <td>NaN</td>\n      <td>ukrashenija</td>\n      <td>украшения</td>\n    </tr>\n    <tr>\n      <th>1</th>\n      <td>219259</td>\n      <td>19000070237</td>\n      <td>peptide 9 balance eye hyaluronic volumy eye cr...</td>\n      <td>medi peel</td>\n      <td>standard</td>\n      <td>крем</td>\n      <td>унисекс</td>\n      <td>против признаков старения</td>\n      <td>глаза</td>\n      <td>южная корея</td>\n      <td>...</td>\n      <td>19000070237</td>\n      <td>219259</td>\n      <td>2763.0</td>\n      <td>False</td>\n      <td>False</td>\n      <td>NaN</td>\n      <td>NaN</td>\n      <td>NaN</td>\n      <td>uhod</td>\n      <td>уход</td>\n    </tr>\n    <tr>\n      <th>2</th>\n      <td>227749</td>\n      <td>19000042157</td>\n      <td>mad maxcara</td>\n      <td>rad</td>\n      <td>standard</td>\n      <td>объемная тушь для ресниц</td>\n      <td>NaN</td>\n      <td>NaN</td>\n      <td>NaN</td>\n      <td>нидерланды</td>\n      <td>...</td>\n      <td>19000042157</td>\n      <td>227749</td>\n      <td>NaN</td>\n      <td>False</td>\n      <td>True</td>\n      <td>это она немного крэйзи подруга твоих ресниц ту...</td>\n      <td>aqua synthetic beeswax paraffin ci 77499 acaci...</td>\n      <td>rad — креативный beauty бренд для самых прогре...</td>\n      <td>makijazh</td>\n      <td>макияж</td>\n    </tr>\n    <tr>\n      <th>3</th>\n      <td>151711</td>\n      <td>19760331652</td>\n      <td>утонченная мари</td>\n      <td>nothing but love</td>\n      <td>standard</td>\n      <td>браслет</td>\n      <td>женский</td>\n      <td>NaN</td>\n      <td>NaN</td>\n      <td>NaN</td>\n      <td>...</td>\n      <td>19760331652</td>\n      <td>151711</td>\n      <td>644.0</td>\n      <td>False</td>\n      <td>False</td>\n      <td>NaN</td>\n      <td>NaN</td>\n      <td>NaN</td>\n      <td>ukrashenija</td>\n      <td>украшения</td>\n    </tr>\n    <tr>\n      <th>4</th>\n      <td>155448</td>\n      <td>19760318176</td>\n      <td>time control +</td>\n      <td>talika</td>\n      <td>standard</td>\n      <td>массажер</td>\n      <td>женский</td>\n      <td>NaN</td>\n      <td>NaN</td>\n      <td>франция</td>\n      <td>...</td>\n      <td>19760318176</td>\n      <td>155448</td>\n      <td>13837.0</td>\n      <td>False</td>\n      <td>True</td>\n      <td>косметический прибор</td>\n      <td>включите прибор нажав кнопку и подождите пока ...</td>\n      <td>абстерполимер термопластический эластомер usbк...</td>\n      <td>tehnika</td>\n      <td>техника</td>\n    </tr>\n  </tbody>\n</table>\n<p>5 rows × 27 columns</p>\n</div>"
     },
     "execution_count": 7,
     "metadata": {},
     "output_type": "execute_result"
    }
   ],
   "source": [
    "columns_to_lower = ['name', 'brand', 'dimension17', 'dimension18', 'dimension19', 'dimension20', 'country', 'category_type']\n",
    "\n",
    "for column in columns_to_lower:\n",
    "\tdata[column] = data[column].apply(lower)\n",
    "\n",
    "data.head()"
   ],
   "metadata": {
    "collapsed": false,
    "pycharm": {
     "name": "#%%\n"
    }
   }
  },
  {
   "cell_type": "markdown",
   "source": [
    "Уберем лишние знаки из ссылок с изображениями"
   ],
   "metadata": {
    "collapsed": false,
    "pycharm": {
     "name": "#%% md\n"
    }
   }
  },
  {
   "cell_type": "code",
   "execution_count": 8,
   "outputs": [],
   "source": [
    "def url_processing(text: str) -> str:\n",
    "\treturn text.replace('\"', '').replace('\\'', '').replace('[', '').replace(']', '')\n",
    "\n",
    "data['images'] = data['images'].apply(url_processing)"
   ],
   "metadata": {
    "collapsed": false,
    "pycharm": {
     "name": "#%%\n"
    }
   }
  },
  {
   "cell_type": "markdown",
   "source": [
    "# Генерация эмбеддингов"
   ],
   "metadata": {
    "collapsed": false,
    "pycharm": {
     "name": "#%% md\n"
    }
   }
  },
  {
   "cell_type": "code",
   "execution_count": null,
   "outputs": [],
   "source": [
    "def lemmatization(data):\n",
    "\tif data is np.nan:\n",
    "\t\treturn ''\n",
    "\treturn ' '.join([WordNetLemmatizer().lemmatize(word) for word in data.split()])"
   ],
   "metadata": {
    "collapsed": false,
    "pycharm": {
     "name": "#%%\n"
    }
   }
  },
  {
   "cell_type": "markdown",
   "source": [
    "Загрузим RuBERT для генерации эмбеддингов"
   ],
   "metadata": {
    "collapsed": false,
    "pycharm": {
     "name": "#%% md\n"
    }
   }
  },
  {
   "cell_type": "code",
   "execution_count": 9,
   "outputs": [
    {
     "name": "stderr",
     "output_type": "stream",
     "text": [
      "Some weights of the model checkpoint at ../model/pytorch_model.bin were not used when initializing BertModel: ['cls.seq_relationship.weight', 'cls.seq_relationship.bias', 'cls.predictions.bias', 'cls.predictions.transform.dense.bias', 'cls.predictions.transform.LayerNorm.bias', 'cls.predictions.transform.dense.weight', 'cls.predictions.transform.LayerNorm.weight', 'cls.predictions.decoder.weight']\n",
      "- This IS expected if you are initializing BertModel from the checkpoint of a model trained on another task or with another architecture (e.g. initializing a BertForSequenceClassification model from a BertForPreTraining model).\n",
      "- This IS NOT expected if you are initializing BertModel from the checkpoint of a model that you expect to be exactly identical (initializing a BertForSequenceClassification model from a BertForSequenceClassification model).\n"
     ]
    }
   ],
   "source": [
    "config = transformers.BertConfig.from_json_file(\n",
    "\t'../model/bert_config.json')\n",
    "model = transformers.BertModel.from_pretrained(\n",
    "\t'../model/pytorch_model.bin', config=config).to('cuda:0')"
   ],
   "metadata": {
    "collapsed": false,
    "pycharm": {
     "name": "#%%\n"
    }
   }
  },
  {
   "cell_type": "code",
   "execution_count": 10,
   "outputs": [
    {
     "name": "stderr",
     "output_type": "stream",
     "text": [
      "Truncation was not explicitly activated but `max_length` is provided a specific value, please use `truncation=True` to explicitly truncate examples to max length. Defaulting to 'longest_first' truncation strategy. If you encode pairs of sequences (GLUE-style) with the tokenizer you can select this strategy more precisely by providing a specific strategy to `truncation`.\n"
     ]
    },
    {
     "data": {
      "text/plain": "  0%|          | 0/11910 [00:00<?, ?it/s]",
      "application/vnd.jupyter.widget-view+json": {
       "version_major": 2,
       "version_minor": 0,
       "model_id": "6d691cf8751743a7bd5e201f40eda32c"
      }
     },
     "metadata": {},
     "output_type": "display_data"
    },
    {
     "data": {
      "text/plain": "  0%|          | 0/11910 [00:00<?, ?it/s]",
      "application/vnd.jupyter.widget-view+json": {
       "version_major": 2,
       "version_minor": 0,
       "model_id": "eab4e9885bc1405f82285ade18cf8739"
      }
     },
     "metadata": {},
     "output_type": "display_data"
    },
    {
     "data": {
      "text/plain": "  0%|          | 0/11910 [00:00<?, ?it/s]",
      "application/vnd.jupyter.widget-view+json": {
       "version_major": 2,
       "version_minor": 0,
       "model_id": "4fa2dd00c5214616b601323c359c2291"
      }
     },
     "metadata": {},
     "output_type": "display_data"
    }
   ],
   "source": [
    "batch_size = 1\n",
    "\n",
    "for column in text_columns:\n",
    "\ttext = data[column].fillna('')\n",
    "\t# lemmas = data[column].apply(lemmatization)\n",
    "\tvector = text.apply(lambda x: tokenizer.encode(x, add_special_tokens=True, max_length=512))\n",
    "\t# применим padding к векторам\n",
    "\tn = len(max(vector, key=len))\n",
    "\t# англ. вектор с отступами\n",
    "\tpadded = np.array([i + [0]*(n - len(i)) for i in vector.values])\n",
    "\n",
    "\t# создадим маску для важных токенов\n",
    "\tattention_mask = np.where(padded != 0, 1, 0)\n",
    "\n",
    "\tembeddings = []\n",
    "\tfor i in tqdm(range(padded.shape[0] // batch_size)):\n",
    "\t\t# преобразуем данные\n",
    "\t\tbatch = torch.LongTensor(padded[batch_size*i : batch_size*(i+1)]).to('cuda:0')\n",
    "\t\t# преобразуем маску\n",
    "\t\tattention_mask_batch = torch.LongTensor(attention_mask[batch_size*i : batch_size*(i+1)]).to('cuda:0')\n",
    "\t\twith torch.no_grad():\n",
    "\t\t\tbatch_embeddings = model(batch, attention_mask=attention_mask_batch)\n",
    "\n",
    "\t\t# преобразуем элементы методом numpy() к типу numpy.array\n",
    "\t\tembeddings.append(batch_embeddings[0][:,0,:].cpu().numpy())\n",
    "\n",
    "\tfeatures = pd.DataFrame(np.concatenate(embeddings))\n",
    "\tfeatures.to_csv(f'../data/embedded_{column}', index=False)\n"
   ],
   "metadata": {
    "collapsed": false,
    "pycharm": {
     "name": "#%%\n"
    }
   }
  },
  {
   "cell_type": "code",
   "execution_count": 11,
   "outputs": [
    {
     "data": {
      "text/plain": "  0%|          | 0/11910 [00:00<?, ?it/s]",
      "application/vnd.jupyter.widget-view+json": {
       "version_major": 2,
       "version_minor": 0,
       "model_id": "41c9d2171c824d3994d116d9797a2c04"
      }
     },
     "metadata": {},
     "output_type": "display_data"
    }
   ],
   "source": [
    "batch_size = 1\n",
    "text = []\n",
    "# заменим пропуски в полях на пустую строку, для корректной генерации токенов\n",
    "for d, pu, pc in data[['description', 'product_usage', 'product_composition']].values:\n",
    "\tif d is np.nan:\n",
    "\t\td = ' '\n",
    "\tif pu is np.nan:\n",
    "\t\tpu = ' '\n",
    "\tif pc is np.nan:\n",
    "\t\tpc = ' '\n",
    "\ttext.append(d + pu + pc)\n",
    "\n",
    "data['3_in_1'] = text\n",
    "text = data['3_in_1'].fillna('')\n",
    "# lemmas = data['3_in_1'].apply(lemmatization)\n",
    "vector = text.apply(lambda x: tokenizer.encode(x, add_special_tokens=True, max_length=512))\n",
    "# применим padding к векторам\n",
    "n = len(max(vector, key=len))\n",
    "# англ. вектор с отступами\n",
    "padded = np.array([i + [0]*(n - len(i)) for i in vector.values])\n",
    "\n",
    "# создадим маску для важных токенов\n",
    "attention_mask = np.where(padded != 0, 1, 0)\n",
    "\n",
    "embeddings = []\n",
    "for i in tqdm(range(padded.shape[0] // batch_size)):\n",
    "\t# преобразуем данные\n",
    "\tbatch = torch.LongTensor(padded[batch_size*i : batch_size*(i+1)]).to('cuda:0')\n",
    "\t# преобразуем маску\n",
    "\tattention_mask_batch = torch.LongTensor(attention_mask[batch_size*i : batch_size*(i+1)]).to('cuda:0')\n",
    "\twith torch.no_grad():\n",
    "\t\tbatch_embeddings = model(batch, attention_mask=attention_mask_batch)\n",
    "\n",
    "\t# преобразуем элементы методом numpy() к типу numpy.array\n",
    "\tembeddings.append(batch_embeddings[0][:,0,:].cpu().numpy())\n",
    "\n",
    "features = pd.DataFrame(np.concatenate(embeddings))\n",
    "\n",
    "features.to_csv(f'../data/embedded_3_in_1', index=False)"
   ],
   "metadata": {
    "collapsed": false,
    "pycharm": {
     "name": "#%%\n"
    }
   }
  },
  {
   "cell_type": "markdown",
   "source": [
    "### Сформируем индексы faiss на основе эмбеддингов описания товаров"
   ],
   "metadata": {
    "collapsed": false,
    "pycharm": {
     "name": "#%% md\n"
    }
   }
  },
  {
   "cell_type": "markdown",
   "source": [
    "1. Создадим индекс для description"
   ],
   "metadata": {
    "collapsed": false,
    "pycharm": {
     "name": "#%% md\n"
    }
   }
  },
  {
   "cell_type": "code",
   "execution_count": 13,
   "outputs": [
    {
     "name": "stdout",
     "output_type": "stream",
     "text": [
      "0\n",
      "11910\n"
     ]
    }
   ],
   "source": [
    "index = faiss.IndexFlatL2(embedded_description.shape[1])\n",
    "print(index.ntotal)  # пока индекс пустой\n",
    "index.add(np.ascontiguousarray(embedded_description.to_numpy().astype('float32')))\n",
    "print(index.ntotal)  # теперь в нем n векторов"
   ],
   "metadata": {
    "collapsed": false,
    "pycharm": {
     "name": "#%%\n"
    }
   }
  },
  {
   "cell_type": "markdown",
   "source": [
    "Сохраним индексы в файл"
   ],
   "metadata": {
    "collapsed": false,
    "pycharm": {
     "name": "#%% md\n"
    }
   }
  },
  {
   "cell_type": "code",
   "execution_count": 25,
   "outputs": [],
   "source": [
    "faiss.write_index(index, 'faiss_description_index.index')"
   ],
   "metadata": {
    "collapsed": false,
    "pycharm": {
     "name": "#%%\n"
    }
   }
  },
  {
   "cell_type": "markdown",
   "source": [
    "Проверим как работает поиск по данному индексу\n",
    "\n",
    "Получим предсказания по индексам"
   ],
   "metadata": {
    "collapsed": false,
    "pycharm": {
     "name": "#%% md\n"
    }
   }
  },
  {
   "cell_type": "code",
   "execution_count": 23,
   "outputs": [
    {
     "name": "stdout",
     "output_type": "stream",
     "text": [
      "[1474 3421 2136 1419  259 6292 4143 4404 3040  305]\n",
      "[[ 0.       32.145218 35.11202  37.72622  40.14955  40.799274 42.39068\n",
      "  42.751522 43.09414  43.523987]]\n"
     ]
    }
   ],
   "source": [
    "topn = 10\n",
    "product_index_in_data = 1474\n",
    "distances, same_embedding_indexes = index.search(np.ascontiguousarray(embedded_description.to_numpy().astype('float32')[product_index_in_data].reshape((1, -1))), 10)\n",
    "print(same_embedding_indexes[0]) # индексы самых похожих векторов\n",
    "print(distances) # расстояния, отсортированные по убыванию"
   ],
   "metadata": {
    "collapsed": false,
    "pycharm": {
     "name": "#%%\n"
    }
   }
  },
  {
   "cell_type": "code",
   "execution_count": 26,
   "outputs": [
    {
     "data": {
      "text/plain": "          id                sku  \\\n1474   84662        89190400038   \n3421  107554        15240700012   \n2136   32055        99720100031   \n1419  208712        19000060885   \n259   135921        83510100014   \n6292  118036  10030-14146900001   \n4143  119171        99970200020   \n4404  193165        19000026991   \n3040   34755        15240400012   \n305   143613        89630900006   \n\n                                                   name               brand  \\\n1474                       Refreshing Eye Contour Cream  EAU THERMALE AVENE   \n3421  Sisleya L’Integral Anti-Age Anti-Wrinkle Conce...              Sisley   \n2136                   WRINKLE COLLAGEN FEELTOX AMPOULE      The Skin House   \n1419                          Peptide Anti-aging Series              EVERTY   \n259                   After Shaving Balm Sensitive Skin             Proraso   \n6292                                 Phyto-Cernes Eclat              Sisley   \n4143                       Starting Treatment Eye Cream          Secret Key   \n4404                                    FLEUR d'ORANGER           SOLINOTES   \n3040           Sisleya L’Integral Anti-Age extra-riche               Sisley   \n305                                      Ceramides Mask        LABORATORIUM   \n\n     brand_type       dimension17 dimension18                dimension19  \\\n1474   standard              Крем     Женский  Против признаков старения   \n3421   standard         Сыворотки     Женский  Против признаков старения   \n2136   standard         Сыворотки     Унисекс  Против признаков старения   \n1419   standard         Сыворотки     Унисекс  Против признаков старения   \n259    standard           Бальзам     Мужской                 Для бритья   \n6292   standard         Консилеры     Женский                        NaN   \n4143   standard              Крем     Унисекс  Против признаков старения   \n4404   standard  Парфюмерная вода     Унисекс                        NaN   \n3040   standard              Крем     Унисекс  Против признаков старения   \n305    standard    Маски кремовые     Женский       Увлажнение и питание   \n\n     dimension20      country  ...  main_product_sku  main_product_id  \\\n1474       Глаза      Франция  ...       89190400038            84662   \n3421        Лицо      Франция  ...       15240700012           107554   \n2136        Лицо  Южная Корея  ...       99720100031            32055   \n1419        Лицо       Россия  ...       19000060885           208712   \n259         Лицо       Италия  ...       83510100014           135921   \n6292         NaN      Франция  ...       14146900001            34321   \n4143       Глаза  Южная Корея  ...       99970200020           119171   \n4404         NaN      Франция  ...       19000026991           193165   \n3040        Лицо      Франция  ...       15240400012            34755   \n305         Лицо       Россия  ...       89630900006           143613   \n\n     best_loyalty_price dimension29 dimension28  \\\n1474             1483.0       False       False   \n3421            39520.0       False       False   \n2136             2084.0       False       False   \n1419                NaN        True       False   \n259              1501.0       False       False   \n6292                NaN        True       False   \n4143             1096.0       False       False   \n4404                NaN        True        True   \n3040            41600.0       False       False   \n305               307.0       False       False   \n\n                                            description  \\\n1474                   Для гиперчувствительной области.   \n3421     Антивозрастная интегральная сыворотка для лица   \n2136                   Сыворотка ампульная с коллагеном   \n1419            Пептидная сыворотка для всех типов кожи   \n259        Бальзам после бритья для чувствительной кожи   \n6292                     Корректор для кожи вокруг глаз   \n4143                     Ферментированный крем для глаз   \n4404          В чувственном цветочно-цитрусовом аромате   \n3040                 Антивозрастной крем для сухой кожи   \n305   В составе этой маски - питательное аргановое м...   \n\n                                          product_usage  \\\n1474     Наносить днем легкими массирующими движениями.   \n3421  Небольшое количество сыворотки (1-2 нажатия на...   \n2136  Вода, гиалуронат натрия, глицерин, 1,3 бутилен...   \n1419  Небольшое количество средства аккуратно нанест...   \n259   Нанести на область бритья плавными круговыми д...   \n6292  Перед нанесением фитокорректора \"Сияние\" на ко...   \n4143  нанесите немного восстанавливающего крема на о...   \n4404                   только для наружного применения.   \n3040  Наносить утром и вечером на чистую кожу лица и...   \n305   Тонким слоем равномерно нанесите маску на пред...   \n\n                                    product_composition           category  \\\n1474  AVENE THERMAL SPRING WATER (AVENE AQUA). MINER...  zdorov-e-i-apteka   \n3421  Французский бренд Sisley основан в 1976 году Ю...               uhod   \n2136                                                NaN        ini-formaty   \n1419  Трипептид Syn-Coll, Olivem 2020, Sensolen, гер...               uhod   \n259                                                 NaN      dlja-muzhchin   \n6292  Экстракт красного винограда: тонизирует; Экстр...           makijazh   \n4143                                                NaN        ini-formaty   \n4404  SOLINOTES – французский парфюмерный бренд, кот...       parfjumerija   \n3040  Экстракт косточек яблока (фитостимулины и урсу...               uhod   \n305   вода, аргановое масло, глицерин, пропиленглико...           organika   \n\n            category_ru  \n1474  здоровье и аптека  \n3421               уход  \n2136     тревел-форматы  \n1419               уход  \n259          для мужчин  \n6292             макияж  \n4143     тревел-форматы  \n4404         парфюмерия  \n3040               уход  \n305            органика  \n\n[10 rows x 27 columns]",
      "text/html": "<div>\n<style scoped>\n    .dataframe tbody tr th:only-of-type {\n        vertical-align: middle;\n    }\n\n    .dataframe tbody tr th {\n        vertical-align: top;\n    }\n\n    .dataframe thead th {\n        text-align: right;\n    }\n</style>\n<table border=\"1\" class=\"dataframe\">\n  <thead>\n    <tr style=\"text-align: right;\">\n      <th></th>\n      <th>id</th>\n      <th>sku</th>\n      <th>name</th>\n      <th>brand</th>\n      <th>brand_type</th>\n      <th>dimension17</th>\n      <th>dimension18</th>\n      <th>dimension19</th>\n      <th>dimension20</th>\n      <th>country</th>\n      <th>...</th>\n      <th>main_product_sku</th>\n      <th>main_product_id</th>\n      <th>best_loyalty_price</th>\n      <th>dimension29</th>\n      <th>dimension28</th>\n      <th>description</th>\n      <th>product_usage</th>\n      <th>product_composition</th>\n      <th>category</th>\n      <th>category_ru</th>\n    </tr>\n  </thead>\n  <tbody>\n    <tr>\n      <th>1474</th>\n      <td>84662</td>\n      <td>89190400038</td>\n      <td>Refreshing Eye Contour Cream</td>\n      <td>EAU THERMALE AVENE</td>\n      <td>standard</td>\n      <td>Крем</td>\n      <td>Женский</td>\n      <td>Против признаков старения</td>\n      <td>Глаза</td>\n      <td>Франция</td>\n      <td>...</td>\n      <td>89190400038</td>\n      <td>84662</td>\n      <td>1483.0</td>\n      <td>False</td>\n      <td>False</td>\n      <td>Для гиперчувствительной области.</td>\n      <td>Наносить днем легкими массирующими движениями.</td>\n      <td>AVENE THERMAL SPRING WATER (AVENE AQUA). MINER...</td>\n      <td>zdorov-e-i-apteka</td>\n      <td>здоровье и аптека</td>\n    </tr>\n    <tr>\n      <th>3421</th>\n      <td>107554</td>\n      <td>15240700012</td>\n      <td>Sisleya L’Integral Anti-Age Anti-Wrinkle Conce...</td>\n      <td>Sisley</td>\n      <td>standard</td>\n      <td>Сыворотки</td>\n      <td>Женский</td>\n      <td>Против признаков старения</td>\n      <td>Лицо</td>\n      <td>Франция</td>\n      <td>...</td>\n      <td>15240700012</td>\n      <td>107554</td>\n      <td>39520.0</td>\n      <td>False</td>\n      <td>False</td>\n      <td>Антивозрастная интегральная сыворотка для лица</td>\n      <td>Небольшое количество сыворотки (1-2 нажатия на...</td>\n      <td>Французский бренд Sisley основан в 1976 году Ю...</td>\n      <td>uhod</td>\n      <td>уход</td>\n    </tr>\n    <tr>\n      <th>2136</th>\n      <td>32055</td>\n      <td>99720100031</td>\n      <td>WRINKLE COLLAGEN FEELTOX AMPOULE</td>\n      <td>The Skin House</td>\n      <td>standard</td>\n      <td>Сыворотки</td>\n      <td>Унисекс</td>\n      <td>Против признаков старения</td>\n      <td>Лицо</td>\n      <td>Южная Корея</td>\n      <td>...</td>\n      <td>99720100031</td>\n      <td>32055</td>\n      <td>2084.0</td>\n      <td>False</td>\n      <td>False</td>\n      <td>Сыворотка ампульная с коллагеном</td>\n      <td>Вода, гиалуронат натрия, глицерин, 1,3 бутилен...</td>\n      <td>NaN</td>\n      <td>ini-formaty</td>\n      <td>тревел-форматы</td>\n    </tr>\n    <tr>\n      <th>1419</th>\n      <td>208712</td>\n      <td>19000060885</td>\n      <td>Peptide Anti-aging Series</td>\n      <td>EVERTY</td>\n      <td>standard</td>\n      <td>Сыворотки</td>\n      <td>Унисекс</td>\n      <td>Против признаков старения</td>\n      <td>Лицо</td>\n      <td>Россия</td>\n      <td>...</td>\n      <td>19000060885</td>\n      <td>208712</td>\n      <td>NaN</td>\n      <td>True</td>\n      <td>False</td>\n      <td>Пептидная сыворотка для всех типов кожи</td>\n      <td>Небольшое количество средства аккуратно нанест...</td>\n      <td>Трипептид Syn-Coll, Olivem 2020, Sensolen, гер...</td>\n      <td>uhod</td>\n      <td>уход</td>\n    </tr>\n    <tr>\n      <th>259</th>\n      <td>135921</td>\n      <td>83510100014</td>\n      <td>After Shaving Balm Sensitive Skin</td>\n      <td>Proraso</td>\n      <td>standard</td>\n      <td>Бальзам</td>\n      <td>Мужской</td>\n      <td>Для бритья</td>\n      <td>Лицо</td>\n      <td>Италия</td>\n      <td>...</td>\n      <td>83510100014</td>\n      <td>135921</td>\n      <td>1501.0</td>\n      <td>False</td>\n      <td>False</td>\n      <td>Бальзам после бритья для чувствительной кожи</td>\n      <td>Нанести на область бритья плавными круговыми д...</td>\n      <td>NaN</td>\n      <td>dlja-muzhchin</td>\n      <td>для мужчин</td>\n    </tr>\n    <tr>\n      <th>6292</th>\n      <td>118036</td>\n      <td>10030-14146900001</td>\n      <td>Phyto-Cernes Eclat</td>\n      <td>Sisley</td>\n      <td>standard</td>\n      <td>Консилеры</td>\n      <td>Женский</td>\n      <td>NaN</td>\n      <td>NaN</td>\n      <td>Франция</td>\n      <td>...</td>\n      <td>14146900001</td>\n      <td>34321</td>\n      <td>NaN</td>\n      <td>True</td>\n      <td>False</td>\n      <td>Корректор для кожи вокруг глаз</td>\n      <td>Перед нанесением фитокорректора \"Сияние\" на ко...</td>\n      <td>Экстракт красного винограда: тонизирует; Экстр...</td>\n      <td>makijazh</td>\n      <td>макияж</td>\n    </tr>\n    <tr>\n      <th>4143</th>\n      <td>119171</td>\n      <td>99970200020</td>\n      <td>Starting Treatment Eye Cream</td>\n      <td>Secret Key</td>\n      <td>standard</td>\n      <td>Крем</td>\n      <td>Унисекс</td>\n      <td>Против признаков старения</td>\n      <td>Глаза</td>\n      <td>Южная Корея</td>\n      <td>...</td>\n      <td>99970200020</td>\n      <td>119171</td>\n      <td>1096.0</td>\n      <td>False</td>\n      <td>False</td>\n      <td>Ферментированный крем для глаз</td>\n      <td>нанесите немного восстанавливающего крема на о...</td>\n      <td>NaN</td>\n      <td>ini-formaty</td>\n      <td>тревел-форматы</td>\n    </tr>\n    <tr>\n      <th>4404</th>\n      <td>193165</td>\n      <td>19000026991</td>\n      <td>FLEUR d'ORANGER</td>\n      <td>SOLINOTES</td>\n      <td>standard</td>\n      <td>Парфюмерная вода</td>\n      <td>Унисекс</td>\n      <td>NaN</td>\n      <td>NaN</td>\n      <td>Франция</td>\n      <td>...</td>\n      <td>19000026991</td>\n      <td>193165</td>\n      <td>NaN</td>\n      <td>True</td>\n      <td>True</td>\n      <td>В чувственном цветочно-цитрусовом аромате</td>\n      <td>только для наружного применения.</td>\n      <td>SOLINOTES – французский парфюмерный бренд, кот...</td>\n      <td>parfjumerija</td>\n      <td>парфюмерия</td>\n    </tr>\n    <tr>\n      <th>3040</th>\n      <td>34755</td>\n      <td>15240400012</td>\n      <td>Sisleya L’Integral Anti-Age extra-riche</td>\n      <td>Sisley</td>\n      <td>standard</td>\n      <td>Крем</td>\n      <td>Унисекс</td>\n      <td>Против признаков старения</td>\n      <td>Лицо</td>\n      <td>Франция</td>\n      <td>...</td>\n      <td>15240400012</td>\n      <td>34755</td>\n      <td>41600.0</td>\n      <td>False</td>\n      <td>False</td>\n      <td>Антивозрастной крем для сухой кожи</td>\n      <td>Наносить утром и вечером на чистую кожу лица и...</td>\n      <td>Экстракт косточек яблока (фитостимулины и урсу...</td>\n      <td>uhod</td>\n      <td>уход</td>\n    </tr>\n    <tr>\n      <th>305</th>\n      <td>143613</td>\n      <td>89630900006</td>\n      <td>Ceramides Mask</td>\n      <td>LABORATORIUM</td>\n      <td>standard</td>\n      <td>Маски кремовые</td>\n      <td>Женский</td>\n      <td>Увлажнение и питание</td>\n      <td>Лицо</td>\n      <td>Россия</td>\n      <td>...</td>\n      <td>89630900006</td>\n      <td>143613</td>\n      <td>307.0</td>\n      <td>False</td>\n      <td>False</td>\n      <td>В составе этой маски - питательное аргановое м...</td>\n      <td>Тонким слоем равномерно нанесите маску на пред...</td>\n      <td>вода, аргановое масло, глицерин, пропиленглико...</td>\n      <td>organika</td>\n      <td>органика</td>\n    </tr>\n  </tbody>\n</table>\n<p>10 rows × 27 columns</p>\n</div>"
     },
     "execution_count": 26,
     "metadata": {},
     "output_type": "execute_result"
    }
   ],
   "source": [
    "data.iloc[same_embedding_indexes[0]]"
   ],
   "metadata": {
    "collapsed": false,
    "pycharm": {
     "name": "#%%\n"
    }
   }
  },
  {
   "cell_type": "markdown",
   "source": [
    "2. Создадим индекс по составу продукта"
   ],
   "metadata": {
    "collapsed": false,
    "pycharm": {
     "name": "#%% md\n"
    }
   }
  },
  {
   "cell_type": "code",
   "execution_count": 27,
   "outputs": [
    {
     "name": "stdout",
     "output_type": "stream",
     "text": [
      "0\n",
      "11910\n"
     ]
    }
   ],
   "source": [
    "index = faiss.IndexFlatL2(embedded_product_composition.shape[1])\n",
    "print(index.ntotal)  # пока индекс пустой\n",
    "index.add(np.ascontiguousarray(embedded_product_composition.to_numpy().astype('float32')))\n",
    "print(index.ntotal)  # теперь в нем n векторов"
   ],
   "metadata": {
    "collapsed": false,
    "pycharm": {
     "name": "#%%\n"
    }
   }
  },
  {
   "cell_type": "markdown",
   "source": [
    "Сохраним индекс в файл"
   ],
   "metadata": {
    "collapsed": false,
    "pycharm": {
     "name": "#%% md\n"
    }
   }
  },
  {
   "cell_type": "code",
   "execution_count": 28,
   "outputs": [],
   "source": [
    "faiss.write_index(index, 'faiss_product_composition_index.index')"
   ],
   "metadata": {
    "collapsed": false,
    "pycharm": {
     "name": "#%%\n"
    }
   }
  },
  {
   "cell_type": "markdown",
   "source": [
    "Получим 10 ближайших для какого-либо продукта"
   ],
   "metadata": {
    "collapsed": false,
    "pycharm": {
     "name": "#%% md\n"
    }
   }
  },
  {
   "cell_type": "code",
   "execution_count": 29,
   "outputs": [
    {
     "name": "stdout",
     "output_type": "stream",
     "text": [
      "[1474  580 1649  644 2200 1583 1557 3096 5896  768]\n",
      "[[ 0.       12.832222 13.263858 13.62476  13.65633  13.773034 13.786741\n",
      "  13.792073 14.219757 14.237248]]\n"
     ]
    }
   ],
   "source": [
    "topn = 10\n",
    "product_index_in_data = 1474\n",
    "distances, same_embedding_indexes = index.search(np.ascontiguousarray(embedded_product_composition.to_numpy().astype('float32')[product_index_in_data].reshape((1, -1))), 10)\n",
    "print(same_embedding_indexes[0]) # индексы самых похожих векторов\n",
    "print(distances) # расстояния, отсортированные по убыванию"
   ],
   "metadata": {
    "collapsed": false,
    "pycharm": {
     "name": "#%%\n"
    }
   }
  },
  {
   "cell_type": "markdown",
   "source": [
    "Посмотрим да рекомендацию"
   ],
   "metadata": {
    "collapsed": false,
    "pycharm": {
     "name": "#%% md\n"
    }
   }
  },
  {
   "cell_type": "code",
   "execution_count": 30,
   "outputs": [
    {
     "data": {
      "text/plain": "          id                sku                                         name  \\\n1474   84662        89190400038                 Refreshing Eye Contour Cream   \n580   225541        19000053765                Urban Eco Harakeke Root Toner   \n1649  171588        19000003067   BABY Basic Line With Calendula & Panthenol   \n644   163627  10019-19000004370                Poudre De Beauté Mat Naturel    \n2200  161326        19760320732      Elasticity & lifting Moisture Mask Pack   \n1583  161283        19760320731                       Moisturizing Mask Pack   \n1557  166713        19760343848  NATURAL MOISTURE MASK SHEET - MADECASSOSIDE   \n3096   66919        89190400028                Revitalizing Nourishing Cream   \n5896  153249        19760332149                                        Milk    \n768   203450  10693-15370600002            Creamy Eye Treatment with Avocado   \n\n                   brand brand_type       dimension17 dimension18  \\\n1474  EAU THERMALE AVENE   standard              Крем     Женский   \n580             THE Saem   standard             Тонер     Женский   \n1649         roofa spain   standard            Лосьон   Для детей   \n644                GUCCI     middle  Компактная пудра     Женский   \n2200           Cosworker   standard    Маски тканевые     Унисекс   \n1583           Cosworker   standard    Маски тканевые     Унисекс   \n1557              ORJENA   standard    Маски тканевые     Унисекс   \n3096  EAU THERMALE AVENE   standard              Крем     Унисекс   \n5896             Bubchen   standard           Молочко   Для детей   \n768              Kiehl's   standard              Крем     Женский   \n\n                    dimension19 dimension20      country  ...  \\\n1474  Против признаков старения       Глаза      Франция  ...   \n580        Увлажнение и питание        Лицо  Южная Корея  ...   \n1649                        NaN        Тело          NaN  ...   \n644                         NaN         NaN       Италия  ...   \n2200  Против признаков старения        Лицо  Южная Корея  ...   \n1583       Увлажнение и питание        Лицо  Южная Корея  ...   \n1557       Увлажнение и питание        Лицо  Южная Корея  ...   \n3096       Увлажнение и питание        Лицо      Франция  ...   \n5896                        NaN        Тело     Германия  ...   \n768        Увлажнение и питание       Глаза          США  ...   \n\n      main_product_sku  main_product_id best_loyalty_price dimension29  \\\n1474       89190400038            84662             1483.0       False   \n580        19000053765           225541             1631.0       False   \n1649       19000003067           171588              719.0       False   \n644        19000004670           163728             5112.0       False   \n2200       19760320732           161326                NaN        True   \n1583       19760320731           161283                NaN        True   \n1557       19760343848           166713                NaN        True   \n3096       89190400028            66919             2370.0       False   \n5896       19760332149           153249                NaN        True   \n768        15370600002           213818                NaN       False   \n\n     dimension28                                        description  \\\n1474       False                   Для гиперчувствительной области.   \n580        False  Тонер нежно обволакивает грубую кожу, интенсив...   \n1649        True                        Натуральный лосьон для тела   \n644        False  Матирующая компактная пудра Poudre De Beauté M...   \n2200       False                                              Маска   \n1583       False                                              Маска   \n1557        True                                              Маска   \n3096       False  Помогает восстановить естественную красоту сух...   \n5896       False  Молочко увлажняет и смягчает кожу, сохраняет э...   \n768        False                     №1 Крем для кожи вокруг глаз *   \n\n                                          product_usage  \\\n1474     Наносить днем легкими массирующими движениями.   \n580   нанесите небольшое количество тонера на ватный...   \n1649  используйте после купания или очищения кожи. Н...   \n644   Благодаря спонжу, состоящему из 2 видов микроф...   \n2200  Нанесите маску на кожу лица и оставьте на 15-2...   \n1583  Нанесите маску на кожу лица и оставьте на 15-2...   \n1557  1. После очищения лица нанесите тонер для подг...   \n3096    Наносить на очищенную кожу утром и/или вечером.   \n5896  Для ухода за кожей, можно использовать для мас...   \n768               Используйте крем утром и/или вечером.   \n\n                                    product_composition           category  \\\n1474  AVENE THERMAL SPRING WATER (AVENE AQUA). MINER...  zdorov-e-i-apteka   \n580   Phormium Tenax Root Extract, Propanediol, 1,2-...              azija   \n1649  Aqua (Thermal Water), Caprylic/ Capric Triglyc...         dlja-detej   \n644   Talc, Zinc Stearate, Zea Mays (Corn) Starch, M...           makijazh   \n2200  D.I-water, Glycerin, Aloe Barbadensis Leaf Ext...               uhod   \n1583  D.I-water, Glycerin, Butylene Glycol, Aloe Bar...               uhod   \n1557  Water, Glycerin, Propylene Glycol, Butylene Gl...               uhod   \n3096  AVENE AQUA, GLYCERIN, OCTYLDODECANOL, PARAFFIN...  zdorov-e-i-apteka   \n5896  Aqua, Helianthus Annuus Seed Oil, Sorbitol, Oc...         dlja-detej   \n768   AQUA / WATER BUTYROSPERMUM PARKII BUTTER / SHE...               uhod   \n\n            category_ru  \n1474  здоровье и аптека  \n580                азия  \n1649          для детей  \n644              макияж  \n2200               уход  \n1583               уход  \n1557               уход  \n3096  здоровье и аптека  \n5896          для детей  \n768                уход  \n\n[10 rows x 27 columns]",
      "text/html": "<div>\n<style scoped>\n    .dataframe tbody tr th:only-of-type {\n        vertical-align: middle;\n    }\n\n    .dataframe tbody tr th {\n        vertical-align: top;\n    }\n\n    .dataframe thead th {\n        text-align: right;\n    }\n</style>\n<table border=\"1\" class=\"dataframe\">\n  <thead>\n    <tr style=\"text-align: right;\">\n      <th></th>\n      <th>id</th>\n      <th>sku</th>\n      <th>name</th>\n      <th>brand</th>\n      <th>brand_type</th>\n      <th>dimension17</th>\n      <th>dimension18</th>\n      <th>dimension19</th>\n      <th>dimension20</th>\n      <th>country</th>\n      <th>...</th>\n      <th>main_product_sku</th>\n      <th>main_product_id</th>\n      <th>best_loyalty_price</th>\n      <th>dimension29</th>\n      <th>dimension28</th>\n      <th>description</th>\n      <th>product_usage</th>\n      <th>product_composition</th>\n      <th>category</th>\n      <th>category_ru</th>\n    </tr>\n  </thead>\n  <tbody>\n    <tr>\n      <th>1474</th>\n      <td>84662</td>\n      <td>89190400038</td>\n      <td>Refreshing Eye Contour Cream</td>\n      <td>EAU THERMALE AVENE</td>\n      <td>standard</td>\n      <td>Крем</td>\n      <td>Женский</td>\n      <td>Против признаков старения</td>\n      <td>Глаза</td>\n      <td>Франция</td>\n      <td>...</td>\n      <td>89190400038</td>\n      <td>84662</td>\n      <td>1483.0</td>\n      <td>False</td>\n      <td>False</td>\n      <td>Для гиперчувствительной области.</td>\n      <td>Наносить днем легкими массирующими движениями.</td>\n      <td>AVENE THERMAL SPRING WATER (AVENE AQUA). MINER...</td>\n      <td>zdorov-e-i-apteka</td>\n      <td>здоровье и аптека</td>\n    </tr>\n    <tr>\n      <th>580</th>\n      <td>225541</td>\n      <td>19000053765</td>\n      <td>Urban Eco Harakeke Root Toner</td>\n      <td>THE Saem</td>\n      <td>standard</td>\n      <td>Тонер</td>\n      <td>Женский</td>\n      <td>Увлажнение и питание</td>\n      <td>Лицо</td>\n      <td>Южная Корея</td>\n      <td>...</td>\n      <td>19000053765</td>\n      <td>225541</td>\n      <td>1631.0</td>\n      <td>False</td>\n      <td>False</td>\n      <td>Тонер нежно обволакивает грубую кожу, интенсив...</td>\n      <td>нанесите небольшое количество тонера на ватный...</td>\n      <td>Phormium Tenax Root Extract, Propanediol, 1,2-...</td>\n      <td>azija</td>\n      <td>азия</td>\n    </tr>\n    <tr>\n      <th>1649</th>\n      <td>171588</td>\n      <td>19000003067</td>\n      <td>BABY Basic Line With Calendula &amp; Panthenol</td>\n      <td>roofa spain</td>\n      <td>standard</td>\n      <td>Лосьон</td>\n      <td>Для детей</td>\n      <td>NaN</td>\n      <td>Тело</td>\n      <td>NaN</td>\n      <td>...</td>\n      <td>19000003067</td>\n      <td>171588</td>\n      <td>719.0</td>\n      <td>False</td>\n      <td>True</td>\n      <td>Натуральный лосьон для тела</td>\n      <td>используйте после купания или очищения кожи. Н...</td>\n      <td>Aqua (Thermal Water), Caprylic/ Capric Triglyc...</td>\n      <td>dlja-detej</td>\n      <td>для детей</td>\n    </tr>\n    <tr>\n      <th>644</th>\n      <td>163627</td>\n      <td>10019-19000004370</td>\n      <td>Poudre De Beauté Mat Naturel</td>\n      <td>GUCCI</td>\n      <td>middle</td>\n      <td>Компактная пудра</td>\n      <td>Женский</td>\n      <td>NaN</td>\n      <td>NaN</td>\n      <td>Италия</td>\n      <td>...</td>\n      <td>19000004670</td>\n      <td>163728</td>\n      <td>5112.0</td>\n      <td>False</td>\n      <td>False</td>\n      <td>Матирующая компактная пудра Poudre De Beauté M...</td>\n      <td>Благодаря спонжу, состоящему из 2 видов микроф...</td>\n      <td>Talc, Zinc Stearate, Zea Mays (Corn) Starch, M...</td>\n      <td>makijazh</td>\n      <td>макияж</td>\n    </tr>\n    <tr>\n      <th>2200</th>\n      <td>161326</td>\n      <td>19760320732</td>\n      <td>Elasticity &amp; lifting Moisture Mask Pack</td>\n      <td>Cosworker</td>\n      <td>standard</td>\n      <td>Маски тканевые</td>\n      <td>Унисекс</td>\n      <td>Против признаков старения</td>\n      <td>Лицо</td>\n      <td>Южная Корея</td>\n      <td>...</td>\n      <td>19760320732</td>\n      <td>161326</td>\n      <td>NaN</td>\n      <td>True</td>\n      <td>False</td>\n      <td>Маска</td>\n      <td>Нанесите маску на кожу лица и оставьте на 15-2...</td>\n      <td>D.I-water, Glycerin, Aloe Barbadensis Leaf Ext...</td>\n      <td>uhod</td>\n      <td>уход</td>\n    </tr>\n    <tr>\n      <th>1583</th>\n      <td>161283</td>\n      <td>19760320731</td>\n      <td>Moisturizing Mask Pack</td>\n      <td>Cosworker</td>\n      <td>standard</td>\n      <td>Маски тканевые</td>\n      <td>Унисекс</td>\n      <td>Увлажнение и питание</td>\n      <td>Лицо</td>\n      <td>Южная Корея</td>\n      <td>...</td>\n      <td>19760320731</td>\n      <td>161283</td>\n      <td>NaN</td>\n      <td>True</td>\n      <td>False</td>\n      <td>Маска</td>\n      <td>Нанесите маску на кожу лица и оставьте на 15-2...</td>\n      <td>D.I-water, Glycerin, Butylene Glycol, Aloe Bar...</td>\n      <td>uhod</td>\n      <td>уход</td>\n    </tr>\n    <tr>\n      <th>1557</th>\n      <td>166713</td>\n      <td>19760343848</td>\n      <td>NATURAL MOISTURE MASK SHEET - MADECASSOSIDE</td>\n      <td>ORJENA</td>\n      <td>standard</td>\n      <td>Маски тканевые</td>\n      <td>Унисекс</td>\n      <td>Увлажнение и питание</td>\n      <td>Лицо</td>\n      <td>Южная Корея</td>\n      <td>...</td>\n      <td>19760343848</td>\n      <td>166713</td>\n      <td>NaN</td>\n      <td>True</td>\n      <td>True</td>\n      <td>Маска</td>\n      <td>1. После очищения лица нанесите тонер для подг...</td>\n      <td>Water, Glycerin, Propylene Glycol, Butylene Gl...</td>\n      <td>uhod</td>\n      <td>уход</td>\n    </tr>\n    <tr>\n      <th>3096</th>\n      <td>66919</td>\n      <td>89190400028</td>\n      <td>Revitalizing Nourishing Cream</td>\n      <td>EAU THERMALE AVENE</td>\n      <td>standard</td>\n      <td>Крем</td>\n      <td>Унисекс</td>\n      <td>Увлажнение и питание</td>\n      <td>Лицо</td>\n      <td>Франция</td>\n      <td>...</td>\n      <td>89190400028</td>\n      <td>66919</td>\n      <td>2370.0</td>\n      <td>False</td>\n      <td>False</td>\n      <td>Помогает восстановить естественную красоту сух...</td>\n      <td>Наносить на очищенную кожу утром и/или вечером.</td>\n      <td>AVENE AQUA, GLYCERIN, OCTYLDODECANOL, PARAFFIN...</td>\n      <td>zdorov-e-i-apteka</td>\n      <td>здоровье и аптека</td>\n    </tr>\n    <tr>\n      <th>5896</th>\n      <td>153249</td>\n      <td>19760332149</td>\n      <td>Milk</td>\n      <td>Bubchen</td>\n      <td>standard</td>\n      <td>Молочко</td>\n      <td>Для детей</td>\n      <td>NaN</td>\n      <td>Тело</td>\n      <td>Германия</td>\n      <td>...</td>\n      <td>19760332149</td>\n      <td>153249</td>\n      <td>NaN</td>\n      <td>True</td>\n      <td>False</td>\n      <td>Молочко увлажняет и смягчает кожу, сохраняет э...</td>\n      <td>Для ухода за кожей, можно использовать для мас...</td>\n      <td>Aqua, Helianthus Annuus Seed Oil, Sorbitol, Oc...</td>\n      <td>dlja-detej</td>\n      <td>для детей</td>\n    </tr>\n    <tr>\n      <th>768</th>\n      <td>203450</td>\n      <td>10693-15370600002</td>\n      <td>Creamy Eye Treatment with Avocado</td>\n      <td>Kiehl's</td>\n      <td>standard</td>\n      <td>Крем</td>\n      <td>Женский</td>\n      <td>Увлажнение и питание</td>\n      <td>Глаза</td>\n      <td>США</td>\n      <td>...</td>\n      <td>15370600002</td>\n      <td>213818</td>\n      <td>NaN</td>\n      <td>False</td>\n      <td>False</td>\n      <td>№1 Крем для кожи вокруг глаз *</td>\n      <td>Используйте крем утром и/или вечером.</td>\n      <td>AQUA / WATER BUTYROSPERMUM PARKII BUTTER / SHE...</td>\n      <td>uhod</td>\n      <td>уход</td>\n    </tr>\n  </tbody>\n</table>\n<p>10 rows × 27 columns</p>\n</div>"
     },
     "execution_count": 30,
     "metadata": {},
     "output_type": "execute_result"
    }
   ],
   "source": [
    "data.iloc[same_embedding_indexes[0]]"
   ],
   "metadata": {
    "collapsed": false,
    "pycharm": {
     "name": "#%%\n"
    }
   }
  },
  {
   "cell_type": "markdown",
   "source": [
    "3. Построим индекс по инструкциям продукта"
   ],
   "metadata": {
    "collapsed": false,
    "pycharm": {
     "name": "#%% md\n"
    }
   }
  },
  {
   "cell_type": "code",
   "execution_count": 32,
   "outputs": [
    {
     "name": "stdout",
     "output_type": "stream",
     "text": [
      "0\n",
      "11910\n"
     ]
    }
   ],
   "source": [
    "index = faiss.IndexFlatL2(embedded_product_usage.shape[1])\n",
    "print(index.ntotal)  # пока индекс пустой\n",
    "index.add(np.ascontiguousarray(embedded_product_usage.to_numpy().astype('float32')))\n",
    "print(index.ntotal)  # теперь в нем n векторов"
   ],
   "metadata": {
    "collapsed": false,
    "pycharm": {
     "name": "#%%\n"
    }
   }
  },
  {
   "cell_type": "code",
   "execution_count": 33,
   "outputs": [],
   "source": [
    "faiss.write_index(index, 'faiss_product_usage_index.index')"
   ],
   "metadata": {
    "collapsed": false,
    "pycharm": {
     "name": "#%%\n"
    }
   }
  },
  {
   "cell_type": "code",
   "execution_count": 36,
   "outputs": [
    {
     "name": "stdout",
     "output_type": "stream",
     "text": [
      "[2925 4732 2963 4715 3910 4712 4639 4840 4660 4507]\n",
      "[[0.       0.       0.       2.066492 2.066492 2.066492 2.066492 2.066492\n",
      "  2.066492 2.066492]]\n"
     ]
    }
   ],
   "source": [
    "topn = 10\n",
    "product_index_in_data = 4732\n",
    "distances, same_embedding_indexes = index.search(np.ascontiguousarray(embedded_product_usage.to_numpy().astype('float32')[product_index_in_data].reshape((1, -1))), 10)\n",
    "print(same_embedding_indexes[0]) # индексы самых похожих векторов\n",
    "print(distances) # расстояния, отсортированные по убыванию"
   ],
   "metadata": {
    "collapsed": false,
    "pycharm": {
     "name": "#%%\n"
    }
   }
  },
  {
   "cell_type": "code",
   "execution_count": 37,
   "outputs": [
    {
     "data": {
      "text/plain": "          id                sku                   name      brand brand_type  \\\n2925  188967  12241-19000033554                 черный  Belle YOU   standard   \n4732  222558  10689-19000071649              ENERGETIC      Mirey   standard   \n2963  188963  12241-19000033551       темно-коричневый  Belle YOU   standard   \n4715  222707        19000071484   Spalla Stretta mahgo         MY   standard   \n3910  222577  10689-19000071663               SYMPATHY      Mirey   standard   \n4712  222702        19000071479    Spalla Stretta moon         MY   standard   \n4639  222704        19000071481  Spalla Stretta bodily         MY   standard   \n4840  222699        19000071476  Spalla Stretta bianco         MY   standard   \n4660  222701        19000071478    Spalla Stretta iris         MY   standard   \n4507  222710        19000071487   Spalla Stretta ocean         MY   standard   \n\n     dimension17 dimension18 dimension19 dimension20 country  ...  \\\n2925     Легинсы     Женский         NaN         NaN  Россия  ...   \n4732    Колготки     Женский         NaN         NaN  Россия  ...   \n2963     Легинсы     Женский         NaN         NaN  Россия  ...   \n4715         Топ     Женский         NaN         NaN  Россия  ...   \n3910       Чулки     Женский         NaN         NaN  Россия  ...   \n4712         Топ     Женский         NaN         NaN  Россия  ...   \n4639         Топ     Женский         NaN         NaN  Россия  ...   \n4840         Топ     Женский         NaN         NaN  Россия  ...   \n4660         Топ     Женский         NaN         NaN  Россия  ...   \n4507         Топ     Женский         NaN         NaN  Россия  ...   \n\n      main_product_sku  main_product_id best_loyalty_price dimension29  \\\n2925       19000033554           188966                NaN       False   \n4732       19000071649           222557              297.0       False   \n2963       19000033551           188962                NaN       False   \n4715       19000071484           222707              711.0       False   \n3910       19000071663           222576              547.0       False   \n4712       19000071479           222702              711.0       False   \n4639       19000071481           222704              711.0       False   \n4840       19000071476           222699              711.0       False   \n4660       19000071478           222701              711.0       False   \n4507       19000071487           222710              711.0       False   \n\n     dimension28                                        description  \\\n2925       False  Фактурные легинсы из мягкого трикотажа в рубчи...   \n4732        True      Фантазийные колготки с геометрическим узором.   \n2963       False  Фактурные легинсы из мягкого трикотажа в рубчи...   \n4715        True  Женский базовый топ на тонких бретелях из мягк...   \n3910        True  Шелковистые полуматовые чулки с резинкой на си...   \n4712        True  Женский базовый топ на тонких бретелях из мягк...   \n4639        True  Женский базовый топ на тонких бретелях из мягк...   \n4840        True  Женский базовый топ на тонких бретелях из мягк...   \n4660        True  Женский базовый топ на тонких бретелях из мягк...   \n4507        True  Женский базовый топ на тонких бретелях из мягк...   \n\n                 product_usage  \\\n2925  96% полиамид, 4% эластан   \n4732  96% полиамид, 4% эластан   \n2963  96% полиамид, 4% эластан   \n4715  92% полиамид, 8% эластан   \n3910  92% полиамид, 8% эластан   \n4712  92% полиамид, 8% эластан   \n4639  92% полиамид, 8% эластан   \n4840  92% полиамид, 8% эластан   \n4660  92% полиамид, 8% эластан   \n4507  92% полиамид, 8% эластан   \n\n                                    product_composition              category  \\\n2925  Бренд Belle YOU создает белье и одежду, в кото...  odezhda-i-aksessuary   \n4732  Мы наконец-то живем в эпоху, когда удивлять и ...        nizhnee-bel-jo   \n2963  Бренд Belle YOU создает белье и одежду, в кото...        nizhnee-bel-jo   \n4715              Белье, которое реально удобно носить.        nizhnee-bel-jo   \n3910  Мы наконец-то живем в эпоху, когда удивлять и ...        nizhnee-bel-jo   \n4712              Белье, которое реально удобно носить.        nizhnee-bel-jo   \n4639              Белье, которое реально удобно носить.        nizhnee-bel-jo   \n4840              Белье, которое реально удобно носить.        nizhnee-bel-jo   \n4660              Белье, которое реально удобно носить.        nizhnee-bel-jo   \n4507              Белье, которое реально удобно носить.        nizhnee-bel-jo   \n\n              category_ru  \n2925  одежда и аксессуары  \n4732         нижнее бельё  \n2963         нижнее бельё  \n4715         нижнее бельё  \n3910         нижнее бельё  \n4712         нижнее бельё  \n4639         нижнее бельё  \n4840         нижнее бельё  \n4660         нижнее бельё  \n4507         нижнее бельё  \n\n[10 rows x 27 columns]",
      "text/html": "<div>\n<style scoped>\n    .dataframe tbody tr th:only-of-type {\n        vertical-align: middle;\n    }\n\n    .dataframe tbody tr th {\n        vertical-align: top;\n    }\n\n    .dataframe thead th {\n        text-align: right;\n    }\n</style>\n<table border=\"1\" class=\"dataframe\">\n  <thead>\n    <tr style=\"text-align: right;\">\n      <th></th>\n      <th>id</th>\n      <th>sku</th>\n      <th>name</th>\n      <th>brand</th>\n      <th>brand_type</th>\n      <th>dimension17</th>\n      <th>dimension18</th>\n      <th>dimension19</th>\n      <th>dimension20</th>\n      <th>country</th>\n      <th>...</th>\n      <th>main_product_sku</th>\n      <th>main_product_id</th>\n      <th>best_loyalty_price</th>\n      <th>dimension29</th>\n      <th>dimension28</th>\n      <th>description</th>\n      <th>product_usage</th>\n      <th>product_composition</th>\n      <th>category</th>\n      <th>category_ru</th>\n    </tr>\n  </thead>\n  <tbody>\n    <tr>\n      <th>2925</th>\n      <td>188967</td>\n      <td>12241-19000033554</td>\n      <td>черный</td>\n      <td>Belle YOU</td>\n      <td>standard</td>\n      <td>Легинсы</td>\n      <td>Женский</td>\n      <td>NaN</td>\n      <td>NaN</td>\n      <td>Россия</td>\n      <td>...</td>\n      <td>19000033554</td>\n      <td>188966</td>\n      <td>NaN</td>\n      <td>False</td>\n      <td>False</td>\n      <td>Фактурные легинсы из мягкого трикотажа в рубчи...</td>\n      <td>96% полиамид, 4% эластан</td>\n      <td>Бренд Belle YOU создает белье и одежду, в кото...</td>\n      <td>odezhda-i-aksessuary</td>\n      <td>одежда и аксессуары</td>\n    </tr>\n    <tr>\n      <th>4732</th>\n      <td>222558</td>\n      <td>10689-19000071649</td>\n      <td>ENERGETIC</td>\n      <td>Mirey</td>\n      <td>standard</td>\n      <td>Колготки</td>\n      <td>Женский</td>\n      <td>NaN</td>\n      <td>NaN</td>\n      <td>Россия</td>\n      <td>...</td>\n      <td>19000071649</td>\n      <td>222557</td>\n      <td>297.0</td>\n      <td>False</td>\n      <td>True</td>\n      <td>Фантазийные колготки с геометрическим узором.</td>\n      <td>96% полиамид, 4% эластан</td>\n      <td>Мы наконец-то живем в эпоху, когда удивлять и ...</td>\n      <td>nizhnee-bel-jo</td>\n      <td>нижнее бельё</td>\n    </tr>\n    <tr>\n      <th>2963</th>\n      <td>188963</td>\n      <td>12241-19000033551</td>\n      <td>темно-коричневый</td>\n      <td>Belle YOU</td>\n      <td>standard</td>\n      <td>Легинсы</td>\n      <td>Женский</td>\n      <td>NaN</td>\n      <td>NaN</td>\n      <td>Россия</td>\n      <td>...</td>\n      <td>19000033551</td>\n      <td>188962</td>\n      <td>NaN</td>\n      <td>False</td>\n      <td>False</td>\n      <td>Фактурные легинсы из мягкого трикотажа в рубчи...</td>\n      <td>96% полиамид, 4% эластан</td>\n      <td>Бренд Belle YOU создает белье и одежду, в кото...</td>\n      <td>nizhnee-bel-jo</td>\n      <td>нижнее бельё</td>\n    </tr>\n    <tr>\n      <th>4715</th>\n      <td>222707</td>\n      <td>19000071484</td>\n      <td>Spalla Stretta mahgo</td>\n      <td>MY</td>\n      <td>standard</td>\n      <td>Топ</td>\n      <td>Женский</td>\n      <td>NaN</td>\n      <td>NaN</td>\n      <td>Россия</td>\n      <td>...</td>\n      <td>19000071484</td>\n      <td>222707</td>\n      <td>711.0</td>\n      <td>False</td>\n      <td>True</td>\n      <td>Женский базовый топ на тонких бретелях из мягк...</td>\n      <td>92% полиамид, 8% эластан</td>\n      <td>Белье, которое реально удобно носить.</td>\n      <td>nizhnee-bel-jo</td>\n      <td>нижнее бельё</td>\n    </tr>\n    <tr>\n      <th>3910</th>\n      <td>222577</td>\n      <td>10689-19000071663</td>\n      <td>SYMPATHY</td>\n      <td>Mirey</td>\n      <td>standard</td>\n      <td>Чулки</td>\n      <td>Женский</td>\n      <td>NaN</td>\n      <td>NaN</td>\n      <td>Россия</td>\n      <td>...</td>\n      <td>19000071663</td>\n      <td>222576</td>\n      <td>547.0</td>\n      <td>False</td>\n      <td>True</td>\n      <td>Шелковистые полуматовые чулки с резинкой на си...</td>\n      <td>92% полиамид, 8% эластан</td>\n      <td>Мы наконец-то живем в эпоху, когда удивлять и ...</td>\n      <td>nizhnee-bel-jo</td>\n      <td>нижнее бельё</td>\n    </tr>\n    <tr>\n      <th>4712</th>\n      <td>222702</td>\n      <td>19000071479</td>\n      <td>Spalla Stretta moon</td>\n      <td>MY</td>\n      <td>standard</td>\n      <td>Топ</td>\n      <td>Женский</td>\n      <td>NaN</td>\n      <td>NaN</td>\n      <td>Россия</td>\n      <td>...</td>\n      <td>19000071479</td>\n      <td>222702</td>\n      <td>711.0</td>\n      <td>False</td>\n      <td>True</td>\n      <td>Женский базовый топ на тонких бретелях из мягк...</td>\n      <td>92% полиамид, 8% эластан</td>\n      <td>Белье, которое реально удобно носить.</td>\n      <td>nizhnee-bel-jo</td>\n      <td>нижнее бельё</td>\n    </tr>\n    <tr>\n      <th>4639</th>\n      <td>222704</td>\n      <td>19000071481</td>\n      <td>Spalla Stretta bodily</td>\n      <td>MY</td>\n      <td>standard</td>\n      <td>Топ</td>\n      <td>Женский</td>\n      <td>NaN</td>\n      <td>NaN</td>\n      <td>Россия</td>\n      <td>...</td>\n      <td>19000071481</td>\n      <td>222704</td>\n      <td>711.0</td>\n      <td>False</td>\n      <td>True</td>\n      <td>Женский базовый топ на тонких бретелях из мягк...</td>\n      <td>92% полиамид, 8% эластан</td>\n      <td>Белье, которое реально удобно носить.</td>\n      <td>nizhnee-bel-jo</td>\n      <td>нижнее бельё</td>\n    </tr>\n    <tr>\n      <th>4840</th>\n      <td>222699</td>\n      <td>19000071476</td>\n      <td>Spalla Stretta bianco</td>\n      <td>MY</td>\n      <td>standard</td>\n      <td>Топ</td>\n      <td>Женский</td>\n      <td>NaN</td>\n      <td>NaN</td>\n      <td>Россия</td>\n      <td>...</td>\n      <td>19000071476</td>\n      <td>222699</td>\n      <td>711.0</td>\n      <td>False</td>\n      <td>True</td>\n      <td>Женский базовый топ на тонких бретелях из мягк...</td>\n      <td>92% полиамид, 8% эластан</td>\n      <td>Белье, которое реально удобно носить.</td>\n      <td>nizhnee-bel-jo</td>\n      <td>нижнее бельё</td>\n    </tr>\n    <tr>\n      <th>4660</th>\n      <td>222701</td>\n      <td>19000071478</td>\n      <td>Spalla Stretta iris</td>\n      <td>MY</td>\n      <td>standard</td>\n      <td>Топ</td>\n      <td>Женский</td>\n      <td>NaN</td>\n      <td>NaN</td>\n      <td>Россия</td>\n      <td>...</td>\n      <td>19000071478</td>\n      <td>222701</td>\n      <td>711.0</td>\n      <td>False</td>\n      <td>True</td>\n      <td>Женский базовый топ на тонких бретелях из мягк...</td>\n      <td>92% полиамид, 8% эластан</td>\n      <td>Белье, которое реально удобно носить.</td>\n      <td>nizhnee-bel-jo</td>\n      <td>нижнее бельё</td>\n    </tr>\n    <tr>\n      <th>4507</th>\n      <td>222710</td>\n      <td>19000071487</td>\n      <td>Spalla Stretta ocean</td>\n      <td>MY</td>\n      <td>standard</td>\n      <td>Топ</td>\n      <td>Женский</td>\n      <td>NaN</td>\n      <td>NaN</td>\n      <td>Россия</td>\n      <td>...</td>\n      <td>19000071487</td>\n      <td>222710</td>\n      <td>711.0</td>\n      <td>False</td>\n      <td>True</td>\n      <td>Женский базовый топ на тонких бретелях из мягк...</td>\n      <td>92% полиамид, 8% эластан</td>\n      <td>Белье, которое реально удобно носить.</td>\n      <td>nizhnee-bel-jo</td>\n      <td>нижнее бельё</td>\n    </tr>\n  </tbody>\n</table>\n<p>10 rows × 27 columns</p>\n</div>"
     },
     "execution_count": 37,
     "metadata": {},
     "output_type": "execute_result"
    }
   ],
   "source": [
    "data.iloc[same_embedding_indexes[0]]"
   ],
   "metadata": {
    "collapsed": false,
    "pycharm": {
     "name": "#%%\n"
    }
   }
  },
  {
   "cell_type": "markdown",
   "source": [
    "### Сгенерируем эмбеддинги изображений"
   ],
   "metadata": {
    "collapsed": false,
    "pycharm": {
     "name": "#%% md\n"
    }
   }
  },
  {
   "cell_type": "code",
   "execution_count": 197,
   "outputs": [],
   "source": [
    "image_embeddings = pd.DataFrame()\n",
    "images_data = pd.read_csv('../data/product_images.csv')\n",
    "embedding_pipeline = pipeline('towhee/image-embedding-resnet50', )"
   ],
   "metadata": {
    "collapsed": false,
    "pycharm": {
     "name": "#%%\n"
    }
   }
  },
  {
   "cell_type": "code",
   "execution_count": 199,
   "outputs": [
    {
     "data": {
      "text/plain": "  0%|          | 0/26278 [00:00<?, ?it/s]",
      "application/vnd.jupyter.widget-view+json": {
       "version_major": 2,
       "version_minor": 0,
       "model_id": "60380d968a094822b099c5dd88fecadd"
      }
     },
     "metadata": {},
     "output_type": "display_data"
    }
   ],
   "source": [
    "pbar = tqdm(range(len(images_data)))\n",
    "for index, row in images_data.head(20).iterrows():\n",
    "\timg_path = rf'P:\\market_recommendations\\data\\images\\{row[\"image\"]}'\n",
    "\tembedding = pd.DataFrame(embedding_pipeline(img_path).reshape((1, -1)))\n",
    "\tembedding['id'] = row['id']\n",
    "\tembedding['sku'] = row['sku']\n",
    "\timage_embeddings = pd.concat([image_embeddings, embedding])\n",
    "\tpbar.update(1)"
   ],
   "metadata": {
    "collapsed": false,
    "pycharm": {
     "name": "#%%\n"
    }
   }
  },
  {
   "cell_type": "code",
   "execution_count": 206,
   "outputs": [
    {
     "data": {
      "text/plain": "       id          sku                                               name  \\\n0  151709  19760331641                                             анклет   \n1  219259  19000070237  Peptide 9 Balance Eye Hyaluronic Volumy Eye Cr...   \n2  227749  19000042157                                        Mad Maxcara   \n3  151711  19760331652                                    Утонченная Мари   \n4  155448  19760318176                                     TIME CONTROL +   \n\n              brand brand_type               dimension17 dimension18  \\\n0  Nothing but Love   standard                   Браслет     Женский   \n1         MEDI PEEL   standard                      Крем     Унисекс   \n2               RAD   standard  Объемная тушь для ресниц         NaN   \n3  Nothing but Love   standard                   Браслет     Женский   \n4            TALIKA   standard                  Массажер     Женский   \n\n                 dimension19 dimension20      country  ...  main_product_sku  \\\n0                        NaN         NaN          NaN  ...       19760331641   \n1  Против признаков старения       Глаза  Южная Корея  ...       19000070237   \n2                        NaN         NaN   Нидерланды  ...       19000042157   \n3                        NaN         NaN          NaN  ...       19760331652   \n4                        NaN         NaN      Франция  ...       19760318176   \n\n   main_product_id best_loyalty_price dimension29 dimension28  \\\n0           151709              476.0       False       False   \n1           219259             2763.0       False       False   \n2           227749                NaN       False        True   \n3           151711              644.0       False       False   \n4           155448            13837.0       False        True   \n\n                                         description  \\\n0                                                NaN   \n1                                                NaN   \n2  Это ОНА, немного крэйзи подруга твоих ресниц, ...   \n3                                                NaN   \n4                               Косметический прибор   \n\n                                       product_usage  \\\n0                                                NaN   \n1                                                NaN   \n2  Aqua (Water), Synthetic Beeswax, Paraffin, CI ...   \n3                                                NaN   \n4  включите прибор, нажав кнопку, и подождите, по...   \n\n                                 product_composition     category  category_ru  \n0                                                NaN  ukrashenija    украшения  \n1                                                NaN         uhod         уход  \n2  RAD — креативный beauty бренд для самых прогре...     makijazh       макияж  \n3                                                NaN  ukrashenija    украшения  \n4  АБС-терполимер Термопластический эластомер USB...      tehnika      техника  \n\n[5 rows x 27 columns]",
      "text/html": "<div>\n<style scoped>\n    .dataframe tbody tr th:only-of-type {\n        vertical-align: middle;\n    }\n\n    .dataframe tbody tr th {\n        vertical-align: top;\n    }\n\n    .dataframe thead th {\n        text-align: right;\n    }\n</style>\n<table border=\"1\" class=\"dataframe\">\n  <thead>\n    <tr style=\"text-align: right;\">\n      <th></th>\n      <th>id</th>\n      <th>sku</th>\n      <th>name</th>\n      <th>brand</th>\n      <th>brand_type</th>\n      <th>dimension17</th>\n      <th>dimension18</th>\n      <th>dimension19</th>\n      <th>dimension20</th>\n      <th>country</th>\n      <th>...</th>\n      <th>main_product_sku</th>\n      <th>main_product_id</th>\n      <th>best_loyalty_price</th>\n      <th>dimension29</th>\n      <th>dimension28</th>\n      <th>description</th>\n      <th>product_usage</th>\n      <th>product_composition</th>\n      <th>category</th>\n      <th>category_ru</th>\n    </tr>\n  </thead>\n  <tbody>\n    <tr>\n      <th>0</th>\n      <td>151709</td>\n      <td>19760331641</td>\n      <td>анклет</td>\n      <td>Nothing but Love</td>\n      <td>standard</td>\n      <td>Браслет</td>\n      <td>Женский</td>\n      <td>NaN</td>\n      <td>NaN</td>\n      <td>NaN</td>\n      <td>...</td>\n      <td>19760331641</td>\n      <td>151709</td>\n      <td>476.0</td>\n      <td>False</td>\n      <td>False</td>\n      <td>NaN</td>\n      <td>NaN</td>\n      <td>NaN</td>\n      <td>ukrashenija</td>\n      <td>украшения</td>\n    </tr>\n    <tr>\n      <th>1</th>\n      <td>219259</td>\n      <td>19000070237</td>\n      <td>Peptide 9 Balance Eye Hyaluronic Volumy Eye Cr...</td>\n      <td>MEDI PEEL</td>\n      <td>standard</td>\n      <td>Крем</td>\n      <td>Унисекс</td>\n      <td>Против признаков старения</td>\n      <td>Глаза</td>\n      <td>Южная Корея</td>\n      <td>...</td>\n      <td>19000070237</td>\n      <td>219259</td>\n      <td>2763.0</td>\n      <td>False</td>\n      <td>False</td>\n      <td>NaN</td>\n      <td>NaN</td>\n      <td>NaN</td>\n      <td>uhod</td>\n      <td>уход</td>\n    </tr>\n    <tr>\n      <th>2</th>\n      <td>227749</td>\n      <td>19000042157</td>\n      <td>Mad Maxcara</td>\n      <td>RAD</td>\n      <td>standard</td>\n      <td>Объемная тушь для ресниц</td>\n      <td>NaN</td>\n      <td>NaN</td>\n      <td>NaN</td>\n      <td>Нидерланды</td>\n      <td>...</td>\n      <td>19000042157</td>\n      <td>227749</td>\n      <td>NaN</td>\n      <td>False</td>\n      <td>True</td>\n      <td>Это ОНА, немного крэйзи подруга твоих ресниц, ...</td>\n      <td>Aqua (Water), Synthetic Beeswax, Paraffin, CI ...</td>\n      <td>RAD — креативный beauty бренд для самых прогре...</td>\n      <td>makijazh</td>\n      <td>макияж</td>\n    </tr>\n    <tr>\n      <th>3</th>\n      <td>151711</td>\n      <td>19760331652</td>\n      <td>Утонченная Мари</td>\n      <td>Nothing but Love</td>\n      <td>standard</td>\n      <td>Браслет</td>\n      <td>Женский</td>\n      <td>NaN</td>\n      <td>NaN</td>\n      <td>NaN</td>\n      <td>...</td>\n      <td>19760331652</td>\n      <td>151711</td>\n      <td>644.0</td>\n      <td>False</td>\n      <td>False</td>\n      <td>NaN</td>\n      <td>NaN</td>\n      <td>NaN</td>\n      <td>ukrashenija</td>\n      <td>украшения</td>\n    </tr>\n    <tr>\n      <th>4</th>\n      <td>155448</td>\n      <td>19760318176</td>\n      <td>TIME CONTROL +</td>\n      <td>TALIKA</td>\n      <td>standard</td>\n      <td>Массажер</td>\n      <td>Женский</td>\n      <td>NaN</td>\n      <td>NaN</td>\n      <td>Франция</td>\n      <td>...</td>\n      <td>19760318176</td>\n      <td>155448</td>\n      <td>13837.0</td>\n      <td>False</td>\n      <td>True</td>\n      <td>Косметический прибор</td>\n      <td>включите прибор, нажав кнопку, и подождите, по...</td>\n      <td>АБС-терполимер Термопластический эластомер USB...</td>\n      <td>tehnika</td>\n      <td>техника</td>\n    </tr>\n  </tbody>\n</table>\n<p>5 rows × 27 columns</p>\n</div>"
     },
     "execution_count": 206,
     "metadata": {},
     "output_type": "execute_result"
    }
   ],
   "source": [
    "data.head()"
   ],
   "metadata": {
    "collapsed": false,
    "pycharm": {
     "name": "#%%\n"
    }
   }
  },
  {
   "cell_type": "code",
   "execution_count": 200,
   "outputs": [
    {
     "data": {
      "text/plain": "     0    1         2    3         4    5         6         7    8    9  ...  \\\n0  0.0  0.0  0.001977  0.0  0.011048  0.0  0.114332  0.073874  0.0  0.0  ...   \n\n   2040      2041      2042  2043      2044      2045      2046  2047      id  \\\n0   0.0  0.012779  0.005214   0.0  0.092239  0.016707  0.246688   0.0  161955   \n\n           sku  \n0  19000007001  \n\n[1 rows x 2050 columns]",
      "text/html": "<div>\n<style scoped>\n    .dataframe tbody tr th:only-of-type {\n        vertical-align: middle;\n    }\n\n    .dataframe tbody tr th {\n        vertical-align: top;\n    }\n\n    .dataframe thead th {\n        text-align: right;\n    }\n</style>\n<table border=\"1\" class=\"dataframe\">\n  <thead>\n    <tr style=\"text-align: right;\">\n      <th></th>\n      <th>0</th>\n      <th>1</th>\n      <th>2</th>\n      <th>3</th>\n      <th>4</th>\n      <th>5</th>\n      <th>6</th>\n      <th>7</th>\n      <th>8</th>\n      <th>9</th>\n      <th>...</th>\n      <th>2040</th>\n      <th>2041</th>\n      <th>2042</th>\n      <th>2043</th>\n      <th>2044</th>\n      <th>2045</th>\n      <th>2046</th>\n      <th>2047</th>\n      <th>id</th>\n      <th>sku</th>\n    </tr>\n  </thead>\n  <tbody>\n    <tr>\n      <th>0</th>\n      <td>0.0</td>\n      <td>0.0</td>\n      <td>0.001977</td>\n      <td>0.0</td>\n      <td>0.011048</td>\n      <td>0.0</td>\n      <td>0.114332</td>\n      <td>0.073874</td>\n      <td>0.0</td>\n      <td>0.0</td>\n      <td>...</td>\n      <td>0.0</td>\n      <td>0.012779</td>\n      <td>0.005214</td>\n      <td>0.0</td>\n      <td>0.092239</td>\n      <td>0.016707</td>\n      <td>0.246688</td>\n      <td>0.0</td>\n      <td>161955</td>\n      <td>19000007001</td>\n    </tr>\n  </tbody>\n</table>\n<p>1 rows × 2050 columns</p>\n</div>"
     },
     "execution_count": 200,
     "metadata": {},
     "output_type": "execute_result"
    }
   ],
   "source": [
    "embedding"
   ],
   "metadata": {
    "collapsed": false,
    "pycharm": {
     "name": "#%%\n"
    }
   }
  },
  {
   "cell_type": "code",
   "execution_count": 96,
   "outputs": [],
   "source": [
    "image_embeddings.to_csv('images_embeddings.csv', index=False)"
   ],
   "metadata": {
    "collapsed": false,
    "pycharm": {
     "name": "#%%\n"
    }
   }
  },
  {
   "cell_type": "code",
   "execution_count": 97,
   "outputs": [
    {
     "data": {
      "text/plain": "          0    1         2    3         4    5         6         7         8  \\\n0  0.025007  0.0  0.000875  0.0  0.171166  0.0  0.004925  0.254992  0.067476   \n0  0.025007  0.0  0.000875  0.0  0.171166  0.0  0.004925  0.254992  0.067476   \n0  0.025007  0.0  0.000875  0.0  0.171166  0.0  0.004925  0.254992  0.067476   \n0  0.025007  0.0  0.000875  0.0  0.171166  0.0  0.004925  0.254992  0.067476   \n0  0.025007  0.0  0.000875  0.0  0.171166  0.0  0.004925  0.254992  0.067476   \n\n     9  ...      2040      2041  2042      2043      2044      2045      2046  \\\n0  0.0  ...  0.004248  0.097569   0.0  0.183973  0.011834  0.029646  0.341438   \n0  0.0  ...  0.004248  0.097569   0.0  0.183973  0.011834  0.029646  0.341438   \n0  0.0  ...  0.004248  0.097569   0.0  0.183973  0.011834  0.029646  0.341438   \n0  0.0  ...  0.004248  0.097569   0.0  0.183973  0.011834  0.029646  0.341438   \n0  0.0  ...  0.004248  0.097569   0.0  0.183973  0.011834  0.029646  0.341438   \n\n   2047      id          sku  \n0   0.0  151709  19760331641  \n0   0.0  151709  19760331641  \n0   0.0  219259  19000070237  \n0   0.0  219259  19000070237  \n0   0.0  219259  19000070237  \n\n[5 rows x 2050 columns]",
      "text/html": "<div>\n<style scoped>\n    .dataframe tbody tr th:only-of-type {\n        vertical-align: middle;\n    }\n\n    .dataframe tbody tr th {\n        vertical-align: top;\n    }\n\n    .dataframe thead th {\n        text-align: right;\n    }\n</style>\n<table border=\"1\" class=\"dataframe\">\n  <thead>\n    <tr style=\"text-align: right;\">\n      <th></th>\n      <th>0</th>\n      <th>1</th>\n      <th>2</th>\n      <th>3</th>\n      <th>4</th>\n      <th>5</th>\n      <th>6</th>\n      <th>7</th>\n      <th>8</th>\n      <th>9</th>\n      <th>...</th>\n      <th>2040</th>\n      <th>2041</th>\n      <th>2042</th>\n      <th>2043</th>\n      <th>2044</th>\n      <th>2045</th>\n      <th>2046</th>\n      <th>2047</th>\n      <th>id</th>\n      <th>sku</th>\n    </tr>\n  </thead>\n  <tbody>\n    <tr>\n      <th>0</th>\n      <td>0.025007</td>\n      <td>0.0</td>\n      <td>0.000875</td>\n      <td>0.0</td>\n      <td>0.171166</td>\n      <td>0.0</td>\n      <td>0.004925</td>\n      <td>0.254992</td>\n      <td>0.067476</td>\n      <td>0.0</td>\n      <td>...</td>\n      <td>0.004248</td>\n      <td>0.097569</td>\n      <td>0.0</td>\n      <td>0.183973</td>\n      <td>0.011834</td>\n      <td>0.029646</td>\n      <td>0.341438</td>\n      <td>0.0</td>\n      <td>151709</td>\n      <td>19760331641</td>\n    </tr>\n    <tr>\n      <th>0</th>\n      <td>0.025007</td>\n      <td>0.0</td>\n      <td>0.000875</td>\n      <td>0.0</td>\n      <td>0.171166</td>\n      <td>0.0</td>\n      <td>0.004925</td>\n      <td>0.254992</td>\n      <td>0.067476</td>\n      <td>0.0</td>\n      <td>...</td>\n      <td>0.004248</td>\n      <td>0.097569</td>\n      <td>0.0</td>\n      <td>0.183973</td>\n      <td>0.011834</td>\n      <td>0.029646</td>\n      <td>0.341438</td>\n      <td>0.0</td>\n      <td>151709</td>\n      <td>19760331641</td>\n    </tr>\n    <tr>\n      <th>0</th>\n      <td>0.025007</td>\n      <td>0.0</td>\n      <td>0.000875</td>\n      <td>0.0</td>\n      <td>0.171166</td>\n      <td>0.0</td>\n      <td>0.004925</td>\n      <td>0.254992</td>\n      <td>0.067476</td>\n      <td>0.0</td>\n      <td>...</td>\n      <td>0.004248</td>\n      <td>0.097569</td>\n      <td>0.0</td>\n      <td>0.183973</td>\n      <td>0.011834</td>\n      <td>0.029646</td>\n      <td>0.341438</td>\n      <td>0.0</td>\n      <td>219259</td>\n      <td>19000070237</td>\n    </tr>\n    <tr>\n      <th>0</th>\n      <td>0.025007</td>\n      <td>0.0</td>\n      <td>0.000875</td>\n      <td>0.0</td>\n      <td>0.171166</td>\n      <td>0.0</td>\n      <td>0.004925</td>\n      <td>0.254992</td>\n      <td>0.067476</td>\n      <td>0.0</td>\n      <td>...</td>\n      <td>0.004248</td>\n      <td>0.097569</td>\n      <td>0.0</td>\n      <td>0.183973</td>\n      <td>0.011834</td>\n      <td>0.029646</td>\n      <td>0.341438</td>\n      <td>0.0</td>\n      <td>219259</td>\n      <td>19000070237</td>\n    </tr>\n    <tr>\n      <th>0</th>\n      <td>0.025007</td>\n      <td>0.0</td>\n      <td>0.000875</td>\n      <td>0.0</td>\n      <td>0.171166</td>\n      <td>0.0</td>\n      <td>0.004925</td>\n      <td>0.254992</td>\n      <td>0.067476</td>\n      <td>0.0</td>\n      <td>...</td>\n      <td>0.004248</td>\n      <td>0.097569</td>\n      <td>0.0</td>\n      <td>0.183973</td>\n      <td>0.011834</td>\n      <td>0.029646</td>\n      <td>0.341438</td>\n      <td>0.0</td>\n      <td>219259</td>\n      <td>19000070237</td>\n    </tr>\n  </tbody>\n</table>\n<p>5 rows × 2050 columns</p>\n</div>"
     },
     "execution_count": 97,
     "metadata": {},
     "output_type": "execute_result"
    }
   ],
   "source": [
    "image_embeddings.head()"
   ],
   "metadata": {
    "collapsed": false,
    "pycharm": {
     "name": "#%%\n"
    }
   }
  },
  {
   "cell_type": "markdown",
   "source": [
    "Создадим индексы для эмбеддингов картинок"
   ],
   "metadata": {
    "collapsed": false,
    "pycharm": {
     "name": "#%% md\n"
    }
   }
  },
  {
   "cell_type": "code",
   "execution_count": 184,
   "outputs": [
    {
     "name": "stdout",
     "output_type": "stream",
     "text": [
      "0\n",
      "26308\n"
     ]
    }
   ],
   "source": [
    "image_embeddings_to_faiss = image_embeddings.drop(['id', 'sku'], axis=1)\n",
    "# pca = PCA(n_components=50, random_state=25)\n",
    "# image_embeddings_to_faiss = pd.DataFrame(pca.fit_transform(image_embeddings_to_faiss))\n",
    "index = faiss.IndexFlatL2(image_embeddings_to_faiss.shape[1])\n",
    "print(index.ntotal)  # пока индекс пустой\n",
    "index.add(np.ascontiguousarray(image_embeddings_to_faiss.to_numpy().astype('float32')))\n",
    "print(index.ntotal)  # теперь в нем n векторов"
   ],
   "metadata": {
    "collapsed": false,
    "pycharm": {
     "name": "#%%\n"
    }
   }
  },
  {
   "cell_type": "code",
   "execution_count": 137,
   "outputs": [],
   "source": [
    "faiss.write_index(index, 'faiss_image.index')"
   ],
   "metadata": {
    "collapsed": false,
    "pycharm": {
     "name": "#%%\n"
    }
   }
  },
  {
   "cell_type": "code",
   "execution_count": 170,
   "outputs": [
    {
     "name": "stdout",
     "output_type": "stream",
     "text": [
      "[    1 26307 26306 26305 26304    38    56    58    63    61]\n",
      "[[0.0000000e+00 5.2419482e-23 5.2427544e-23 5.2427544e-23 5.2427544e-23\n",
      "  5.4285671e-23 6.0406544e-23 6.0406967e-23 6.0406980e-23 6.0406980e-23]]\n"
     ]
    }
   ],
   "source": [
    "topn = 10\n",
    "product_index_in_data = 1\n",
    "distances, same_embedding_indexes = index.search(np.ascontiguousarray(image_embeddings_to_faiss.to_numpy().astype('float32')[product_index_in_data].reshape((1, -1))), 10)\n",
    "print(same_embedding_indexes[0]) # индексы самых похожих векторов\n",
    "print(distances) # расстояния, отсортированные по убыванию"
   ],
   "metadata": {
    "collapsed": false,
    "pycharm": {
     "name": "#%%\n"
    }
   }
  },
  {
   "cell_type": "code",
   "execution_count": null,
   "outputs": [],
   "source": [
    "for sku in image_embeddings.iloc[same_embedding_indexes[0]]['sku']:\n",
    "\tdisplay(data[data['sku'] == sku])"
   ],
   "metadata": {
    "collapsed": false,
    "pycharm": {
     "name": "#%%\n",
     "is_executing": true
    }
   }
  },
  {
   "cell_type": "code",
   "execution_count": 129,
   "outputs": [
    {
     "data": {
      "text/plain": "       id          sku                                               name  \\\n0  151709  19760331641                                             анклет   \n1  219259  19000070237  Peptide 9 Balance Eye Hyaluronic Volumy Eye Cr...   \n2  227749  19000042157                                        Mad Maxcara   \n3  151711  19760331652                                    Утонченная Мари   \n4  155448  19760318176                                     TIME CONTROL +   \n\n              brand brand_type               dimension17 dimension18  \\\n0  Nothing but Love   standard                   Браслет     Женский   \n1         MEDI PEEL   standard                      Крем     Унисекс   \n2               RAD   standard  Объемная тушь для ресниц         NaN   \n3  Nothing but Love   standard                   Браслет     Женский   \n4            TALIKA   standard                  Массажер     Женский   \n\n                 dimension19 dimension20      country  ...  main_product_sku  \\\n0                        NaN         NaN          NaN  ...       19760331641   \n1  Против признаков старения       Глаза  Южная Корея  ...       19000070237   \n2                        NaN         NaN   Нидерланды  ...       19000042157   \n3                        NaN         NaN          NaN  ...       19760331652   \n4                        NaN         NaN      Франция  ...       19760318176   \n\n   main_product_id best_loyalty_price dimension29 dimension28  \\\n0           151709              476.0       False       False   \n1           219259             2763.0       False       False   \n2           227749                NaN       False        True   \n3           151711              644.0       False       False   \n4           155448            13837.0       False        True   \n\n                                         description  \\\n0                                                NaN   \n1                                                NaN   \n2  Это ОНА, немного крэйзи подруга твоих ресниц, ...   \n3                                                NaN   \n4                               Косметический прибор   \n\n                                       product_usage  \\\n0                                                NaN   \n1                                                NaN   \n2  Aqua (Water), Synthetic Beeswax, Paraffin, CI ...   \n3                                                NaN   \n4  включите прибор, нажав кнопку, и подождите, по...   \n\n                                 product_composition     category  category_ru  \n0                                                NaN  ukrashenija    украшения  \n1                                                NaN         uhod         уход  \n2  RAD — креативный beauty бренд для самых прогре...     makijazh       макияж  \n3                                                NaN  ukrashenija    украшения  \n4  АБС-терполимер Термопластический эластомер USB...      tehnika      техника  \n\n[5 rows x 27 columns]",
      "text/html": "<div>\n<style scoped>\n    .dataframe tbody tr th:only-of-type {\n        vertical-align: middle;\n    }\n\n    .dataframe tbody tr th {\n        vertical-align: top;\n    }\n\n    .dataframe thead th {\n        text-align: right;\n    }\n</style>\n<table border=\"1\" class=\"dataframe\">\n  <thead>\n    <tr style=\"text-align: right;\">\n      <th></th>\n      <th>id</th>\n      <th>sku</th>\n      <th>name</th>\n      <th>brand</th>\n      <th>brand_type</th>\n      <th>dimension17</th>\n      <th>dimension18</th>\n      <th>dimension19</th>\n      <th>dimension20</th>\n      <th>country</th>\n      <th>...</th>\n      <th>main_product_sku</th>\n      <th>main_product_id</th>\n      <th>best_loyalty_price</th>\n      <th>dimension29</th>\n      <th>dimension28</th>\n      <th>description</th>\n      <th>product_usage</th>\n      <th>product_composition</th>\n      <th>category</th>\n      <th>category_ru</th>\n    </tr>\n  </thead>\n  <tbody>\n    <tr>\n      <th>0</th>\n      <td>151709</td>\n      <td>19760331641</td>\n      <td>анклет</td>\n      <td>Nothing but Love</td>\n      <td>standard</td>\n      <td>Браслет</td>\n      <td>Женский</td>\n      <td>NaN</td>\n      <td>NaN</td>\n      <td>NaN</td>\n      <td>...</td>\n      <td>19760331641</td>\n      <td>151709</td>\n      <td>476.0</td>\n      <td>False</td>\n      <td>False</td>\n      <td>NaN</td>\n      <td>NaN</td>\n      <td>NaN</td>\n      <td>ukrashenija</td>\n      <td>украшения</td>\n    </tr>\n    <tr>\n      <th>1</th>\n      <td>219259</td>\n      <td>19000070237</td>\n      <td>Peptide 9 Balance Eye Hyaluronic Volumy Eye Cr...</td>\n      <td>MEDI PEEL</td>\n      <td>standard</td>\n      <td>Крем</td>\n      <td>Унисекс</td>\n      <td>Против признаков старения</td>\n      <td>Глаза</td>\n      <td>Южная Корея</td>\n      <td>...</td>\n      <td>19000070237</td>\n      <td>219259</td>\n      <td>2763.0</td>\n      <td>False</td>\n      <td>False</td>\n      <td>NaN</td>\n      <td>NaN</td>\n      <td>NaN</td>\n      <td>uhod</td>\n      <td>уход</td>\n    </tr>\n    <tr>\n      <th>2</th>\n      <td>227749</td>\n      <td>19000042157</td>\n      <td>Mad Maxcara</td>\n      <td>RAD</td>\n      <td>standard</td>\n      <td>Объемная тушь для ресниц</td>\n      <td>NaN</td>\n      <td>NaN</td>\n      <td>NaN</td>\n      <td>Нидерланды</td>\n      <td>...</td>\n      <td>19000042157</td>\n      <td>227749</td>\n      <td>NaN</td>\n      <td>False</td>\n      <td>True</td>\n      <td>Это ОНА, немного крэйзи подруга твоих ресниц, ...</td>\n      <td>Aqua (Water), Synthetic Beeswax, Paraffin, CI ...</td>\n      <td>RAD — креативный beauty бренд для самых прогре...</td>\n      <td>makijazh</td>\n      <td>макияж</td>\n    </tr>\n    <tr>\n      <th>3</th>\n      <td>151711</td>\n      <td>19760331652</td>\n      <td>Утонченная Мари</td>\n      <td>Nothing but Love</td>\n      <td>standard</td>\n      <td>Браслет</td>\n      <td>Женский</td>\n      <td>NaN</td>\n      <td>NaN</td>\n      <td>NaN</td>\n      <td>...</td>\n      <td>19760331652</td>\n      <td>151711</td>\n      <td>644.0</td>\n      <td>False</td>\n      <td>False</td>\n      <td>NaN</td>\n      <td>NaN</td>\n      <td>NaN</td>\n      <td>ukrashenija</td>\n      <td>украшения</td>\n    </tr>\n    <tr>\n      <th>4</th>\n      <td>155448</td>\n      <td>19760318176</td>\n      <td>TIME CONTROL +</td>\n      <td>TALIKA</td>\n      <td>standard</td>\n      <td>Массажер</td>\n      <td>Женский</td>\n      <td>NaN</td>\n      <td>NaN</td>\n      <td>Франция</td>\n      <td>...</td>\n      <td>19760318176</td>\n      <td>155448</td>\n      <td>13837.0</td>\n      <td>False</td>\n      <td>True</td>\n      <td>Косметический прибор</td>\n      <td>включите прибор, нажав кнопку, и подождите, по...</td>\n      <td>АБС-терполимер Термопластический эластомер USB...</td>\n      <td>tehnika</td>\n      <td>техника</td>\n    </tr>\n  </tbody>\n</table>\n<p>5 rows × 27 columns</p>\n</div>"
     },
     "execution_count": 129,
     "metadata": {},
     "output_type": "execute_result"
    }
   ],
   "source": [
    "data.head()"
   ],
   "metadata": {
    "collapsed": false,
    "pycharm": {
     "name": "#%%\n"
    }
   }
  },
  {
   "cell_type": "code",
   "execution_count": 189,
   "outputs": [
    {
     "ename": "ValueError",
     "evalue": "X and Y should be of same shape. They were respectively (1, 26308) and (2048, 26308) long.",
     "output_type": "error",
     "traceback": [
      "\u001B[1;31m---------------------------------------------------------------------------\u001B[0m",
      "\u001B[1;31mValueError\u001B[0m                                Traceback (most recent call last)",
      "Input \u001B[1;32mIn [189]\u001B[0m, in \u001B[0;36m<cell line: 2>\u001B[1;34m()\u001B[0m\n\u001B[0;32m      1\u001B[0m x \u001B[38;5;241m=\u001B[39m image_embeddings_to_faiss[\u001B[38;5;241m0\u001B[39m]\u001B[38;5;241m.\u001B[39mto_numpy()\u001B[38;5;241m.\u001B[39mreshape((\u001B[38;5;241m1\u001B[39m, \u001B[38;5;241m-\u001B[39m\u001B[38;5;241m1\u001B[39m))\n\u001B[1;32m----> 2\u001B[0m \u001B[43mpaired_distances\u001B[49m\u001B[43m(\u001B[49m\u001B[43mx\u001B[49m\u001B[43m,\u001B[49m\u001B[43m \u001B[49m\u001B[43mimage_embeddings_to_faiss\u001B[49m\u001B[38;5;241;43m.\u001B[39;49m\u001B[43mT\u001B[49m\u001B[43m,\u001B[49m\u001B[43m \u001B[49m\u001B[43mmetric\u001B[49m\u001B[38;5;241;43m=\u001B[39;49m\u001B[38;5;124;43m'\u001B[39;49m\u001B[38;5;124;43mcosine\u001B[39;49m\u001B[38;5;124;43m'\u001B[39;49m\u001B[43m)\u001B[49m\n",
      "File \u001B[1;32mC:\\ProgramData\\Anaconda3\\envs\\market_recommendations\\lib\\site-packages\\sklearn\\metrics\\pairwise.py:1132\u001B[0m, in \u001B[0;36mpaired_distances\u001B[1;34m(X, Y, metric, **kwds)\u001B[0m\n\u001B[0;32m   1130\u001B[0m \u001B[38;5;28;01mif\u001B[39;00m metric \u001B[38;5;129;01min\u001B[39;00m PAIRED_DISTANCES:\n\u001B[0;32m   1131\u001B[0m     func \u001B[38;5;241m=\u001B[39m PAIRED_DISTANCES[metric]\n\u001B[1;32m-> 1132\u001B[0m     \u001B[38;5;28;01mreturn\u001B[39;00m \u001B[43mfunc\u001B[49m\u001B[43m(\u001B[49m\u001B[43mX\u001B[49m\u001B[43m,\u001B[49m\u001B[43m \u001B[49m\u001B[43mY\u001B[49m\u001B[43m)\u001B[49m\n\u001B[0;32m   1133\u001B[0m \u001B[38;5;28;01melif\u001B[39;00m callable(metric):\n\u001B[0;32m   1134\u001B[0m     \u001B[38;5;66;03m# Check the matrix first (it is usually done by the metric)\u001B[39;00m\n\u001B[0;32m   1135\u001B[0m     X, Y \u001B[38;5;241m=\u001B[39m check_paired_arrays(X, Y)\n",
      "File \u001B[1;32mC:\\ProgramData\\Anaconda3\\envs\\market_recommendations\\lib\\site-packages\\sklearn\\metrics\\pairwise.py:1068\u001B[0m, in \u001B[0;36mpaired_cosine_distances\u001B[1;34m(X, Y)\u001B[0m\n\u001B[0;32m   1042\u001B[0m \u001B[38;5;28;01mdef\u001B[39;00m \u001B[38;5;21mpaired_cosine_distances\u001B[39m(X, Y):\n\u001B[0;32m   1043\u001B[0m     \u001B[38;5;124;03m\"\"\"\u001B[39;00m\n\u001B[0;32m   1044\u001B[0m \u001B[38;5;124;03m    Compute the paired cosine distances between X and Y.\u001B[39;00m\n\u001B[0;32m   1045\u001B[0m \n\u001B[1;32m   (...)\u001B[0m\n\u001B[0;32m   1066\u001B[0m \u001B[38;5;124;03m    euclidean distance if each sample is normalized to unit norm.\u001B[39;00m\n\u001B[0;32m   1067\u001B[0m \u001B[38;5;124;03m    \"\"\"\u001B[39;00m\n\u001B[1;32m-> 1068\u001B[0m     X, Y \u001B[38;5;241m=\u001B[39m \u001B[43mcheck_paired_arrays\u001B[49m\u001B[43m(\u001B[49m\u001B[43mX\u001B[49m\u001B[43m,\u001B[49m\u001B[43m \u001B[49m\u001B[43mY\u001B[49m\u001B[43m)\u001B[49m\n\u001B[0;32m   1069\u001B[0m     \u001B[38;5;28;01mreturn\u001B[39;00m \u001B[38;5;241m0.5\u001B[39m \u001B[38;5;241m*\u001B[39m row_norms(normalize(X) \u001B[38;5;241m-\u001B[39m normalize(Y), squared\u001B[38;5;241m=\u001B[39m\u001B[38;5;28;01mTrue\u001B[39;00m)\n",
      "File \u001B[1;32mC:\\ProgramData\\Anaconda3\\envs\\market_recommendations\\lib\\site-packages\\sklearn\\metrics\\pairwise.py:218\u001B[0m, in \u001B[0;36mcheck_paired_arrays\u001B[1;34m(X, Y)\u001B[0m\n\u001B[0;32m    216\u001B[0m X, Y \u001B[38;5;241m=\u001B[39m check_pairwise_arrays(X, Y)\n\u001B[0;32m    217\u001B[0m \u001B[38;5;28;01mif\u001B[39;00m X\u001B[38;5;241m.\u001B[39mshape \u001B[38;5;241m!=\u001B[39m Y\u001B[38;5;241m.\u001B[39mshape:\n\u001B[1;32m--> 218\u001B[0m     \u001B[38;5;28;01mraise\u001B[39;00m \u001B[38;5;167;01mValueError\u001B[39;00m(\n\u001B[0;32m    219\u001B[0m         \u001B[38;5;124m\"\u001B[39m\u001B[38;5;124mX and Y should be of same shape. They were respectively \u001B[39m\u001B[38;5;132;01m%r\u001B[39;00m\u001B[38;5;124m and \u001B[39m\u001B[38;5;132;01m%r\u001B[39;00m\u001B[38;5;124m long.\u001B[39m\u001B[38;5;124m\"\u001B[39m\n\u001B[0;32m    220\u001B[0m         \u001B[38;5;241m%\u001B[39m (X\u001B[38;5;241m.\u001B[39mshape, Y\u001B[38;5;241m.\u001B[39mshape)\n\u001B[0;32m    221\u001B[0m     )\n\u001B[0;32m    222\u001B[0m \u001B[38;5;28;01mreturn\u001B[39;00m X, Y\n",
      "\u001B[1;31mValueError\u001B[0m: X and Y should be of same shape. They were respectively (1, 26308) and (2048, 26308) long."
     ]
    }
   ],
   "source": [
    "x = image_embeddings_to_faiss[0].to_numpy().reshape((1, -1))\n",
    "paired_distances(x, image_embeddings_to_faiss.T, metric='cosine')"
   ],
   "metadata": {
    "collapsed": false,
    "pycharm": {
     "name": "#%%\n"
    }
   }
  },
  {
   "cell_type": "markdown",
   "source": [],
   "metadata": {
    "collapsed": false,
    "pycharm": {
     "name": "#%% md\n"
    }
   }
  },
  {
   "cell_type": "code",
   "execution_count": 194,
   "outputs": [
    {
     "data": {
      "text/plain": "          0    1         2    3         4    5         6         7         8  \\\n0  0.025007  0.0  0.000875  0.0  0.171166  0.0  0.004925  0.254992  0.067476   \n0  0.025007  0.0  0.000875  0.0  0.171166  0.0  0.004925  0.254992  0.067476   \n0  0.025007  0.0  0.000875  0.0  0.171166  0.0  0.004925  0.254992  0.067476   \n0  0.025007  0.0  0.000875  0.0  0.171166  0.0  0.004925  0.254992  0.067476   \n0  0.025007  0.0  0.000875  0.0  0.171166  0.0  0.004925  0.254992  0.067476   \n0  0.025007  0.0  0.000875  0.0  0.171166  0.0  0.004925  0.254992  0.067476   \n0  0.025007  0.0  0.000875  0.0  0.171166  0.0  0.004925  0.254992  0.067476   \n0  0.025007  0.0  0.000875  0.0  0.171166  0.0  0.004925  0.254992  0.067476   \n0  0.025007  0.0  0.000875  0.0  0.171166  0.0  0.004925  0.254992  0.067476   \n0  0.025007  0.0  0.000875  0.0  0.171166  0.0  0.004925  0.254992  0.067476   \n0  0.025007  0.0  0.000875  0.0  0.171166  0.0  0.004925  0.254992  0.067476   \n0  0.025007  0.0  0.000875  0.0  0.171166  0.0  0.004925  0.254992  0.067476   \n0  0.025007  0.0  0.000875  0.0  0.171166  0.0  0.004925  0.254992  0.067476   \n0  0.025007  0.0  0.000875  0.0  0.171166  0.0  0.004925  0.254992  0.067476   \n0  0.025007  0.0  0.000875  0.0  0.171166  0.0  0.004925  0.254992  0.067476   \n0  0.025007  0.0  0.000875  0.0  0.171166  0.0  0.004925  0.254992  0.067476   \n0  0.025007  0.0  0.000875  0.0  0.171166  0.0  0.004925  0.254992  0.067476   \n0  0.025007  0.0  0.000875  0.0  0.171166  0.0  0.004925  0.254992  0.067476   \n0  0.025007  0.0  0.000875  0.0  0.171166  0.0  0.004925  0.254992  0.067476   \n0  0.025007  0.0  0.000875  0.0  0.171166  0.0  0.004925  0.254992  0.067476   \n0  0.025007  0.0  0.000875  0.0  0.171166  0.0  0.004925  0.254992  0.067476   \n0  0.025007  0.0  0.000875  0.0  0.171166  0.0  0.004925  0.254992  0.067476   \n0  0.025007  0.0  0.000875  0.0  0.171166  0.0  0.004925  0.254992  0.067476   \n0  0.025007  0.0  0.000875  0.0  0.171166  0.0  0.004925  0.254992  0.067476   \n0  0.025007  0.0  0.000875  0.0  0.171166  0.0  0.004925  0.254992  0.067476   \n0  0.025007  0.0  0.000875  0.0  0.171166  0.0  0.004925  0.254992  0.067476   \n0  0.025007  0.0  0.000875  0.0  0.171166  0.0  0.004925  0.254992  0.067476   \n0  0.025007  0.0  0.000875  0.0  0.171166  0.0  0.004925  0.254992  0.067476   \n0  0.025007  0.0  0.000875  0.0  0.171166  0.0  0.004925  0.254992  0.067476   \n0  0.025007  0.0  0.000875  0.0  0.171166  0.0  0.004925  0.254992  0.067476   \n0  0.025007  0.0  0.000875  0.0  0.171166  0.0  0.004925  0.254992  0.067476   \n0  0.025007  0.0  0.000875  0.0  0.171166  0.0  0.004925  0.254992  0.067476   \n0  0.025007  0.0  0.000875  0.0  0.171166  0.0  0.004925  0.254992  0.067476   \n0  0.025007  0.0  0.000875  0.0  0.171166  0.0  0.004925  0.254992  0.067476   \n0  0.025007  0.0  0.000875  0.0  0.171166  0.0  0.004925  0.254992  0.067476   \n0  0.025007  0.0  0.000875  0.0  0.171166  0.0  0.004925  0.254992  0.067476   \n0  0.025007  0.0  0.000875  0.0  0.171166  0.0  0.004925  0.254992  0.067476   \n0  0.025007  0.0  0.000875  0.0  0.171166  0.0  0.004925  0.254992  0.067476   \n0  0.025007  0.0  0.000875  0.0  0.171166  0.0  0.004925  0.254992  0.067476   \n0  0.025007  0.0  0.000875  0.0  0.171166  0.0  0.004925  0.254992  0.067476   \n0  0.025007  0.0  0.000875  0.0  0.171166  0.0  0.004925  0.254992  0.067476   \n0  0.025007  0.0  0.000875  0.0  0.171166  0.0  0.004925  0.254992  0.067476   \n0  0.025007  0.0  0.000875  0.0  0.171166  0.0  0.004925  0.254992  0.067476   \n0  0.025007  0.0  0.000875  0.0  0.171166  0.0  0.004925  0.254992  0.067476   \n0  0.025007  0.0  0.000875  0.0  0.171166  0.0  0.004925  0.254992  0.067476   \n0  0.025007  0.0  0.000875  0.0  0.171166  0.0  0.004925  0.254992  0.067476   \n0  0.025007  0.0  0.000875  0.0  0.171166  0.0  0.004925  0.254992  0.067476   \n0  0.025007  0.0  0.000875  0.0  0.171166  0.0  0.004925  0.254992  0.067476   \n0  0.025007  0.0  0.000875  0.0  0.171166  0.0  0.004925  0.254992  0.067476   \n0  0.025007  0.0  0.000875  0.0  0.171166  0.0  0.004925  0.254992  0.067476   \n\n     9  ...      2040      2041  2042      2043      2044      2045      2046  \\\n0  0.0  ...  0.004248  0.097569   0.0  0.183973  0.011834  0.029646  0.341438   \n0  0.0  ...  0.004248  0.097569   0.0  0.183973  0.011834  0.029646  0.341438   \n0  0.0  ...  0.004248  0.097569   0.0  0.183973  0.011834  0.029646  0.341438   \n0  0.0  ...  0.004248  0.097569   0.0  0.183973  0.011834  0.029646  0.341438   \n0  0.0  ...  0.004248  0.097569   0.0  0.183973  0.011834  0.029646  0.341438   \n0  0.0  ...  0.004248  0.097569   0.0  0.183973  0.011834  0.029646  0.341438   \n0  0.0  ...  0.004248  0.097569   0.0  0.183973  0.011834  0.029646  0.341438   \n0  0.0  ...  0.004248  0.097569   0.0  0.183973  0.011834  0.029646  0.341438   \n0  0.0  ...  0.004248  0.097569   0.0  0.183973  0.011834  0.029646  0.341438   \n0  0.0  ...  0.004248  0.097569   0.0  0.183973  0.011834  0.029646  0.341438   \n0  0.0  ...  0.004248  0.097569   0.0  0.183973  0.011834  0.029646  0.341438   \n0  0.0  ...  0.004248  0.097569   0.0  0.183973  0.011834  0.029646  0.341438   \n0  0.0  ...  0.004248  0.097569   0.0  0.183973  0.011834  0.029646  0.341438   \n0  0.0  ...  0.004248  0.097569   0.0  0.183973  0.011834  0.029646  0.341438   \n0  0.0  ...  0.004248  0.097569   0.0  0.183973  0.011834  0.029646  0.341438   \n0  0.0  ...  0.004248  0.097569   0.0  0.183973  0.011834  0.029646  0.341438   \n0  0.0  ...  0.004248  0.097569   0.0  0.183973  0.011834  0.029646  0.341438   \n0  0.0  ...  0.004248  0.097569   0.0  0.183973  0.011834  0.029646  0.341438   \n0  0.0  ...  0.004248  0.097569   0.0  0.183973  0.011834  0.029646  0.341438   \n0  0.0  ...  0.004248  0.097569   0.0  0.183973  0.011834  0.029646  0.341438   \n0  0.0  ...  0.004248  0.097569   0.0  0.183973  0.011834  0.029646  0.341438   \n0  0.0  ...  0.004248  0.097569   0.0  0.183973  0.011834  0.029646  0.341438   \n0  0.0  ...  0.004248  0.097569   0.0  0.183973  0.011834  0.029646  0.341438   \n0  0.0  ...  0.004248  0.097569   0.0  0.183973  0.011834  0.029646  0.341438   \n0  0.0  ...  0.004248  0.097569   0.0  0.183973  0.011834  0.029646  0.341438   \n0  0.0  ...  0.004248  0.097569   0.0  0.183973  0.011834  0.029646  0.341438   \n0  0.0  ...  0.004248  0.097569   0.0  0.183973  0.011834  0.029646  0.341438   \n0  0.0  ...  0.004248  0.097569   0.0  0.183973  0.011834  0.029646  0.341438   \n0  0.0  ...  0.004248  0.097569   0.0  0.183973  0.011834  0.029646  0.341438   \n0  0.0  ...  0.004248  0.097569   0.0  0.183973  0.011834  0.029646  0.341438   \n0  0.0  ...  0.004248  0.097569   0.0  0.183973  0.011834  0.029646  0.341438   \n0  0.0  ...  0.004248  0.097569   0.0  0.183973  0.011834  0.029646  0.341438   \n0  0.0  ...  0.004248  0.097569   0.0  0.183973  0.011834  0.029646  0.341438   \n0  0.0  ...  0.004248  0.097569   0.0  0.183973  0.011834  0.029646  0.341438   \n0  0.0  ...  0.004248  0.097569   0.0  0.183973  0.011834  0.029646  0.341438   \n0  0.0  ...  0.004248  0.097569   0.0  0.183973  0.011834  0.029646  0.341438   \n0  0.0  ...  0.004248  0.097569   0.0  0.183973  0.011834  0.029646  0.341438   \n0  0.0  ...  0.004248  0.097569   0.0  0.183973  0.011834  0.029646  0.341438   \n0  0.0  ...  0.004248  0.097569   0.0  0.183973  0.011834  0.029646  0.341438   \n0  0.0  ...  0.004248  0.097569   0.0  0.183973  0.011834  0.029646  0.341438   \n0  0.0  ...  0.004248  0.097569   0.0  0.183973  0.011834  0.029646  0.341438   \n0  0.0  ...  0.004248  0.097569   0.0  0.183973  0.011834  0.029646  0.341438   \n0  0.0  ...  0.004248  0.097569   0.0  0.183973  0.011834  0.029646  0.341438   \n0  0.0  ...  0.004248  0.097569   0.0  0.183973  0.011834  0.029646  0.341438   \n0  0.0  ...  0.004248  0.097569   0.0  0.183973  0.011834  0.029646  0.341438   \n0  0.0  ...  0.004248  0.097569   0.0  0.183973  0.011834  0.029646  0.341438   \n0  0.0  ...  0.004248  0.097569   0.0  0.183973  0.011834  0.029646  0.341438   \n0  0.0  ...  0.004248  0.097569   0.0  0.183973  0.011834  0.029646  0.341438   \n0  0.0  ...  0.004248  0.097569   0.0  0.183973  0.011834  0.029646  0.341438   \n0  0.0  ...  0.004248  0.097569   0.0  0.183973  0.011834  0.029646  0.341438   \n\n   2047      id                sku  \n0   0.0  151709        19760331641  \n0   0.0  151709        19760331641  \n0   0.0  219259        19000070237  \n0   0.0  219259        19000070237  \n0   0.0  219259        19000070237  \n0   0.0  227749        19000042157  \n0   0.0  227749        19000042157  \n0   0.0  227749        19000042157  \n0   0.0  151711        19760331652  \n0   0.0  151711        19760331652  \n0   0.0  151711        19760331652  \n0   0.0  155448        19760318176  \n0   0.0  155448        19760318176  \n0   0.0  155448        19760318176  \n0   0.0   62388        15480800008  \n0   0.0   62388        15480800008  \n0   0.0   62388        15480800008  \n0   0.0  147214        19760321323  \n0   0.0  147214        19760321323  \n0   0.0  161955        19000007001  \n0   0.0  161955        19000007001  \n0   0.0  161955        19000007001  \n0   0.0  152493  10033-19760327528  \n0   0.0  152493  10033-19760327528  \n0   0.0  152493  10033-19760327528  \n0   0.0  169605  12241-19000013502  \n0   0.0  169605  12241-19000013502  \n0   0.0  169605  12241-19000013502  \n0   0.0  207838        19000060149  \n0   0.0  207838        19000060149  \n0   0.0  151709        19760331641  \n0   0.0  151709        19760331641  \n0   0.0  219259        19000070237  \n0   0.0  219259        19000070237  \n0   0.0  219259        19000070237  \n0   0.0  227749        19000042157  \n0   0.0  227749        19000042157  \n0   0.0  227749        19000042157  \n0   0.0  151711        19760331652  \n0   0.0  151711        19760331652  \n0   0.0  151711        19760331652  \n0   0.0  155448        19760318176  \n0   0.0  155448        19760318176  \n0   0.0  155448        19760318176  \n0   0.0   62388        15480800008  \n0   0.0   62388        15480800008  \n0   0.0   62388        15480800008  \n0   0.0  147214        19760321323  \n0   0.0  147214        19760321323  \n0   0.0  161955        19000007001  \n\n[50 rows x 2050 columns]",
      "text/html": "<div>\n<style scoped>\n    .dataframe tbody tr th:only-of-type {\n        vertical-align: middle;\n    }\n\n    .dataframe tbody tr th {\n        vertical-align: top;\n    }\n\n    .dataframe thead th {\n        text-align: right;\n    }\n</style>\n<table border=\"1\" class=\"dataframe\">\n  <thead>\n    <tr style=\"text-align: right;\">\n      <th></th>\n      <th>0</th>\n      <th>1</th>\n      <th>2</th>\n      <th>3</th>\n      <th>4</th>\n      <th>5</th>\n      <th>6</th>\n      <th>7</th>\n      <th>8</th>\n      <th>9</th>\n      <th>...</th>\n      <th>2040</th>\n      <th>2041</th>\n      <th>2042</th>\n      <th>2043</th>\n      <th>2044</th>\n      <th>2045</th>\n      <th>2046</th>\n      <th>2047</th>\n      <th>id</th>\n      <th>sku</th>\n    </tr>\n  </thead>\n  <tbody>\n    <tr>\n      <th>0</th>\n      <td>0.025007</td>\n      <td>0.0</td>\n      <td>0.000875</td>\n      <td>0.0</td>\n      <td>0.171166</td>\n      <td>0.0</td>\n      <td>0.004925</td>\n      <td>0.254992</td>\n      <td>0.067476</td>\n      <td>0.0</td>\n      <td>...</td>\n      <td>0.004248</td>\n      <td>0.097569</td>\n      <td>0.0</td>\n      <td>0.183973</td>\n      <td>0.011834</td>\n      <td>0.029646</td>\n      <td>0.341438</td>\n      <td>0.0</td>\n      <td>151709</td>\n      <td>19760331641</td>\n    </tr>\n    <tr>\n      <th>0</th>\n      <td>0.025007</td>\n      <td>0.0</td>\n      <td>0.000875</td>\n      <td>0.0</td>\n      <td>0.171166</td>\n      <td>0.0</td>\n      <td>0.004925</td>\n      <td>0.254992</td>\n      <td>0.067476</td>\n      <td>0.0</td>\n      <td>...</td>\n      <td>0.004248</td>\n      <td>0.097569</td>\n      <td>0.0</td>\n      <td>0.183973</td>\n      <td>0.011834</td>\n      <td>0.029646</td>\n      <td>0.341438</td>\n      <td>0.0</td>\n      <td>151709</td>\n      <td>19760331641</td>\n    </tr>\n    <tr>\n      <th>0</th>\n      <td>0.025007</td>\n      <td>0.0</td>\n      <td>0.000875</td>\n      <td>0.0</td>\n      <td>0.171166</td>\n      <td>0.0</td>\n      <td>0.004925</td>\n      <td>0.254992</td>\n      <td>0.067476</td>\n      <td>0.0</td>\n      <td>...</td>\n      <td>0.004248</td>\n      <td>0.097569</td>\n      <td>0.0</td>\n      <td>0.183973</td>\n      <td>0.011834</td>\n      <td>0.029646</td>\n      <td>0.341438</td>\n      <td>0.0</td>\n      <td>219259</td>\n      <td>19000070237</td>\n    </tr>\n    <tr>\n      <th>0</th>\n      <td>0.025007</td>\n      <td>0.0</td>\n      <td>0.000875</td>\n      <td>0.0</td>\n      <td>0.171166</td>\n      <td>0.0</td>\n      <td>0.004925</td>\n      <td>0.254992</td>\n      <td>0.067476</td>\n      <td>0.0</td>\n      <td>...</td>\n      <td>0.004248</td>\n      <td>0.097569</td>\n      <td>0.0</td>\n      <td>0.183973</td>\n      <td>0.011834</td>\n      <td>0.029646</td>\n      <td>0.341438</td>\n      <td>0.0</td>\n      <td>219259</td>\n      <td>19000070237</td>\n    </tr>\n    <tr>\n      <th>0</th>\n      <td>0.025007</td>\n      <td>0.0</td>\n      <td>0.000875</td>\n      <td>0.0</td>\n      <td>0.171166</td>\n      <td>0.0</td>\n      <td>0.004925</td>\n      <td>0.254992</td>\n      <td>0.067476</td>\n      <td>0.0</td>\n      <td>...</td>\n      <td>0.004248</td>\n      <td>0.097569</td>\n      <td>0.0</td>\n      <td>0.183973</td>\n      <td>0.011834</td>\n      <td>0.029646</td>\n      <td>0.341438</td>\n      <td>0.0</td>\n      <td>219259</td>\n      <td>19000070237</td>\n    </tr>\n    <tr>\n      <th>0</th>\n      <td>0.025007</td>\n      <td>0.0</td>\n      <td>0.000875</td>\n      <td>0.0</td>\n      <td>0.171166</td>\n      <td>0.0</td>\n      <td>0.004925</td>\n      <td>0.254992</td>\n      <td>0.067476</td>\n      <td>0.0</td>\n      <td>...</td>\n      <td>0.004248</td>\n      <td>0.097569</td>\n      <td>0.0</td>\n      <td>0.183973</td>\n      <td>0.011834</td>\n      <td>0.029646</td>\n      <td>0.341438</td>\n      <td>0.0</td>\n      <td>227749</td>\n      <td>19000042157</td>\n    </tr>\n    <tr>\n      <th>0</th>\n      <td>0.025007</td>\n      <td>0.0</td>\n      <td>0.000875</td>\n      <td>0.0</td>\n      <td>0.171166</td>\n      <td>0.0</td>\n      <td>0.004925</td>\n      <td>0.254992</td>\n      <td>0.067476</td>\n      <td>0.0</td>\n      <td>...</td>\n      <td>0.004248</td>\n      <td>0.097569</td>\n      <td>0.0</td>\n      <td>0.183973</td>\n      <td>0.011834</td>\n      <td>0.029646</td>\n      <td>0.341438</td>\n      <td>0.0</td>\n      <td>227749</td>\n      <td>19000042157</td>\n    </tr>\n    <tr>\n      <th>0</th>\n      <td>0.025007</td>\n      <td>0.0</td>\n      <td>0.000875</td>\n      <td>0.0</td>\n      <td>0.171166</td>\n      <td>0.0</td>\n      <td>0.004925</td>\n      <td>0.254992</td>\n      <td>0.067476</td>\n      <td>0.0</td>\n      <td>...</td>\n      <td>0.004248</td>\n      <td>0.097569</td>\n      <td>0.0</td>\n      <td>0.183973</td>\n      <td>0.011834</td>\n      <td>0.029646</td>\n      <td>0.341438</td>\n      <td>0.0</td>\n      <td>227749</td>\n      <td>19000042157</td>\n    </tr>\n    <tr>\n      <th>0</th>\n      <td>0.025007</td>\n      <td>0.0</td>\n      <td>0.000875</td>\n      <td>0.0</td>\n      <td>0.171166</td>\n      <td>0.0</td>\n      <td>0.004925</td>\n      <td>0.254992</td>\n      <td>0.067476</td>\n      <td>0.0</td>\n      <td>...</td>\n      <td>0.004248</td>\n      <td>0.097569</td>\n      <td>0.0</td>\n      <td>0.183973</td>\n      <td>0.011834</td>\n      <td>0.029646</td>\n      <td>0.341438</td>\n      <td>0.0</td>\n      <td>151711</td>\n      <td>19760331652</td>\n    </tr>\n    <tr>\n      <th>0</th>\n      <td>0.025007</td>\n      <td>0.0</td>\n      <td>0.000875</td>\n      <td>0.0</td>\n      <td>0.171166</td>\n      <td>0.0</td>\n      <td>0.004925</td>\n      <td>0.254992</td>\n      <td>0.067476</td>\n      <td>0.0</td>\n      <td>...</td>\n      <td>0.004248</td>\n      <td>0.097569</td>\n      <td>0.0</td>\n      <td>0.183973</td>\n      <td>0.011834</td>\n      <td>0.029646</td>\n      <td>0.341438</td>\n      <td>0.0</td>\n      <td>151711</td>\n      <td>19760331652</td>\n    </tr>\n    <tr>\n      <th>0</th>\n      <td>0.025007</td>\n      <td>0.0</td>\n      <td>0.000875</td>\n      <td>0.0</td>\n      <td>0.171166</td>\n      <td>0.0</td>\n      <td>0.004925</td>\n      <td>0.254992</td>\n      <td>0.067476</td>\n      <td>0.0</td>\n      <td>...</td>\n      <td>0.004248</td>\n      <td>0.097569</td>\n      <td>0.0</td>\n      <td>0.183973</td>\n      <td>0.011834</td>\n      <td>0.029646</td>\n      <td>0.341438</td>\n      <td>0.0</td>\n      <td>151711</td>\n      <td>19760331652</td>\n    </tr>\n    <tr>\n      <th>0</th>\n      <td>0.025007</td>\n      <td>0.0</td>\n      <td>0.000875</td>\n      <td>0.0</td>\n      <td>0.171166</td>\n      <td>0.0</td>\n      <td>0.004925</td>\n      <td>0.254992</td>\n      <td>0.067476</td>\n      <td>0.0</td>\n      <td>...</td>\n      <td>0.004248</td>\n      <td>0.097569</td>\n      <td>0.0</td>\n      <td>0.183973</td>\n      <td>0.011834</td>\n      <td>0.029646</td>\n      <td>0.341438</td>\n      <td>0.0</td>\n      <td>155448</td>\n      <td>19760318176</td>\n    </tr>\n    <tr>\n      <th>0</th>\n      <td>0.025007</td>\n      <td>0.0</td>\n      <td>0.000875</td>\n      <td>0.0</td>\n      <td>0.171166</td>\n      <td>0.0</td>\n      <td>0.004925</td>\n      <td>0.254992</td>\n      <td>0.067476</td>\n      <td>0.0</td>\n      <td>...</td>\n      <td>0.004248</td>\n      <td>0.097569</td>\n      <td>0.0</td>\n      <td>0.183973</td>\n      <td>0.011834</td>\n      <td>0.029646</td>\n      <td>0.341438</td>\n      <td>0.0</td>\n      <td>155448</td>\n      <td>19760318176</td>\n    </tr>\n    <tr>\n      <th>0</th>\n      <td>0.025007</td>\n      <td>0.0</td>\n      <td>0.000875</td>\n      <td>0.0</td>\n      <td>0.171166</td>\n      <td>0.0</td>\n      <td>0.004925</td>\n      <td>0.254992</td>\n      <td>0.067476</td>\n      <td>0.0</td>\n      <td>...</td>\n      <td>0.004248</td>\n      <td>0.097569</td>\n      <td>0.0</td>\n      <td>0.183973</td>\n      <td>0.011834</td>\n      <td>0.029646</td>\n      <td>0.341438</td>\n      <td>0.0</td>\n      <td>155448</td>\n      <td>19760318176</td>\n    </tr>\n    <tr>\n      <th>0</th>\n      <td>0.025007</td>\n      <td>0.0</td>\n      <td>0.000875</td>\n      <td>0.0</td>\n      <td>0.171166</td>\n      <td>0.0</td>\n      <td>0.004925</td>\n      <td>0.254992</td>\n      <td>0.067476</td>\n      <td>0.0</td>\n      <td>...</td>\n      <td>0.004248</td>\n      <td>0.097569</td>\n      <td>0.0</td>\n      <td>0.183973</td>\n      <td>0.011834</td>\n      <td>0.029646</td>\n      <td>0.341438</td>\n      <td>0.0</td>\n      <td>62388</td>\n      <td>15480800008</td>\n    </tr>\n    <tr>\n      <th>0</th>\n      <td>0.025007</td>\n      <td>0.0</td>\n      <td>0.000875</td>\n      <td>0.0</td>\n      <td>0.171166</td>\n      <td>0.0</td>\n      <td>0.004925</td>\n      <td>0.254992</td>\n      <td>0.067476</td>\n      <td>0.0</td>\n      <td>...</td>\n      <td>0.004248</td>\n      <td>0.097569</td>\n      <td>0.0</td>\n      <td>0.183973</td>\n      <td>0.011834</td>\n      <td>0.029646</td>\n      <td>0.341438</td>\n      <td>0.0</td>\n      <td>62388</td>\n      <td>15480800008</td>\n    </tr>\n    <tr>\n      <th>0</th>\n      <td>0.025007</td>\n      <td>0.0</td>\n      <td>0.000875</td>\n      <td>0.0</td>\n      <td>0.171166</td>\n      <td>0.0</td>\n      <td>0.004925</td>\n      <td>0.254992</td>\n      <td>0.067476</td>\n      <td>0.0</td>\n      <td>...</td>\n      <td>0.004248</td>\n      <td>0.097569</td>\n      <td>0.0</td>\n      <td>0.183973</td>\n      <td>0.011834</td>\n      <td>0.029646</td>\n      <td>0.341438</td>\n      <td>0.0</td>\n      <td>62388</td>\n      <td>15480800008</td>\n    </tr>\n    <tr>\n      <th>0</th>\n      <td>0.025007</td>\n      <td>0.0</td>\n      <td>0.000875</td>\n      <td>0.0</td>\n      <td>0.171166</td>\n      <td>0.0</td>\n      <td>0.004925</td>\n      <td>0.254992</td>\n      <td>0.067476</td>\n      <td>0.0</td>\n      <td>...</td>\n      <td>0.004248</td>\n      <td>0.097569</td>\n      <td>0.0</td>\n      <td>0.183973</td>\n      <td>0.011834</td>\n      <td>0.029646</td>\n      <td>0.341438</td>\n      <td>0.0</td>\n      <td>147214</td>\n      <td>19760321323</td>\n    </tr>\n    <tr>\n      <th>0</th>\n      <td>0.025007</td>\n      <td>0.0</td>\n      <td>0.000875</td>\n      <td>0.0</td>\n      <td>0.171166</td>\n      <td>0.0</td>\n      <td>0.004925</td>\n      <td>0.254992</td>\n      <td>0.067476</td>\n      <td>0.0</td>\n      <td>...</td>\n      <td>0.004248</td>\n      <td>0.097569</td>\n      <td>0.0</td>\n      <td>0.183973</td>\n      <td>0.011834</td>\n      <td>0.029646</td>\n      <td>0.341438</td>\n      <td>0.0</td>\n      <td>147214</td>\n      <td>19760321323</td>\n    </tr>\n    <tr>\n      <th>0</th>\n      <td>0.025007</td>\n      <td>0.0</td>\n      <td>0.000875</td>\n      <td>0.0</td>\n      <td>0.171166</td>\n      <td>0.0</td>\n      <td>0.004925</td>\n      <td>0.254992</td>\n      <td>0.067476</td>\n      <td>0.0</td>\n      <td>...</td>\n      <td>0.004248</td>\n      <td>0.097569</td>\n      <td>0.0</td>\n      <td>0.183973</td>\n      <td>0.011834</td>\n      <td>0.029646</td>\n      <td>0.341438</td>\n      <td>0.0</td>\n      <td>161955</td>\n      <td>19000007001</td>\n    </tr>\n    <tr>\n      <th>0</th>\n      <td>0.025007</td>\n      <td>0.0</td>\n      <td>0.000875</td>\n      <td>0.0</td>\n      <td>0.171166</td>\n      <td>0.0</td>\n      <td>0.004925</td>\n      <td>0.254992</td>\n      <td>0.067476</td>\n      <td>0.0</td>\n      <td>...</td>\n      <td>0.004248</td>\n      <td>0.097569</td>\n      <td>0.0</td>\n      <td>0.183973</td>\n      <td>0.011834</td>\n      <td>0.029646</td>\n      <td>0.341438</td>\n      <td>0.0</td>\n      <td>161955</td>\n      <td>19000007001</td>\n    </tr>\n    <tr>\n      <th>0</th>\n      <td>0.025007</td>\n      <td>0.0</td>\n      <td>0.000875</td>\n      <td>0.0</td>\n      <td>0.171166</td>\n      <td>0.0</td>\n      <td>0.004925</td>\n      <td>0.254992</td>\n      <td>0.067476</td>\n      <td>0.0</td>\n      <td>...</td>\n      <td>0.004248</td>\n      <td>0.097569</td>\n      <td>0.0</td>\n      <td>0.183973</td>\n      <td>0.011834</td>\n      <td>0.029646</td>\n      <td>0.341438</td>\n      <td>0.0</td>\n      <td>161955</td>\n      <td>19000007001</td>\n    </tr>\n    <tr>\n      <th>0</th>\n      <td>0.025007</td>\n      <td>0.0</td>\n      <td>0.000875</td>\n      <td>0.0</td>\n      <td>0.171166</td>\n      <td>0.0</td>\n      <td>0.004925</td>\n      <td>0.254992</td>\n      <td>0.067476</td>\n      <td>0.0</td>\n      <td>...</td>\n      <td>0.004248</td>\n      <td>0.097569</td>\n      <td>0.0</td>\n      <td>0.183973</td>\n      <td>0.011834</td>\n      <td>0.029646</td>\n      <td>0.341438</td>\n      <td>0.0</td>\n      <td>152493</td>\n      <td>10033-19760327528</td>\n    </tr>\n    <tr>\n      <th>0</th>\n      <td>0.025007</td>\n      <td>0.0</td>\n      <td>0.000875</td>\n      <td>0.0</td>\n      <td>0.171166</td>\n      <td>0.0</td>\n      <td>0.004925</td>\n      <td>0.254992</td>\n      <td>0.067476</td>\n      <td>0.0</td>\n      <td>...</td>\n      <td>0.004248</td>\n      <td>0.097569</td>\n      <td>0.0</td>\n      <td>0.183973</td>\n      <td>0.011834</td>\n      <td>0.029646</td>\n      <td>0.341438</td>\n      <td>0.0</td>\n      <td>152493</td>\n      <td>10033-19760327528</td>\n    </tr>\n    <tr>\n      <th>0</th>\n      <td>0.025007</td>\n      <td>0.0</td>\n      <td>0.000875</td>\n      <td>0.0</td>\n      <td>0.171166</td>\n      <td>0.0</td>\n      <td>0.004925</td>\n      <td>0.254992</td>\n      <td>0.067476</td>\n      <td>0.0</td>\n      <td>...</td>\n      <td>0.004248</td>\n      <td>0.097569</td>\n      <td>0.0</td>\n      <td>0.183973</td>\n      <td>0.011834</td>\n      <td>0.029646</td>\n      <td>0.341438</td>\n      <td>0.0</td>\n      <td>152493</td>\n      <td>10033-19760327528</td>\n    </tr>\n    <tr>\n      <th>0</th>\n      <td>0.025007</td>\n      <td>0.0</td>\n      <td>0.000875</td>\n      <td>0.0</td>\n      <td>0.171166</td>\n      <td>0.0</td>\n      <td>0.004925</td>\n      <td>0.254992</td>\n      <td>0.067476</td>\n      <td>0.0</td>\n      <td>...</td>\n      <td>0.004248</td>\n      <td>0.097569</td>\n      <td>0.0</td>\n      <td>0.183973</td>\n      <td>0.011834</td>\n      <td>0.029646</td>\n      <td>0.341438</td>\n      <td>0.0</td>\n      <td>169605</td>\n      <td>12241-19000013502</td>\n    </tr>\n    <tr>\n      <th>0</th>\n      <td>0.025007</td>\n      <td>0.0</td>\n      <td>0.000875</td>\n      <td>0.0</td>\n      <td>0.171166</td>\n      <td>0.0</td>\n      <td>0.004925</td>\n      <td>0.254992</td>\n      <td>0.067476</td>\n      <td>0.0</td>\n      <td>...</td>\n      <td>0.004248</td>\n      <td>0.097569</td>\n      <td>0.0</td>\n      <td>0.183973</td>\n      <td>0.011834</td>\n      <td>0.029646</td>\n      <td>0.341438</td>\n      <td>0.0</td>\n      <td>169605</td>\n      <td>12241-19000013502</td>\n    </tr>\n    <tr>\n      <th>0</th>\n      <td>0.025007</td>\n      <td>0.0</td>\n      <td>0.000875</td>\n      <td>0.0</td>\n      <td>0.171166</td>\n      <td>0.0</td>\n      <td>0.004925</td>\n      <td>0.254992</td>\n      <td>0.067476</td>\n      <td>0.0</td>\n      <td>...</td>\n      <td>0.004248</td>\n      <td>0.097569</td>\n      <td>0.0</td>\n      <td>0.183973</td>\n      <td>0.011834</td>\n      <td>0.029646</td>\n      <td>0.341438</td>\n      <td>0.0</td>\n      <td>169605</td>\n      <td>12241-19000013502</td>\n    </tr>\n    <tr>\n      <th>0</th>\n      <td>0.025007</td>\n      <td>0.0</td>\n      <td>0.000875</td>\n      <td>0.0</td>\n      <td>0.171166</td>\n      <td>0.0</td>\n      <td>0.004925</td>\n      <td>0.254992</td>\n      <td>0.067476</td>\n      <td>0.0</td>\n      <td>...</td>\n      <td>0.004248</td>\n      <td>0.097569</td>\n      <td>0.0</td>\n      <td>0.183973</td>\n      <td>0.011834</td>\n      <td>0.029646</td>\n      <td>0.341438</td>\n      <td>0.0</td>\n      <td>207838</td>\n      <td>19000060149</td>\n    </tr>\n    <tr>\n      <th>0</th>\n      <td>0.025007</td>\n      <td>0.0</td>\n      <td>0.000875</td>\n      <td>0.0</td>\n      <td>0.171166</td>\n      <td>0.0</td>\n      <td>0.004925</td>\n      <td>0.254992</td>\n      <td>0.067476</td>\n      <td>0.0</td>\n      <td>...</td>\n      <td>0.004248</td>\n      <td>0.097569</td>\n      <td>0.0</td>\n      <td>0.183973</td>\n      <td>0.011834</td>\n      <td>0.029646</td>\n      <td>0.341438</td>\n      <td>0.0</td>\n      <td>207838</td>\n      <td>19000060149</td>\n    </tr>\n    <tr>\n      <th>0</th>\n      <td>0.025007</td>\n      <td>0.0</td>\n      <td>0.000875</td>\n      <td>0.0</td>\n      <td>0.171166</td>\n      <td>0.0</td>\n      <td>0.004925</td>\n      <td>0.254992</td>\n      <td>0.067476</td>\n      <td>0.0</td>\n      <td>...</td>\n      <td>0.004248</td>\n      <td>0.097569</td>\n      <td>0.0</td>\n      <td>0.183973</td>\n      <td>0.011834</td>\n      <td>0.029646</td>\n      <td>0.341438</td>\n      <td>0.0</td>\n      <td>151709</td>\n      <td>19760331641</td>\n    </tr>\n    <tr>\n      <th>0</th>\n      <td>0.025007</td>\n      <td>0.0</td>\n      <td>0.000875</td>\n      <td>0.0</td>\n      <td>0.171166</td>\n      <td>0.0</td>\n      <td>0.004925</td>\n      <td>0.254992</td>\n      <td>0.067476</td>\n      <td>0.0</td>\n      <td>...</td>\n      <td>0.004248</td>\n      <td>0.097569</td>\n      <td>0.0</td>\n      <td>0.183973</td>\n      <td>0.011834</td>\n      <td>0.029646</td>\n      <td>0.341438</td>\n      <td>0.0</td>\n      <td>151709</td>\n      <td>19760331641</td>\n    </tr>\n    <tr>\n      <th>0</th>\n      <td>0.025007</td>\n      <td>0.0</td>\n      <td>0.000875</td>\n      <td>0.0</td>\n      <td>0.171166</td>\n      <td>0.0</td>\n      <td>0.004925</td>\n      <td>0.254992</td>\n      <td>0.067476</td>\n      <td>0.0</td>\n      <td>...</td>\n      <td>0.004248</td>\n      <td>0.097569</td>\n      <td>0.0</td>\n      <td>0.183973</td>\n      <td>0.011834</td>\n      <td>0.029646</td>\n      <td>0.341438</td>\n      <td>0.0</td>\n      <td>219259</td>\n      <td>19000070237</td>\n    </tr>\n    <tr>\n      <th>0</th>\n      <td>0.025007</td>\n      <td>0.0</td>\n      <td>0.000875</td>\n      <td>0.0</td>\n      <td>0.171166</td>\n      <td>0.0</td>\n      <td>0.004925</td>\n      <td>0.254992</td>\n      <td>0.067476</td>\n      <td>0.0</td>\n      <td>...</td>\n      <td>0.004248</td>\n      <td>0.097569</td>\n      <td>0.0</td>\n      <td>0.183973</td>\n      <td>0.011834</td>\n      <td>0.029646</td>\n      <td>0.341438</td>\n      <td>0.0</td>\n      <td>219259</td>\n      <td>19000070237</td>\n    </tr>\n    <tr>\n      <th>0</th>\n      <td>0.025007</td>\n      <td>0.0</td>\n      <td>0.000875</td>\n      <td>0.0</td>\n      <td>0.171166</td>\n      <td>0.0</td>\n      <td>0.004925</td>\n      <td>0.254992</td>\n      <td>0.067476</td>\n      <td>0.0</td>\n      <td>...</td>\n      <td>0.004248</td>\n      <td>0.097569</td>\n      <td>0.0</td>\n      <td>0.183973</td>\n      <td>0.011834</td>\n      <td>0.029646</td>\n      <td>0.341438</td>\n      <td>0.0</td>\n      <td>219259</td>\n      <td>19000070237</td>\n    </tr>\n    <tr>\n      <th>0</th>\n      <td>0.025007</td>\n      <td>0.0</td>\n      <td>0.000875</td>\n      <td>0.0</td>\n      <td>0.171166</td>\n      <td>0.0</td>\n      <td>0.004925</td>\n      <td>0.254992</td>\n      <td>0.067476</td>\n      <td>0.0</td>\n      <td>...</td>\n      <td>0.004248</td>\n      <td>0.097569</td>\n      <td>0.0</td>\n      <td>0.183973</td>\n      <td>0.011834</td>\n      <td>0.029646</td>\n      <td>0.341438</td>\n      <td>0.0</td>\n      <td>227749</td>\n      <td>19000042157</td>\n    </tr>\n    <tr>\n      <th>0</th>\n      <td>0.025007</td>\n      <td>0.0</td>\n      <td>0.000875</td>\n      <td>0.0</td>\n      <td>0.171166</td>\n      <td>0.0</td>\n      <td>0.004925</td>\n      <td>0.254992</td>\n      <td>0.067476</td>\n      <td>0.0</td>\n      <td>...</td>\n      <td>0.004248</td>\n      <td>0.097569</td>\n      <td>0.0</td>\n      <td>0.183973</td>\n      <td>0.011834</td>\n      <td>0.029646</td>\n      <td>0.341438</td>\n      <td>0.0</td>\n      <td>227749</td>\n      <td>19000042157</td>\n    </tr>\n    <tr>\n      <th>0</th>\n      <td>0.025007</td>\n      <td>0.0</td>\n      <td>0.000875</td>\n      <td>0.0</td>\n      <td>0.171166</td>\n      <td>0.0</td>\n      <td>0.004925</td>\n      <td>0.254992</td>\n      <td>0.067476</td>\n      <td>0.0</td>\n      <td>...</td>\n      <td>0.004248</td>\n      <td>0.097569</td>\n      <td>0.0</td>\n      <td>0.183973</td>\n      <td>0.011834</td>\n      <td>0.029646</td>\n      <td>0.341438</td>\n      <td>0.0</td>\n      <td>227749</td>\n      <td>19000042157</td>\n    </tr>\n    <tr>\n      <th>0</th>\n      <td>0.025007</td>\n      <td>0.0</td>\n      <td>0.000875</td>\n      <td>0.0</td>\n      <td>0.171166</td>\n      <td>0.0</td>\n      <td>0.004925</td>\n      <td>0.254992</td>\n      <td>0.067476</td>\n      <td>0.0</td>\n      <td>...</td>\n      <td>0.004248</td>\n      <td>0.097569</td>\n      <td>0.0</td>\n      <td>0.183973</td>\n      <td>0.011834</td>\n      <td>0.029646</td>\n      <td>0.341438</td>\n      <td>0.0</td>\n      <td>151711</td>\n      <td>19760331652</td>\n    </tr>\n    <tr>\n      <th>0</th>\n      <td>0.025007</td>\n      <td>0.0</td>\n      <td>0.000875</td>\n      <td>0.0</td>\n      <td>0.171166</td>\n      <td>0.0</td>\n      <td>0.004925</td>\n      <td>0.254992</td>\n      <td>0.067476</td>\n      <td>0.0</td>\n      <td>...</td>\n      <td>0.004248</td>\n      <td>0.097569</td>\n      <td>0.0</td>\n      <td>0.183973</td>\n      <td>0.011834</td>\n      <td>0.029646</td>\n      <td>0.341438</td>\n      <td>0.0</td>\n      <td>151711</td>\n      <td>19760331652</td>\n    </tr>\n    <tr>\n      <th>0</th>\n      <td>0.025007</td>\n      <td>0.0</td>\n      <td>0.000875</td>\n      <td>0.0</td>\n      <td>0.171166</td>\n      <td>0.0</td>\n      <td>0.004925</td>\n      <td>0.254992</td>\n      <td>0.067476</td>\n      <td>0.0</td>\n      <td>...</td>\n      <td>0.004248</td>\n      <td>0.097569</td>\n      <td>0.0</td>\n      <td>0.183973</td>\n      <td>0.011834</td>\n      <td>0.029646</td>\n      <td>0.341438</td>\n      <td>0.0</td>\n      <td>151711</td>\n      <td>19760331652</td>\n    </tr>\n    <tr>\n      <th>0</th>\n      <td>0.025007</td>\n      <td>0.0</td>\n      <td>0.000875</td>\n      <td>0.0</td>\n      <td>0.171166</td>\n      <td>0.0</td>\n      <td>0.004925</td>\n      <td>0.254992</td>\n      <td>0.067476</td>\n      <td>0.0</td>\n      <td>...</td>\n      <td>0.004248</td>\n      <td>0.097569</td>\n      <td>0.0</td>\n      <td>0.183973</td>\n      <td>0.011834</td>\n      <td>0.029646</td>\n      <td>0.341438</td>\n      <td>0.0</td>\n      <td>155448</td>\n      <td>19760318176</td>\n    </tr>\n    <tr>\n      <th>0</th>\n      <td>0.025007</td>\n      <td>0.0</td>\n      <td>0.000875</td>\n      <td>0.0</td>\n      <td>0.171166</td>\n      <td>0.0</td>\n      <td>0.004925</td>\n      <td>0.254992</td>\n      <td>0.067476</td>\n      <td>0.0</td>\n      <td>...</td>\n      <td>0.004248</td>\n      <td>0.097569</td>\n      <td>0.0</td>\n      <td>0.183973</td>\n      <td>0.011834</td>\n      <td>0.029646</td>\n      <td>0.341438</td>\n      <td>0.0</td>\n      <td>155448</td>\n      <td>19760318176</td>\n    </tr>\n    <tr>\n      <th>0</th>\n      <td>0.025007</td>\n      <td>0.0</td>\n      <td>0.000875</td>\n      <td>0.0</td>\n      <td>0.171166</td>\n      <td>0.0</td>\n      <td>0.004925</td>\n      <td>0.254992</td>\n      <td>0.067476</td>\n      <td>0.0</td>\n      <td>...</td>\n      <td>0.004248</td>\n      <td>0.097569</td>\n      <td>0.0</td>\n      <td>0.183973</td>\n      <td>0.011834</td>\n      <td>0.029646</td>\n      <td>0.341438</td>\n      <td>0.0</td>\n      <td>155448</td>\n      <td>19760318176</td>\n    </tr>\n    <tr>\n      <th>0</th>\n      <td>0.025007</td>\n      <td>0.0</td>\n      <td>0.000875</td>\n      <td>0.0</td>\n      <td>0.171166</td>\n      <td>0.0</td>\n      <td>0.004925</td>\n      <td>0.254992</td>\n      <td>0.067476</td>\n      <td>0.0</td>\n      <td>...</td>\n      <td>0.004248</td>\n      <td>0.097569</td>\n      <td>0.0</td>\n      <td>0.183973</td>\n      <td>0.011834</td>\n      <td>0.029646</td>\n      <td>0.341438</td>\n      <td>0.0</td>\n      <td>62388</td>\n      <td>15480800008</td>\n    </tr>\n    <tr>\n      <th>0</th>\n      <td>0.025007</td>\n      <td>0.0</td>\n      <td>0.000875</td>\n      <td>0.0</td>\n      <td>0.171166</td>\n      <td>0.0</td>\n      <td>0.004925</td>\n      <td>0.254992</td>\n      <td>0.067476</td>\n      <td>0.0</td>\n      <td>...</td>\n      <td>0.004248</td>\n      <td>0.097569</td>\n      <td>0.0</td>\n      <td>0.183973</td>\n      <td>0.011834</td>\n      <td>0.029646</td>\n      <td>0.341438</td>\n      <td>0.0</td>\n      <td>62388</td>\n      <td>15480800008</td>\n    </tr>\n    <tr>\n      <th>0</th>\n      <td>0.025007</td>\n      <td>0.0</td>\n      <td>0.000875</td>\n      <td>0.0</td>\n      <td>0.171166</td>\n      <td>0.0</td>\n      <td>0.004925</td>\n      <td>0.254992</td>\n      <td>0.067476</td>\n      <td>0.0</td>\n      <td>...</td>\n      <td>0.004248</td>\n      <td>0.097569</td>\n      <td>0.0</td>\n      <td>0.183973</td>\n      <td>0.011834</td>\n      <td>0.029646</td>\n      <td>0.341438</td>\n      <td>0.0</td>\n      <td>62388</td>\n      <td>15480800008</td>\n    </tr>\n    <tr>\n      <th>0</th>\n      <td>0.025007</td>\n      <td>0.0</td>\n      <td>0.000875</td>\n      <td>0.0</td>\n      <td>0.171166</td>\n      <td>0.0</td>\n      <td>0.004925</td>\n      <td>0.254992</td>\n      <td>0.067476</td>\n      <td>0.0</td>\n      <td>...</td>\n      <td>0.004248</td>\n      <td>0.097569</td>\n      <td>0.0</td>\n      <td>0.183973</td>\n      <td>0.011834</td>\n      <td>0.029646</td>\n      <td>0.341438</td>\n      <td>0.0</td>\n      <td>147214</td>\n      <td>19760321323</td>\n    </tr>\n    <tr>\n      <th>0</th>\n      <td>0.025007</td>\n      <td>0.0</td>\n      <td>0.000875</td>\n      <td>0.0</td>\n      <td>0.171166</td>\n      <td>0.0</td>\n      <td>0.004925</td>\n      <td>0.254992</td>\n      <td>0.067476</td>\n      <td>0.0</td>\n      <td>...</td>\n      <td>0.004248</td>\n      <td>0.097569</td>\n      <td>0.0</td>\n      <td>0.183973</td>\n      <td>0.011834</td>\n      <td>0.029646</td>\n      <td>0.341438</td>\n      <td>0.0</td>\n      <td>147214</td>\n      <td>19760321323</td>\n    </tr>\n    <tr>\n      <th>0</th>\n      <td>0.025007</td>\n      <td>0.0</td>\n      <td>0.000875</td>\n      <td>0.0</td>\n      <td>0.171166</td>\n      <td>0.0</td>\n      <td>0.004925</td>\n      <td>0.254992</td>\n      <td>0.067476</td>\n      <td>0.0</td>\n      <td>...</td>\n      <td>0.004248</td>\n      <td>0.097569</td>\n      <td>0.0</td>\n      <td>0.183973</td>\n      <td>0.011834</td>\n      <td>0.029646</td>\n      <td>0.341438</td>\n      <td>0.0</td>\n      <td>161955</td>\n      <td>19000007001</td>\n    </tr>\n  </tbody>\n</table>\n<p>50 rows × 2050 columns</p>\n</div>"
     },
     "execution_count": 194,
     "metadata": {},
     "output_type": "execute_result"
    }
   ],
   "source": [
    "image_embeddings[:50]"
   ],
   "metadata": {
    "collapsed": false,
    "pycharm": {
     "name": "#%%\n"
    }
   }
  }
 ],
 "metadata": {
  "kernelspec": {
   "display_name": "Python 3",
   "language": "python",
   "name": "python3"
  },
  "language_info": {
   "codemirror_mode": {
    "name": "ipython",
    "version": 2
   },
   "file_extension": ".py",
   "mimetype": "text/x-python",
   "name": "python",
   "nbconvert_exporter": "python",
   "pygments_lexer": "ipython2",
   "version": "2.7.6"
  }
 },
 "nbformat": 4,
 "nbformat_minor": 0
}