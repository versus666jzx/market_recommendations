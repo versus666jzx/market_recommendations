{
 "cells": [
  {
   "cell_type": "code",
   "execution_count": 122,
   "metadata": {
    "collapsed": true,
    "pycharm": {
     "name": "#%%\n"
    }
   },
   "outputs": [],
   "source": [
    "import re\n",
    "import string\n",
    "\n",
    "import pandas as pd\n",
    "import numpy as np\n",
    "import datetime\n",
    "\n",
    "import transformers\n",
    "import torch\n",
    "\n",
    "from nltk import WordNetLemmatizer\n",
    "\n",
    "from tqdm.notebook import tqdm"
   ]
  },
  {
   "cell_type": "code",
   "execution_count": 107,
   "outputs": [
    {
     "name": "stderr",
     "output_type": "stream",
     "text": [
      "C:\\Users\\123\\AppData\\Local\\Temp\\ipykernel_23040\\1841513019.py:1: DtypeWarning: Columns (18) have mixed types. Specify dtype option on import or set low_memory=False.\n",
      "  data = pd.read_csv('../data/products.csv')\n"
     ]
    },
    {
     "name": "stdout",
     "output_type": "stream",
     "text": [
      "<class 'pandas.core.frame.DataFrame'>\n",
      "Int64Index: 40559 entries, 0 to 40579\n",
      "Data columns (total 28 columns):\n",
      " #   Column               Non-Null Count  Dtype  \n",
      "---  ------               --------------  -----  \n",
      " 0   id                   40559 non-null  int64  \n",
      " 1   sku                  40559 non-null  object \n",
      " 2   name                 40559 non-null  object \n",
      " 3   brand                40559 non-null  object \n",
      " 4   brand_type           40559 non-null  object \n",
      " 5   dimension17          37838 non-null  object \n",
      " 6   dimension18          39810 non-null  object \n",
      " 7   dimension19          9360 non-null   object \n",
      " 8   dimension20          9841 non-null   object \n",
      " 9   country              34488 non-null  object \n",
      " 10  price                40559 non-null  int64  \n",
      " 11  currency             0 non-null      float64\n",
      " 12  old_price            40559 non-null  int64  \n",
      " 13  category_type        40555 non-null  object \n",
      " 14  url                  40559 non-null  object \n",
      " 15  images               40559 non-null  object \n",
      " 16  type                 40559 non-null  object \n",
      " 17  volume               36612 non-null  object \n",
      " 18  main_product_sku     40559 non-null  object \n",
      " 19  main_product_id      40559 non-null  int64  \n",
      " 20  best_loyality_price  0 non-null      float64\n",
      " 21  dimension29          40559 non-null  bool   \n",
      " 22  dimension28          40559 non-null  bool   \n",
      " 23  description          33675 non-null  object \n",
      " 24  product_usage        34341 non-null  object \n",
      " 25  product_composition  27456 non-null  object \n",
      " 26  category             40559 non-null  object \n",
      " 27  category_ru          40559 non-null  object \n",
      "dtypes: bool(2), float64(2), int64(4), object(20)\n",
      "memory usage: 8.4+ MB\n"
     ]
    }
   ],
   "source": [
    "data = pd.read_csv('../data/products.csv')\n",
    "data = data.drop_duplicates()\n",
    "tokenizer = transformers.BertTokenizer('../model/vocab.txt')\n",
    "# model_class, tokenizer_class, pretrained_weights = (transformers.DistilBertModel,\n",
    "                                                    # transformers.DistilBertTokenizer,\n",
    "                                                    # 'distilbert-base-uncased')\n",
    "\n",
    "data.info()"
   ],
   "metadata": {
    "collapsed": false,
    "pycharm": {
     "name": "#%%\n"
    }
   }
  },
  {
   "cell_type": "code",
   "execution_count": 108,
   "outputs": [],
   "source": [
    "def text_processing(text: str) -> str:\n",
    "    if text is np.nan:\n",
    "        return np.nan\n",
    "    text = text.lower()\n",
    "    text = re.sub('\\(.*?\\)', '', text)\n",
    "    trans_dict = str.maketrans('', '', string.punctuation)\n",
    "    text = text.translate(trans_dict)\n",
    "    text = ' '.join(text.split())\n",
    "    return text"
   ],
   "metadata": {
    "collapsed": false,
    "pycharm": {
     "name": "#%%\n"
    }
   }
  },
  {
   "cell_type": "code",
   "execution_count": 109,
   "outputs": [
    {
     "data": {
      "text/plain": "       id          sku                        name      brand brand_type  \\\n0  203730  19000039636                         03    Ecooking   standard   \n1  229474  19000031882                Anti-stress   Botavikos   standard   \n2  229480  19000031888                     Dry oil  Botavikos   standard   \n3  200485  19000046442               Catnip Chaser  Petstages   standard   \n4  202556  19000025382  SALT FACIAL SCRUB ORIGINAL    Kosette   standard   \n\n            dimension17 dimension18           dimension19 dimension20 country  \\\n0           Жидкое мыло     Унисекс                   NaN         NaN   Дания   \n1             Сыворотки     Женский  Увлажнение и питание        Лицо  Россия   \n2                 Масло     Женский                   NaN        Лицо  Россия   \n3  игрушка для животных         NaN                   NaN         NaN     США   \n4                 Скраб     Унисекс              Очищение        Лицо     NaN   \n\n   ...  main_product_sku  main_product_id  best_loyality_price dimension29  \\\n0  ...       19000039636           203730                  NaN       False   \n1  ...       19000031882           229474                  NaN       False   \n2  ...       19000031888           229480                  NaN       False   \n3  ...       19000046442           200485                  NaN       False   \n4  ...       19000025382           202556                  NaN       False   \n\n  dimension28                                        description  \\\n0       False                                        Нежное мыло   \n1       False  • пробуждает внутреннюю энергию клеток, создав...   \n2       False                                          Действие:   \n3       False  Игрушка трек с пластиковым мячиком, тубом коша...   \n4        True                                       Нежный скраб   \n\n                                       product_usage  \\\n0  Намочите руки, нанесите на них мыло, очистите ...   \n1  Равномерно распределите на коже, когда чувству...   \n2  Встряхните перед использованием и распылите ма...   \n3  Подбирайте игрушки в соответствии с весом и дв...   \n4  Нанесите на чистую и влажную кожу, затем аккур...   \n\n                                 product_composition               category  \\\n0  Aqua, Sodium Laureth Sulfate, Cocamidopropyl B...               organika   \n1  Aqua, Niacinamide, Glycerin, Gluconolactone, X...               organika   \n2  Caprylic/Capric Triglyceride, Olea Europaea Fr...               organika   \n3                                            Пластик  tovary-dlja-zhivotnyh   \n4  Glycerin, Sea Salt, Water, Silica, Coco-glucos...                  azija   \n\n           category_ru  \n0             органика  \n1             органика  \n2             органика  \n3  товары для животных  \n4                 азия  \n\n[5 rows x 28 columns]",
      "text/html": "<div>\n<style scoped>\n    .dataframe tbody tr th:only-of-type {\n        vertical-align: middle;\n    }\n\n    .dataframe tbody tr th {\n        vertical-align: top;\n    }\n\n    .dataframe thead th {\n        text-align: right;\n    }\n</style>\n<table border=\"1\" class=\"dataframe\">\n  <thead>\n    <tr style=\"text-align: right;\">\n      <th></th>\n      <th>id</th>\n      <th>sku</th>\n      <th>name</th>\n      <th>brand</th>\n      <th>brand_type</th>\n      <th>dimension17</th>\n      <th>dimension18</th>\n      <th>dimension19</th>\n      <th>dimension20</th>\n      <th>country</th>\n      <th>...</th>\n      <th>main_product_sku</th>\n      <th>main_product_id</th>\n      <th>best_loyality_price</th>\n      <th>dimension29</th>\n      <th>dimension28</th>\n      <th>description</th>\n      <th>product_usage</th>\n      <th>product_composition</th>\n      <th>category</th>\n      <th>category_ru</th>\n    </tr>\n  </thead>\n  <tbody>\n    <tr>\n      <th>0</th>\n      <td>203730</td>\n      <td>19000039636</td>\n      <td>03</td>\n      <td>Ecooking</td>\n      <td>standard</td>\n      <td>Жидкое мыло</td>\n      <td>Унисекс</td>\n      <td>NaN</td>\n      <td>NaN</td>\n      <td>Дания</td>\n      <td>...</td>\n      <td>19000039636</td>\n      <td>203730</td>\n      <td>NaN</td>\n      <td>False</td>\n      <td>False</td>\n      <td>Нежное мыло</td>\n      <td>Намочите руки, нанесите на них мыло, очистите ...</td>\n      <td>Aqua, Sodium Laureth Sulfate, Cocamidopropyl B...</td>\n      <td>organika</td>\n      <td>органика</td>\n    </tr>\n    <tr>\n      <th>1</th>\n      <td>229474</td>\n      <td>19000031882</td>\n      <td>Anti-stress</td>\n      <td>Botavikos</td>\n      <td>standard</td>\n      <td>Сыворотки</td>\n      <td>Женский</td>\n      <td>Увлажнение и питание</td>\n      <td>Лицо</td>\n      <td>Россия</td>\n      <td>...</td>\n      <td>19000031882</td>\n      <td>229474</td>\n      <td>NaN</td>\n      <td>False</td>\n      <td>False</td>\n      <td>• пробуждает внутреннюю энергию клеток, создав...</td>\n      <td>Равномерно распределите на коже, когда чувству...</td>\n      <td>Aqua, Niacinamide, Glycerin, Gluconolactone, X...</td>\n      <td>organika</td>\n      <td>органика</td>\n    </tr>\n    <tr>\n      <th>2</th>\n      <td>229480</td>\n      <td>19000031888</td>\n      <td>Dry oil</td>\n      <td>Botavikos</td>\n      <td>standard</td>\n      <td>Масло</td>\n      <td>Женский</td>\n      <td>NaN</td>\n      <td>Лицо</td>\n      <td>Россия</td>\n      <td>...</td>\n      <td>19000031888</td>\n      <td>229480</td>\n      <td>NaN</td>\n      <td>False</td>\n      <td>False</td>\n      <td>Действие:</td>\n      <td>Встряхните перед использованием и распылите ма...</td>\n      <td>Caprylic/Capric Triglyceride, Olea Europaea Fr...</td>\n      <td>organika</td>\n      <td>органика</td>\n    </tr>\n    <tr>\n      <th>3</th>\n      <td>200485</td>\n      <td>19000046442</td>\n      <td>Catnip Chaser</td>\n      <td>Petstages</td>\n      <td>standard</td>\n      <td>игрушка для животных</td>\n      <td>NaN</td>\n      <td>NaN</td>\n      <td>NaN</td>\n      <td>США</td>\n      <td>...</td>\n      <td>19000046442</td>\n      <td>200485</td>\n      <td>NaN</td>\n      <td>False</td>\n      <td>False</td>\n      <td>Игрушка трек с пластиковым мячиком, тубом коша...</td>\n      <td>Подбирайте игрушки в соответствии с весом и дв...</td>\n      <td>Пластик</td>\n      <td>tovary-dlja-zhivotnyh</td>\n      <td>товары для животных</td>\n    </tr>\n    <tr>\n      <th>4</th>\n      <td>202556</td>\n      <td>19000025382</td>\n      <td>SALT FACIAL SCRUB ORIGINAL</td>\n      <td>Kosette</td>\n      <td>standard</td>\n      <td>Скраб</td>\n      <td>Унисекс</td>\n      <td>Очищение</td>\n      <td>Лицо</td>\n      <td>NaN</td>\n      <td>...</td>\n      <td>19000025382</td>\n      <td>202556</td>\n      <td>NaN</td>\n      <td>False</td>\n      <td>True</td>\n      <td>Нежный скраб</td>\n      <td>Нанесите на чистую и влажную кожу, затем аккур...</td>\n      <td>Glycerin, Sea Salt, Water, Silica, Coco-glucos...</td>\n      <td>azija</td>\n      <td>азия</td>\n    </tr>\n  </tbody>\n</table>\n<p>5 rows × 28 columns</p>\n</div>"
     },
     "execution_count": 109,
     "metadata": {},
     "output_type": "execute_result"
    }
   ],
   "source": [
    "data.head()"
   ],
   "metadata": {
    "collapsed": false,
    "pycharm": {
     "name": "#%%\n"
    }
   }
  },
  {
   "cell_type": "markdown",
   "source": [],
   "metadata": {
    "collapsed": false,
    "pycharm": {
     "name": "#%% md\n"
    }
   }
  },
  {
   "cell_type": "code",
   "execution_count": 110,
   "outputs": [
    {
     "data": {
      "text/plain": "       id          sku                        name      brand brand_type  \\\n0  203730  19000039636                         03    Ecooking   standard   \n1  229474  19000031882                Anti-stress   Botavikos   standard   \n2  229480  19000031888                     Dry oil  Botavikos   standard   \n3  200485  19000046442               Catnip Chaser  Petstages   standard   \n4  202556  19000025382  SALT FACIAL SCRUB ORIGINAL    Kosette   standard   \n\n            dimension17 dimension18           dimension19 dimension20 country  \\\n0           Жидкое мыло     Унисекс                   NaN         NaN   Дания   \n1             Сыворотки     Женский  Увлажнение и питание        Лицо  Россия   \n2                 Масло     Женский                   NaN        Лицо  Россия   \n3  игрушка для животных         NaN                   NaN         NaN     США   \n4                 Скраб     Унисекс              Очищение        Лицо     NaN   \n\n   ...  main_product_sku  main_product_id  best_loyality_price dimension29  \\\n0  ...       19000039636           203730                  NaN       False   \n1  ...       19000031882           229474                  NaN       False   \n2  ...       19000031888           229480                  NaN       False   \n3  ...       19000046442           200485                  NaN       False   \n4  ...       19000025382           202556                  NaN       False   \n\n  dimension28                                        description  \\\n0       False                                        нежное мыло   \n1       False  • пробуждает внутреннюю энергию клеток создава...   \n2       False                                           действие   \n3       False  игрушка трек с пластиковым мячиком тубом кошач...   \n4        True                                       нежный скраб   \n\n                                       product_usage  \\\n0  намочите руки нанесите на них мыло очистите ру...   \n1  равномерно распределите на коже когда чувствуе...   \n2  встряхните перед использованием и распылите ма...   \n3  подбирайте игрушки в соответствии с весом и дв...   \n4  нанесите на чистую и влажную кожу затем аккура...   \n\n                                 product_composition               category  \\\n0  aqua sodium laureth sulfate cocamidopropyl bet...               organika   \n1  aqua niacinamide glycerin gluconolactone xanth...               organika   \n2  capryliccapric triglyceride olea europaea frui...               organika   \n3                                            пластик  tovary-dlja-zhivotnyh   \n4  glycerin sea salt water silica cocoglucoside s...                  azija   \n\n           category_ru  \n0             органика  \n1             органика  \n2             органика  \n3  товары для животных  \n4                 азия  \n\n[5 rows x 28 columns]",
      "text/html": "<div>\n<style scoped>\n    .dataframe tbody tr th:only-of-type {\n        vertical-align: middle;\n    }\n\n    .dataframe tbody tr th {\n        vertical-align: top;\n    }\n\n    .dataframe thead th {\n        text-align: right;\n    }\n</style>\n<table border=\"1\" class=\"dataframe\">\n  <thead>\n    <tr style=\"text-align: right;\">\n      <th></th>\n      <th>id</th>\n      <th>sku</th>\n      <th>name</th>\n      <th>brand</th>\n      <th>brand_type</th>\n      <th>dimension17</th>\n      <th>dimension18</th>\n      <th>dimension19</th>\n      <th>dimension20</th>\n      <th>country</th>\n      <th>...</th>\n      <th>main_product_sku</th>\n      <th>main_product_id</th>\n      <th>best_loyality_price</th>\n      <th>dimension29</th>\n      <th>dimension28</th>\n      <th>description</th>\n      <th>product_usage</th>\n      <th>product_composition</th>\n      <th>category</th>\n      <th>category_ru</th>\n    </tr>\n  </thead>\n  <tbody>\n    <tr>\n      <th>0</th>\n      <td>203730</td>\n      <td>19000039636</td>\n      <td>03</td>\n      <td>Ecooking</td>\n      <td>standard</td>\n      <td>Жидкое мыло</td>\n      <td>Унисекс</td>\n      <td>NaN</td>\n      <td>NaN</td>\n      <td>Дания</td>\n      <td>...</td>\n      <td>19000039636</td>\n      <td>203730</td>\n      <td>NaN</td>\n      <td>False</td>\n      <td>False</td>\n      <td>нежное мыло</td>\n      <td>намочите руки нанесите на них мыло очистите ру...</td>\n      <td>aqua sodium laureth sulfate cocamidopropyl bet...</td>\n      <td>organika</td>\n      <td>органика</td>\n    </tr>\n    <tr>\n      <th>1</th>\n      <td>229474</td>\n      <td>19000031882</td>\n      <td>Anti-stress</td>\n      <td>Botavikos</td>\n      <td>standard</td>\n      <td>Сыворотки</td>\n      <td>Женский</td>\n      <td>Увлажнение и питание</td>\n      <td>Лицо</td>\n      <td>Россия</td>\n      <td>...</td>\n      <td>19000031882</td>\n      <td>229474</td>\n      <td>NaN</td>\n      <td>False</td>\n      <td>False</td>\n      <td>• пробуждает внутреннюю энергию клеток создава...</td>\n      <td>равномерно распределите на коже когда чувствуе...</td>\n      <td>aqua niacinamide glycerin gluconolactone xanth...</td>\n      <td>organika</td>\n      <td>органика</td>\n    </tr>\n    <tr>\n      <th>2</th>\n      <td>229480</td>\n      <td>19000031888</td>\n      <td>Dry oil</td>\n      <td>Botavikos</td>\n      <td>standard</td>\n      <td>Масло</td>\n      <td>Женский</td>\n      <td>NaN</td>\n      <td>Лицо</td>\n      <td>Россия</td>\n      <td>...</td>\n      <td>19000031888</td>\n      <td>229480</td>\n      <td>NaN</td>\n      <td>False</td>\n      <td>False</td>\n      <td>действие</td>\n      <td>встряхните перед использованием и распылите ма...</td>\n      <td>capryliccapric triglyceride olea europaea frui...</td>\n      <td>organika</td>\n      <td>органика</td>\n    </tr>\n    <tr>\n      <th>3</th>\n      <td>200485</td>\n      <td>19000046442</td>\n      <td>Catnip Chaser</td>\n      <td>Petstages</td>\n      <td>standard</td>\n      <td>игрушка для животных</td>\n      <td>NaN</td>\n      <td>NaN</td>\n      <td>NaN</td>\n      <td>США</td>\n      <td>...</td>\n      <td>19000046442</td>\n      <td>200485</td>\n      <td>NaN</td>\n      <td>False</td>\n      <td>False</td>\n      <td>игрушка трек с пластиковым мячиком тубом кошач...</td>\n      <td>подбирайте игрушки в соответствии с весом и дв...</td>\n      <td>пластик</td>\n      <td>tovary-dlja-zhivotnyh</td>\n      <td>товары для животных</td>\n    </tr>\n    <tr>\n      <th>4</th>\n      <td>202556</td>\n      <td>19000025382</td>\n      <td>SALT FACIAL SCRUB ORIGINAL</td>\n      <td>Kosette</td>\n      <td>standard</td>\n      <td>Скраб</td>\n      <td>Унисекс</td>\n      <td>Очищение</td>\n      <td>Лицо</td>\n      <td>NaN</td>\n      <td>...</td>\n      <td>19000025382</td>\n      <td>202556</td>\n      <td>NaN</td>\n      <td>False</td>\n      <td>True</td>\n      <td>нежный скраб</td>\n      <td>нанесите на чистую и влажную кожу затем аккура...</td>\n      <td>glycerin sea salt water silica cocoglucoside s...</td>\n      <td>azija</td>\n      <td>азия</td>\n    </tr>\n  </tbody>\n</table>\n<p>5 rows × 28 columns</p>\n</div>"
     },
     "execution_count": 110,
     "metadata": {},
     "output_type": "execute_result"
    }
   ],
   "source": [
    "text_columns = ['description', 'product_usage', 'product_composition']\n",
    "\n",
    "for column in text_columns:\n",
    "    data[column] = data[column].apply(text_processing)\n",
    "\n",
    "data.head()"
   ],
   "metadata": {
    "collapsed": false,
    "pycharm": {
     "name": "#%%\n"
    }
   }
  },
  {
   "cell_type": "code",
   "execution_count": 117,
   "outputs": [],
   "source": [
    "def lower(text: str) -> str:\n",
    "    if text is np.nan:\n",
    "        return np.nan\n",
    "    return text.lower()"
   ],
   "metadata": {
    "collapsed": false,
    "pycharm": {
     "name": "#%%\n"
    }
   }
  },
  {
   "cell_type": "code",
   "execution_count": 118,
   "outputs": [
    {
     "data": {
      "text/plain": "       id          sku                        name      brand brand_type  \\\n0  203730  19000039636                         03    ecooking   standard   \n1  229474  19000031882                anti-stress   botavikos   standard   \n2  229480  19000031888                     dry oil  botavikos   standard   \n3  200485  19000046442               catnip chaser  petstages   standard   \n4  202556  19000025382  salt facial scrub original    kosette   standard   \n\n            dimension17 dimension18           dimension19 dimension20 country  \\\n0           жидкое мыло     унисекс                   NaN         NaN   дания   \n1             сыворотки     женский  увлажнение и питание        лицо  россия   \n2                 масло     женский                   NaN        лицо  россия   \n3  игрушка для животных         NaN                   NaN         NaN     сша   \n4                 скраб     унисекс              очищение        лицо     NaN   \n\n   ...  main_product_sku  main_product_id  best_loyality_price dimension29  \\\n0  ...       19000039636           203730                  NaN       False   \n1  ...       19000031882           229474                  NaN       False   \n2  ...       19000031888           229480                  NaN       False   \n3  ...       19000046442           200485                  NaN       False   \n4  ...       19000025382           202556                  NaN       False   \n\n  dimension28                                        description  \\\n0       False                                        нежное мыло   \n1       False  • пробуждает внутреннюю энергию клеток создава...   \n2       False                                           действие   \n3       False  игрушка трек с пластиковым мячиком тубом кошач...   \n4        True                                       нежный скраб   \n\n                                       product_usage  \\\n0  намочите руки нанесите на них мыло очистите ру...   \n1  равномерно распределите на коже когда чувствуе...   \n2  встряхните перед использованием и распылите ма...   \n3  подбирайте игрушки в соответствии с весом и дв...   \n4  нанесите на чистую и влажную кожу затем аккура...   \n\n                                 product_composition               category  \\\n0  aqua sodium laureth sulfate cocamidopropyl bet...               organika   \n1  aqua niacinamide glycerin gluconolactone xanth...               organika   \n2  capryliccapric triglyceride olea europaea frui...               organika   \n3                                            пластик  tovary-dlja-zhivotnyh   \n4  glycerin sea salt water silica cocoglucoside s...                  azija   \n\n           category_ru  \n0             органика  \n1             органика  \n2             органика  \n3  товары для животных  \n4                 азия  \n\n[5 rows x 28 columns]",
      "text/html": "<div>\n<style scoped>\n    .dataframe tbody tr th:only-of-type {\n        vertical-align: middle;\n    }\n\n    .dataframe tbody tr th {\n        vertical-align: top;\n    }\n\n    .dataframe thead th {\n        text-align: right;\n    }\n</style>\n<table border=\"1\" class=\"dataframe\">\n  <thead>\n    <tr style=\"text-align: right;\">\n      <th></th>\n      <th>id</th>\n      <th>sku</th>\n      <th>name</th>\n      <th>brand</th>\n      <th>brand_type</th>\n      <th>dimension17</th>\n      <th>dimension18</th>\n      <th>dimension19</th>\n      <th>dimension20</th>\n      <th>country</th>\n      <th>...</th>\n      <th>main_product_sku</th>\n      <th>main_product_id</th>\n      <th>best_loyality_price</th>\n      <th>dimension29</th>\n      <th>dimension28</th>\n      <th>description</th>\n      <th>product_usage</th>\n      <th>product_composition</th>\n      <th>category</th>\n      <th>category_ru</th>\n    </tr>\n  </thead>\n  <tbody>\n    <tr>\n      <th>0</th>\n      <td>203730</td>\n      <td>19000039636</td>\n      <td>03</td>\n      <td>ecooking</td>\n      <td>standard</td>\n      <td>жидкое мыло</td>\n      <td>унисекс</td>\n      <td>NaN</td>\n      <td>NaN</td>\n      <td>дания</td>\n      <td>...</td>\n      <td>19000039636</td>\n      <td>203730</td>\n      <td>NaN</td>\n      <td>False</td>\n      <td>False</td>\n      <td>нежное мыло</td>\n      <td>намочите руки нанесите на них мыло очистите ру...</td>\n      <td>aqua sodium laureth sulfate cocamidopropyl bet...</td>\n      <td>organika</td>\n      <td>органика</td>\n    </tr>\n    <tr>\n      <th>1</th>\n      <td>229474</td>\n      <td>19000031882</td>\n      <td>anti-stress</td>\n      <td>botavikos</td>\n      <td>standard</td>\n      <td>сыворотки</td>\n      <td>женский</td>\n      <td>увлажнение и питание</td>\n      <td>лицо</td>\n      <td>россия</td>\n      <td>...</td>\n      <td>19000031882</td>\n      <td>229474</td>\n      <td>NaN</td>\n      <td>False</td>\n      <td>False</td>\n      <td>• пробуждает внутреннюю энергию клеток создава...</td>\n      <td>равномерно распределите на коже когда чувствуе...</td>\n      <td>aqua niacinamide glycerin gluconolactone xanth...</td>\n      <td>organika</td>\n      <td>органика</td>\n    </tr>\n    <tr>\n      <th>2</th>\n      <td>229480</td>\n      <td>19000031888</td>\n      <td>dry oil</td>\n      <td>botavikos</td>\n      <td>standard</td>\n      <td>масло</td>\n      <td>женский</td>\n      <td>NaN</td>\n      <td>лицо</td>\n      <td>россия</td>\n      <td>...</td>\n      <td>19000031888</td>\n      <td>229480</td>\n      <td>NaN</td>\n      <td>False</td>\n      <td>False</td>\n      <td>действие</td>\n      <td>встряхните перед использованием и распылите ма...</td>\n      <td>capryliccapric triglyceride olea europaea frui...</td>\n      <td>organika</td>\n      <td>органика</td>\n    </tr>\n    <tr>\n      <th>3</th>\n      <td>200485</td>\n      <td>19000046442</td>\n      <td>catnip chaser</td>\n      <td>petstages</td>\n      <td>standard</td>\n      <td>игрушка для животных</td>\n      <td>NaN</td>\n      <td>NaN</td>\n      <td>NaN</td>\n      <td>сша</td>\n      <td>...</td>\n      <td>19000046442</td>\n      <td>200485</td>\n      <td>NaN</td>\n      <td>False</td>\n      <td>False</td>\n      <td>игрушка трек с пластиковым мячиком тубом кошач...</td>\n      <td>подбирайте игрушки в соответствии с весом и дв...</td>\n      <td>пластик</td>\n      <td>tovary-dlja-zhivotnyh</td>\n      <td>товары для животных</td>\n    </tr>\n    <tr>\n      <th>4</th>\n      <td>202556</td>\n      <td>19000025382</td>\n      <td>salt facial scrub original</td>\n      <td>kosette</td>\n      <td>standard</td>\n      <td>скраб</td>\n      <td>унисекс</td>\n      <td>очищение</td>\n      <td>лицо</td>\n      <td>NaN</td>\n      <td>...</td>\n      <td>19000025382</td>\n      <td>202556</td>\n      <td>NaN</td>\n      <td>False</td>\n      <td>True</td>\n      <td>нежный скраб</td>\n      <td>нанесите на чистую и влажную кожу затем аккура...</td>\n      <td>glycerin sea salt water silica cocoglucoside s...</td>\n      <td>azija</td>\n      <td>азия</td>\n    </tr>\n  </tbody>\n</table>\n<p>5 rows × 28 columns</p>\n</div>"
     },
     "execution_count": 118,
     "metadata": {},
     "output_type": "execute_result"
    }
   ],
   "source": [
    "columns_to_lower = ['name', 'brand', 'dimension17', 'dimension18', 'dimension19', 'dimension20', 'country', 'category_type']\n",
    "\n",
    "for column in columns_to_lower:\n",
    "    data[column] = data[column].apply(lower)\n",
    "\n",
    "data.head()"
   ],
   "metadata": {
    "collapsed": false,
    "pycharm": {
     "name": "#%%\n"
    }
   }
  },
  {
   "cell_type": "code",
   "execution_count": 124,
   "outputs": [],
   "source": [
    "def lemmatization(data):\n",
    "    if data is np.nan:\n",
    "        return ''\n",
    "    return ' '.join([WordNetLemmatizer().lemmatize(word) for word in data.split()])"
   ],
   "metadata": {
    "collapsed": false,
    "pycharm": {
     "name": "#%%\n"
    }
   }
  },
  {
   "cell_type": "code",
   "execution_count": 121,
   "outputs": [
    {
     "name": "stderr",
     "output_type": "stream",
     "text": [
      "Some weights of the model checkpoint at ../model/pytorch_model.bin were not used when initializing BertModel: ['cls.predictions.bias', 'cls.predictions.transform.LayerNorm.weight', 'cls.seq_relationship.weight', 'cls.predictions.transform.dense.weight', 'cls.predictions.transform.dense.bias', 'cls.seq_relationship.bias', 'cls.predictions.transform.LayerNorm.bias', 'cls.predictions.decoder.weight']\n",
      "- This IS expected if you are initializing BertModel from the checkpoint of a model trained on another task or with another architecture (e.g. initializing a BertForSequenceClassification model from a BertForPreTraining model).\n",
      "- This IS NOT expected if you are initializing BertModel from the checkpoint of a model that you expect to be exactly identical (initializing a BertForSequenceClassification model from a BertForSequenceClassification model).\n"
     ]
    }
   ],
   "source": [
    "config = transformers.BertConfig.from_json_file(\n",
    "    '../model/bert_config.json')\n",
    "model = transformers.BertModel.from_pretrained(\n",
    "    '../model/pytorch_model.bin', config=config).to('cuda:0')"
   ],
   "metadata": {
    "collapsed": false,
    "pycharm": {
     "name": "#%%\n"
    }
   }
  },
  {
   "cell_type": "code",
   "execution_count": 132,
   "outputs": [
    {
     "data": {
      "text/plain": "  0%|          | 0/40559 [00:00<?, ?it/s]",
      "application/vnd.jupyter.widget-view+json": {
       "version_major": 2,
       "version_minor": 0,
       "model_id": "b097335e9eca442d9b5bdb116ec5932a"
      }
     },
     "metadata": {},
     "output_type": "display_data"
    },
    {
     "data": {
      "text/plain": "  0%|          | 0/40559 [00:00<?, ?it/s]",
      "application/vnd.jupyter.widget-view+json": {
       "version_major": 2,
       "version_minor": 0,
       "model_id": "ff195b57c9f3429b8f786963742f4fe2"
      }
     },
     "metadata": {},
     "output_type": "display_data"
    },
    {
     "data": {
      "text/plain": "  0%|          | 0/40559 [00:00<?, ?it/s]",
      "application/vnd.jupyter.widget-view+json": {
       "version_major": 2,
       "version_minor": 0,
       "model_id": "1ea542e4e7e0435eac51c1caf38fa80c"
      }
     },
     "metadata": {},
     "output_type": "display_data"
    }
   ],
   "source": [
    "batch_size = 1\n",
    "\n",
    "for column in text_columns:\n",
    "    lemmas = data[column].apply(lemmatization)\n",
    "    vector = lemmas.apply(lambda x: tokenizer.encode(x, add_special_tokens=True, max_length=512))\n",
    "    # применим padding к векторам\n",
    "    n = len(max(vector, key=len))\n",
    "    # англ. вектор с отступами\n",
    "    padded = np.array([i + [0]*(n - len(i)) for i in vector.values])\n",
    "\n",
    "    # создадим маску для важных токенов\n",
    "    attention_mask = np.where(padded != 0, 1, 0)\n",
    "\n",
    "    embeddings = []\n",
    "    for i in tqdm(range(padded.shape[0] // batch_size)):\n",
    "        # преобразуем данные\n",
    "        batch = torch.LongTensor(padded[batch_size*i : batch_size*(i+1)]).to('cuda:0')\n",
    "        # преобразуем маску\n",
    "        attention_mask_batch = torch.LongTensor(attention_mask[batch_size*i : batch_size*(i+1)]).to('cuda:0')\n",
    "        with torch.no_grad():\n",
    "            batch_embeddings = model(batch, attention_mask=attention_mask_batch)\n",
    "\n",
    "        # преобразуем элементы методом numpy() к типу numpy.array\n",
    "        embeddings.append(batch_embeddings[0][:,0,:].cpu().numpy())\n",
    "\n",
    "    features = pd.DataFrame(np.concatenate(embeddings))\n",
    "    features.to_csv(f'../data/embedded_{column}')\n"
   ],
   "metadata": {
    "collapsed": false,
    "pycharm": {
     "name": "#%%\n"
    }
   }
  },
  {
   "cell_type": "code",
   "execution_count": 147,
   "outputs": [
    {
     "data": {
      "text/plain": "  0%|          | 0/40559 [00:00<?, ?it/s]",
      "application/vnd.jupyter.widget-view+json": {
       "version_major": 2,
       "version_minor": 0,
       "model_id": "8a7a7ce61e6447b997f8ce093c5c0138"
      }
     },
     "metadata": {},
     "output_type": "display_data"
    }
   ],
   "source": [
    "batch_size = 1\n",
    "text = []\n",
    "for d, pu, pc in data[['description', 'product_usage', 'product_composition']].values:\n",
    "    if d is np.nan:\n",
    "        d = ' '\n",
    "    if pu is np.nan:\n",
    "        pu = ' '\n",
    "    if pc is np.nan:\n",
    "        pc = ' '\n",
    "    text.append(d + pu + pc)\n",
    "\n",
    "data['3_in_1'] = text\n",
    "\n",
    "lemmas = data['3_in_1'].apply(lemmatization)\n",
    "vector = lemmas.apply(lambda x: tokenizer.encode(x, add_special_tokens=True, max_length=512))\n",
    "# применим padding к векторам\n",
    "n = len(max(vector, key=len))\n",
    "# англ. вектор с отступами\n",
    "padded = np.array([i + [0]*(n - len(i)) for i in vector.values])\n",
    "\n",
    "# создадим маску для важных токенов\n",
    "attention_mask = np.where(padded != 0, 1, 0)\n",
    "\n",
    "embeddings = []\n",
    "for i in tqdm(range(padded.shape[0] // batch_size)):\n",
    "    # преобразуем данные\n",
    "    batch = torch.LongTensor(padded[batch_size*i : batch_size*(i+1)]).to('cuda:0')\n",
    "    # преобразуем маску\n",
    "    attention_mask_batch = torch.LongTensor(attention_mask[batch_size*i : batch_size*(i+1)]).to('cuda:0')\n",
    "    with torch.no_grad():\n",
    "        batch_embeddings = model(batch, attention_mask=attention_mask_batch)\n",
    "\n",
    "    # преобразуем элементы методом numpy() к типу numpy.array\n",
    "    embeddings.append(batch_embeddings[0][:,0,:].cpu().numpy())\n",
    "\n",
    "features = pd.DataFrame(np.concatenate(embeddings))\n",
    "\n",
    "features.to_csv(f'../data/embedded_3_in_1')"
   ],
   "metadata": {
    "collapsed": false,
    "pycharm": {
     "name": "#%%\n"
    }
   }
  }
 ],
 "metadata": {
  "kernelspec": {
   "display_name": "Python 3",
   "language": "python",
   "name": "python3"
  },
  "language_info": {
   "codemirror_mode": {
    "name": "ipython",
    "version": 2
   },
   "file_extension": ".py",
   "mimetype": "text/x-python",
   "name": "python",
   "nbconvert_exporter": "python",
   "pygments_lexer": "ipython2",
   "version": "2.7.6"
  }
 },
 "nbformat": 4,
 "nbformat_minor": 0
}