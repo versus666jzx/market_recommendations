{
 "cells": [
  {
   "cell_type": "code",
   "execution_count": 58,
   "metadata": {
    "collapsed": true,
    "pycharm": {
     "name": "#%%\n"
    }
   },
   "outputs": [],
   "source": [
    "import pandas as pd\n",
    "import numpy as np\n",
    "import plotly.express as px\n",
    "import requests\n",
    "import bs4\n",
    "import lxml\n",
    "import re"
   ]
  },
  {
   "cell_type": "code",
   "execution_count": 41,
   "outputs": [],
   "source": [
    "def get_sitemats_list(url: str='https://goldapple.ru/sitemap.xml') -> list[str]:\n",
    "    try:\n",
    "        res = requests.get(url, timeout=30).text\n",
    "    except requests.exceptions.ConnectTimeout as err:\n",
    "        raise requests.exceptions.ConnectTimeout(f'connection timeout, {err}')\n",
    "    except requests.exceptions.ConnectionError:\n",
    "        raise requests.exceptions.ConnectionError(f'check url: {url}')\n",
    "    except requests.exceptions.HTTPError as err:\n",
    "        raise requests.exceptions.HTTPError(err)\n",
    "\n",
    "    try:\n",
    "        soup = bs4.BeautifulSoup(res, 'xml')\n",
    "        res = [x.text for x in soup.find_all('loc')]\n",
    "    except AttributeError as err:\n",
    "        raise AttributeError(f'could not find attribute \"loc\", {err}')\n",
    "    except Exception as err:\n",
    "        raise f'Error parsing xml data: {err}'\n",
    "\n",
    "    return res"
   ],
   "metadata": {
    "collapsed": false,
    "pycharm": {
     "name": "#%%\n"
    }
   }
  },
  {
   "cell_type": "code",
   "execution_count": 78,
   "outputs": [],
   "source": [
    "def get_product_urls(sitemaps: list[str]) -> list[str]:\n",
    "    res = []\n",
    "    pattern = re.compile(r'\\d{10,12}')\n",
    "    for sitemap in sitemaps:\n",
    "        xml_products = requests.get(sitemap).text\n",
    "        soup_products = bs4.BeautifulSoup(xml_products, 'xml')\n",
    "        product_urls = [x.text for x in soup_products.find_all('loc')]\n",
    "        for index, x in enumerate(product_urls):\n",
    "            product = re.findall(pattern, x)\n",
    "            if product:\n",
    "                res.append(product_urls[index])\n",
    "    return res"
   ],
   "metadata": {
    "collapsed": false,
    "pycharm": {
     "name": "#%%\n"
    }
   }
  },
  {
   "cell_type": "code",
   "execution_count": 79,
   "outputs": [],
   "source": [
    "sitemaps = get_sitemats_list()\n",
    "product_urls = get_product_urls(sitemaps)"
   ],
   "metadata": {
    "collapsed": false,
    "pycharm": {
     "name": "#%%\n"
    }
   }
  },
  {
   "cell_type": "code",
   "execution_count": 80,
   "outputs": [
    {
     "data": {
      "text/plain": "71803"
     },
     "execution_count": 80,
     "metadata": {},
     "output_type": "execute_result"
    }
   ],
   "source": [
    "len(product_urls)"
   ],
   "metadata": {
    "collapsed": false,
    "pycharm": {
     "name": "#%%\n"
    }
   }
  }
 ],
 "metadata": {
  "kernelspec": {
   "display_name": "Python 3",
   "language": "python",
   "name": "python3"
  },
  "language_info": {
   "codemirror_mode": {
    "name": "ipython",
    "version": 2
   },
   "file_extension": ".py",
   "mimetype": "text/x-python",
   "name": "python",
   "nbconvert_exporter": "python",
   "pygments_lexer": "ipython2",
   "version": "2.7.6"
  }
 },
 "nbformat": 4,
 "nbformat_minor": 0
}