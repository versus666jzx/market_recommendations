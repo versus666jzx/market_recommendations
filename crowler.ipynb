{
 "cells": [
  {
   "cell_type": "code",
   "execution_count": 1,
   "metadata": {
    "collapsed": true,
    "pycharm": {
     "name": "#%%\n"
    }
   },
   "outputs": [],
   "source": [
    "from typing import Tuple, Any\n",
    "\n",
    "import pandas as pd\n",
    "import numpy as np\n",
    "import plotly.express as px\n",
    "import requests\n",
    "import bs4\n",
    "from lxml import etree\n",
    "import re"
   ]
  },
  {
   "cell_type": "code",
   "execution_count": 2,
   "outputs": [],
   "source": [
    "def get_sitemats_list(url: str='https://goldapple.ru/sitemap.xml') -> list[str]:\n",
    "    \"\"\"\n",
    "    Get sitemaps list from goldapple or another url.\n",
    "    :param url: url to sitemap.xml\n",
    "    :return: list of sitemaps urls\n",
    "    \"\"\"\n",
    "    try:\n",
    "        res = requests.get(url, timeout=30).text\n",
    "    except requests.exceptions.ConnectTimeout as err:\n",
    "        raise requests.exceptions.ConnectTimeout(f'connection timeout, {err}')\n",
    "    except requests.exceptions.ConnectionError:\n",
    "        raise requests.exceptions.ConnectionError(f'check url: {url}')\n",
    "    except requests.exceptions.HTTPError as err:\n",
    "        raise requests.exceptions.HTTPError(err)\n",
    "\n",
    "    try:\n",
    "        soup = bs4.BeautifulSoup(res, 'xml')\n",
    "        res = [x.text for x in soup.find_all('loc')]\n",
    "    except AttributeError as err:\n",
    "        raise AttributeError(f'could not find attribute \"loc\", {err}')\n",
    "    except Exception as err:\n",
    "        raise f'Error parsing xml data: {err}'\n",
    "\n",
    "    return res"
   ],
   "metadata": {
    "collapsed": false,
    "pycharm": {
     "name": "#%%\n"
    }
   }
  },
  {
   "cell_type": "code",
   "execution_count": 3,
   "outputs": [],
   "source": [
    "def get_product_urls(sitemaps: list[str]) -> list[str]:\n",
    "    \"\"\"\n",
    "    Get products urls from sitemaps.\n",
    "\n",
    "    :param sitemaps: list of sitemaps urls\n",
    "    :return: list of product links\n",
    "    \"\"\"\n",
    "    res = []\n",
    "    pattern = re.compile(r'\\d{10,12}')\n",
    "    for sitemap in sitemaps:\n",
    "        xml_products = requests.get(sitemap).text\n",
    "        soup_products = bs4.BeautifulSoup(xml_products, 'xml')\n",
    "        product_urls = [x.text for x in soup_products.find_all('loc')]\n",
    "        for index, x in enumerate(product_urls):\n",
    "            product = re.findall(pattern, x)\n",
    "            if product:\n",
    "                res.append(product_urls[index])\n",
    "    return res"
   ],
   "metadata": {
    "collapsed": false,
    "pycharm": {
     "name": "#%%\n"
    }
   }
  },
  {
   "cell_type": "code",
   "execution_count": null,
   "outputs": [],
   "source": [
    "def get_sku_and_product_id(url: str) -> tuple[Any, Any]:\n",
    "    \"\"\"\n",
    "    Return sku_id and product_id from product URL\n",
    "    :param url: url to product\n",
    "    :return: [sku_id, prod_id]\n",
    "    \"\"\"\n",
    "    pattern = re.compile(r'\\d{4,20}')\n",
    "    res_sku = re.findall(pattern, url)\n",
    "    if len(res_sku) == 1:\n",
    "        prod_id = None\n",
    "        sku_id = res_sku[0]\n",
    "    elif len(res_sku) > 1:\n",
    "        prod_id = res_sku[0]\n",
    "        sku_id = res_sku[1]\n",
    "    else:\n",
    "        prod_id = sku_id = None\n",
    "\n",
    "    return sku_id, prod_id"
   ],
   "metadata": {
    "collapsed": false,
    "pycharm": {
     "name": "#%%\n"
    }
   }
  },
  {
   "cell_type": "code",
   "execution_count": 4,
   "outputs": [],
   "source": [
    "sitemaps = get_sitemats_list()\n",
    "product_urls = get_product_urls(sitemaps)"
   ],
   "metadata": {
    "collapsed": false,
    "pycharm": {
     "name": "#%%\n"
    }
   }
  },
  {
   "cell_type": "code",
   "execution_count": 55,
   "outputs": [],
   "source": [
    "class Product:\n",
    "    def __init__(self, product_page, product_url:str=None, product_id:int=None, sku_id:int=None):\n",
    "        self.product_page: etree._Element = etree.HTML(product_page)\n",
    "        self.product_url = product_url\n",
    "        self.product_id: int or None = product_id\n",
    "        self.sku_id: int or None = sku_id\n",
    "        self.title: str or None = self.product_page.xpath('/html/body/div[1]/main/div/div/section/section[1]/section[3]/div/header/p')[0].text.strip() \\\n",
    "            if len(self.product_page.xpath('/html/body/div[1]/main/div/div/section/section[1]/section[3]/div/header/p')) > 0 \\\n",
    "            else None\n",
    "        self.first_subcategory: str or None = self.product_page.xpath('/html/body/div[1]/main/div/div/section/header/section[1]/nav/ul/li[2]/a/span')[0].text.strip() \\\n",
    "            if len(self.product_page.xpath('/html/body/div[1]/main/div/div/section/header/section[1]/nav/ul/li[2]/a/span')) > 0 \\\n",
    "            else None\n",
    "        self.second_subcategory: str or None = self.product_page.xpath('/html/body/div[1]/main/div/div/section/header/section[1]/nav/ul/li[3]/a/span')[0].text.strip() \\\n",
    "            if len(self.product_page.xpath('/html/body/div[1]/main/div/div/section/header/section[1]/nav/ul/li[3]/a/span')) > 0 \\\n",
    "            else None\n",
    "        self.third_subcategory: str or None = self.product_page.xpath('/html/body/div[1]/main/div/div/section/header/section[1]/nav/ul/li[4]/a/span')[0].text.strip() \\\n",
    "            if len(self.product_page.xpath('/html/body/div[1]/main/div/div/section/header/section[1]/nav/ul/li[4]/a/span')) > 0 \\\n",
    "            else None\n",
    "        self.fourth_subcategory: str or None = self.product_page.xpath('/html/body/div[1]/main/div/div/section/header/section[1]/nav/ul/li[5]/a/span')[0].text.strip() \\\n",
    "            if len(self.product_page.xpath('/html/body/div[1]/main/div/div/section/header/section[1]/nav/ul/li[5]/a/span')) > 0 \\\n",
    "            else None\n",
    "        self.price: int or None = int(self.product_page.xpath('/html/body/div[1]/main/div/div/section/section[1]/section[3]/div/form/div[3]/div/div/span/span/span/span')[0].text.replace('₽', '').replace(u'\\xa0', u' ').replace(u' ', u'').strip()) \\\n",
    "            if len(self.product_page.xpath('/html/body/div[1]/main/div/div/section/section[1]/section[3]/div/form/div[3]/div/div/span/span/span/span')) > 0 \\\n",
    "            else None\n",
    "        self.loyalty_price: int or None = int(self.product_page.xpath('/html/body/div[1]/main/div/div/section/section[1]/section[3]/div/form/div[3]/div/span/span/span/span')[0].text.replace('₽', '').replace(u'\\xa0', u' ').replace(u' ', u'').strip()) \\\n",
    "            if len(self.product_page.xpath('/html/body/div[1]/main/div/div/section/section[1]/section[3]/div/form/div[3]/div/span/span/span/span')) > 0 \\\n",
    "            else None\n",
    "        self.description: str or None = ' '.join(self.product_page.xpath('/html/body/div[1]/main/div/div/section/section[3]/section[2]/section/section[1]/div/ul/li[1]/article/div/section[1]')[0].text.replace('\\n\\n', '').split()) \\\n",
    "            if len(self.product_page.xpath('/html/body/div[1]/main/div/div/section/section[3]/section[2]/section/section[1]/div/ul/li[1]/article/div/section[1]')) > 0 \\\n",
    "            else None\n",
    "        self.product_usage: str or None = ' '.join(self.product_page.xpath('/html/body/div[1]/main/div/div/section/section[3]/section[2]/section/section[1]/div/ul/li[2]/article/div/section')[0].text.replace('\\n\\n', '').split()) \\\n",
    "            if len(self.product_page.xpath('/html/body/div[1]/main/div/div/section/section[3]/section[2]/section/section[1]/div/ul/li[2]/article/div/section')) > 0 \\\n",
    "            else None\n",
    "        self.product_composition: str or None = ' '.join(self.product_page.xpath('/html/body/div[1]/main/div/div/section/section[3]/section[2]/section/section[1]/div/ul/li[3]/article/div/section')[0].text.replace('\\n\\n', '').split()) \\\n",
    "            if len(self.product_page.xpath('/html/body/div[1]/main/div/div/section/section[3]/section[2]/section/section[1]/div/ul/li[3]/article/div/section')) > 0 \\\n",
    "            else None\n",
    "        self.product_brand: str or None = self.product_page.xpath('/html/body/div[1]/main/div/div/section/section[3]/section[2]/section/section[1]/div/ul/li[3]/article/div/header/h4/span')[0].text \\\n",
    "            if len(self.product_page.xpath('/html/body/div[1]/main/div/div/section/section[3]/section[2]/section/section[1]/div/ul/li[3]/article/div/header/h4/span')) > 0 \\\n",
    "            else None\n"
   ],
   "metadata": {
    "collapsed": false,
    "pycharm": {
     "name": "#%%\n"
    }
   }
  },
  {
   "cell_type": "code",
   "execution_count": 6,
   "outputs": [
    {
     "data": {
      "text/plain": "71948"
     },
     "execution_count": 6,
     "metadata": {},
     "output_type": "execute_result"
    }
   ],
   "source": [
    "len(product_urls)"
   ],
   "metadata": {
    "collapsed": false,
    "pycharm": {
     "name": "#%%\n"
    }
   }
  },
  {
   "cell_type": "code",
   "execution_count": 183,
   "outputs": [],
   "source": [
    "res = requests.get(product_urls[18000]).content.decode('utf-8')"
   ],
   "metadata": {
    "collapsed": false,
    "pycharm": {
     "name": "#%%\n"
    }
   }
  },
  {
   "cell_type": "code",
   "execution_count": 226,
   "outputs": [
    {
     "data": {
      "text/plain": "-1"
     },
     "execution_count": 226,
     "metadata": {},
     "output_type": "execute_result"
    }
   ],
   "source": [
    "res.find('paragraph-2 pdp-breadcrumbs__crumb')"
   ],
   "metadata": {
    "collapsed": false,
    "pycharm": {
     "name": "#%%\n"
    }
   }
  },
  {
   "cell_type": "code",
   "execution_count": 184,
   "outputs": [],
   "source": [
    "res_soup = bs4.BeautifulSoup(res, 'html')\n",
    "tree = etree.HTML(res)"
   ],
   "metadata": {
    "collapsed": false,
    "pycharm": {
     "name": "#%%\n"
    }
   }
  },
  {
   "cell_type": "code",
   "execution_count": 57,
   "outputs": [],
   "source": [
    "prod = Product(res, )"
   ],
   "metadata": {
    "collapsed": false,
    "pycharm": {
     "name": "#%%\n"
    }
   }
  },
  {
   "cell_type": "code",
   "execution_count": 107,
   "outputs": [
    {
     "data": {
      "text/plain": "{'product_page': <Element html at 0x15759f2acc0>,\n 'product_id': None,\n 'sku_id': None,\n 'title': 'Ёршики межзубные M d 3.0 мм',\n 'first_subcategory': None,\n 'second_subcategory': None,\n 'third_subcategory': None,\n 'fourth_subcategory': None,\n 'price': 504,\n 'loyalty_price': 453,\n 'description': 'Межзубные щетки (ершики) необходимы каждому человеку для тщательной очистки межзубных пространств. Также ими можно пользоваться для лучшей гигиены при ношении ортодонтических конструкций. Цилиндрические ершики Lacalut имеют высокопрочные нейлоновые щетинки и удобную цветную ручку. В упаковке комплект из 5 штук. Для подбора нужного диаметра ершиков необходимо обратиться за консультацией к стоматологу.',\n 'product_usage': 'Перед первым применением рекомендуется промыть межзубной ершик в теплой воде. После чистки каждой зоны и в конце чистки необходимо тщательно промыть межзубной ершик теплой водой. При ежедневном использовании рекомендуется менять межзубной ершик каждую неделю. Средство индивидуальной гигиены.',\n 'product_composition': 'LACALUT® -это бренд немецкой компании Dr. Theiss Naturwaren GmbH.',\n 'product_brand': 'LACALUT'}"
     },
     "execution_count": 107,
     "metadata": {},
     "output_type": "execute_result"
    }
   ],
   "source": [
    "prod.__dict__"
   ],
   "metadata": {
    "collapsed": false,
    "pycharm": {
     "name": "#%%\n"
    }
   }
  },
  {
   "cell_type": "code",
   "execution_count": 204,
   "outputs": [
    {
     "data": {
      "text/plain": "[]"
     },
     "execution_count": 204,
     "metadata": {},
     "output_type": "execute_result"
    }
   ],
   "source": [
    "res_soup.find_all('div', {'class': 'paragraph-2 pdp-breadcrumbs__crumb'})"
   ],
   "metadata": {
    "collapsed": false,
    "pycharm": {
     "name": "#%%\n"
    }
   }
  },
  {
   "cell_type": "code",
   "execution_count": 139,
   "outputs": [
    {
     "name": "stdout",
     "output_type": "stream",
     "text": [
      "Тип продукта\n",
      "Для кого\n",
      "Назначение\n",
      "Область применения\n",
      "Страна бренда\n"
     ]
    },
    {
     "data": {
      "text/plain": "{'product_type': 'межзубный ершик',\n 'who_use': 'унисекс',\n 'purpose': 'личная гигиена',\n 'use_scope': 'для полости рта',\n 'brand_country': 'Германия'}"
     },
     "execution_count": 139,
     "metadata": {},
     "output_type": "execute_result"
    }
   ],
   "source": [
    "product_properties = {}\n",
    "for x in tree.xpath('/html/body/div[1]/main/div/div/section/section[3]/section[2]/section/section[1]/div/ul/li[1]/article/div/section[2]/dl')[0]:\n",
    "    print(x[0][0].text)\n",
    "    if 'Тип продукта' in x[0][0].text:\n",
    "        product_properties['product_type'] = x[1][0].text\n",
    "    if 'Для кого' in x[0][0].text:\n",
    "        product_properties['who_use'] = x[1][0].text\n",
    "    if 'Страна бренда' in x[0][0].text:\n",
    "        product_properties['brand_country'] = x[1][0].text\n",
    "    if 'Область применения' in x[0][0].text:\n",
    "        product_properties['use_scope'] = x[1][0].text\n",
    "    if 'Назначение' in x[0][0].text:\n",
    "        product_properties['purpose'] = x[1][0].text\n",
    "\n",
    "product_properties"
   ],
   "metadata": {
    "collapsed": false,
    "pycharm": {
     "name": "#%%\n"
    }
   }
  },
  {
   "cell_type": "code",
   "execution_count": 242,
   "outputs": [
    {
     "ename": "SyntaxError",
     "evalue": "invalid syntax (2261796374.py, line 2)",
     "output_type": "error",
     "traceback": [
      "\u001B[1;36m  Input \u001B[1;32mIn [242]\u001B[1;36m\u001B[0m\n\u001B[1;33m    MyClass.Для кого\u001B[0m\n\u001B[1;37m                ^\u001B[0m\n\u001B[1;31mSyntaxError\u001B[0m\u001B[1;31m:\u001B[0m invalid syntax\n"
     ]
    }
   ],
   "source": [
    "MyClass = type(\"MyClass\", (object, ), product_properties)"
   ],
   "metadata": {
    "collapsed": false,
    "pycharm": {
     "name": "#%%\n"
    }
   }
  },
  {
   "cell_type": "code",
   "execution_count": 106,
   "outputs": [
    {
     "name": "stdout",
     "output_type": "stream",
     "text": [
      "['14503', '4551247598']\n",
      "14503 4551247598\n"
     ]
    }
   ],
   "source": [
    "link = 'https://goldapple.ru/14503-4551247598-rastusevka-bez-granicdsf'\n",
    "pattern = re.compile(r'\\d{4,20}')\n",
    "res_sku = re.findall(pattern, link)\n",
    "if len(res_sku) == 1:\n",
    "    prod_id = None\n",
    "    sku_id = res_sku[0]\n",
    "elif len(res_sku) > 1:\n",
    "    prod_id = res_sku[0]\n",
    "    sku_id = res_sku[1]\n",
    "else:\n",
    "    prod_id = sku_id = None\n",
    "print(res_sku)\n",
    "print(prod_id, sku_id)"
   ],
   "metadata": {
    "collapsed": false,
    "pycharm": {
     "name": "#%%\n"
    }
   }
  },
  {
   "cell_type": "code",
   "execution_count": 111,
   "outputs": [
    {
     "data": {
      "text/plain": "'https://goldapple.ru/2980200016-cilindriceskie'"
     },
     "execution_count": 111,
     "metadata": {},
     "output_type": "execute_result"
    }
   ],
   "source": [
    "product_urls[18458]"
   ],
   "metadata": {
    "collapsed": false,
    "pycharm": {
     "name": "#%%\n"
    }
   }
  }
 ],
 "metadata": {
  "kernelspec": {
   "display_name": "Python 3",
   "language": "python",
   "name": "python3"
  },
  "language_info": {
   "codemirror_mode": {
    "name": "ipython",
    "version": 2
   },
   "file_extension": ".py",
   "mimetype": "text/x-python",
   "name": "python",
   "nbconvert_exporter": "python",
   "pygments_lexer": "ipython2",
   "version": "2.7.6"
  }
 },
 "nbformat": 4,
 "nbformat_minor": 0
}